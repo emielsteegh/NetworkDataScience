{
 "cells": [
  {
   "cell_type": "markdown",
   "metadata": {},
   "source": [
    "# Web Science Project Week 2 on Information Networks"
   ]
  },
  {
   "cell_type": "markdown",
   "metadata": {},
   "source": [
    "Emiel Steegh   - s1846388  \n",
    "Freek Nijweide - s1857746"
   ]
  },
  {
   "cell_type": "markdown",
   "metadata": {},
   "source": [
    "## Project Description\n",
    "\n",
    "For this week's assignments, we will examine [...]\n",
    "\n",
    "We use several packages this week, which are mostly the same as last week (except for plotly). Please make sure these are installed when trying to run our code:\n",
    "- networkx\n",
    "- numpy\n",
    "- plotly\n",
    "- pygraphviz\n",
    "\n",
    "We decided to use plotly for this week instead of matplotlib, due to its vastly superior 3D plotting capabilities, and its interactivity. We hoped that this would increase the legibility of our results, and we think that it has done so. We came to various conclusions for assignment 3 that we could not have reached without the assistance of interactive 3D plots."
   ]
  },
  {
   "cell_type": "code",
   "execution_count": 2,
   "metadata": {
    "pycharm": {
     "is_executing": false,
     "name": "#%%\n"
    }
   },
   "outputs": [
    {
     "name": "stdout",
     "output_type": "stream",
     "text": [
      "imports done\n"
     ]
    }
   ],
   "source": [
    "# The following includes are needed to work with graphs and display solutions.\n",
    "from __future__ import division\n",
    "import networkx as nx\n",
    "\n",
    "from IPython.display import SVG\n",
    "from IPython.display import HTML\n",
    "from IPython.display import display\n",
    "import StringIO\n",
    "from networkx.drawing.nx_pydot import read_dot\n",
    "from networkx.drawing.nx_pydot import from_pydot\n",
    "from networkx.drawing.nx_agraph import to_agraph\n",
    "import pydot\n",
    "\n",
    "import numpy as np\n",
    "import random\n",
    "\n",
    "# from utils import *\n",
    "# from graphs import *\n",
    "\n",
    "import plotly.graph_objects as go\n",
    "\n",
    "\n",
    "print(\"imports done\")"
   ]
  }
 ],
 "metadata": {
  "kernelspec": {
   "display_name": "Python 2",
   "language": "python",
   "name": "python2"
  },
  "language_info": {
   "codemirror_mode": {
    "name": "ipython",
    "version": 2
   },
   "file_extension": ".py",
   "mimetype": "text/x-python",
   "name": "python",
   "nbconvert_exporter": "python",
   "pygments_lexer": "ipython2",
   "version": "2.7.16"
  },
  "pycharm": {
   "stem_cell": {
    "cell_type": "raw",
    "metadata": {
     "collapsed": false
    },
    "source": []
   }
  }
 },
 "nbformat": 4,
 "nbformat_minor": 1
}
