{
 "cells": [
  {
   "cell_type": "markdown",
   "metadata": {},
   "source": [
    "# Web Science Project Week 3 on Network Dynamics"
   ]
  },
  {
   "cell_type": "markdown",
   "metadata": {},
   "source": [
    "Emiel Steegh   - s1846388  \n",
    "Freek Nijweide - s1857746"
   ]
  },
  {
   "cell_type": "markdown",
   "metadata": {},
   "source": [
    "## Project Description\n",
    "\n",
    "For this week's assignments, we will examine [...]\n",
    "\n",
    "We use several packages this week,please make sure these are installed when trying to run our code:\n",
    "- networkx\n",
    "- numpy\n",
    "- plotly\n",
    "- pygraphviz\n",
    "\n",
    "We decided to use plotly instead of matplotlib, due to [...]\n",
    "\n",
    "its vastly superior 3D plotting capabilities, and its interactivity. We hoped that this would increase the legibility of our results, and we think that it has done so. We came to various conclusions for assignment 3 that we could not have reached without the assistance of interactive 3D plots."
   ]
  },
  {
   "cell_type": "code",
   "execution_count": null,
   "metadata": {
    "pycharm": {
     "is_executing": false,
     "name": "#%%\n"
    }
   },
   "outputs": [],
   "source": [
    "# The following includes are needed to work with graphs and display solutions.\n",
    "from __future__ import division\n",
    "import networkx as nx\n",
    "\n",
    "from IPython.display import SVG\n",
    "from IPython.display import HTML\n",
    "from IPython.display import display\n",
    "\n",
    "import StringIO\n",
    "\n",
    "from networkx.drawing.nx_pydot import read_dot\n",
    "from networkx.drawing.nx_pydot import from_pydot\n",
    "from networkx.drawing.nx_agraph import to_agraph\n",
    "import pydot\n",
    "\n",
    "import numpy as np\n",
    "import random\n",
    "\n",
    "#wacky imports die emiel denkt nodig te hebben\n",
    "import glob #om file paths en zo te fixen\n",
    "import pprint as pp #debugging purposes\n",
    "import pandas as pd #dataframes en zo voor plotly\n",
    "import os #path handling\n",
    "import json #het lezen van die files\n",
    "#coolio\n",
    "\n",
    "try:\n",
    "    import plotly.graph_objects as go\n",
    "except:\n",
    "    print(\"\\n\"+\n",
    "          \"┌---------------- (!) Warning (!) ----------------┐\")\n",
    "    print(\"|                                                 |\")\n",
    "    print(\"| \\x1b[31m  It looks like Plotly could not be imported,\\x1b[0m   |\")\n",
    "    print(\"|   please make sure it is properly installed.    |\")\n",
    "    print(\"|                                                 |\")\n",
    "    print(\"└-------------------------------------------------┘\")\n",
    "else:\n",
    "    print(\"\\x1b[32mimports successful\")"
   ]
  },
  {
   "cell_type": "code",
   "execution_count": null,
   "metadata": {
    "scrolled": true
   },
   "outputs": [],
   "source": [
    "def ANSI_col_code(color):\n",
    "    code = 31\n",
    "    if type(color) not in [str, float]:\n",
    "        code = 31\n",
    "    elif color.lower() in ['r', \"red\"]:\n",
    "        code = 31\n",
    "    elif color.lower() in ['g', \"green\"]:\n",
    "        code = 32\n",
    "    elif color.lower() in ['b', \"blue\"]:\n",
    "        code = 94\n",
    "    elif color.lower() in ['y', \"yellow\"]:\n",
    "        code = 33\n",
    "    elif color.lower() in ['m', \"magenta\", 'p', \"purple\"]:\n",
    "        code = 35\n",
    "    return code\n",
    "\n",
    "def cprint(string, color = 'r'):\n",
    "    code = ANSI_col_code(color)\n",
    "    print \"\\x1b[{}m{}\".format(code, string)\n",
    "\n",
    "def cstring(string, color = 'r'):\n",
    "    code = ANSI_col_code(color)\n",
    "    return \"\\x1b[{}m{}\\x1b[0m\".format(code, string)\n",
    "\n",
    "cprint(\"Red\", 'r')\n",
    "cprint(\"Green\", 'g')\n",
    "cprint(\"Blue\", 'b')\n",
    "cprint(\"Yellow\", 'y')\n",
    "cprint(\"Purple\", 'm')\n"
   ]
  },
  {
   "cell_type": "markdown",
   "metadata": {},
   "source": [
    "## Data read, parse & store"
   ]
  },
  {
   "cell_type": "code",
   "execution_count": null,
   "metadata": {
    "scrolled": false
   },
   "outputs": [],
   "source": [
    "def JSON_paths (data_folder):\n",
    "    '''\n",
    "    returns a list of paths of the *.json files in a dir (data_folder)\n",
    "    '''\n",
    "    target = data_folder + \"*.json\"\n",
    "    paths = glob.glob(target)\n",
    "    return paths\n",
    "\n",
    "def path_to_timestamp(path):\n",
    "    '''\n",
    "    turns yyyymmdd into yyyy-mm-dd\n",
    "    '''\n",
    "    dateraw = ((os.path.split(path)[1])[:8])\n",
    "    date = \"{}-{}-{}\".format(dateraw[:4], dateraw[4:6], dateraw[6:8])\n",
    "    return date\n",
    "\n",
    "\n",
    "def data_from_3fm(folder):\n",
    "    #grab the list of files to parse\n",
    "    ls_locations = JSON_paths(folder)\n",
    "    \n",
    "    #data frame that will conatain all relevant data\n",
    "    df = pd.DataFrame(columns=['timestamp', 'song', 'id',  'release_date', 'views', 'votes', 'likes', 'dislikes'])\n",
    "    \n",
    "    #dict conatining the different collumns for appending data\n",
    "    new_row = {'timestamp' : \"_\", 'release_date' : \"_\", 'song' : \"_\", 'id' : \"_\", 'views' : 0, 'votes' : 0, 'likes' : 0, 'dislikes' : 0}\n",
    "    \n",
    "    #loops through all files in the data folder\n",
    "    for loc in ls_locations:\n",
    "        \n",
    "        #grabs datagather timestamp from file title\n",
    "        new_row['timestamp'] = path_to_timestamp(loc)\n",
    "        file_raw_data =json.load(open(loc))\n",
    "        \n",
    "        #take all the other data from the relevant locations in the file\n",
    "        for entry in file_raw_data:\n",
    "            new_row['song'] = (entry[\"snippet\"])[\"title\"]\n",
    "            new_row['id'] = entry[\"id\"]\n",
    "            new_row['release_date'] = ((entry[\"snippet\"])[\"publishedAt\"])[:10]\n",
    "            stats = entry[\"statistics\"]\n",
    "            new_row['views'] = int(stats[\"viewCount\"])\n",
    "            new_row['likes'] = int(stats[\"likeCount\"])\n",
    "            new_row['dislikes'] = int(stats[\"dislikeCount\"])\n",
    "            new_row['votes'] = new_row['likes']+new_row['dislikes']\n",
    "            \n",
    "            df = df.append(new_row, ignore_index=True)\n",
    "            \n",
    "    return df\n",
    "    \n",
    "\n",
    "location = \"data/spotify_top100/\" #spotify top 100\n",
    "#deze heeft een andere def nodig I think\n",
    "location = \"data/youtube_top100/\" #youtube top 100\n",
    "#deze heeft een andere def nodig I think\n",
    "\n",
    "\n",
    "location = \"data/radio3fm_megahit/\" #3fm populaire trackies\n",
    "df_3fm_megahit = data_from_3fm(location)\n",
    "pp.pprint(df_3fm_megahit)\n",
    "\n",
    "location = \"data/radio538_alarmschijf\"\n",
    "df_538_alarmschijf  = data_from_3fm(location)\n",
    "pp.pprint(df_538_alarmschijf)"
   ]
  },
  {
   "cell_type": "markdown",
   "metadata": {},
   "source": [
    "## Assignment 1 - Cascading effects\n",
    "\n",
    "include:\n",
    "- plot\n",
    "- code explanation\n",
    "\n",
    "Read the material in Chapter 16 on cascading effects. Plot the difference between the number of likes and dislikes for several songs.\n",
    "\n",
    "Do you think we observe cascading effects? Is there a difference between songs that are already popular (in the top-100) and those that are not (megahit or alarmschijf)?. The model in Chapter 16 in its pure form cannot be applied to music preferences. Why not? Can you modify the model accordingly? Can you quantify cascading effects in this setting?\n",
    "\n",
    "There is no one right answer right to this question, and the answer may depend on a particular song. Make your conclusions based on your data and present clear arguments."
   ]
  },
  {
   "cell_type": "code",
   "execution_count": null,
   "metadata": {
    "scrolled": false
   },
   "outputs": [],
   "source": [
    "#TODO plot likes vs dislikes for several songs categorizeb by popularity\n",
    "#TODO why cant the ch 16 model bot be applied to songs (int vs bool)\n",
    "#TODO change model to work for songs\n",
    "#TODO quantify cascading effect\n",
    "#TODO comment code\n",
    "#TODO pretty graphs\n"
   ]
  },
  {
   "cell_type": "markdown",
   "metadata": {},
   "source": [
    "## Assignment 2 - Network effects\n",
    "\n",
    "include  at least:\n",
    "- plot\n",
    "- code explanation\n",
    "\n",
    "Study the material in Chapter 17. Our goal now is to investigate whether we observe network effects in music preferences. How will you choose the data for this purpose? Which songs will suit most?\n",
    "\n",
    "For several songs of your choice plot the actual number of views against time. Assume that without network effects we can expect that users visit a website with a certain frequency and view the song if it matches their taste. Hence, the expected number of views grows linearly in time. Compare your plot to Figure 17.4. Do you think you observe network effects?\n",
    "\n",
    "How will you interpret the network benefit function f, the intrinsic interest function r, and the price p*? Try to specify the model that best fits the data."
   ]
  },
  {
   "cell_type": "markdown",
   "metadata": {},
   "source": [
    "## Assignment 3 - Popularity effects\n",
    "\n",
    "include at least:\n",
    "- plot\n",
    "- code explanation\n",
    "\n",
    "Study the material in Chapter 18. We investigate whether rich-get-richer phenomenon explains the dynamics of the number of views.\n",
    "\n",
    "Plot the distribution of the number of views among the songs on several different days. Do you observe power laws?\n",
    "\n",
    "Assume that the number of views in the next day is proportional to the total number of views up to the day before. Argue that in this case the number of views will grow exponentially in time.\n",
    "\n",
    "Look again at the plots for the number of views over time that you produced in assignment 2. Do we observe exponential growth on data? Maybe we observe exponential growth at least some periods of time? Do you think we observe the rich get richer phenomenon?\n",
    "\n",
    "Compare the ranking of songs in the Spotify data set (based on their position in the top-100) with the ranking of songs in the YouTube data set (based on their number of views) over time. Are the outcomes in line? Why (not)?"
   ]
  },
  {
   "cell_type": "markdown",
   "metadata": {},
   "source": [
    "## Assignment 4 - Information diffusion\n",
    "\n",
    "Read Chapter 19. Do you think the model of information diffusion applies for music preferences? How can you observe this on the data? Is it related to other phenomena discussed above? Again, there is no one right answer to these questions, try to formulate your own ideas."
   ]
  },
  {
   "cell_type": "markdown",
   "metadata": {},
   "source": [
    "## Assignment 5 - Create your own data\n",
    "\n",
    "include at least:\n",
    "- plot\n",
    "- code explanation\n",
    "\n",
    "Use the YouTube API to collect your own data set to investigate distribution of popularity and the long tail phenomenon. Start with obtaining the number of views of a song of your choice. Make a random selection from the recommendations that come with this song, and obtain the number of views of this recommended song. Repeat this sequence at least 100 times. Does this data set illustrate the strong variation in the market share of different songs (stronger than would be expected on basis of a normal distribution)? Can you observe the long tail in the distribution of popularity? Visualize the distribution with a graph similar to Figure 18.4.\n",
    "\n",
    "A document with instructions on how to use the YouTube API is available on Blackboard. The YouTube API will return results in JSON format, so your data set will be a JSON file."
   ]
  },
  {
   "cell_type": "markdown",
   "metadata": {},
   "source": [
    "## Assignment 6 - Conclusions\n",
    "\n",
    "Make conclusions: 1) which effects and models explain best the data on music preferences, 2) which data we need to collect if we want to investigate cascading, network and rich-get-richer effects in music preferences?"
   ]
  }
 ],
 "metadata": {
  "kernelspec": {
   "display_name": "Python 2",
   "language": "python",
   "name": "python2"
  },
  "language_info": {
   "codemirror_mode": {
    "name": "ipython",
    "version": 2
   },
   "file_extension": ".py",
   "mimetype": "text/x-python",
   "name": "python",
   "nbconvert_exporter": "python",
   "pygments_lexer": "ipython2",
   "version": "2.7.16"
  },
  "pycharm": {
   "stem_cell": {
    "cell_type": "raw",
    "metadata": {
     "collapsed": false
    },
    "source": []
   }
  }
 },
 "nbformat": 4,
 "nbformat_minor": 1
}
