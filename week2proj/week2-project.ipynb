{
 "cells": [
  {
   "cell_type": "markdown",
   "metadata": {},
   "source": [
    "# Project Week 2"
   ]
  },
  {
   "cell_type": "markdown",
   "metadata": {},
   "source": [
    "Emiel Steegh   - s1846388  \n",
    "Freek Nijweide - s1857746"
   ]
  },
  {
   "cell_type": "markdown",
   "metadata": {},
   "source": [
    "# Project Description\n",
    "\n",
    "Description etc etc"
   ]
  },
  {
   "cell_type": "code",
   "execution_count": 34,
   "metadata": {
    "pycharm": {
     "is_executing": false,
     "name": "#%%\n"
    }
   },
   "outputs": [
    {
     "name": "stdout",
     "text": [
      "imports done\n"
     ],
     "output_type": "stream"
    }
   ],
   "source": [
    "# The following includes are needed to work with graphs and display solutions.\n",
    "from __future__ import division\n",
    "import networkx as nx\n",
    "from IPython.core.display import display\n",
    "from _dbus_bindings import Dictionary\n",
    "%matplotlib inline\n",
    "\n",
    "import numpy as np\n",
    "\n",
    "import matplotlib.pyplot as plt\n",
    "import utils\n",
    "import graphs\n",
    "\n",
    "import pandas as pd\n",
    "\n",
    "plt.rcParams[\"figure.figsize\"] = [12,8]\n",
    "\n",
    "print(\"imports done\")"
   ]
  },
  {
   "cell_type": "markdown",
   "metadata": {},
   "source": [
    "## Assignment 1"
   ]
  },
  {
   "cell_type": "markdown",
   "metadata": {},
   "source": [
    "text"
   ]
  },
  {
   "cell_type": "markdown",
   "metadata": {},
   "source": [
    "## Assignment 2"
   ]
  },
  {
   "cell_type": "markdown",
   "metadata": {},
   "source": [
    "text"
   ]
  },
  {
   "cell_type": "markdown",
   "metadata": {},
   "source": [
    "## Assignment 3"
   ]
  },
  {
   "cell_type": "code",
   "execution_count": null,
   "metadata": {},
   "outputs": [],
   "source": [
    "# code"
   ]
  },
  {
   "cell_type": "markdown",
   "metadata": {},
   "source": [
    "## Assignment 4\n",
    "\n",
    "There are three different ranking systems discussed in this week's chapters and lectures.\n",
    "The first is an inDegree-based ranking system. The ranking of a page depends on how many pages link to it.\n",
    "This system is easily fooled, and dead-end pages receive incredibly high rankings.\n",
    "\n",
    "The second ranking system discussed is Google's PageRank. This system expands upon the idea of inDegree rankings,\n",
    "by having a node \"spread\" its incoming ranking over its outgoing links. This can also include a degree of randomness,\n",
    "where a node will spread some of its incoming ranking over *all* nods (to avoid spider traps and dead ends).\n",
    "\n",
    "The third ranking system discussed HITS, based on the hub-authority model. In this model, a page is considered a good hub\n",
    "if it links to good authorities (pages with good content that people want to see). A page is considered a good\n",
    "authority if it is linked to by proper hubs. The page's authority ranking is the one actually used in the search.\n",
    "\n",
    "\n",
    "# write equations\n",
    "# implementeer ze\n",
    "# leg code uit\n",
    "# leg resultaten uit"
   ]
  },
  {
   "cell_type": "code",
   "execution_count": 23,
   "metadata": {
    "pycharm": {
     "is_executing": false,
     "name": "#%%\n"
    }
   },
   "outputs": [
    {
     "data": {
      "text/plain": "<IPython.core.display.SVG object>",
      "image/svg+xml": "<svg height=\"756pt\" viewBox=\"0.00 0.00 898.85 755.92\" width=\"899pt\" xmlns=\"http://www.w3.org/2000/svg\" xmlns:xlink=\"http://www.w3.org/1999/xlink\">\n<g class=\"graph\" id=\"graph0\" transform=\"scale(1 1) rotate(0) translate(4 751.92)\">\n<polygon fill=\"#ffffff\" points=\"-4,4 -4,-751.92 894.8462,-751.92 894.8462,4 -4,4\" stroke=\"transparent\"/>\n<!-- Uber -->\n<g class=\"node\" id=\"node1\">\n<title>Uber</title>\n<ellipse cx=\"446.0903\" cy=\"-509.38\" fill=\"none\" rx=\"34.5\" ry=\"18\" stroke=\"#000000\"/>\n<text fill=\"#000000\" font-family=\"Times,serif\" font-size=\"14.00\" text-anchor=\"middle\" x=\"446.0903\" y=\"-505.68\">Uber</text>\n</g>\n<!-- Twitter -->\n<g class=\"node\" id=\"node2\">\n<title>Twitter</title>\n<ellipse cx=\"491.5903\" cy=\"-404.19\" fill=\"none\" rx=\"45\" ry=\"18\" stroke=\"#000000\"/>\n<text fill=\"#000000\" font-family=\"Times,serif\" font-size=\"14.00\" text-anchor=\"middle\" x=\"491.5903\" y=\"-400.49\">Twitter</text>\n</g>\n<!-- Uber&#45;&gt;Twitter -->\n<g class=\"edge\" id=\"edge1\">\n<title>Uber-&gt;Twitter</title>\n<path d=\"M453.8103,-491.53C460.9303,-475.06 471.6203,-450.36 479.8103,-431.42\" fill=\"none\" stroke=\"#000000\"/>\n<polygon fill=\"#000000\" points=\"483.0752,-432.6879 483.8303,-422.12 476.6498,-429.9104 483.0752,-432.6879\" stroke=\"#000000\"/>\n</g>\n<!-- Bing -->\n<g class=\"node\" id=\"node3\">\n<title>Bing</title>\n<ellipse cx=\"460.3703\" cy=\"-301.66\" fill=\"none\" rx=\"32.5\" ry=\"18\" stroke=\"#000000\"/>\n<text fill=\"#000000\" font-family=\"Times,serif\" font-size=\"14.00\" text-anchor=\"middle\" x=\"460.3703\" y=\"-297.96\">Bing</text>\n</g>\n<!-- Twitter&#45;&gt;Bing -->\n<g class=\"edge\" id=\"edge2\">\n<title>Twitter-&gt;Bing</title>\n<path d=\"M486.0003,-385.86C481.2003,-370.09 474.2103,-347.11 468.7303,-329.14\" fill=\"none\" stroke=\"#000000\"/>\n<polygon fill=\"#000000\" points=\"472.0547,-328.0418 465.8003,-319.49 465.3567,-330.0755 472.0547,-328.0418\" stroke=\"#000000\"/>\n</g>\n<!-- Wikipedia -->\n<g class=\"node\" id=\"node4\">\n<title>Wikipedia</title>\n<ellipse cx=\"380.8803\" cy=\"-384.31\" fill=\"none\" rx=\"58\" ry=\"18\" stroke=\"#000000\"/>\n<text fill=\"#000000\" font-family=\"Times,serif\" font-size=\"14.00\" text-anchor=\"middle\" x=\"380.8803\" y=\"-380.61\">Wikipedia</text>\n</g>\n<!-- Bing&#45;&gt;Wikipedia -->\n<g class=\"edge\" id=\"edge3\">\n<title>Bing-&gt;Wikipedia</title>\n<path d=\"M445.0403,-317.59C433.5503,-329.55 417.6003,-346.13 404.4803,-359.77\" fill=\"none\" stroke=\"#000000\"/>\n<polygon fill=\"#000000\" points=\"401.9372,-357.3651 397.5303,-367 406.9837,-362.2162 401.9372,-357.3651\" stroke=\"#000000\"/>\n</g>\n<!-- Facebook -->\n<g class=\"node\" id=\"node5\">\n<title>Facebook</title>\n<ellipse cx=\"405.3003\" cy=\"-200.4\" fill=\"none\" rx=\"55.4913\" ry=\"18\" stroke=\"#000000\"/>\n<text fill=\"#000000\" font-family=\"Times,serif\" font-size=\"14.00\" text-anchor=\"middle\" x=\"405.3003\" y=\"-196.7\">Facebook</text>\n</g>\n<!-- Bing&#45;&gt;Facebook -->\n<g class=\"edge\" id=\"edge4\">\n<title>Bing-&gt;Facebook</title>\n<path d=\"M450.7703,-284.02C442.2203,-268.29 429.5703,-245.03 419.7903,-227.04\" fill=\"none\" stroke=\"#000000\"/>\n<polygon fill=\"#000000\" points=\"422.8203,-225.2854 414.9703,-218.17 416.6697,-228.6277 422.8203,-225.2854\" stroke=\"#000000\"/>\n</g>\n<!-- Wikipedia&#45;&gt;Twitter -->\n<g class=\"edge\" id=\"edge10\">\n<title>Wikipedia-&gt;Twitter</title>\n<path d=\"M431.0503,-393.32C434.2103,-393.89 437.3903,-394.46 440.5603,-395.03\" fill=\"none\" stroke=\"#000000\"/>\n<polygon fill=\"#000000\" points=\"440.0795,-398.4995 450.5403,-396.82 441.3153,-391.6095 440.0795,-398.4995\" stroke=\"#000000\"/>\n</g>\n<!-- UTwente -->\n<g class=\"node\" id=\"node11\">\n<title>UTwente</title>\n<ellipse cx=\"326.1703\" cy=\"-128.75\" fill=\"none\" rx=\"52.7911\" ry=\"18\" stroke=\"#000000\"/>\n<text fill=\"#000000\" font-family=\"Times,serif\" font-size=\"14.00\" text-anchor=\"middle\" x=\"326.1703\" y=\"-125.05\">UTwente</text>\n</g>\n<!-- Facebook&#45;&gt;UTwente -->\n<g class=\"edge\" id=\"edge15\">\n<title>Facebook-&gt;UTwente</title>\n<path d=\"M386.5503,-183.42C376.3003,-174.14 363.4403,-162.5 352.2303,-152.35\" fill=\"none\" stroke=\"#000000\"/>\n<polygon fill=\"#000000\" points=\"354.5513,-149.73 344.7903,-145.61 349.8516,-154.9178 354.5513,-149.73\" stroke=\"#000000\"/>\n</g>\n<!-- Reddit -->\n<g class=\"node\" id=\"node6\">\n<title>Reddit</title>\n<ellipse cx=\"272.5603\" cy=\"-358.78\" fill=\"none\" rx=\"41.6928\" ry=\"18\" stroke=\"#000000\"/>\n<text fill=\"#000000\" font-family=\"Times,serif\" font-size=\"14.00\" text-anchor=\"middle\" x=\"272.5603\" y=\"-355.08\">Reddit</text>\n</g>\n<!-- Reddit&#45;&gt;Wikipedia -->\n<g class=\"edge\" id=\"edge6\">\n<title>Reddit-&gt;Wikipedia</title>\n<path d=\"M309.2403,-367.43C314.1703,-368.59 319.3303,-369.8 324.5103,-371.03\" fill=\"none\" stroke=\"#000000\"/>\n<polygon fill=\"#000000\" points=\"323.9246,-374.4877 334.4603,-373.37 325.5272,-367.6736 323.9246,-374.4877\" stroke=\"#000000\"/>\n</g>\n<!-- Apple -->\n<g class=\"node\" id=\"node7\">\n<title>Apple</title>\n<ellipse cx=\"326.5903\" cy=\"-471.15\" fill=\"none\" rx=\"37.8943\" ry=\"18\" stroke=\"#000000\"/>\n<text fill=\"#000000\" font-family=\"Times,serif\" font-size=\"14.00\" text-anchor=\"middle\" x=\"326.5903\" y=\"-467.45\">Apple</text>\n</g>\n<!-- Reddit&#45;&gt;Apple -->\n<g class=\"edge\" id=\"edge5\">\n<title>Reddit-&gt;Apple</title>\n<path d=\"M281.1203,-376.59C289.9003,-394.83 303.6403,-423.42 313.7303,-444.39\" fill=\"none\" stroke=\"#000000\"/>\n<polygon fill=\"#000000\" points=\"310.5871,-445.9299 318.0703,-453.43 316.8975,-442.9003 310.5871,-445.9299\" stroke=\"#000000\"/>\n</g>\n<!-- Trap -->\n<g class=\"node\" id=\"node8\">\n<title>Trap</title>\n<ellipse cx=\"153.1403\" cy=\"-371.33\" fill=\"none\" rx=\"32.5\" ry=\"18\" stroke=\"#000000\"/>\n<text fill=\"#000000\" font-family=\"Times,serif\" font-size=\"14.00\" text-anchor=\"middle\" x=\"153.1403\" y=\"-367.63\">Trap</text>\n</g>\n<!-- Reddit&#45;&gt;Trap -->\n<g class=\"edge\" id=\"edge7\">\n<title>Reddit-&gt;Trap</title>\n<path d=\"M232.1303,-363.03C220.3003,-364.27 207.3403,-365.63 195.4103,-366.89\" fill=\"none\" stroke=\"#000000\"/>\n<polygon fill=\"#000000\" points=\"194.8096,-363.4338 185.2303,-367.96 195.5414,-370.3954 194.8096,-363.4338\" stroke=\"#000000\"/>\n</g>\n<!-- Apple&#45;&gt;Uber -->\n<g class=\"edge\" id=\"edge8\">\n<title>Apple-&gt;Uber</title>\n<path d=\"M357.9903,-481.19C372.9903,-485.99 391.1003,-491.78 406.9903,-496.87\" fill=\"none\" stroke=\"#000000\"/>\n<polygon fill=\"#000000\" points=\"405.9495,-500.2117 416.5403,-499.92 408.0792,-493.5435 405.9495,-500.2117\" stroke=\"#000000\"/>\n</g>\n<!-- Apple&#45;&gt;Wikipedia -->\n<g class=\"edge\" id=\"edge9\">\n<title>Apple-&gt;Wikipedia</title>\n<path d=\"M337.5803,-453.58C345.2503,-441.3 355.6403,-424.69 364.3203,-410.81\" fill=\"none\" stroke=\"#000000\"/>\n<polygon fill=\"#000000\" points=\"367.3951,-412.4943 369.7303,-402.16 361.4602,-408.7824 367.3951,-412.4943\" stroke=\"#000000\"/>\n</g>\n<!-- Spider -->\n<g class=\"node\" id=\"node9\">\n<title>Spider</title>\n<ellipse cx=\"41.5963\" cy=\"-386.18\" fill=\"none\" rx=\"41.6928\" ry=\"18\" stroke=\"#000000\"/>\n<text fill=\"#000000\" font-family=\"Times,serif\" font-size=\"14.00\" text-anchor=\"middle\" x=\"41.5963\" y=\"-382.48\">Spider</text>\n</g>\n<!-- Trap&#45;&gt;Spider -->\n<g class=\"edge\" id=\"edge11\">\n<title>Trap-&gt;Spider</title>\n<path d=\"M120.6603,-369.44C109.6303,-370.33 97.1083,-371.84 85.3403,-373.67\" fill=\"none\" stroke=\"#000000\"/>\n<polygon fill=\"#000000\" points=\"84.5378,-370.2553 75.2483,-375.35 85.6873,-377.1603 84.5378,-370.2553\" stroke=\"#000000\"/>\n</g>\n<!-- Spider&#45;&gt;Trap -->\n<g class=\"edge\" id=\"edge12\">\n<title>Spider-&gt;Trap</title>\n<path d=\"M83.3593,-387.21C93.9403,-386.12 105.2403,-384.59 115.6003,-382.83\" fill=\"none\" stroke=\"#000000\"/>\n<polygon fill=\"#000000\" points=\"116.3654,-386.2484 125.5803,-381.02 115.1162,-379.3608 116.3654,-386.2484\" stroke=\"#000000\"/>\n</g>\n<!-- Google -->\n<g class=\"node\" id=\"node10\">\n<title>Google</title>\n<ellipse cx=\"291.5503\" cy=\"-234.11\" fill=\"none\" rx=\"43\" ry=\"18\" stroke=\"#000000\"/>\n<text fill=\"#000000\" font-family=\"Times,serif\" font-size=\"14.00\" text-anchor=\"middle\" x=\"291.5503\" y=\"-230.41\">Google</text>\n</g>\n<!-- Google&#45;&gt;Facebook -->\n<g class=\"edge\" id=\"edge14\">\n<title>Google-&gt;Facebook</title>\n<path d=\"M326.6103,-223.72C335.4303,-221.11 345.0703,-218.25 354.4903,-215.46\" fill=\"none\" stroke=\"#000000\"/>\n<polygon fill=\"#000000\" points=\"355.586,-218.7858 364.1803,-212.59 353.598,-212.074 355.586,-218.7858\" stroke=\"#000000\"/>\n</g>\n<!-- Google&#45;&gt;Reddit -->\n<g class=\"edge\" id=\"edge13\">\n<title>Google-&gt;Reddit</title>\n<path d=\"M288.7903,-252.24C285.6603,-272.83 280.5003,-306.68 276.8403,-330.69\" fill=\"none\" stroke=\"#000000\"/>\n<polygon fill=\"#000000\" points=\"273.372,-330.2177 275.3303,-340.63 280.2926,-331.2691 273.372,-330.2177\" stroke=\"#000000\"/>\n</g>\n<!-- UTwente&#45;&gt;Google -->\n<g class=\"edge\" id=\"edge16\">\n<title>UTwente-&gt;Google</title>\n<path d=\"M320.1403,-147.1C314.7803,-163.42 306.8603,-187.52 300.7203,-206.22\" fill=\"none\" stroke=\"#000000\"/>\n<polygon fill=\"#000000\" points=\"297.3133,-205.3772 297.5203,-215.97 303.9642,-207.5601 297.3133,-205.3772\" stroke=\"#000000\"/>\n</g>\n<!-- Dead end -->\n<g class=\"node\" id=\"node12\">\n<title>Dead end</title>\n<ellipse cx=\"320.6503\" cy=\"-18\" fill=\"none\" rx=\"54.6905\" ry=\"18\" stroke=\"#000000\"/>\n<text fill=\"#000000\" font-family=\"Times,serif\" font-size=\"14.00\" text-anchor=\"middle\" x=\"320.6503\" y=\"-14.3\">Dead end</text>\n</g>\n<!-- UTwente&#45;&gt;Dead end -->\n<g class=\"edge\" id=\"edge17\">\n<title>UTwente-&gt;Dead end</title>\n<path d=\"M325.2603,-110.46C324.3903,-93.068 323.0703,-66.638 322.0703,-46.485\" fill=\"none\" stroke=\"#000000\"/>\n<polygon fill=\"#000000\" points=\"325.5569,-46.1271 321.5603,-36.315 318.5656,-46.4778 325.5569,-46.1271\" stroke=\"#000000\"/>\n</g>\n<!-- Spam 5 -->\n<g class=\"node\" id=\"node13\">\n<title>Spam 5</title>\n<ellipse cx=\"598.3303\" cy=\"-487.11\" fill=\"none\" rx=\"46.2923\" ry=\"18\" stroke=\"#000000\"/>\n<text fill=\"#000000\" font-family=\"Times,serif\" font-size=\"14.00\" text-anchor=\"middle\" x=\"598.3303\" y=\"-483.41\">Spam 5</text>\n</g>\n<!-- Spam main page -->\n<g class=\"node\" id=\"node14\">\n<title>Spam main page</title>\n<ellipse cx=\"702.1403\" cy=\"-587.39\" fill=\"none\" rx=\"88.5\" ry=\"18\" stroke=\"#000000\"/>\n<text fill=\"#000000\" font-family=\"Times,serif\" font-size=\"14.00\" text-anchor=\"middle\" x=\"702.1403\" y=\"-583.69\">Spam main page</text>\n</g>\n<!-- Spam 5&#45;&gt;Spam main page -->\n<g class=\"edge\" id=\"edge18\">\n<title>Spam 5-&gt;Spam main page</title>\n<path d=\"M615.9403,-504.12C632.4403,-520.06 657.3103,-544.08 676.1103,-562.24\" fill=\"none\" stroke=\"#000000\"/>\n<polygon fill=\"#000000\" points=\"674.1262,-565.1897 683.7503,-569.62 678.9896,-560.155 674.1262,-565.1897\" stroke=\"#000000\"/>\n</g>\n<!-- Spam 1 -->\n<g class=\"node\" id=\"node15\">\n<title>Spam 1</title>\n<ellipse cx=\"486.1503\" cy=\"-89.999\" fill=\"none\" rx=\"46.2923\" ry=\"18\" stroke=\"#000000\"/>\n<text fill=\"#000000\" font-family=\"Times,serif\" font-size=\"14.00\" text-anchor=\"middle\" x=\"486.1503\" y=\"-86.299\">Spam 1</text>\n</g>\n<!-- Indegree Spam main page -->\n<g class=\"node\" id=\"node16\">\n<title>Indegree Spam main page</title>\n<ellipse cx=\"673.5503\" cy=\"-62\" fill=\"none\" rx=\"133.4768\" ry=\"18\" stroke=\"#000000\"/>\n<text fill=\"#000000\" font-family=\"Times,serif\" font-size=\"14.00\" text-anchor=\"middle\" x=\"673.5503\" y=\"-58.3\">Indegree Spam main page</text>\n</g>\n<!-- Spam 1&#45;&gt;Indegree Spam main page -->\n<g class=\"edge\" id=\"edge19\">\n<title>Spam 1-&gt;Indegree Spam main page</title>\n<path d=\"M529.6103,-83.505C543.0003,-81.504 558.3403,-79.213 573.9003,-76.888\" fill=\"none\" stroke=\"#000000\"/>\n<polygon fill=\"#000000\" points=\"574.7669,-80.2975 584.1403,-75.359 573.733,-73.3743 574.7669,-80.2975\" stroke=\"#000000\"/>\n</g>\n<!-- Spam 6 -->\n<g class=\"node\" id=\"node17\">\n<title>Spam 6</title>\n<ellipse cx=\"765.8503\" cy=\"-458\" fill=\"none\" rx=\"46.2923\" ry=\"18\" stroke=\"#000000\"/>\n<text fill=\"#000000\" font-family=\"Times,serif\" font-size=\"14.00\" text-anchor=\"middle\" x=\"765.8503\" y=\"-454.3\">Spam 6</text>\n</g>\n<!-- Spam 6&#45;&gt;Spam main page -->\n<g class=\"edge\" id=\"edge20\">\n<title>Spam 6-&gt;Spam main page</title>\n<path d=\"M757.1303,-475.72C746.3703,-497.57 727.9803,-534.92 715.4503,-560.36\" fill=\"none\" stroke=\"#000000\"/>\n<polygon fill=\"#000000\" points=\"712.2425,-558.9518 710.9703,-569.47 718.5241,-562.0409 712.2425,-558.9518\" stroke=\"#000000\"/>\n</g>\n<!-- Spam 3 -->\n<g class=\"node\" id=\"node18\">\n<title>Spam 3</title>\n<ellipse cx=\"725.0703\" cy=\"-729.92\" fill=\"none\" rx=\"46.2923\" ry=\"18\" stroke=\"#000000\"/>\n<text fill=\"#000000\" font-family=\"Times,serif\" font-size=\"14.00\" text-anchor=\"middle\" x=\"725.0703\" y=\"-726.22\">Spam 3</text>\n</g>\n<!-- Spam 3&#45;&gt;Spam main page -->\n<g class=\"edge\" id=\"edge21\">\n<title>Spam 3-&gt;Spam main page</title>\n<path d=\"M722.1703,-711.87C718.2803,-687.69 711.3303,-644.53 706.7303,-615.92\" fill=\"none\" stroke=\"#000000\"/>\n<polygon fill=\"#000000\" points=\"710.1374,-615.0608 705.1003,-605.74 703.2255,-616.1676 710.1374,-615.0608\" stroke=\"#000000\"/>\n</g>\n<!-- IN node -->\n<g class=\"node\" id=\"node19\">\n<title>IN node</title>\n<ellipse cx=\"290.4003\" cy=\"-581.77\" fill=\"none\" rx=\"48.1917\" ry=\"18\" stroke=\"#000000\"/>\n<text fill=\"#000000\" font-family=\"Times,serif\" font-size=\"14.00\" text-anchor=\"middle\" x=\"290.4003\" y=\"-578.07\">IN node</text>\n</g>\n<!-- IN node&#45;&gt;Apple -->\n<g class=\"edge\" id=\"edge22\">\n<title>IN node-&gt;Apple</title>\n<path d=\"M296.3803,-563.51C302.1503,-545.87 310.9603,-518.92 317.5803,-498.68\" fill=\"none\" stroke=\"#000000\"/>\n<polygon fill=\"#000000\" points=\"320.9381,-499.6728 320.7303,-489.08 314.287,-497.4904 320.9381,-499.6728\" stroke=\"#000000\"/>\n</g>\n<!-- Spam 4 -->\n<g class=\"node\" id=\"node20\">\n<title>Spam 4</title>\n<ellipse cx=\"844.7003\" cy=\"-609.37\" fill=\"none\" rx=\"46.2923\" ry=\"18\" stroke=\"#000000\"/>\n<text fill=\"#000000\" font-family=\"Times,serif\" font-size=\"14.00\" text-anchor=\"middle\" x=\"844.7003\" y=\"-605.67\">Spam 4</text>\n</g>\n<!-- Spam 4&#45;&gt;Spam main page -->\n<g class=\"edge\" id=\"edge23\">\n<title>Spam 4-&gt;Spam main page</title>\n<path d=\"M801.5403,-602.71C795.5703,-601.79 789.2903,-600.82 782.9003,-599.84\" fill=\"none\" stroke=\"#000000\"/>\n<polygon fill=\"#000000\" points=\"783.2277,-596.3491 772.8103,-598.28 782.1581,-603.2669 783.2277,-596.3491\" stroke=\"#000000\"/>\n</g>\n<!-- Spam 2 -->\n<g class=\"node\" id=\"node21\">\n<title>Spam 2</title>\n<ellipse cx=\"574.1503\" cy=\"-654.29\" fill=\"none\" rx=\"46.2923\" ry=\"18\" stroke=\"#000000\"/>\n<text fill=\"#000000\" font-family=\"Times,serif\" font-size=\"14.00\" text-anchor=\"middle\" x=\"574.1503\" y=\"-650.59\">Spam 2</text>\n</g>\n<!-- Spam 2&#45;&gt;Spam main page -->\n<g class=\"edge\" id=\"edge24\">\n<title>Spam 2-&gt;Spam main page</title>\n<path d=\"M601.9203,-639.77C619.1803,-630.75 641.6903,-618.98 661.0003,-608.89\" fill=\"none\" stroke=\"#000000\"/>\n<polygon fill=\"#000000\" points=\"662.6643,-611.9696 669.9103,-604.24 659.4256,-605.7639 662.6643,-611.9696\" stroke=\"#000000\"/>\n</g>\n</g>\n</svg>"
     },
     "metadata": {},
     "output_type": "display_data"
    }
   ],
   "source": [
    "# Generate a graph we will use in the next exercise\n",
    "graph = nx.DiGraph()\n",
    "\n",
    "graph.add_edge('Google', 'Facebook')\n",
    "graph.add_edge('Facebook', 'UTwente')\n",
    "graph.add_edge('UTwente', 'Google')\n",
    "graph.add_edge('Google', 'Reddit')\n",
    "graph.add_edge('Reddit', 'Trap')\n",
    "graph.add_edge('Spider','Trap')\n",
    "graph.add_edge('Trap','Spider')\n",
    "graph.add_edge('Reddit', 'Apple')\n",
    "graph.add_edge('Reddit', 'Wikipedia')\n",
    "graph.add_edge('Apple', 'Uber')\n",
    "graph.add_edge('Uber', 'Twitter')\n",
    "graph.add_edge('Twitter', 'Bing')\n",
    "graph.add_edge('Wikipedia', 'Twitter')\n",
    "graph.add_edge('Bing', 'Wikipedia')\n",
    "graph.add_edge('Apple', 'Wikipedia')\n",
    "graph.add_edge('Bing','Facebook')\n",
    "graph.add_edge('UTwente','Dead end')\n",
    "graph.add_edge('IN node','Apple')\n",
    "graph.add_edge('Spam 1', 'Indegree Spam main page')\n",
    "graph.add_edge('Spam 2', 'Spam main page')\n",
    "graph.add_edge('Spam 3', 'Spam main page')\n",
    "graph.add_edge('Spam 4', 'Spam main page')\n",
    "graph.add_edge('Spam 5', 'Spam main page')\n",
    "graph.add_edge('Spam 6', 'Spam main page')\n",
    "display(utils.draw(graph))\n",
    "\n",
    "\n",
    "# g.view()"
   ]
  },
  {
   "cell_type": "code",
   "execution_count": null,
   "metadata": {
    "pycharm": {
     "is_executing": false
    }
   },
   "outputs": [],
   "source": [
    "def generate_list_from_dict(graph, data):\n",
    "    #type: (nx.Graph, bool) -> list\n",
    "    return graph.nodes(data=data)\n",
    "\n",
    "def generate_M_and_v(graph):\n",
    "    #type: (nx.DiGraph) -> any\n",
    "    M = nx.to_numpy_matrix(graph) #type: np.matrix\n",
    "    M.transpose()\n",
    "    M_T = M.transpose()\n",
    "    v = list(graph.nodes)\n",
    "    return M,v\n",
    "\n",
    "def generate_indegree_score(graph):    \n",
    "    in_degrees = []\n",
    "    for node in graph.nodes:\n",
    "        if type(graph) == nx.classes.digraph.DiGraph:\n",
    "            in_degrees.append(graph.in_degree(node))\n",
    "        else:\n",
    "            in_degrees.append(graph.degree(node))\n",
    "    return in_degrees\n",
    "    \n",
    "def order_nodes_by_rank(nodes, rank):    \n",
    "    order = np.argsort(rank)[::-1] #sort in degrees in descending order, return indices\n",
    "    sorted_nodes = [nodes[i] for i in order]\n",
    "    return sorted_nodes\n",
    "\n",
    "def hits(M):\n",
    "    v=[1]*len(M)\n",
    "    unchanged = True\n",
    "    h=np.array(v)\n",
    "    a=np.array(v)\n",
    "    while unchanged:\n",
    "        #calculate new v for hub and authority\n",
    "        # M remains unchanged\n",
    "        previous_a = np.copy(a)\n",
    "        previous_h = np.copy(h)\n",
    "        \n",
    "        a = np.array(np.dot(M.transpose(),h)).flatten()\n",
    "        a /= a.max()\n",
    "\n",
    "        h = np.array(np.dot(M,a)).flatten()\n",
    "        h /= h.max()\n",
    "        unchanged = np.average(a-previous_a) < 0.01  #TODO unhardcode this\n",
    "    \n",
    "    return a,h\n",
    "\n",
    "M,v = generate_M_and_v(graph)\n",
    "print v\n",
    "in_degrees = generate_indegree_score(graph)\n",
    "print(M)\n",
    "print(v)\n",
    "print \"Solution to in_degree ranking for graph below:\"\n",
    "print order_nodes_by_rank(v, in_degrees)\n",
    "\n",
    "print hits(M)\n"
   ]
  }
 ],
 "metadata": {
  "kernelspec": {
   "display_name": "Python 2",
   "language": "python",
   "name": "python2"
  },
  "language_info": {
   "codemirror_mode": {
    "name": "ipython",
    "version": 2
   },
   "file_extension": ".py",
   "mimetype": "text/x-python",
   "name": "python",
   "nbconvert_exporter": "python",
   "pygments_lexer": "ipython2",
   "version": "2.7.15+"
  },
  "pycharm": {
   "stem_cell": {
    "cell_type": "raw",
    "source": [],
    "metadata": {
     "collapsed": false
    }
   }
  }
 },
 "nbformat": 4,
 "nbformat_minor": 1
}