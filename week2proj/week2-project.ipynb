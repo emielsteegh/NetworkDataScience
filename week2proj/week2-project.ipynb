{
 "cells": [
  {
   "cell_type": "markdown",
   "metadata": {},
   "source": [
    "# Project Week 2"
   ]
  },
  {
   "cell_type": "markdown",
   "metadata": {},
   "source": [
    "Emiel Steegh   - s1846388  \n",
    "Freek Nijweide - s1857746"
   ]
  },
  {
   "cell_type": "markdown",
   "metadata": {},
   "source": [
    "# Project Description\n",
    "\n",
    "Description etc etc"
   ]
  },
  {
   "cell_type": "code",
   "execution_count": null,
   "metadata": {
    "pycharm": {
     "is_executing": false,
     "name": "#%%\n"
    }
   },
   "outputs": [],
   "source": [
    "# The following includes are needed to work with graphs and display solutions.\n",
    "from __future__ import division\n",
    "import networkx as nx\n",
    "from IPython.core.display import display\n",
    "from _dbus_bindings import Dictionary\n",
    "%matplotlib inline\n",
    "\n",
    "import numpy as np\n",
    "\n",
    "import matplotlib.pyplot as plt\n",
    "import utils\n",
    "import graphs\n",
    "\n",
    "import pandas as pd\n",
    "\n",
    "plt.rcParams[\"figure.figsize\"] = [12,8]\n",
    "\n",
    "print(\"imports done\")"
   ]
  },
  {
   "cell_type": "markdown",
   "metadata": {},
   "source": [
    "## Assignment 1"
   ]
  },
  {
   "cell_type": "markdown",
   "metadata": {},
   "source": [
    "text"
   ]
  },
  {
   "cell_type": "markdown",
   "metadata": {},
   "source": [
    "## Assignment 2"
   ]
  },
  {
   "cell_type": "markdown",
   "metadata": {},
   "source": [
    "text"
   ]
  },
  {
   "cell_type": "markdown",
   "metadata": {},
   "source": [
    "## Assignment 3"
   ]
  },
  {
   "cell_type": "code",
   "execution_count": null,
   "metadata": {
    "pycharm": {
     "is_executing": false
    }
   },
   "outputs": [],
   "source": [
    "# code"
   ]
  },
  {
   "cell_type": "markdown",
   "metadata": {},
   "source": [
    "## Assignment 4\n",
    "\n",
    "There are three different ranking systems discussed in this week's chapters and lectures.\n",
    "The first is an inDegree-based ranking system. The ranking of a page depends on how many pages link to it.\n",
    "This system is easily fooled, and dead-end pages receive incredibly high rankings.\n",
    "\n",
    "The second ranking system discussed is Google's PageRank. This system expands upon the idea of inDegree rankings,\n",
    "by having a node \"spread\" its incoming ranking over its outgoing links. This can also include a degree of randomness,\n",
    "where a node will spread some of its incoming ranking over *all* nods (to avoid spider traps and dead ends).\n",
    "\n",
    "The third ranking system discussed HITS, based on the hub-authority model. In this model, a page is considered a good hub\n",
    "if it links to good authorities (pages with good content that people want to see). A page is considered a good\n",
    "authority if it is linked to by proper hubs. The page's authority ranking is the one actually used in the search.\n",
    "\n",
    "\n",
    "# write equations\n",
    "# implementeer ze\n",
    "# leg code uit\n",
    "# leg resultaten uit"
   ]
  },
  {
   "cell_type": "code",
   "execution_count": null,
   "metadata": {
    "pycharm": {
     "is_executing": false,
     "name": "#%%\n"
    }
   },
   "outputs": [],
   "source": [
    "# Generate a graph we will use in the next exercise\n",
    "graph = nx.DiGraph()\n",
    "\n",
    "graph.add_edge('Google', 'Facebook')\n",
    "graph.add_edge('Facebook', 'UTwente')\n",
    "graph.add_edge('UTwente', 'Google')\n",
    "graph.add_edge('Google', 'Reddit')\n",
    "graph.add_edge('Reddit', 'Trap')\n",
    "graph.add_edge('Spider','Trap')\n",
    "graph.add_edge('Trap','Spider')\n",
    "graph.add_edge('Reddit', 'Apple')\n",
    "graph.add_edge('Reddit', 'Wikipedia')\n",
    "graph.add_edge('Apple', 'Uber')\n",
    "graph.add_edge('Uber', 'Twitter')\n",
    "graph.add_edge('Twitter', 'Bing')\n",
    "graph.add_edge('Wikipedia', 'Twitter')\n",
    "graph.add_edge('Bing', 'Wikipedia')\n",
    "graph.add_edge('Apple', 'Wikipedia')\n",
    "graph.add_edge('Bing','Facebook')\n",
    "graph.add_edge('UTwente','Dead end')\n",
    "graph.add_edge('IN node','Apple')\n",
    "graph.add_edge('Spam 1', 'Indegree Spam main page')\n",
    "graph.add_edge('Spam 2', 'Indegree Spam main page')\n",
    "graph.add_edge('Spam 3', 'Indegree Spam main page')\n",
    "graph.add_edge('Spam 4', 'Indegree Spam main page')\n",
    "graph.add_edge('Spam 5', 'Indegree Spam main page')\n",
    "graph.add_edge('Spam 6', 'Indegree Spam main page')\n",
    "display(utils.draw(graph))\n",
    "\n",
    "\n",
    "# g.view()"
   ]
  },
  {
   "cell_type": "code",
   "execution_count": 131,
   "metadata": {
    "pycharm": {
     "is_executing": false,
     "name": "#%%\n"
    }
   },
   "outputs": [
    {
     "name": "stdout",
     "text": [
      "nodes and adjacency matrix\n['Uber', 'Reddit', 'Google', 'Apple', 'Spam 5', 'Spam 1', 'Twitter', 'Spam 6', 'Wikipedia', 'UTwente', 'Spam 3', 'Spider', 'IN node', 'Facebook', 'Trap', 'Spam 4', 'Indegree Spam main page', 'Spam main page', 'Spam 2', 'Bing', 'Dead end']\n[[0. 0. 0. 0. 0. 0. 1. 0. 0. 0. 0. 0. 0. 0. 0. 0. 0. 0. 0. 0. 0.]\n [0. 0. 0. 1. 0. 0. 0. 0. 1. 0. 0. 0. 0. 0. 1. 0. 0. 0. 0. 0. 0.]\n [0. 1. 0. 0. 0. 0. 0. 0. 0. 0. 0. 0. 0. 1. 0. 0. 0. 0. 0. 0. 0.]\n [1. 0. 0. 0. 0. 0. 0. 0. 1. 0. 0. 0. 0. 0. 0. 0. 0. 0. 0. 0. 0.]\n [0. 0. 0. 0. 0. 0. 0. 0. 0. 0. 0. 0. 0. 0. 0. 0. 0. 1. 0. 0. 0.]\n [0. 0. 0. 0. 0. 0. 0. 0. 0. 0. 0. 0. 0. 0. 0. 0. 1. 0. 0. 0. 0.]\n [0. 0. 0. 0. 0. 0. 0. 0. 0. 0. 0. 0. 0. 0. 0. 0. 0. 0. 0. 1. 0.]\n [0. 0. 0. 0. 0. 0. 0. 0. 0. 0. 0. 0. 0. 0. 0. 0. 0. 1. 0. 0. 0.]\n [0. 0. 0. 0. 0. 0. 1. 0. 0. 0. 0. 0. 0. 0. 0. 0. 0. 0. 0. 0. 0.]\n [0. 0. 1. 0. 0. 0. 0. 0. 0. 0. 0. 0. 0. 0. 0. 0. 0. 0. 0. 0. 1.]\n [0. 0. 0. 0. 0. 0. 0. 0. 0. 0. 0. 0. 0. 0. 0. 0. 0. 1. 0. 0. 0.]\n [0. 0. 0. 0. 0. 0. 0. 0. 0. 0. 0. 0. 0. 0. 1. 0. 0. 0. 0. 0. 0.]\n [0. 0. 0. 1. 0. 0. 0. 0. 0. 0. 0. 0. 0. 0. 0. 0. 0. 0. 0. 0. 0.]\n [0. 0. 0. 0. 0. 0. 0. 0. 0. 1. 0. 0. 0. 0. 0. 0. 0. 0. 0. 0. 0.]\n [0. 0. 0. 0. 0. 0. 0. 0. 0. 0. 0. 1. 0. 0. 0. 0. 0. 0. 0. 0. 0.]\n [0. 0. 0. 0. 0. 0. 0. 0. 0. 0. 0. 0. 0. 0. 0. 0. 0. 1. 0. 0. 0.]\n [0. 0. 0. 0. 0. 0. 0. 0. 0. 0. 0. 0. 0. 0. 0. 0. 0. 0. 0. 0. 0.]\n [0. 0. 0. 0. 0. 0. 0. 0. 0. 0. 0. 0. 0. 0. 0. 0. 0. 0. 0. 0. 0.]\n [0. 0. 0. 0. 0. 0. 0. 0. 0. 0. 0. 0. 0. 0. 0. 0. 0. 1. 0. 0. 0.]\n [0. 0. 0. 0. 0. 0. 0. 0. 1. 0. 0. 0. 0. 1. 0. 0. 0. 0. 0. 0. 0.]\n [0. 0. 0. 0. 0. 0. 0. 0. 0. 0. 0. 0. 0. 0. 0. 0. 0. 0. 0. 0. 0.]]\n\n\nSolution to in_degree ranking:\nHuman readable ranking (nodes sorted by their rank): ['Spam main page', 'Wikipedia', 'Apple', 'Trap', 'Facebook', 'Twitter', 'Dead end', 'UTwente', 'Reddit', 'Google', 'Uber', 'Bing', 'Spider', 'Indegree Spam main page', 'Spam 6', 'IN node', 'Spam 1', 'Spam 5', 'Spam 4', 'Spam 2', 'Spam 3']\nOrdinal ranking: [10, 8, 9, 2, 17, 16, 5, 14, 1, 7, 20, 12, 15, 4, 3, 18, 13, 0, 19, 11, 6]\n\n\n",
      "Our solution to HITS ranking\nHuman readable ranking: ['Spam main page', 'Wikipedia', 'Apple', 'Trap', 'Facebook', 'Uber', 'Reddit', 'Google', 'Spam 5', 'Spam 1', 'Twitter', 'Spam 6', 'Dead end', 'UTwente', 'Bing', 'Spider', 'IN node', 'Spam 4', 'Indegree Spam main page', 'Spam 2', 'Spam 3']\nOrdinal ranking: [5, 6, 7, 2, 8, 9, 10, 11, 1, 13, 20, 15, 16, 4, 3, 17, 18, 0, 19, 14, 12]\n\n\nHITS ranking (networkx implementation, for reference)\n",
      "Human readable ranking: ['Spam main page', 'Wikipedia', 'Apple', 'Trap', 'Facebook', 'Uber', 'Reddit', 'Twitter', 'Google', 'Dead end', 'Bing', 'UTwente', 'Spider', 'Indegree Spam main page', 'Spam 6', 'IN node', 'Spam 1', 'Spam 5', 'Spam 4', 'Spam 2', 'Spam 3']\nOrdinal ranking: [5, 6, 8, 2, 17, 16, 7, 14, 1, 11, 20, 12, 15, 4, 3, 18, 13, 0, 19, 10, 9]\nOrdinal ranking difference between our implementation and networkx: 42.0\n"
     ],
     "output_type": "stream"
    },
    {
     "ename": "KeyboardInterrupt",
     "evalue": "",
     "traceback": [
      "\u001b[0;31m---------------------------------------------------------------------------\u001b[0m",
      "\u001b[0;31mKeyboardInterrupt\u001b[0m                         Traceback (most recent call last)",
      "\u001b[0;32m<ipython-input-131-1d98a7022850>\u001b[0m in \u001b[0;36m<module>\u001b[0;34m()\u001b[0m\n\u001b[1;32m    108\u001b[0m \u001b[0;32mprint\u001b[0m \u001b[0;34m\"Ordinal ranking: \"\u001b[0m \u001b[0;34m+\u001b[0m \u001b[0mstr\u001b[0m\u001b[0;34m(\u001b[0m\u001b[0mreal_order\u001b[0m\u001b[0;34m)\u001b[0m\u001b[0;34m\u001b[0m\u001b[0;34m\u001b[0m\u001b[0m\n\u001b[1;32m    109\u001b[0m \u001b[0;32mprint\u001b[0m \u001b[0;34m\"Ordinal ranking difference between our implementation and networkx: \"\u001b[0m \u001b[0;34m+\u001b[0m \u001b[0mstr\u001b[0m \u001b[0;34m(\u001b[0m\u001b[0mordinal_difference\u001b[0m\u001b[0;34m(\u001b[0m\u001b[0morder\u001b[0m\u001b[0;34m,\u001b[0m\u001b[0mreal_order\u001b[0m\u001b[0;34m)\u001b[0m\u001b[0;34m)\u001b[0m\u001b[0;34m\u001b[0m\u001b[0;34m\u001b[0m\u001b[0m\n\u001b[0;32m--> 110\u001b[0;31m \u001b[0;32mprint\u001b[0m \u001b[0;34m\"The max difference between our implementation and networkx' implementation's authority ranking: \"\u001b[0m \u001b[0;34m+\u001b[0m  \u001b[0mstr\u001b[0m\u001b[0;34m(\u001b[0m\u001b[0;34m(\u001b[0m\u001b[0mnp\u001b[0m\u001b[0;34m.\u001b[0m\u001b[0marray\u001b[0m\u001b[0;34m(\u001b[0m\u001b[0mdifference\u001b[0m\u001b[0;34m)\u001b[0m\u001b[0;34m)\u001b[0m\u001b[0;34m.\u001b[0m\u001b[0mmax\u001b[0m\u001b[0;34m(\u001b[0m\u001b[0;34m)\u001b[0m\u001b[0;34m)\u001b[0m\u001b[0;34m\u001b[0m\u001b[0;34m\u001b[0m\u001b[0m\n\u001b[0m\u001b[1;32m    111\u001b[0m \u001b[0;34m\u001b[0m\u001b[0m\n\u001b[1;32m    112\u001b[0m \u001b[0;32mprint\u001b[0m \u001b[0;34m\"\\n\"\u001b[0m\u001b[0;34m\u001b[0m\u001b[0;34m\u001b[0m\u001b[0m\n",
      "\u001b[0;32m<ipython-input-131-1d98a7022850>\u001b[0m in \u001b[0;36m<module>\u001b[0;34m()\u001b[0m\n\u001b[1;32m    108\u001b[0m \u001b[0;32mprint\u001b[0m \u001b[0;34m\"Ordinal ranking: \"\u001b[0m \u001b[0;34m+\u001b[0m \u001b[0mstr\u001b[0m\u001b[0;34m(\u001b[0m\u001b[0mreal_order\u001b[0m\u001b[0;34m)\u001b[0m\u001b[0;34m\u001b[0m\u001b[0;34m\u001b[0m\u001b[0m\n\u001b[1;32m    109\u001b[0m \u001b[0;32mprint\u001b[0m \u001b[0;34m\"Ordinal ranking difference between our implementation and networkx: \"\u001b[0m \u001b[0;34m+\u001b[0m \u001b[0mstr\u001b[0m \u001b[0;34m(\u001b[0m\u001b[0mordinal_difference\u001b[0m\u001b[0;34m(\u001b[0m\u001b[0morder\u001b[0m\u001b[0;34m,\u001b[0m\u001b[0mreal_order\u001b[0m\u001b[0;34m)\u001b[0m\u001b[0;34m)\u001b[0m\u001b[0;34m\u001b[0m\u001b[0;34m\u001b[0m\u001b[0m\n\u001b[0;32m--> 110\u001b[0;31m \u001b[0;32mprint\u001b[0m \u001b[0;34m\"The max difference between our implementation and networkx' implementation's authority ranking: \"\u001b[0m \u001b[0;34m+\u001b[0m  \u001b[0mstr\u001b[0m\u001b[0;34m(\u001b[0m\u001b[0;34m(\u001b[0m\u001b[0mnp\u001b[0m\u001b[0;34m.\u001b[0m\u001b[0marray\u001b[0m\u001b[0;34m(\u001b[0m\u001b[0mdifference\u001b[0m\u001b[0;34m)\u001b[0m\u001b[0;34m)\u001b[0m\u001b[0;34m.\u001b[0m\u001b[0mmax\u001b[0m\u001b[0;34m(\u001b[0m\u001b[0;34m)\u001b[0m\u001b[0;34m)\u001b[0m\u001b[0;34m\u001b[0m\u001b[0;34m\u001b[0m\u001b[0m\n\u001b[0m\u001b[1;32m    111\u001b[0m \u001b[0;34m\u001b[0m\u001b[0m\n\u001b[1;32m    112\u001b[0m \u001b[0;32mprint\u001b[0m \u001b[0;34m\"\\n\"\u001b[0m\u001b[0;34m\u001b[0m\u001b[0;34m\u001b[0m\u001b[0m\n",
      "\u001b[0;32m/home/freek/.local/share/JetBrains/Toolbox/apps/PyCharm-P/ch-0/192.7142.42/helpers/pydev/_pydevd_bundle/pydevd_frame.pyc\u001b[0m in \u001b[0;36mtrace_dispatch\u001b[0;34m(self, frame, event, arg)\u001b[0m\n\u001b[1;32m    675\u001b[0m                 \u001b[0;31m# if thread has a suspend flag, we suspend with a busy wait\u001b[0m\u001b[0;34m\u001b[0m\u001b[0;34m\u001b[0m\u001b[0;34m\u001b[0m\u001b[0m\n\u001b[1;32m    676\u001b[0m                 \u001b[0;32mif\u001b[0m \u001b[0minfo\u001b[0m\u001b[0;34m.\u001b[0m\u001b[0mpydev_state\u001b[0m \u001b[0;34m==\u001b[0m \u001b[0mSTATE_SUSPEND\u001b[0m\u001b[0;34m:\u001b[0m\u001b[0;34m\u001b[0m\u001b[0;34m\u001b[0m\u001b[0m\n\u001b[0;32m--> 677\u001b[0;31m                     \u001b[0mself\u001b[0m\u001b[0;34m.\u001b[0m\u001b[0mdo_wait_suspend\u001b[0m\u001b[0;34m(\u001b[0m\u001b[0mthread\u001b[0m\u001b[0;34m,\u001b[0m \u001b[0mframe\u001b[0m\u001b[0;34m,\u001b[0m \u001b[0mevent\u001b[0m\u001b[0;34m,\u001b[0m \u001b[0marg\u001b[0m\u001b[0;34m)\u001b[0m\u001b[0;34m\u001b[0m\u001b[0;34m\u001b[0m\u001b[0m\n\u001b[0m\u001b[1;32m    678\u001b[0m                     \u001b[0;31m# No need to reset frame.f_trace to keep the same trace function.\u001b[0m\u001b[0;34m\u001b[0m\u001b[0;34m\u001b[0m\u001b[0;34m\u001b[0m\u001b[0m\n\u001b[1;32m    679\u001b[0m                     \u001b[0;32mreturn\u001b[0m \u001b[0mself\u001b[0m\u001b[0;34m.\u001b[0m\u001b[0mtrace_dispatch\u001b[0m\u001b[0;34m\u001b[0m\u001b[0;34m\u001b[0m\u001b[0m\n",
      "\u001b[0;32m/home/freek/.local/share/JetBrains/Toolbox/apps/PyCharm-P/ch-0/192.7142.42/helpers/pydev/_pydevd_bundle/pydevd_frame.pyc\u001b[0m in \u001b[0;36mdo_wait_suspend\u001b[0;34m(self, *args, **kwargs)\u001b[0m\n\u001b[1;32m    132\u001b[0m \u001b[0;34m\u001b[0m\u001b[0m\n\u001b[1;32m    133\u001b[0m     \u001b[0;32mdef\u001b[0m \u001b[0mdo_wait_suspend\u001b[0m\u001b[0;34m(\u001b[0m\u001b[0mself\u001b[0m\u001b[0;34m,\u001b[0m \u001b[0;34m*\u001b[0m\u001b[0margs\u001b[0m\u001b[0;34m,\u001b[0m \u001b[0;34m**\u001b[0m\u001b[0mkwargs\u001b[0m\u001b[0;34m)\u001b[0m\u001b[0;34m:\u001b[0m\u001b[0;34m\u001b[0m\u001b[0;34m\u001b[0m\u001b[0m\n\u001b[0;32m--> 134\u001b[0;31m         \u001b[0mself\u001b[0m\u001b[0;34m.\u001b[0m\u001b[0m_args\u001b[0m\u001b[0;34m[\u001b[0m\u001b[0;36m0\u001b[0m\u001b[0;34m]\u001b[0m\u001b[0;34m.\u001b[0m\u001b[0mdo_wait_suspend\u001b[0m\u001b[0;34m(\u001b[0m\u001b[0;34m*\u001b[0m\u001b[0margs\u001b[0m\u001b[0;34m,\u001b[0m \u001b[0;34m**\u001b[0m\u001b[0mkwargs\u001b[0m\u001b[0;34m)\u001b[0m\u001b[0;34m\u001b[0m\u001b[0;34m\u001b[0m\u001b[0m\n\u001b[0m\u001b[1;32m    135\u001b[0m \u001b[0;34m\u001b[0m\u001b[0m\n\u001b[1;32m    136\u001b[0m     \u001b[0;31m# IFDEF CYTHON\u001b[0m\u001b[0;34m\u001b[0m\u001b[0;34m\u001b[0m\u001b[0;34m\u001b[0m\u001b[0m\n",
      "\u001b[0;32m/home/freek/.local/share/JetBrains/Toolbox/apps/PyCharm-P/ch-0/192.7142.42/helpers/pydev/pydevd.pyc\u001b[0m in \u001b[0;36mdo_wait_suspend\u001b[0;34m(self, thread, frame, event, arg, send_suspend_message, is_unhandled_exception)\u001b[0m\n\u001b[1;32m   1078\u001b[0m \u001b[0;34m\u001b[0m\u001b[0m\n\u001b[1;32m   1079\u001b[0m         \u001b[0;32mwith\u001b[0m \u001b[0mself\u001b[0m\u001b[0;34m.\u001b[0m\u001b[0m_threads_suspended_single_notification\u001b[0m\u001b[0;34m.\u001b[0m\u001b[0mnotify_thread_suspended\u001b[0m\u001b[0;34m(\u001b[0m\u001b[0mthread_id\u001b[0m\u001b[0;34m,\u001b[0m \u001b[0mstop_reason\u001b[0m\u001b[0;34m)\u001b[0m\u001b[0;34m:\u001b[0m\u001b[0;34m\u001b[0m\u001b[0;34m\u001b[0m\u001b[0m\n\u001b[0;32m-> 1080\u001b[0;31m             \u001b[0mself\u001b[0m\u001b[0;34m.\u001b[0m\u001b[0m_do_wait_suspend\u001b[0m\u001b[0;34m(\u001b[0m\u001b[0mthread\u001b[0m\u001b[0;34m,\u001b[0m \u001b[0mframe\u001b[0m\u001b[0;34m,\u001b[0m \u001b[0mevent\u001b[0m\u001b[0;34m,\u001b[0m \u001b[0marg\u001b[0m\u001b[0;34m,\u001b[0m \u001b[0msuspend_type\u001b[0m\u001b[0;34m,\u001b[0m \u001b[0mfrom_this_thread\u001b[0m\u001b[0;34m)\u001b[0m\u001b[0;34m\u001b[0m\u001b[0;34m\u001b[0m\u001b[0m\n\u001b[0m\u001b[1;32m   1081\u001b[0m \u001b[0;34m\u001b[0m\u001b[0m\n\u001b[1;32m   1082\u001b[0m     \u001b[0;32mdef\u001b[0m \u001b[0m_do_wait_suspend\u001b[0m\u001b[0;34m(\u001b[0m\u001b[0mself\u001b[0m\u001b[0;34m,\u001b[0m \u001b[0mthread\u001b[0m\u001b[0;34m,\u001b[0m \u001b[0mframe\u001b[0m\u001b[0;34m,\u001b[0m \u001b[0mevent\u001b[0m\u001b[0;34m,\u001b[0m \u001b[0marg\u001b[0m\u001b[0;34m,\u001b[0m \u001b[0msuspend_type\u001b[0m\u001b[0;34m,\u001b[0m \u001b[0mfrom_this_thread\u001b[0m\u001b[0;34m)\u001b[0m\u001b[0;34m:\u001b[0m\u001b[0;34m\u001b[0m\u001b[0;34m\u001b[0m\u001b[0m\n",
      "\u001b[0;32m/home/freek/.local/share/JetBrains/Toolbox/apps/PyCharm-P/ch-0/192.7142.42/helpers/pydev/pydevd.pyc\u001b[0m in \u001b[0;36m_do_wait_suspend\u001b[0;34m(self, thread, frame, event, arg, suspend_type, from_this_thread)\u001b[0m\n\u001b[1;32m   1093\u001b[0m \u001b[0;34m\u001b[0m\u001b[0m\n\u001b[1;32m   1094\u001b[0m                 \u001b[0mself\u001b[0m\u001b[0;34m.\u001b[0m\u001b[0mprocess_internal_commands\u001b[0m\u001b[0;34m(\u001b[0m\u001b[0;34m)\u001b[0m\u001b[0;34m\u001b[0m\u001b[0;34m\u001b[0m\u001b[0m\n\u001b[0;32m-> 1095\u001b[0;31m                 \u001b[0mtime\u001b[0m\u001b[0;34m.\u001b[0m\u001b[0msleep\u001b[0m\u001b[0;34m(\u001b[0m\u001b[0;36m0.01\u001b[0m\u001b[0;34m)\u001b[0m\u001b[0;34m\u001b[0m\u001b[0;34m\u001b[0m\u001b[0m\n\u001b[0m\u001b[1;32m   1096\u001b[0m \u001b[0;34m\u001b[0m\u001b[0m\n\u001b[1;32m   1097\u001b[0m         \u001b[0mself\u001b[0m\u001b[0;34m.\u001b[0m\u001b[0mcancel_async_evaluation\u001b[0m\u001b[0;34m(\u001b[0m\u001b[0mget_current_thread_id\u001b[0m\u001b[0;34m(\u001b[0m\u001b[0mthread\u001b[0m\u001b[0;34m)\u001b[0m\u001b[0;34m,\u001b[0m \u001b[0mstr\u001b[0m\u001b[0;34m(\u001b[0m\u001b[0mid\u001b[0m\u001b[0;34m(\u001b[0m\u001b[0mframe\u001b[0m\u001b[0;34m)\u001b[0m\u001b[0;34m)\u001b[0m\u001b[0;34m)\u001b[0m\u001b[0;34m\u001b[0m\u001b[0;34m\u001b[0m\u001b[0m\n",
      "\u001b[0;31mKeyboardInterrupt\u001b[0m: "
     ],
     "output_type": "error"
    }
   ],
   "source": [
    "def generate_M_and_v(graph):\n",
    "    #type: (nx.DiGraph) -> any\n",
    "    M = nx.to_numpy_matrix(graph) #type: np.matrix\n",
    "    M.transpose()\n",
    "    M_T = M.transpose()\n",
    "    v = list(graph.nodes)\n",
    "    return M,v\n",
    "\n",
    "def generate_indegree_score(graph):    \n",
    "    in_degrees = []\n",
    "    for node in graph.nodes:\n",
    "        if type(graph) == nx.classes.digraph.DiGraph:\n",
    "            in_degrees.append(graph.in_degree(node))\n",
    "        else:\n",
    "            in_degrees.append(graph.degree(node))\n",
    "    return in_degrees\n",
    "    \n",
    "def order_nodes_by_rank(nodes, rank):    \n",
    "    order = np.argsort(rank)[::-1] #sort in degrees in descending order, return indices\n",
    "    sorted_nodes = [nodes[i] for i in order] #Human readable sorted list of nodes\n",
    "    ordinal_rank = [list(order).index(i) for i in range(len(order))] # Ordinal rank as specified in exercise\n",
    "    return sorted_nodes,ordinal_rank\n",
    "\n",
    "def ordinal_difference(a, b):\n",
    "    if type(a) == list:\n",
    "        a = np.array(a,dtype=float)\n",
    "    if type(b) == list:\n",
    "        b = np.array(b,dtype=float)\n",
    "    return sum(abs(a-b))\n",
    "\n",
    "def hits(M):\n",
    "    if type(M) != np.matrix:\n",
    "        M = nx.adjacency_matrix(M)\n",
    "    v=np.ones(len(M),dtype=float)\n",
    "    change_was_made = True\n",
    "    h=np.copy(v)\n",
    "    a=np.copy(v)\n",
    "    while change_was_made:\n",
    "        #calculate new v for hub and authority\n",
    "        # M remains unchanged\n",
    "        previous_a = np.copy(a)\n",
    "        previous_h = np.copy(h)\n",
    "        \n",
    "        a = np.array(np.dot(M.transpose(),h)).flatten()\n",
    "        a /= a.max()\n",
    "\n",
    "        h = np.array(np.dot(M,a)).flatten()\n",
    "        h /= h.max()\n",
    "        change_was_made = ((abs(a-previous_a).max() ) > 0) or ((abs(h-previous_h).max() ) > 0) \n",
    "    \n",
    "    return a,h\n",
    "\n",
    "def pagerank(graph,beta):\n",
    "    #type: (nx.DiGraph, float) -> any\n",
    "    M,nodes = generate_M_and_v(graph)\n",
    "    for i in range(len(nodes)):\n",
    "        node=nodes[i]\n",
    "        if graph.out_degree(node) > 0:\n",
    "            M[i] /= graph.out_degree(node)\n",
    "    M=M.T # We were working with adjacency matrix. The transition matrix is a transpose of this, where each\n",
    "    #       number is divided by the out-degree of the node the edge is coming from\n",
    "    original_v=np.ones(len(M),dtype=float)/len(M)\n",
    "    v = np.copy(original_v)\n",
    "    change_was_made = True\n",
    "    while change_was_made:\n",
    "        previous_v = np.copy(v)\n",
    "        first_term = beta* (np.array(np.dot(M,v)).flatten())\n",
    "        second_term = np.dot((1-beta),original_v)\n",
    "        v = first_term + second_term\n",
    "        change_was_made = ((abs(v-previous_v).max() ) > 0.00000000000001) #This 0.00... number was experimentally chosen. Smaller values seemed not to converge, for some graphs \n",
    "    \n",
    "    return v\n",
    "\n",
    "M,v = generate_M_and_v(graph)\n",
    "print \"nodes and adjacency matrix\"\n",
    "print v\n",
    "print(M)\n",
    "\n",
    "print \"\\n\"\n",
    "\n",
    "in_degrees = generate_indegree_score(graph)\n",
    "human_readable, order = order_nodes_by_rank(v, in_degrees)\n",
    "print \"Solution to in_degree ranking:\"\n",
    "print \"Human readable ranking (nodes sorted by their rank): \" + str(human_readable)\n",
    "print \"Ordinal ranking: \" + str(order)\n",
    "print \"\\n\"\n",
    "\n",
    "a , h = hits(M)\n",
    "human_readable, order = order_nodes_by_rank(v, a)\n",
    "print \"Our solution to HITS ranking\"\n",
    "print \"Human readable ranking: \" + str(human_readable)\n",
    "print \"Ordinal ranking: \" + str(order)\n",
    "\n",
    "print \"\\n\"\n",
    "\n",
    "print \"HITS ranking (networkx implementation, for reference)\"\n",
    "(real_h_dict, real_a_dict) = nx.hits(graph,max_iter=100000)\n",
    "\n",
    "difference = []\n",
    "real_a=[]\n",
    "for i in range(len(v)):\n",
    "    node = v[i]\n",
    "    real_a.append(real_a_dict[node])\n",
    "    difference.append(abs(real_a_dict[node]-a[i]))\n",
    "    \n",
    "real_human_readable, real_order = order_nodes_by_rank(v, real_a)\n",
    "print \"Human readable ranking: \" + str(real_human_readable)\n",
    "print \"Ordinal ranking: \" + str(real_order)\n",
    "print \"Ordinal ranking difference between our implementation and networkx: \" + str (ordinal_difference(order,real_order))\n",
    "\n",
    "print \"\\n\"\n",
    "\n",
    "page_rank_list = pagerank(graph,0.85)\n",
    "human_readable, order = order_nodes_by_rank(v, page_rank_list)\n",
    "print \"Our solution to pagerank\"\n",
    "print \"Human readable ranking: \" + str(human_readable)\n",
    "print \"Ordinal ranking: \" + str(order)\n",
    "\n",
    "print \"\\n\"\n",
    "\n",
    "# TODO do this for the different graphs in c, and print difference as mentioned in B"
   ]
  }
 ],
 "metadata": {
  "kernelspec": {
   "display_name": "Python 2",
   "language": "python",
   "name": "python2"
  },
  "language_info": {
   "codemirror_mode": {
    "name": "ipython",
    "version": 2
   },
   "file_extension": ".py",
   "mimetype": "text/x-python",
   "name": "python",
   "nbconvert_exporter": "python",
   "pygments_lexer": "ipython2",
   "version": "2.7.15+"
  },
  "pycharm": {
   "stem_cell": {
    "cell_type": "raw",
    "source": [],
    "metadata": {
     "collapsed": false
    }
   }
  }
 },
 "nbformat": 4,
 "nbformat_minor": 1
}