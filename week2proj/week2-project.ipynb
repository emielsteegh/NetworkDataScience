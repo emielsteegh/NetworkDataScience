{
 "cells": [
  {
   "cell_type": "markdown",
   "metadata": {},
   "source": [
    "# Project Week 2"
   ]
  },
  {
   "cell_type": "markdown",
   "metadata": {},
   "source": [
    "Emiel Steegh   - s1846388  \n",
    "Freek Nijweide - s1857746"
   ]
  },
  {
   "cell_type": "markdown",
   "metadata": {},
   "source": [
    "# Project Description\n",
    "\n",
    "Description etc etc"
   ]
  },
  {
   "cell_type": "code",
   "execution_count": 1,
   "outputs": [
    {
     "name": "stdout",
     "text": [
      "imports done\n"
     ],
     "output_type": "stream"
    }
   ],
   "source": [
    "# The following includes are needed to work with graphs and display solutions.\n",
    "from __future__ import division\n",
    "import networkx as nx\n",
    "from _dbus_bindings import Dictionary\n",
    "%matplotlib inline\n",
    "\n",
    "import numpy as np\n",
    "\n",
    "import matplotlib.pyplot as plt\n",
    "import utils\n",
    "import graphs\n",
    "\n",
    "import pandas as pd\n",
    "\n",
    "plt.rcParams[\"figure.figsize\"] = [12,8]\n",
    "\n",
    "print(\"imports done\")"
   ],
   "metadata": {
    "collapsed": false,
    "pycharm": {
     "name": "#%%\n",
     "is_executing": false
    }
   }
  },
  {
   "cell_type": "markdown",
   "metadata": {},
   "source": [
    "## Assignment 1"
   ]
  },
  {
   "cell_type": "markdown",
   "metadata": {},
   "source": [
    "text"
   ]
  },
  {
   "cell_type": "markdown",
   "metadata": {},
   "source": [
    "## Assignment 2"
   ]
  },
  {
   "cell_type": "markdown",
   "metadata": {},
   "source": [
    "text"
   ]
  },
  {
   "cell_type": "markdown",
   "metadata": {},
   "source": [
    "## Assignment 3"
   ]
  },
  {
   "cell_type": "code",
   "execution_count": 1,
   "metadata": {},
   "outputs": [],
   "source": [
    "# code"
   ]
  },
  {
   "cell_type": "markdown",
   "metadata": {},
   "source": [
    "## Assignment 4\n",
    "\n",
    "There are three different ranking systems discussed in this week's chapters and lectures.\n",
    "The first is an inDegree-based ranking system. The ranking of a page depends on how many pages link to it.\n",
    "This system is easily fooled, and dead-end pages receive incredibly high rankings.\n",
    "\n",
    "The second ranking system discussed is Google's PageRank. This system expands upon the idea of inDegree rankings,\n",
    "by having a node \"spread\" its incoming ranking over its outgoing links. This can also include a degree of randomness,\n",
    "where a node will spread some of its incoming ranking over *all* nods (to avoid spider traps and dead ends).\n",
    "\n",
    "The third ranking system discussed HITS, based on the hub-authority model. In this model, a page is considered a good hub\n",
    "if it links to good authorities (pages with good content that people want to see). A page is considered a good\n",
    "authority if it is linked to by proper hubs. The page's authority ranking is the one actually used in the search.\n",
    "\n",
    "\n",
    "# write equations\n",
    "# implementeer ze"
   ]
  },
  {
   "cell_type": "code",
   "execution_count": 56,
   "outputs": [
    {
     "data": {
      "text/plain": "<IPython.core.display.SVG object>",
      "image/svg+xml": "<svg height=\"459pt\" viewBox=\"0.00 0.00 446.01 459.26\" width=\"446pt\" xmlns=\"http://www.w3.org/2000/svg\" xmlns:xlink=\"http://www.w3.org/1999/xlink\">\n<g class=\"graph\" id=\"graph0\" transform=\"scale(1 1) rotate(0) translate(4 455.26)\">\n<polygon fill=\"#ffffff\" points=\"-4,4 -4,-455.26 442.0096,-455.26 442.0096,4 -4,4\" stroke=\"transparent\"/>\n<!-- Uber -->\n<g class=\"node\" id=\"node1\">\n<title>Uber</title>\n<ellipse cx=\"309.3896\" cy=\"-433.26\" fill=\"none\" rx=\"34.5\" ry=\"18\" stroke=\"#000000\"/>\n<text fill=\"#000000\" font-family=\"Times,serif\" font-size=\"14.00\" text-anchor=\"middle\" x=\"309.3896\" y=\"-429.56\">Uber</text>\n</g>\n<!-- Twitter -->\n<g class=\"node\" id=\"node2\">\n<title>Twitter</title>\n<ellipse cx=\"393.0096\" cy=\"-343.32\" fill=\"none\" rx=\"45\" ry=\"18\" stroke=\"#000000\"/>\n<text fill=\"#000000\" font-family=\"Times,serif\" font-size=\"14.00\" text-anchor=\"middle\" x=\"393.0096\" y=\"-339.62\">Twitter</text>\n</g>\n<!-- Uber&#45;&gt;Twitter -->\n<g class=\"edge\" id=\"edge1\">\n<title>Uber-&gt;Twitter</title>\n<path d=\"M324.7296,-416.76C337.4196,-403.11 355.6296,-383.53 370.0596,-368.01\" fill=\"none\" stroke=\"#000000\"/>\n<polygon fill=\"#000000\" points=\"372.9603,-370.0298 377.1996,-360.32 367.8305,-365.2668 372.9603,-370.0298\" stroke=\"#000000\"/>\n</g>\n<!-- Wikipedia -->\n<g class=\"node\" id=\"node3\">\n<title>Wikipedia</title>\n<ellipse cx=\"297.0696\" cy=\"-284.16\" fill=\"none\" rx=\"58\" ry=\"18\" stroke=\"#000000\"/>\n<text fill=\"#000000\" font-family=\"Times,serif\" font-size=\"14.00\" text-anchor=\"middle\" x=\"297.0696\" y=\"-280.46\">Wikipedia</text>\n</g>\n<!-- Twitter&#45;&gt;Wikipedia -->\n<g class=\"edge\" id=\"edge2\">\n<title>Twitter-&gt;Wikipedia</title>\n<path d=\"M368.2996,-328.09C357.2296,-321.25 343.9596,-313.07 331.8996,-305.64\" fill=\"none\" stroke=\"#000000\"/>\n<polygon fill=\"#000000\" points=\"333.7273,-302.6551 323.3796,-300.38 330.05,-308.6114 333.7273,-302.6551\" stroke=\"#000000\"/>\n</g>\n<!-- Bing -->\n<g class=\"node\" id=\"node4\">\n<title>Bing</title>\n<ellipse cx=\"397.4096\" cy=\"-226.64\" fill=\"none\" rx=\"32.5\" ry=\"18\" stroke=\"#000000\"/>\n<text fill=\"#000000\" font-family=\"Times,serif\" font-size=\"14.00\" text-anchor=\"middle\" x=\"397.4096\" y=\"-222.94\">Bing</text>\n</g>\n<!-- Twitter&#45;&gt;Bing -->\n<g class=\"edge\" id=\"edge3\">\n<title>Twitter-&gt;Bing</title>\n<path d=\"M393.6996,-325.09C394.4096,-306.25 395.5296,-276.6 396.3496,-254.76\" fill=\"none\" stroke=\"#000000\"/>\n<polygon fill=\"#000000\" points=\"399.848,-254.8655 396.7296,-244.74 392.853,-254.6001 399.848,-254.8655\" stroke=\"#000000\"/>\n</g>\n<!-- Bing&#45;&gt;Wikipedia -->\n<g class=\"edge\" id=\"edge4\">\n<title>Bing-&gt;Wikipedia</title>\n<path d=\"M374.6496,-239.69C362.4996,-246.65 347.2696,-255.38 333.5296,-263.26\" fill=\"none\" stroke=\"#000000\"/>\n<polygon fill=\"#000000\" points=\"331.6928,-260.2786 324.7596,-268.29 335.1755,-266.3508 331.6928,-260.2786\" stroke=\"#000000\"/>\n</g>\n<!-- Facebook -->\n<g class=\"node\" id=\"node5\">\n<title>Facebook</title>\n<ellipse cx=\"362.2896\" cy=\"-109.41\" fill=\"none\" rx=\"55.4913\" ry=\"18\" stroke=\"#000000\"/>\n<text fill=\"#000000\" font-family=\"Times,serif\" font-size=\"14.00\" text-anchor=\"middle\" x=\"362.2896\" y=\"-105.71\">Facebook</text>\n</g>\n<!-- Bing&#45;&gt;Facebook -->\n<g class=\"edge\" id=\"edge5\">\n<title>Bing-&gt;Facebook</title>\n<path d=\"M392.0796,-208.83C386.3796,-189.81 377.2696,-159.41 370.6196,-137.23\" fill=\"none\" stroke=\"#000000\"/>\n<polygon fill=\"#000000\" points=\"373.8915,-135.9554 367.6696,-127.38 367.1858,-137.9638 373.8915,-135.9554\" stroke=\"#000000\"/>\n</g>\n<!-- UTwente -->\n<g class=\"node\" id=\"node10\">\n<title>UTwente</title>\n<ellipse cx=\"299.7196\" cy=\"-18\" fill=\"none\" rx=\"52.7911\" ry=\"18\" stroke=\"#000000\"/>\n<text fill=\"#000000\" font-family=\"Times,serif\" font-size=\"14.00\" text-anchor=\"middle\" x=\"299.7196\" y=\"-14.3\">UTwente</text>\n</g>\n<!-- Facebook&#45;&gt;UTwente -->\n<g class=\"edge\" id=\"edge13\">\n<title>Facebook-&gt;UTwente</title>\n<path d=\"M350.2296,-91.787C340.9596,-78.256 328.0296,-59.363 317.5796,-44.083\" fill=\"none\" stroke=\"#000000\"/>\n<polygon fill=\"#000000\" points=\"320.2881,-41.8436 311.7496,-35.571 314.5128,-45.7992 320.2881,-41.8436\" stroke=\"#000000\"/>\n</g>\n<!-- Reddit -->\n<g class=\"node\" id=\"node6\">\n<title>Reddit</title>\n<ellipse cx=\"193.8996\" cy=\"-231.7\" fill=\"none\" rx=\"41.6928\" ry=\"18\" stroke=\"#000000\"/>\n<text fill=\"#000000\" font-family=\"Times,serif\" font-size=\"14.00\" text-anchor=\"middle\" x=\"193.8996\" y=\"-228\">Reddit</text>\n</g>\n<!-- Reddit&#45;&gt;Wikipedia -->\n<g class=\"edge\" id=\"edge6\">\n<title>Reddit-&gt;Wikipedia</title>\n<path d=\"M220.9996,-245.48C232.2296,-251.19 245.4796,-257.93 257.7396,-264.16\" fill=\"none\" stroke=\"#000000\"/>\n<polygon fill=\"#000000\" points=\"256.3703,-267.3904 266.8696,-268.81 259.5472,-261.1528 256.3703,-267.3904\" stroke=\"#000000\"/>\n</g>\n<!-- DuckDuckGo -->\n<g class=\"node\" id=\"node7\">\n<title>DuckDuckGo</title>\n<ellipse cx=\"72.1436\" cy=\"-229.24\" fill=\"none\" rx=\"72.2875\" ry=\"18\" stroke=\"#000000\"/>\n<text fill=\"#000000\" font-family=\"Times,serif\" font-size=\"14.00\" text-anchor=\"middle\" x=\"72.1436\" y=\"-225.54\">DuckDuckGo</text>\n</g>\n<!-- Reddit&#45;&gt;DuckDuckGo -->\n<g class=\"edge\" id=\"edge7\">\n<title>Reddit-&gt;DuckDuckGo</title>\n<path d=\"M152.3396,-230.86C152.1696,-230.86 152.0096,-230.85 151.8396,-230.85\" fill=\"none\" stroke=\"#000000\"/>\n<polygon fill=\"#000000\" points=\"154.4177,-227.4011 144.3496,-230.7 154.2775,-234.3997 154.4177,-227.4011\" stroke=\"#000000\"/>\n</g>\n<!-- Apple -->\n<g class=\"node\" id=\"node8\">\n<title>Apple</title>\n<ellipse cx=\"214.8496\" cy=\"-353.5\" fill=\"none\" rx=\"37.8943\" ry=\"18\" stroke=\"#000000\"/>\n<text fill=\"#000000\" font-family=\"Times,serif\" font-size=\"14.00\" text-anchor=\"middle\" x=\"214.8496\" y=\"-349.8\">Apple</text>\n</g>\n<!-- Reddit&#45;&gt;Apple -->\n<g class=\"edge\" id=\"edge8\">\n<title>Reddit-&gt;Apple</title>\n<path d=\"M196.9896,-249.67C200.4196,-269.64 206.0196,-302.14 210.0296,-325.46\" fill=\"none\" stroke=\"#000000\"/>\n<polygon fill=\"#000000\" points=\"206.6035,-326.1889 211.7496,-335.45 213.502,-325.0011 206.6035,-326.1889\" stroke=\"#000000\"/>\n</g>\n<!-- Apple&#45;&gt;Uber -->\n<g class=\"edge\" id=\"edge9\">\n<title>Apple-&gt;Uber</title>\n<path d=\"M233.5296,-369.25C247.7396,-381.24 267.4596,-397.88 283.2396,-411.19\" fill=\"none\" stroke=\"#000000\"/>\n<polygon fill=\"#000000\" points=\"281.1782,-414.03 291.0796,-417.8 285.6903,-408.6782 281.1782,-414.03\" stroke=\"#000000\"/>\n</g>\n<!-- Apple&#45;&gt;Wikipedia -->\n<g class=\"edge\" id=\"edge10\">\n<title>Apple-&gt;Wikipedia</title>\n<path d=\"M233.5096,-337.76C243.9796,-328.93 257.2496,-317.74 268.9596,-307.87\" fill=\"none\" stroke=\"#000000\"/>\n<polygon fill=\"#000000\" points=\"271.3729,-310.4133 276.7596,-301.29 266.8592,-305.0628 271.3729,-310.4133\" stroke=\"#000000\"/>\n</g>\n<!-- Google -->\n<g class=\"node\" id=\"node9\">\n<title>Google</title>\n<ellipse cx=\"238.3296\" cy=\"-111.74\" fill=\"none\" rx=\"43\" ry=\"18\" stroke=\"#000000\"/>\n<text fill=\"#000000\" font-family=\"Times,serif\" font-size=\"14.00\" text-anchor=\"middle\" x=\"238.3296\" y=\"-108.04\">Google</text>\n</g>\n<!-- Google&#45;&gt;Facebook -->\n<g class=\"edge\" id=\"edge12\">\n<title>Google-&gt;Facebook</title>\n<path d=\"M281.3396,-110.93C286.3596,-110.84 291.5796,-110.74 296.8196,-110.64\" fill=\"none\" stroke=\"#000000\"/>\n<polygon fill=\"#000000\" points=\"296.9773,-114.1377 306.9096,-110.45 296.8454,-107.139 296.9773,-114.1377\" stroke=\"#000000\"/>\n</g>\n<!-- Google&#45;&gt;Reddit -->\n<g class=\"edge\" id=\"edge11\">\n<title>Google-&gt;Reddit</title>\n<path d=\"M231.6796,-129.7C224.3796,-149.4 212.5796,-181.25 204.1096,-204.13\" fill=\"none\" stroke=\"#000000\"/>\n<polygon fill=\"#000000\" points=\"200.7858,-203.027 200.5896,-213.62 207.3488,-205.4614 200.7858,-203.027\" stroke=\"#000000\"/>\n</g>\n<!-- UTwente&#45;&gt;Google -->\n<g class=\"edge\" id=\"edge14\">\n<title>UTwente-&gt;Google</title>\n<path d=\"M288.1696,-35.632C278.9096,-49.773 265.7796,-69.826 255.3196,-85.799\" fill=\"none\" stroke=\"#000000\"/>\n<polygon fill=\"#000000\" points=\"252.3744,-83.9078 249.8196,-94.19 258.2288,-87.7452 252.3744,-83.9078\" stroke=\"#000000\"/>\n</g>\n</g>\n</svg>"
     },
     "metadata": {},
     "output_type": "execute_result",
     "execution_count": 56
    }
   ],
   "source": [
    "# Generate a graph we will use in the next exercise\n",
    "g = nx.DiGraph()\n",
    "\n",
    "graph = nx.DiGraph()\n",
    "\n",
    "graph.add_edge('Google', 'Facebook')\n",
    "graph.add_edge('Facebook', 'UTwente')\n",
    "graph.add_edge('UTwente', 'Google')\n",
    "graph.add_edge('Google', 'Reddit')\n",
    "graph.add_edge('Reddit', 'DuckDuckGo')\n",
    "graph.add_edge('Reddit', 'Apple')\n",
    "graph.add_edge('Reddit', 'Wikipedia')\n",
    "graph.add_edge('Apple', 'Uber')\n",
    "graph.add_edge('Uber', 'Twitter')\n",
    "graph.add_edge('Twitter', 'Bing')\n",
    "graph.add_edge('Twitter', 'Wikipedia')\n",
    "graph.add_edge('Bing', 'Wikipedia')\n",
    "graph.add_edge('Apple', 'Wikipedia')\n",
    "graph.add_edge('Bing','Facebook')\n",
    "utils.draw(graph)\n",
    "\n",
    "\n",
    "# g.view()"
   ],
   "metadata": {
    "collapsed": false,
    "pycharm": {
     "name": "#%%\n",
     "is_executing": false
    }
   }
  },
  {
   "cell_type": "code",
   "execution_count": 58,
   "metadata": {
    "pycharm": {
     "is_executing": false
    }
   },
   "outputs": [
    {
     "name": "stdout",
     "text": [
      "(matrix([[0., 0., 0., 0., 0., 1., 0., 0., 0., 0.],\n        [0., 0., 0., 1., 1., 0., 1., 0., 0., 0.],\n        [0., 1., 0., 0., 0., 0., 0., 0., 1., 0.],\n        [0., 0., 0., 0., 0., 0., 0., 0., 0., 0.],\n        [1., 0., 0., 0., 0., 0., 1., 0., 0., 0.],\n        [0., 0., 0., 0., 0., 0., 1., 0., 0., 1.],\n        [0., 0., 0., 0., 0., 0., 0., 0., 0., 0.],\n        [0., 0., 1., 0., 0., 0., 0., 0., 0., 0.],\n        [0., 0., 0., 0., 0., 0., 0., 1., 0., 0.],\n        [0., 0., 0., 0., 0., 0., 1., 0., 1., 0.]]), ['Uber', 'Reddit', 'Google', 'DuckDuckGo', 'Apple', 'Twitter', 'Wikipedia', 'UTwente', 'Facebook', 'Bing'])\n[1, 1, 1, 1, 1, 1, 4, 1, 2, 1]\nSolution to in_degree ranking for graph below:\n['Wikipedia', 'Facebook', 'Bing', 'UTwente', 'Twitter', 'Apple', 'DuckDuckGo', 'Google', 'Reddit', 'Uber']\n"
     ],
     "output_type": "stream"
    },
    {
     "data": {
      "text/plain": "<IPython.core.display.SVG object>",
      "image/svg+xml": "<svg height=\"459pt\" viewBox=\"0.00 0.00 446.01 459.26\" width=\"446pt\" xmlns=\"http://www.w3.org/2000/svg\" xmlns:xlink=\"http://www.w3.org/1999/xlink\">\n<g class=\"graph\" id=\"graph0\" transform=\"scale(1 1) rotate(0) translate(4 455.26)\">\n<polygon fill=\"#ffffff\" points=\"-4,4 -4,-455.26 442.0096,-455.26 442.0096,4 -4,4\" stroke=\"transparent\"/>\n<!-- Uber -->\n<g class=\"node\" id=\"node1\">\n<title>Uber</title>\n<ellipse cx=\"309.3896\" cy=\"-433.26\" fill=\"none\" rx=\"34.5\" ry=\"18\" stroke=\"#000000\"/>\n<text fill=\"#000000\" font-family=\"Times,serif\" font-size=\"14.00\" text-anchor=\"middle\" x=\"309.3896\" y=\"-429.56\">Uber</text>\n</g>\n<!-- Twitter -->\n<g class=\"node\" id=\"node2\">\n<title>Twitter</title>\n<ellipse cx=\"393.0096\" cy=\"-343.32\" fill=\"none\" rx=\"45\" ry=\"18\" stroke=\"#000000\"/>\n<text fill=\"#000000\" font-family=\"Times,serif\" font-size=\"14.00\" text-anchor=\"middle\" x=\"393.0096\" y=\"-339.62\">Twitter</text>\n</g>\n<!-- Uber&#45;&gt;Twitter -->\n<g class=\"edge\" id=\"edge1\">\n<title>Uber-&gt;Twitter</title>\n<path d=\"M324.7296,-416.76C337.4196,-403.11 355.6296,-383.53 370.0596,-368.01\" fill=\"none\" stroke=\"#000000\"/>\n<polygon fill=\"#000000\" points=\"372.9603,-370.0298 377.1996,-360.32 367.8305,-365.2668 372.9603,-370.0298\" stroke=\"#000000\"/>\n</g>\n<!-- Wikipedia -->\n<g class=\"node\" id=\"node3\">\n<title>Wikipedia</title>\n<ellipse cx=\"297.0696\" cy=\"-284.16\" fill=\"none\" rx=\"58\" ry=\"18\" stroke=\"#000000\"/>\n<text fill=\"#000000\" font-family=\"Times,serif\" font-size=\"14.00\" text-anchor=\"middle\" x=\"297.0696\" y=\"-280.46\">Wikipedia</text>\n</g>\n<!-- Twitter&#45;&gt;Wikipedia -->\n<g class=\"edge\" id=\"edge2\">\n<title>Twitter-&gt;Wikipedia</title>\n<path d=\"M368.2996,-328.09C357.2296,-321.25 343.9596,-313.07 331.8996,-305.64\" fill=\"none\" stroke=\"#000000\"/>\n<polygon fill=\"#000000\" points=\"333.7273,-302.6551 323.3796,-300.38 330.05,-308.6114 333.7273,-302.6551\" stroke=\"#000000\"/>\n</g>\n<!-- Bing -->\n<g class=\"node\" id=\"node4\">\n<title>Bing</title>\n<ellipse cx=\"397.4096\" cy=\"-226.64\" fill=\"none\" rx=\"32.5\" ry=\"18\" stroke=\"#000000\"/>\n<text fill=\"#000000\" font-family=\"Times,serif\" font-size=\"14.00\" text-anchor=\"middle\" x=\"397.4096\" y=\"-222.94\">Bing</text>\n</g>\n<!-- Twitter&#45;&gt;Bing -->\n<g class=\"edge\" id=\"edge3\">\n<title>Twitter-&gt;Bing</title>\n<path d=\"M393.6996,-325.09C394.4096,-306.25 395.5296,-276.6 396.3496,-254.76\" fill=\"none\" stroke=\"#000000\"/>\n<polygon fill=\"#000000\" points=\"399.848,-254.8655 396.7296,-244.74 392.853,-254.6001 399.848,-254.8655\" stroke=\"#000000\"/>\n</g>\n<!-- Bing&#45;&gt;Wikipedia -->\n<g class=\"edge\" id=\"edge4\">\n<title>Bing-&gt;Wikipedia</title>\n<path d=\"M374.6496,-239.69C362.4996,-246.65 347.2696,-255.38 333.5296,-263.26\" fill=\"none\" stroke=\"#000000\"/>\n<polygon fill=\"#000000\" points=\"331.6928,-260.2786 324.7596,-268.29 335.1755,-266.3508 331.6928,-260.2786\" stroke=\"#000000\"/>\n</g>\n<!-- Facebook -->\n<g class=\"node\" id=\"node5\">\n<title>Facebook</title>\n<ellipse cx=\"362.2896\" cy=\"-109.41\" fill=\"none\" rx=\"55.4913\" ry=\"18\" stroke=\"#000000\"/>\n<text fill=\"#000000\" font-family=\"Times,serif\" font-size=\"14.00\" text-anchor=\"middle\" x=\"362.2896\" y=\"-105.71\">Facebook</text>\n</g>\n<!-- Bing&#45;&gt;Facebook -->\n<g class=\"edge\" id=\"edge5\">\n<title>Bing-&gt;Facebook</title>\n<path d=\"M392.0796,-208.83C386.3796,-189.81 377.2696,-159.41 370.6196,-137.23\" fill=\"none\" stroke=\"#000000\"/>\n<polygon fill=\"#000000\" points=\"373.8915,-135.9554 367.6696,-127.38 367.1858,-137.9638 373.8915,-135.9554\" stroke=\"#000000\"/>\n</g>\n<!-- UTwente -->\n<g class=\"node\" id=\"node10\">\n<title>UTwente</title>\n<ellipse cx=\"299.7196\" cy=\"-18\" fill=\"none\" rx=\"52.7911\" ry=\"18\" stroke=\"#000000\"/>\n<text fill=\"#000000\" font-family=\"Times,serif\" font-size=\"14.00\" text-anchor=\"middle\" x=\"299.7196\" y=\"-14.3\">UTwente</text>\n</g>\n<!-- Facebook&#45;&gt;UTwente -->\n<g class=\"edge\" id=\"edge13\">\n<title>Facebook-&gt;UTwente</title>\n<path d=\"M350.2296,-91.787C340.9596,-78.256 328.0296,-59.363 317.5796,-44.083\" fill=\"none\" stroke=\"#000000\"/>\n<polygon fill=\"#000000\" points=\"320.2881,-41.8436 311.7496,-35.571 314.5128,-45.7992 320.2881,-41.8436\" stroke=\"#000000\"/>\n</g>\n<!-- Reddit -->\n<g class=\"node\" id=\"node6\">\n<title>Reddit</title>\n<ellipse cx=\"193.8996\" cy=\"-231.7\" fill=\"none\" rx=\"41.6928\" ry=\"18\" stroke=\"#000000\"/>\n<text fill=\"#000000\" font-family=\"Times,serif\" font-size=\"14.00\" text-anchor=\"middle\" x=\"193.8996\" y=\"-228\">Reddit</text>\n</g>\n<!-- Reddit&#45;&gt;Wikipedia -->\n<g class=\"edge\" id=\"edge6\">\n<title>Reddit-&gt;Wikipedia</title>\n<path d=\"M220.9996,-245.48C232.2296,-251.19 245.4796,-257.93 257.7396,-264.16\" fill=\"none\" stroke=\"#000000\"/>\n<polygon fill=\"#000000\" points=\"256.3703,-267.3904 266.8696,-268.81 259.5472,-261.1528 256.3703,-267.3904\" stroke=\"#000000\"/>\n</g>\n<!-- DuckDuckGo -->\n<g class=\"node\" id=\"node7\">\n<title>DuckDuckGo</title>\n<ellipse cx=\"72.1436\" cy=\"-229.24\" fill=\"none\" rx=\"72.2875\" ry=\"18\" stroke=\"#000000\"/>\n<text fill=\"#000000\" font-family=\"Times,serif\" font-size=\"14.00\" text-anchor=\"middle\" x=\"72.1436\" y=\"-225.54\">DuckDuckGo</text>\n</g>\n<!-- Reddit&#45;&gt;DuckDuckGo -->\n<g class=\"edge\" id=\"edge7\">\n<title>Reddit-&gt;DuckDuckGo</title>\n<path d=\"M152.3396,-230.86C152.1696,-230.86 152.0096,-230.85 151.8396,-230.85\" fill=\"none\" stroke=\"#000000\"/>\n<polygon fill=\"#000000\" points=\"154.4177,-227.4011 144.3496,-230.7 154.2775,-234.3997 154.4177,-227.4011\" stroke=\"#000000\"/>\n</g>\n<!-- Apple -->\n<g class=\"node\" id=\"node8\">\n<title>Apple</title>\n<ellipse cx=\"214.8496\" cy=\"-353.5\" fill=\"none\" rx=\"37.8943\" ry=\"18\" stroke=\"#000000\"/>\n<text fill=\"#000000\" font-family=\"Times,serif\" font-size=\"14.00\" text-anchor=\"middle\" x=\"214.8496\" y=\"-349.8\">Apple</text>\n</g>\n<!-- Reddit&#45;&gt;Apple -->\n<g class=\"edge\" id=\"edge8\">\n<title>Reddit-&gt;Apple</title>\n<path d=\"M196.9896,-249.67C200.4196,-269.64 206.0196,-302.14 210.0296,-325.46\" fill=\"none\" stroke=\"#000000\"/>\n<polygon fill=\"#000000\" points=\"206.6035,-326.1889 211.7496,-335.45 213.502,-325.0011 206.6035,-326.1889\" stroke=\"#000000\"/>\n</g>\n<!-- Apple&#45;&gt;Uber -->\n<g class=\"edge\" id=\"edge9\">\n<title>Apple-&gt;Uber</title>\n<path d=\"M233.5296,-369.25C247.7396,-381.24 267.4596,-397.88 283.2396,-411.19\" fill=\"none\" stroke=\"#000000\"/>\n<polygon fill=\"#000000\" points=\"281.1782,-414.03 291.0796,-417.8 285.6903,-408.6782 281.1782,-414.03\" stroke=\"#000000\"/>\n</g>\n<!-- Apple&#45;&gt;Wikipedia -->\n<g class=\"edge\" id=\"edge10\">\n<title>Apple-&gt;Wikipedia</title>\n<path d=\"M233.5096,-337.76C243.9796,-328.93 257.2496,-317.74 268.9596,-307.87\" fill=\"none\" stroke=\"#000000\"/>\n<polygon fill=\"#000000\" points=\"271.3729,-310.4133 276.7596,-301.29 266.8592,-305.0628 271.3729,-310.4133\" stroke=\"#000000\"/>\n</g>\n<!-- Google -->\n<g class=\"node\" id=\"node9\">\n<title>Google</title>\n<ellipse cx=\"238.3296\" cy=\"-111.74\" fill=\"none\" rx=\"43\" ry=\"18\" stroke=\"#000000\"/>\n<text fill=\"#000000\" font-family=\"Times,serif\" font-size=\"14.00\" text-anchor=\"middle\" x=\"238.3296\" y=\"-108.04\">Google</text>\n</g>\n<!-- Google&#45;&gt;Facebook -->\n<g class=\"edge\" id=\"edge12\">\n<title>Google-&gt;Facebook</title>\n<path d=\"M281.3396,-110.93C286.3596,-110.84 291.5796,-110.74 296.8196,-110.64\" fill=\"none\" stroke=\"#000000\"/>\n<polygon fill=\"#000000\" points=\"296.9773,-114.1377 306.9096,-110.45 296.8454,-107.139 296.9773,-114.1377\" stroke=\"#000000\"/>\n</g>\n<!-- Google&#45;&gt;Reddit -->\n<g class=\"edge\" id=\"edge11\">\n<title>Google-&gt;Reddit</title>\n<path d=\"M231.6796,-129.7C224.3796,-149.4 212.5796,-181.25 204.1096,-204.13\" fill=\"none\" stroke=\"#000000\"/>\n<polygon fill=\"#000000\" points=\"200.7858,-203.027 200.5896,-213.62 207.3488,-205.4614 200.7858,-203.027\" stroke=\"#000000\"/>\n</g>\n<!-- UTwente&#45;&gt;Google -->\n<g class=\"edge\" id=\"edge14\">\n<title>UTwente-&gt;Google</title>\n<path d=\"M288.1696,-35.632C278.9096,-49.773 265.7796,-69.826 255.3196,-85.799\" fill=\"none\" stroke=\"#000000\"/>\n<polygon fill=\"#000000\" points=\"252.3744,-83.9078 249.8196,-94.19 258.2288,-87.7452 252.3744,-83.9078\" stroke=\"#000000\"/>\n</g>\n</g>\n</svg>"
     },
     "metadata": {},
     "output_type": "execute_result",
     "execution_count": 58
    }
   ],
   "source": [
    "# TODO \n",
    "\n",
    "# code\n",
    "def generate_list_from_dict(graph, data):\n",
    "    #type: (nx.Graph, bool) -> list\n",
    "    return graph.nodes(data=data)\n",
    "\n",
    "def generate_M_and_v(graph):\n",
    "    #type: (nx.DiGraph) -> any\n",
    "    M = nx.to_numpy_matrix(graph) #type: np.matrix\n",
    "    M.transpose()\n",
    "    M_T = M.transpose()\n",
    "    v = list(graph.nodes)\n",
    "    return M,v\n",
    "\n",
    "def generate_indegree_score(graph):\n",
    "    #type: (nx.DiGraph) -> any\n",
    "    \n",
    "    in_degrees = []\n",
    "    for node in graph.nodes:\n",
    "        if type(graph) == nx.classes.digraph.DiGraph:\n",
    "            in_degrees.append(graph.in_degree(node))\n",
    "        else:\n",
    "            in_degrees.append(graph.degree(node))\n",
    "    return in_degrees\n",
    "    \n",
    "def order_nodes_by_indegree(nodes, in_degrees):    \n",
    "    order = np.argsort(in_degrees)[::-1] #sort in degrees in descending order, return indices\n",
    "    sorted_nodes = [nodes[i] for i in order]\n",
    "    return sorted_nodes\n",
    "    \n",
    "M,v = generate_M_and_v(graph)\n",
    "in_degrees = generate_indegree_score(graph)\n",
    "print(M,v)\n",
    "print in_degrees\n",
    "print \"Solution to in_degree ranking for graph below:\"\n",
    "print order_nodes_by_indegree(v, in_degrees)\n",
    "\n",
    "\n",
    "\n",
    "utils.draw(graph)"
   ]
  }
 ],
 "metadata": {
  "kernelspec": {
   "display_name": "Python 2",
   "language": "python",
   "name": "python2"
  },
  "language_info": {
   "codemirror_mode": {
    "name": "ipython",
    "version": 2
   },
   "file_extension": ".py",
   "mimetype": "text/x-python",
   "name": "python",
   "nbconvert_exporter": "python",
   "pygments_lexer": "ipython2",
   "version": "2.7.15+"
  },
  "pycharm": {
   "stem_cell": {
    "cell_type": "raw",
    "source": [],
    "metadata": {
     "collapsed": false
    }
   }
  }
 },
 "nbformat": 4,
 "nbformat_minor": 1
}