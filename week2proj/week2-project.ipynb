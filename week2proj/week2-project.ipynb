{
 "cells": [
  {
   "cell_type": "markdown",
   "metadata": {},
   "source": [
    "# Project Week 2"
   ]
  },
  {
   "cell_type": "markdown",
   "metadata": {},
   "source": [
    "Emiel Steegh   - s1846388  \n",
    "Freek Nijweide - s1857746"
   ]
  },
  {
   "cell_type": "markdown",
   "metadata": {},
   "source": [
    "# Project Description\n",
    "\n",
    "Description etc etc"
   ]
  },
  {
   "cell_type": "code",
   "execution_count": 1,
   "outputs": [
    {
     "name": "stdout",
     "text": [
      "imports done\n"
     ],
     "output_type": "stream"
    }
   ],
   "source": [
    "# The following includes are needed to work with graphs and display solutions.\n",
    "from __future__ import division\n",
    "import networkx as nx\n",
    "from _dbus_bindings import Dictionary\n",
    "%matplotlib inline\n",
    "\n",
    "import numpy as np\n",
    "\n",
    "import matplotlib.pyplot as plt\n",
    "import utils\n",
    "import graphs\n",
    "\n",
    "import pandas as pd\n",
    "\n",
    "plt.rcParams[\"figure.figsize\"] = [12,8]\n",
    "\n",
    "print(\"imports done\")"
   ],
   "metadata": {
    "collapsed": false,
    "pycharm": {
     "name": "#%%\n",
     "is_executing": false
    }
   }
  },
  {
   "cell_type": "markdown",
   "metadata": {},
   "source": [
    "## Assignment 1"
   ]
  },
  {
   "cell_type": "markdown",
   "metadata": {},
   "source": [
    "text"
   ]
  },
  {
   "cell_type": "markdown",
   "metadata": {},
   "source": [
    "## Assignment 2"
   ]
  },
  {
   "cell_type": "markdown",
   "metadata": {},
   "source": [
    "text"
   ]
  },
  {
   "cell_type": "markdown",
   "metadata": {},
   "source": [
    "## Assignment 3"
   ]
  },
  {
   "cell_type": "code",
   "execution_count": 1,
   "metadata": {},
   "outputs": [],
   "source": [
    "# code"
   ]
  },
  {
   "cell_type": "markdown",
   "metadata": {},
   "source": [
    "## Assignment 4\n",
    "\n",
    "There are three different ranking systems discussed in this week's chapters and lectures.\n",
    "The first is an inDegree-based ranking system. The ranking of a page depends on how many pages link to it.\n",
    "This system is easily fooled, and dead-end pages receive incredibly high rankings.\n",
    "\n",
    "The second ranking system discussed is Google's PageRank. This system expands upon the idea of inDegree rankings,\n",
    "by having a node \"spread\" its incoming ranking over its outgoing links. This can also include a degree of randomness,\n",
    "where a node will spread some of its incoming ranking over *all* nods (to avoid spider traps and dead ends).\n",
    "\n",
    "The third ranking system discussed HITS, based on the hub-authority model. In this model, a page is considered a good hub\n",
    "if it links to good authorities (pages with good content that people want to see). A page is considered a good\n",
    "authority if it is linked to by proper hubs. The page's authority ranking is the one actually used in the search.\n",
    "\n",
    "\n",
    "# write equations\n",
    "# implementeer ze\n"
   ]
  },
  {
   "cell_type": "code",
   "execution_count": 40,
   "metadata": {
    "pycharm": {
     "is_executing": false
    }
   },
   "outputs": [
    {
     "name": "stdout",
     "text": [
      "(matrix([[0., 1., 1., 1., 1., 0., 0.],\n        [1., 0., 0., 0., 1., 0., 0.],\n        [1., 0., 0., 0., 0., 1., 1.],\n        [1., 0., 0., 0., 0., 0., 1.],\n        [1., 1., 0., 0., 0., 0., 0.],\n        [0., 0., 1., 0., 0., 0., 0.],\n        [0., 0., 1., 1., 0., 0., 0.]]), ['A', 'C', 'B', 'E', 'D', 'G', 'F'])\n{'C': {}, 'B': {}, 'E': {}, 'D': {}}\n[[1. 0. 0. 0. 1. 0. 0.]]\n['A', 'B', 'F', 'D', 'E', 'C', 'G']\n"
     ],
     "output_type": "stream"
    },
    {
     "data": {
      "text/plain": "<IPython.core.display.SVG object>",
      "image/svg+xml": "<svg height=\"204pt\" viewBox=\"0.00 0.00 245.97 204.49\" width=\"246pt\" xmlns=\"http://www.w3.org/2000/svg\" xmlns:xlink=\"http://www.w3.org/1999/xlink\">\n<g class=\"graph\" id=\"graph0\" transform=\"scale(1 1) rotate(0) translate(4 200.49)\">\n<polygon fill=\"#ffffff\" points=\"-4,4 -4,-200.49 241.97,-200.49 241.97,4 -4,4\" stroke=\"transparent\"/>\n<!-- A -->\n<g class=\"node\" id=\"node1\">\n<title>A</title>\n<ellipse cx=\"139.81\" cy=\"-87.056\" fill=\"none\" rx=\"27\" ry=\"18\" stroke=\"#000000\"/>\n<text fill=\"#000000\" font-family=\"Times,serif\" font-size=\"14.00\" text-anchor=\"middle\" x=\"139.81\" y=\"-83.356\">A</text>\n</g>\n<!-- C -->\n<g class=\"node\" id=\"node2\">\n<title>C</title>\n<ellipse cx=\"210.97\" cy=\"-67.699\" fill=\"none\" rx=\"27\" ry=\"18\" stroke=\"#000000\"/>\n<text fill=\"#000000\" font-family=\"Times,serif\" font-size=\"14.00\" text-anchor=\"middle\" x=\"210.97\" y=\"-63.999\">C</text>\n</g>\n<!-- A&#45;&#45;C -->\n<g class=\"edge\" id=\"edge1\">\n<title>A--C</title>\n<path d=\"M165.1,-80.177C171.81,-78.351 179.06,-76.381 185.76,-74.556\" fill=\"none\" stroke=\"#000000\"/>\n</g>\n<!-- B -->\n<g class=\"node\" id=\"node3\">\n<title>B</title>\n<ellipse cx=\"67.71\" cy=\"-116.46\" fill=\"none\" rx=\"27\" ry=\"18\" stroke=\"#000000\"/>\n<text fill=\"#000000\" font-family=\"Times,serif\" font-size=\"14.00\" text-anchor=\"middle\" x=\"67.71\" y=\"-112.76\">B</text>\n</g>\n<!-- A&#45;&#45;B -->\n<g class=\"edge\" id=\"edge2\">\n<title>A--B</title>\n<path d=\"M116.6,-96.522C108.37,-99.88 99.105,-103.66 90.876,-107.01\" fill=\"none\" stroke=\"#000000\"/>\n</g>\n<!-- E -->\n<g class=\"node\" id=\"node4\">\n<title>E</title>\n<ellipse cx=\"102.07\" cy=\"-18\" fill=\"none\" rx=\"27\" ry=\"18\" stroke=\"#000000\"/>\n<text fill=\"#000000\" font-family=\"Times,serif\" font-size=\"14.00\" text-anchor=\"middle\" x=\"102.07\" y=\"-14.3\">E</text>\n</g>\n<!-- A&#45;&#45;E -->\n<g class=\"edge\" id=\"edge3\">\n<title>A--E</title>\n<path d=\"M130.48,-69.986C124.72,-59.442 117.34,-45.95 111.55,-35.353\" fill=\"none\" stroke=\"#000000\"/>\n</g>\n<!-- D -->\n<g class=\"node\" id=\"node5\">\n<title>D</title>\n<ellipse cx=\"199.58\" cy=\"-131.06\" fill=\"none\" rx=\"27\" ry=\"18\" stroke=\"#000000\"/>\n<text fill=\"#000000\" font-family=\"Times,serif\" font-size=\"14.00\" text-anchor=\"middle\" x=\"199.58\" y=\"-127.36\">D</text>\n</g>\n<!-- A&#45;&#45;D -->\n<g class=\"edge\" id=\"edge4\">\n<title>A--D</title>\n<path d=\"M158.07,-100.5C165.48,-105.96 174.03,-112.25 181.43,-117.7\" fill=\"none\" stroke=\"#000000\"/>\n</g>\n<!-- C&#45;&#45;D -->\n<g class=\"edge\" id=\"edge5\">\n<title>C--D</title>\n<path d=\"M207.74,-85.687C206.21,-94.175 204.39,-104.29 202.86,-112.81\" fill=\"none\" stroke=\"#000000\"/>\n</g>\n<!-- G -->\n<g class=\"node\" id=\"node6\">\n<title>G</title>\n<ellipse cx=\"27\" cy=\"-178.49\" fill=\"none\" rx=\"27\" ry=\"18\" stroke=\"#000000\"/>\n<text fill=\"#000000\" font-family=\"Times,serif\" font-size=\"14.00\" text-anchor=\"middle\" x=\"27\" y=\"-174.79\">G</text>\n</g>\n<!-- B&#45;&#45;G -->\n<g class=\"edge\" id=\"edge6\">\n<title>B--G</title>\n<path d=\"M56.801,-133.08C50.96,-141.98 43.785,-152.91 37.94,-161.82\" fill=\"none\" stroke=\"#000000\"/>\n</g>\n<!-- F -->\n<g class=\"node\" id=\"node7\">\n<title>F</title>\n<ellipse cx=\"31.788\" cy=\"-47.211\" fill=\"none\" rx=\"27\" ry=\"18\" stroke=\"#000000\"/>\n<text fill=\"#000000\" font-family=\"Times,serif\" font-size=\"14.00\" text-anchor=\"middle\" x=\"31.788\" y=\"-43.511\">F</text>\n</g>\n<!-- B&#45;&#45;F -->\n<g class=\"edge\" id=\"edge7\">\n<title>B--F</title>\n<path d=\"M58.831,-99.344C53.345,-88.77 46.327,-75.24 40.815,-64.614\" fill=\"none\" stroke=\"#000000\"/>\n</g>\n<!-- E&#45;&#45;F -->\n<g class=\"edge\" id=\"edge8\">\n<title>E--F</title>\n<path d=\"M79.054,-27.565C71.368,-30.759 62.8,-34.321 55.091,-37.525\" fill=\"none\" stroke=\"#000000\"/>\n</g>\n</g>\n</svg>"
     },
     "metadata": {},
     "output_type": "execute_result",
     "execution_count": 40
    }
   ],
   "source": [
    "# TODO \n",
    "\n",
    "# code\n",
    "def generate_list_from_dict(graph, data):\n",
    "    #type: (nx.Graph, bool) -> list\n",
    "    return graph.nodes(data=data)\n",
    "\n",
    "def generate_M_and_v(graph):\n",
    "    #type: (nx.DiGraph) -> any\n",
    "    M = nx.to_numpy_matrix(graph) #type: np.matrix\n",
    "    M.transpose()\n",
    "    M_T = M.transpose()\n",
    "    v = list(graph.nodes)\n",
    "    return M,v\n",
    "\n",
    "def generate_indegree_score(graph):\n",
    "    #type: (nx.DiGraph) -> any\n",
    "    \n",
    "    in_degrees = []\n",
    "    for node in graph.nodes:\n",
    "        if type(graph) == nx.classes.digraph.DiGraph:\n",
    "            in_degrees.append(graph.in_degree(node))\n",
    "        else:\n",
    "            in_degrees.append(graph.degree(node))\n",
    "    return in_degrees\n",
    "    \n",
    "def order_nodes_by_indegree(nodes, in_degrees):    \n",
    "    order = np.argsort(in_degrees)[::-1] #sort in degrees in descending order, return indices\n",
    "    sorted_nodes = [nodes[i] for i in order]\n",
    "    return sorted_nodes\n",
    "    \n",
    "\n",
    "M,v = generate_M_and_v(graphs.F31)\n",
    "in_degrees = generate_indegree_score(graphs.F31)\n",
    "print(M,v)\n",
    "print graphs.F31['A']\n",
    "print M[v.index('C')]\n",
    "print order_nodes_by_indegree(v, in_degrees)\n",
    "\n",
    "\n",
    "\n",
    "utils.draw(graphs.F31)"
   ]
  }
 ],
 "metadata": {
  "kernelspec": {
   "display_name": "Python 2",
   "language": "python",
   "name": "python2"
  },
  "language_info": {
   "codemirror_mode": {
    "name": "ipython",
    "version": 2
   },
   "file_extension": ".py",
   "mimetype": "text/x-python",
   "name": "python",
   "nbconvert_exporter": "python",
   "pygments_lexer": "ipython2",
   "version": "2.7.15+"
  },
  "pycharm": {
   "stem_cell": {
    "cell_type": "raw",
    "source": [],
    "metadata": {
     "collapsed": false
    }
   }
  }
 },
 "nbformat": 4,
 "nbformat_minor": 1
}