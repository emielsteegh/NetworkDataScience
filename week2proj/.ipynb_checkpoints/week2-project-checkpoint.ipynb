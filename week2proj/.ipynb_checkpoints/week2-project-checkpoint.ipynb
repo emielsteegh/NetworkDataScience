{
 "cells": [
  {
   "cell_type": "markdown",
   "metadata": {},
   "source": [
    "# Project Week 2"
   ]
  },
  {
   "cell_type": "markdown",
   "metadata": {},
   "source": [
    "Emiel Steegh   - s1846388  \n",
    "Freek Nijweide - s1857746"
   ]
  },
  {
   "cell_type": "markdown",
   "metadata": {},
   "source": [
    "# Project Description\n",
    "\n",
    "# TODO mention dat we plotly doen niet matplotlib\n",
    "# TODO write description\n",
    "# TODO FREEK GRaph Titel\n",
    "# Math Proof van 3"
   ]
  },
  {
   "cell_type": "markdown",
   "metadata": {},
   "source": [
    "# Assignment 1\n",
    "\n",
    "# TODO emiel: kopieer je shit hier"
   ]
  },
  {
   "cell_type": "markdown",
   "metadata": {},
   "source": [
    "# Assignment 2\n",
    "\n",
    "# TODO freek: maak dit af\n",
    "# TODO freek: kopieer je shit hier"
   ]
  },
  {
   "cell_type": "markdown",
   "metadata": {},
   "source": [
    "## Import and Settings"
   ]
  },
  {
   "cell_type": "code",
   "execution_count": null,
   "metadata": {
    "pycharm": {
     "is_executing": false,
     "name": "#%%\n"
    }
   },
   "outputs": [],
   "source": [
    "# The following includes are needed to work with graphs and display solutions.\n",
    "from __future__ import division\n",
    "import networkx as nx\n",
    "from IPython.core.display import display\n",
    "%matplotlib inline\n",
    "import plotly.graph_objects as go\n",
    "\n",
    "import numpy as np\n",
    "import pprint\n",
    "import random\n",
    "\n",
    "import matplotlib.pyplot as plt\n",
    "from utils import *\n",
    "from graphs import *\n",
    "\n",
    "import plotly.graph_objects as go\n",
    "\n",
    "import pandas as pd\n",
    "\n",
    "pp = pprint.PrettyPrinter()\n",
    "\n",
    "print(\"imports done\")"
   ]
  },
  {
   "cell_type": "markdown",
   "metadata": {},
   "source": [
    "## General Code Definitions"
   ]
  },
  {
   "cell_type": "code",
   "execution_count": null,
   "metadata": {
    "pycharm": {
     "name": "#%%\n"
    }
   },
   "outputs": [],
   "source": [
    "#General code definitions\n",
    "def generate_M_and_v(graph):\n",
    "    #type: (nx.DiGraph) -> any\n",
    "    M = nx.to_numpy_matrix(graph) #type: np.matrix\n",
    "    M.transpose()\n",
    "    M_T = M.transpose()\n",
    "    v = list(graph.nodes)\n",
    "    return M,v\n",
    "\n",
    "def pagerank(graph,beta): #Made for assignment 4, but needed in assignment 3\n",
    "    #type: (nx.DiGraph, float) -> any\n",
    "    M,nodes = generate_M_and_v(graph)\n",
    "    for i in range(len(nodes)):\n",
    "        node=nodes[i]\n",
    "        if graph.out_degree(node) > 0:\n",
    "            M[i] /= graph.out_degree(node)\n",
    "    M=M.T # We were working with adjacency matrix. The transition matrix is a transpose of this, where each\n",
    "    #       number is divided by the out-degree of the node the edge is coming from\n",
    "    original_v=np.ones(len(M),dtype=float)/len(M)\n",
    "    v = np.copy(original_v)\n",
    "    change_was_made = True\n",
    "    while change_was_made:\n",
    "        previous_v = np.copy(v)\n",
    "        first_term = beta* (np.array(np.dot(M,v)).flatten())\n",
    "        second_term = np.dot((1-beta),original_v)\n",
    "        v = first_term + second_term\n",
    "        change_was_made = ((abs(v-previous_v).max() ) > 0.00000000000001) #This 0.00... number was experimentally chosen. Smaller values seemed not to converge, for some graphs \n",
    "    \n",
    "    return v\n",
    "\n",
    "def wrap_pagerank_in_dict(graph,beta=0.85): #Made for assignment 4, but needed in assignment 3\n",
    "    values = pagerank(graph,beta)\n",
    "    keys = list(graph.nodes())\n",
    "    return dict(zip(keys,values))\n",
    "\n",
    "def order_nodes_by_rank(nodes, rank):    \n",
    "    order = np.argsort(rank)[::-1] #sort in degrees in descending order, return indices\n",
    "    sorted_nodes = [nodes[i] for i in order] #Human readable sorted list of nodes\n",
    "    ordinal_rank = [list(order).index(i) for i in range(len(order))] # Ordinal rank as specified in exercise\n",
    "    return sorted_nodes,ordinal_rank"
   ]
  },
  {
   "cell_type": "markdown",
   "metadata": {},
   "source": [
    "## Graph Definitions\n",
    "\n",
    "necessary for generating the graphs we will use for testing"
   ]
  },
  {
   "cell_type": "code",
   "execution_count": null,
   "metadata": {
    "pycharm": {
     "is_executing": false
    },
    "scrolled": true
   },
   "outputs": [],
   "source": [
    "def generate_network(n_count, out_d_count, in_d_count):\n",
    "    '''\n",
    "    Generates a network around T (Target) with\n",
    "    n inaccesible pages for T\n",
    "    P accessible pages with a link to T\n",
    "    f supporting pages (link back and forth to T)   \n",
    "    '''\n",
    "    \n",
    "    G = nx.DiGraph()   \n",
    "   \n",
    "    for n in range(0, n_count):\n",
    "        new_node = \"n[{}]\".format(n)\n",
    "        G.add_node(new_node)\n",
    "        \n",
    "        nodes_in_network = list(G.nodes())\n",
    "        nodes_in_network.remove(new_node)\n",
    "        \n",
    "        current_node_count = len(nodes_in_network)\n",
    "        \n",
    "        if current_node_count < out_d_count:\n",
    "            nodes_out_index = random.sample(range(current_node_count), current_node_count)\n",
    "        else:\n",
    "            nodes_out_index = random.sample(range(current_node_count), out_d_count)\n",
    "        \n",
    "        if current_node_count < in_d_count:\n",
    "            nodes_in_index = random.sample(range(current_node_count), current_node_count)\n",
    "        else:\n",
    "            nodes_in_index = random.sample(range(current_node_count), in_d_count)\n",
    "        \n",
    "        for index in nodes_out_index:\n",
    "            G.add_edge(new_node, nodes_in_network[index])\n",
    "            \n",
    "        for index in nodes_in_index:\n",
    "            G.add_edge(nodes_in_network[index], new_node)\n",
    "        \n",
    "    return G\n",
    "\n",
    "# Generate a graph we will use in the next exercise\n",
    "def generate_test_web():\n",
    "    graph = nx.DiGraph()\n",
    "\n",
    "    graph.add_edge('Google', 'Bing')\n",
    "    graph.add_edge('Google', 'Reddit')\n",
    "    graph.add_edge('Reddit', 'Trap')\n",
    "    graph.add_edge('Spider','Trap')\n",
    "    graph.add_edge('Trap','Spider')\n",
    "    graph.add_edge('Reddit', 'Apple')\n",
    "    graph.add_edge('Reddit', 'Wikipedia')\n",
    "    graph.add_edge('Apple', 'Twitter')\n",
    "    graph.add_edge('Twitter', 'Bing')\n",
    "    graph.add_edge('Wikipedia', 'Twitter')\n",
    "    graph.add_edge('Bing', 'Wikipedia')\n",
    "    graph.add_edge('Apple', 'Wikipedia')\n",
    "    graph.add_edge('Bing','Google')\n",
    "    graph.add_edge('Bing','Dead end')\n",
    "    graph.add_edge('IN node','Apple')\n",
    "    graph.name = \"Big web graph (for testing)\"\n",
    "\n",
    "    return graph\n",
    "\n",
    "def gen_arrow():\n",
    "    G = fromDot('''\n",
    "    strict digraph A {\n",
    "    A -> B -> C -> D -> E;\n",
    "    }''')\n",
    "    G.name = \"Arrow graph\"\n",
    "    return nx.DiGraph(G)\n",
    "    \n",
    "def gen_inward():\n",
    "    G = fromDot('''\n",
    "    strict digraph A {\n",
    "    {B C D E F G } -> A;\n",
    "    }''')\n",
    "    G.name = \"Inward graph\"\n",
    "    return nx.DiGraph(G)\n",
    "\n",
    "def gen_lasso():\n",
    "    G = fromDot('''\n",
    "    strict digraph A {\n",
    "    A -> B -> C -> D -> E -> A;\n",
    "    A -> E -> D -> C -> B -> A;\n",
    "    A -> F -> G;\n",
    "    }''')\n",
    "    G.name = \"Lasso graph\"\n",
    "    return nx.DiGraph(G)\n",
    "\n",
    "def gen_grid():\n",
    "    G = fromDot('''\n",
    "    strict digraph A {\n",
    "    A -> {B D};\n",
    "    B -> {C E};\n",
    "    \n",
    "    C -> {F};\n",
    "    D -> {E G};\n",
    "    E -> {F H};\n",
    "    F -> {I};\n",
    "    G -> {H};\n",
    "    H -> {I};\n",
    "    I -> {};\n",
    "    }''')\n",
    "    G.name = \"Grid graph\"\n",
    "    return nx.DiGraph(G)\n",
    "\n",
    "\n",
    "graphs = [\n",
    "generate_test_web(),\n",
    "gen_arrow(),\n",
    "gen_inward(),\n",
    "gen_lasso(),\n",
    "gen_grid()\n",
    "]\n",
    "\n",
    "for graph in graphs:\n",
    "    print graph.name\n",
    "    display(draw(graph))"
   ]
  },
  {
   "cell_type": "markdown",
   "metadata": {},
   "source": [
    "# Assignment 3"
   ]
  },
  {
   "cell_type": "markdown",
   "metadata": {},
   "source": [
    "We will deliver a short mathematical proof for why an increasing r, and an increasing f, would increase the ranking of T.\n",
    "\n",
    "&nbsp;&nbsp;&nbsp;&nbsp;&nbsp;&nbsp;$n = total\\ amount\\ of\\ nodes$\n",
    "\n",
    "&nbsp;&nbsp;&nbsp;&nbsp;&nbsp;&nbsp;$F=The\\ set\\ of\\ supporting\\ pages$\n",
    "\n",
    "&nbsp;&nbsp;&nbsp;&nbsp;&nbsp;&nbsp;$T = the\\ PageRank\\ of\\ target\\ node\\ T$\n",
    "\n",
    "&nbsp;&nbsp;&nbsp;&nbsp;&nbsp;&nbsp;$r=\\beta\\cdot \\sum_{p} r_p$\n",
    "\n",
    "&nbsp;&nbsp;&nbsp;&nbsp;&nbsp;&nbsp;$T = r +\\sum_{f \\in F} (net\\ PageRank\\ received\\ from\\ f) $\n",
    "\n",
    "&nbsp;&nbsp;&nbsp;&nbsp;&nbsp;&nbsp;$ net\\ PageRank\\ received\\ from\\ f = (1 - \\beta) \\cdot \\frac{1}{n} \\cdot n = 1 - \\beta  $\n",
    "\n",
    "&nbsp;&nbsp;&nbsp;&nbsp;&nbsp;&nbsp;$T = r + (1 - \\beta) \\cdot f $\n",
    "\n",
    "Obviously, if r increases, T increases as well. The same holds for f."
   ]
  },
  {
   "cell_type": "code",
   "execution_count": 55,
   "metadata": {
    "scrolled": false
   },
   "outputs": [
    {
     "data": {
      "image/svg+xml": [
       "<svg height=\"962pt\" viewBox=\"0.00 0.00 1283.79 962.05\" width=\"1284pt\" xmlns=\"http://www.w3.org/2000/svg\" xmlns:xlink=\"http://www.w3.org/1999/xlink\">\n",
       "<g class=\"graph\" id=\"graph0\" transform=\"scale(1 1) rotate(0) translate(583.7 469.51)\">\n",
       "<title>%3</title>\n",
       "<polygon fill=\"white\" points=\"-583.7,492.54 -583.7,-469.51 700.09,-469.51 700.09,492.54 -583.7,492.54\" stroke=\"none\"/>\n",
       "<!-- n[34] -->\n",
       "<g class=\"node\" id=\"node1\"><title>n[34]</title>\n",
       "<ellipse cx=\"233.63\" cy=\"92.201\" fill=\"none\" rx=\"30\" ry=\"18\" stroke=\"black\"/>\n",
       "<text font-family=\"Times New Roman,serif\" font-size=\"14.00\" text-anchor=\"middle\" x=\"233.63\" y=\"95.901\">n[34]</text>\n",
       "</g>\n",
       "<!-- n[22] -->\n",
       "<g class=\"node\" id=\"node2\"><title>n[22]</title>\n",
       "<ellipse cx=\"61.957\" cy=\"-92.685\" fill=\"none\" rx=\"30\" ry=\"18\" stroke=\"black\"/>\n",
       "<text font-family=\"Times New Roman,serif\" font-size=\"14.00\" text-anchor=\"middle\" x=\"61.957\" y=\"-88.985\">n[22]</text>\n",
       "</g>\n",
       "<!-- n[34]&#45;&gt;n[22] -->\n",
       "<g class=\"edge\" id=\"edge1\"><title>n[34]-&gt;n[22]</title>\n",
       "<path d=\"M218.99,76.438C188.71,43.827 119.06,-31.183 83.583,-69.395\" fill=\"none\" stroke=\"black\"/>\n",
       "<polygon fill=\"black\" points=\"80.7971,-67.2516 76.557,-76.961 85.9265,-72.0149 80.7971,-67.2516\" stroke=\"black\"/>\n",
       "</g>\n",
       "<!-- n[18] -->\n",
       "<g class=\"node\" id=\"node3\"><title>n[18]</title>\n",
       "<ellipse cx=\"231.39\" cy=\"-34.332\" fill=\"none\" rx=\"30\" ry=\"18\" stroke=\"black\"/>\n",
       "<text font-family=\"Times New Roman,serif\" font-size=\"14.00\" text-anchor=\"middle\" x=\"231.39\" y=\"-30.632\">n[18]</text>\n",
       "</g>\n",
       "<!-- n[34]&#45;&gt;n[18] -->\n",
       "<g class=\"edge\" id=\"edge2\"><title>n[34]-&gt;n[18]</title>\n",
       "<path d=\"M233.31,74.072C232.94,53.119 232.32,18.383 231.89,-6.1126\" fill=\"none\" stroke=\"black\"/>\n",
       "<polygon fill=\"black\" points=\"228.388,-6.17633 231.71,-16.237 235.387,-6.30083 228.388,-6.17633\" stroke=\"black\"/>\n",
       "</g>\n",
       "<!-- n[29] -->\n",
       "<g class=\"node\" id=\"node4\"><title>n[29]</title>\n",
       "<ellipse cx=\"-28.084\" cy=\"243.44\" fill=\"none\" rx=\"30\" ry=\"18\" stroke=\"black\"/>\n",
       "<text font-family=\"Times New Roman,serif\" font-size=\"14.00\" text-anchor=\"middle\" x=\"-28.084\" y=\"247.14\">n[29]</text>\n",
       "</g>\n",
       "<!-- n[34]&#45;&gt;n[29] -->\n",
       "<g class=\"edge\" id=\"edge3\"><title>n[34]-&gt;n[29]</title>\n",
       "<path d=\"M211.77,104.84C165.08,131.81 55.567,195.1 2.2073,225.94\" fill=\"none\" stroke=\"black\"/>\n",
       "<polygon fill=\"black\" points=\"3.94332,228.979 -6.4666,230.95 0.442177,222.918 3.94332,228.979\" stroke=\"black\"/>\n",
       "</g>\n",
       "<!-- n[6] -->\n",
       "<g class=\"node\" id=\"node5\"><title>n[6]</title>\n",
       "<ellipse cx=\"-122.55\" cy=\"-78.523\" fill=\"none\" rx=\"27\" ry=\"18\" stroke=\"black\"/>\n",
       "<text font-family=\"Times New Roman,serif\" font-size=\"14.00\" text-anchor=\"middle\" x=\"-122.55\" y=\"-74.823\">n[6]</text>\n",
       "</g>\n",
       "<!-- n[22]&#45;&gt;n[6] -->\n",
       "<g class=\"edge\" id=\"edge4\"><title>n[22]-&gt;n[6]</title>\n",
       "<path d=\"M31.902,-90.378C-0.11732,-87.92 -50.848,-84.026 -85.361,-81.377\" fill=\"none\" stroke=\"black\"/>\n",
       "<polygon fill=\"black\" points=\"-85.2745,-77.8734 -95.513,-80.598 -85.8101,-84.8529 -85.2745,-77.8734\" stroke=\"black\"/>\n",
       "</g>\n",
       "<!-- n[5] -->\n",
       "<g class=\"node\" id=\"node6\"><title>n[5]</title>\n",
       "<ellipse cx=\"155.96\" cy=\"28.015\" fill=\"none\" rx=\"27\" ry=\"18\" stroke=\"black\"/>\n",
       "<text font-family=\"Times New Roman,serif\" font-size=\"14.00\" text-anchor=\"middle\" x=\"155.96\" y=\"31.715\">n[5]</text>\n",
       "</g>\n",
       "<!-- n[22]&#45;&gt;n[5] -->\n",
       "<g class=\"edge\" id=\"edge5\"><title>n[22]-&gt;n[5]</title>\n",
       "<path d=\"M75.028,-75.902C91.114,-55.249 118.55,-20.019 136.97,3.6226\" fill=\"none\" stroke=\"black\"/>\n",
       "<polygon fill=\"black\" points=\"139.923,1.71789 143.3,11.76 134.397,6.01588 139.923,1.71789\" stroke=\"black\"/>\n",
       "</g>\n",
       "<!-- n[15] -->\n",
       "<g class=\"node\" id=\"node7\"><title>n[15]</title>\n",
       "<ellipse cx=\"-173.57\" cy=\"-33.551\" fill=\"none\" rx=\"30\" ry=\"18\" stroke=\"black\"/>\n",
       "<text font-family=\"Times New Roman,serif\" font-size=\"14.00\" text-anchor=\"middle\" x=\"-173.57\" y=\"-29.851\">n[15]</text>\n",
       "</g>\n",
       "<!-- n[22]&#45;&gt;n[15] -->\n",
       "<g class=\"edge\" id=\"edge6\"><title>n[22]-&gt;n[15]</title>\n",
       "<path d=\"M34.013,-85.669C-8.2176,-75.066 -88.39,-54.938 -135.79,-43.038\" fill=\"none\" stroke=\"black\"/>\n",
       "<polygon fill=\"black\" points=\"-135.119,-39.598 -145.67,-40.558 -136.823,-46.3874 -135.119,-39.598\" stroke=\"black\"/>\n",
       "</g>\n",
       "<!-- n[18]&#45;&gt;n[5] -->\n",
       "<g class=\"edge\" id=\"edge7\"><title>n[18]-&gt;n[5]</title>\n",
       "<path d=\"M213.51,-19.557C203.72,-11.465 191.44,-1.312 180.74,7.5337\" fill=\"none\" stroke=\"black\"/>\n",
       "<polygon fill=\"black\" points=\"182.868,10.3156 172.93,13.988 178.409,4.91971 182.868,10.3156\" stroke=\"black\"/>\n",
       "</g>\n",
       "<!-- n[3] -->\n",
       "<g class=\"node\" id=\"node8\"><title>n[3]</title>\n",
       "<ellipse cx=\"-42.156\" cy=\"-136.11\" fill=\"none\" rx=\"27\" ry=\"18\" stroke=\"black\"/>\n",
       "<text font-family=\"Times New Roman,serif\" font-size=\"14.00\" text-anchor=\"middle\" x=\"-42.156\" y=\"-132.41\">n[3]</text>\n",
       "</g>\n",
       "<!-- n[18]&#45;&gt;n[3] -->\n",
       "<g class=\"edge\" id=\"edge8\"><title>n[18]-&gt;n[3]</title>\n",
       "<path d=\"M205.65,-43.907C155.95,-62.401 46.765,-103.02 -8.5772,-123.62\" fill=\"none\" stroke=\"black\"/>\n",
       "<polygon fill=\"black\" points=\"-10.105,-120.454 -18.258,-127.22 -7.66515,-127.015 -10.105,-120.454\" stroke=\"black\"/>\n",
       "</g>\n",
       "<!-- n[2] -->\n",
       "<g class=\"node\" id=\"node9\"><title>n[2]</title>\n",
       "<ellipse cx=\"134.05\" cy=\"-122.39\" fill=\"none\" rx=\"27\" ry=\"18\" stroke=\"black\"/>\n",
       "<text font-family=\"Times New Roman,serif\" font-size=\"14.00\" text-anchor=\"middle\" x=\"134.05\" y=\"-118.69\">n[2]</text>\n",
       "</g>\n",
       "<!-- n[18]&#45;&gt;n[2] -->\n",
       "<g class=\"edge\" id=\"edge9\"><title>n[18]-&gt;n[2]</title>\n",
       "<path d=\"M214.43,-49.671C198.75,-63.859 175.29,-85.085 157.75,-100.95\" fill=\"none\" stroke=\"black\"/>\n",
       "<polygon fill=\"black\" points=\"155.232,-98.5081 150.16,-107.81 159.926,-103.701 155.232,-98.5081\" stroke=\"black\"/>\n",
       "</g>\n",
       "<!-- n[27] -->\n",
       "<g class=\"node\" id=\"node10\"><title>n[27]</title>\n",
       "<ellipse cx=\"-86.138\" cy=\"132.6\" fill=\"none\" rx=\"30\" ry=\"18\" stroke=\"black\"/>\n",
       "<text font-family=\"Times New Roman,serif\" font-size=\"14.00\" text-anchor=\"middle\" x=\"-86.138\" y=\"136.3\">n[27]</text>\n",
       "</g>\n",
       "<!-- n[29]&#45;&gt;n[27] -->\n",
       "<g class=\"edge\" id=\"edge10\"><title>n[29]-&gt;n[27]</title>\n",
       "<path d=\"M-37.155,226.12C-46.613,208.06 -61.549,179.55 -72.444,158.74\" fill=\"none\" stroke=\"black\"/>\n",
       "<polygon fill=\"black\" points=\"-75.5923,160.273 -77.131,149.79 -69.3912,157.025 -75.5923,160.273\" stroke=\"black\"/>\n",
       "</g>\n",
       "<!-- n[14] -->\n",
       "<g class=\"node\" id=\"node11\"><title>n[14]</title>\n",
       "<ellipse cx=\"52.047\" cy=\"106.35\" fill=\"none\" rx=\"30\" ry=\"18\" stroke=\"black\"/>\n",
       "<text font-family=\"Times New Roman,serif\" font-size=\"14.00\" text-anchor=\"middle\" x=\"52.047\" y=\"110.05\">n[14]</text>\n",
       "</g>\n",
       "<!-- n[29]&#45;&gt;n[14] -->\n",
       "<g class=\"edge\" id=\"edge11\"><title>n[29]-&gt;n[14]</title>\n",
       "<path d=\"M-18.097,226.36C-4.3017,202.75 20.706,159.97 36.834,132.37\" fill=\"none\" stroke=\"black\"/>\n",
       "<polygon fill=\"black\" points=\"33.8642,130.515 41.934,123.65 39.9066,134.049 33.8642,130.515\" stroke=\"black\"/>\n",
       "</g>\n",
       "<!-- n[25] -->\n",
       "<g class=\"node\" id=\"node12\"><title>n[25]</title>\n",
       "<ellipse cx=\"-292.98\" cy=\"27.347\" fill=\"none\" rx=\"30\" ry=\"18\" stroke=\"black\"/>\n",
       "<text font-family=\"Times New Roman,serif\" font-size=\"14.00\" text-anchor=\"middle\" x=\"-292.98\" y=\"31.047\">n[25]</text>\n",
       "</g>\n",
       "<!-- n[29]&#45;&gt;n[25] -->\n",
       "<g class=\"edge\" id=\"edge12\"><title>n[29]-&gt;n[25]</title>\n",
       "<path d=\"M-45.876,228.93C-91.571,191.65 -213.22,92.408 -266.9,48.617\" fill=\"none\" stroke=\"black\"/>\n",
       "<polygon fill=\"black\" points=\"-269.373,51.1161 -274.91,42.083 -264.949,45.6919 -269.373,51.1161\" stroke=\"black\"/>\n",
       "</g>\n",
       "<!-- n[6]&#45;&gt;n[3] -->\n",
       "<g class=\"edge\" id=\"edge13\"><title>n[6]-&gt;n[3]</title>\n",
       "<path d=\"M-103.9,-91.879C-93.554,-99.293 -80.498,-108.64 -69.061,-116.84\" fill=\"none\" stroke=\"black\"/>\n",
       "<polygon fill=\"black\" points=\"-70.8683,-119.851 -60.701,-122.83 -66.7913,-114.161 -70.8683,-119.851\" stroke=\"black\"/>\n",
       "</g>\n",
       "<!-- n[6]&#45;&gt;n[2] -->\n",
       "<g class=\"edge\" id=\"edge14\"><title>n[6]-&gt;n[2]</title>\n",
       "<path d=\"M-96.057,-83.052C-49.936,-90.938 45.171,-107.2 97.517,-116.15\" fill=\"none\" stroke=\"black\"/>\n",
       "<polygon fill=\"black\" points=\"97.2533,-119.656 107.7,-117.89 98.4324,-112.756 97.2533,-119.656\" stroke=\"black\"/>\n",
       "</g>\n",
       "<!-- n[0] -->\n",
       "<g class=\"node\" id=\"node13\"><title>n[0]</title>\n",
       "<ellipse cx=\"30.757\" cy=\"-3.9722\" fill=\"none\" rx=\"27\" ry=\"18\" stroke=\"black\"/>\n",
       "<text font-family=\"Times New Roman,serif\" font-size=\"14.00\" text-anchor=\"middle\" x=\"30.757\" y=\"-0.2722\">n[0]</text>\n",
       "</g>\n",
       "<!-- n[6]&#45;&gt;n[0] -->\n",
       "<g class=\"edge\" id=\"edge15\"><title>n[6]-&gt;n[0]</title>\n",
       "<path d=\"M-100.59,-67.841C-74.288,-55.053 -30.071,-33.552 -0.28912,-19.069\" fill=\"none\" stroke=\"black\"/>\n",
       "<polygon fill=\"black\" points=\"1.36946,-22.1544 8.8323,-14.634 -1.69148,-15.8591 1.36946,-22.1544\" stroke=\"black\"/>\n",
       "</g>\n",
       "<!-- n[5]&#45;&gt;n[2] -->\n",
       "<g class=\"edge\" id=\"edge16\"><title>n[5]-&gt;n[2]</title>\n",
       "<path d=\"M153.32,9.8719C149.55,-15.988 142.6,-63.686 138.16,-94.181\" fill=\"none\" stroke=\"black\"/>\n",
       "<polygon fill=\"black\" points=\"134.68,-93.7895 136.7,-104.19 141.607,-94.7999 134.68,-93.7895\" stroke=\"black\"/>\n",
       "</g>\n",
       "<!-- n[1] -->\n",
       "<g class=\"node\" id=\"node14\"><title>n[1]</title>\n",
       "<ellipse cx=\"70.964\" cy=\"-136.76\" fill=\"none\" rx=\"27\" ry=\"18\" stroke=\"black\"/>\n",
       "<text font-family=\"Times New Roman,serif\" font-size=\"14.00\" text-anchor=\"middle\" x=\"70.964\" y=\"-133.06\">n[1]</text>\n",
       "</g>\n",
       "<!-- n[5]&#45;&gt;n[1] -->\n",
       "<g class=\"edge\" id=\"edge17\"><title>n[5]-&gt;n[1]</title>\n",
       "<path d=\"M147.03,10.692C132.13,-18.187 102.13,-76.349 84.585,-110.36\" fill=\"none\" stroke=\"black\"/>\n",
       "<polygon fill=\"black\" points=\"81.2562,-109.178 79.78,-119.67 87.4766,-112.389 81.2562,-109.178\" stroke=\"black\"/>\n",
       "</g>\n",
       "<!-- n[4] -->\n",
       "<g class=\"node\" id=\"node15\"><title>n[4]</title>\n",
       "<ellipse cx=\"-38.18\" cy=\"-92.079\" fill=\"none\" rx=\"27\" ry=\"18\" stroke=\"black\"/>\n",
       "<text font-family=\"Times New Roman,serif\" font-size=\"14.00\" text-anchor=\"middle\" x=\"-38.18\" y=\"-88.379\">n[4]</text>\n",
       "</g>\n",
       "<!-- n[5]&#45;&gt;n[4] -->\n",
       "<g class=\"edge\" id=\"edge18\"><title>n[5]-&gt;n[4]</title>\n",
       "<path d=\"M135.92,15.615C101.31,-5.7904 30.263,-49.741 -9.5425,-74.364\" fill=\"none\" stroke=\"black\"/>\n",
       "<polygon fill=\"black\" points=\"-11.5804,-71.509 -18.244,-79.746 -7.89819,-77.4623 -11.5804,-71.509\" stroke=\"black\"/>\n",
       "</g>\n",
       "<!-- n[15]&#45;&gt;n[5] -->\n",
       "<g class=\"edge\" id=\"edge19\"><title>n[15]-&gt;n[5]</title>\n",
       "<path d=\"M-144.91,-28.196C-84.855,-16.977 54.026,8.9699 119.96,21.289\" fill=\"none\" stroke=\"black\"/>\n",
       "<polygon fill=\"black\" points=\"120.712,17.8688 129.9,23.144 119.428,24.75 120.712,17.8688\" stroke=\"black\"/>\n",
       "</g>\n",
       "<!-- n[13] -->\n",
       "<g class=\"node\" id=\"node16\"><title>n[13]</title>\n",
       "<ellipse cx=\"-104.87\" cy=\"-33.497\" fill=\"none\" rx=\"30\" ry=\"18\" stroke=\"black\"/>\n",
       "<text font-family=\"Times New Roman,serif\" font-size=\"14.00\" text-anchor=\"middle\" x=\"-104.87\" y=\"-29.797\">n[13]</text>\n",
       "</g>\n",
       "<!-- n[15]&#45;&gt;n[13] -->\n",
       "<g class=\"edge\" id=\"edge20\"><title>n[15]-&gt;n[13]</title>\n",
       "<path d=\"M-143.64,-33.528C-143.55,-33.528 -143.46,-33.528 -143.37,-33.528\" fill=\"none\" stroke=\"black\"/>\n",
       "<polygon fill=\"black\" points=\"-144.917,-37.0294 -134.92,-33.521 -144.923,-30.0294 -144.917,-37.0294\" stroke=\"black\"/>\n",
       "</g>\n",
       "<!-- n[7] -->\n",
       "<g class=\"node\" id=\"node17\"><title>n[7]</title>\n",
       "<ellipse cx=\"-1.9564\" cy=\"-48.032\" fill=\"none\" rx=\"27\" ry=\"18\" stroke=\"black\"/>\n",
       "<text font-family=\"Times New Roman,serif\" font-size=\"14.00\" text-anchor=\"middle\" x=\"-1.9564\" y=\"-44.332\">n[7]</text>\n",
       "</g>\n",
       "<!-- n[15]&#45;&gt;n[7] -->\n",
       "<g class=\"edge\" id=\"edge21\"><title>n[15]-&gt;n[7]</title>\n",
       "<path d=\"M-143.68,-36.074C-114.6,-38.527 -70.355,-42.261 -39.047,-44.903\" fill=\"none\" stroke=\"black\"/>\n",
       "<polygon fill=\"black\" points=\"-39.2247,-48.4003 -28.966,-45.753 -38.6365,-41.4251 -39.2247,-48.4003\" stroke=\"black\"/>\n",
       "</g>\n",
       "<!-- n[3]&#45;&gt;n[2] -->\n",
       "<g class=\"edge\" id=\"edge22\"><title>n[3]-&gt;n[2]</title>\n",
       "<path d=\"M-15.01,-134C14.955,-131.66 63.373,-127.9 96.855,-125.29\" fill=\"none\" stroke=\"black\"/>\n",
       "<polygon fill=\"black\" points=\"97.4609,-128.754 107.16,-124.49 96.9191,-121.775 97.4609,-128.754\" stroke=\"black\"/>\n",
       "</g>\n",
       "<!-- n[3]&#45;&gt;n[0] -->\n",
       "<g class=\"edge\" id=\"edge23\"><title>n[3]-&gt;n[0]</title>\n",
       "<path d=\"M-32.773,-119.11C-20.304,-96.509 1.8447,-56.369 16.416,-29.961\" fill=\"none\" stroke=\"black\"/>\n",
       "<polygon fill=\"black\" points=\"19.6429,-31.3574 21.41,-20.911 13.5141,-27.9754 19.6429,-31.3574\" stroke=\"black\"/>\n",
       "</g>\n",
       "<!-- n[3]&#45;&gt;n[1] -->\n",
       "<g class=\"edge\" id=\"edge24\"><title>n[3]-&gt;n[1]</title>\n",
       "<path d=\"M-15.061,-136.27C-0.47675,-136.35 17.733,-136.46 33.64,-136.55\" fill=\"none\" stroke=\"black\"/>\n",
       "<polygon fill=\"black\" points=\"33.6773,-140.05 43.698,-136.61 33.7191,-133.05 33.6773,-140.05\" stroke=\"black\"/>\n",
       "</g>\n",
       "<!-- n[2]&#45;&gt;n[0] -->\n",
       "<g class=\"edge\" id=\"edge25\"><title>n[2]-&gt;n[0]</title>\n",
       "<path d=\"M120.12,-106.42C102.38,-86.092 71.607,-50.807 51.21,-27.421\" fill=\"none\" stroke=\"black\"/>\n",
       "<polygon fill=\"black\" points=\"53.6772,-24.925 44.466,-19.69 48.4022,-29.5265 53.6772,-24.925\" stroke=\"black\"/>\n",
       "</g>\n",
       "<!-- n[2]&#45;&gt;n[1] -->\n",
       "<g class=\"edge\" id=\"edge26\"><title>n[2]-&gt;n[1]</title>\n",
       "<path d=\"M108.39,-128.24C107.79,-128.37 107.19,-128.51 106.59,-128.65\" fill=\"none\" stroke=\"black\"/>\n",
       "<polygon fill=\"black\" points=\"105.776,-125.246 96.804,-130.88 107.332,-132.071 105.776,-125.246\" stroke=\"black\"/>\n",
       "</g>\n",
       "<!-- n[27]&#45;&gt;n[15] -->\n",
       "<g class=\"edge\" id=\"edge27\"><title>n[27]-&gt;n[15]</title>\n",
       "<path d=\"M-95.33,115.13C-110.72,85.885 -141.78,26.861 -159.79,-7.3674\" fill=\"none\" stroke=\"black\"/>\n",
       "<polygon fill=\"black\" points=\"-162.941,-5.83949 -164.5,-16.319 -156.746,-9.09901 -162.941,-5.83949\" stroke=\"black\"/>\n",
       "</g>\n",
       "<!-- n[27]&#45;&gt;n[14] -->\n",
       "<g class=\"edge\" id=\"edge28\"><title>n[27]-&gt;n[14]</title>\n",
       "<path d=\"M-57.506,127.16C-36.94,123.25 -8.989,117.94 13.532,113.66\" fill=\"none\" stroke=\"black\"/>\n",
       "<polygon fill=\"black\" points=\"12.9741,110.204 23.451,111.78 14.2777,117.081 12.9741,110.204\" stroke=\"black\"/>\n",
       "</g>\n",
       "<!-- n[27]&#45;&gt;n[1] -->\n",
       "<g class=\"edge\" id=\"edge29\"><title>n[27]-&gt;n[1]</title>\n",
       "<path d=\"M-76.071,115.34C-49.247,69.345 24.07,-56.362 55.892,-110.92\" fill=\"none\" stroke=\"black\"/>\n",
       "<polygon fill=\"black\" points=\"52.9215,-112.774 60.982,-119.65 58.9687,-109.248 52.9215,-112.774\" stroke=\"black\"/>\n",
       "</g>\n",
       "<!-- n[14]&#45;&gt;n[0] -->\n",
       "<g class=\"edge\" id=\"edge30\"><title>n[14]-&gt;n[0]</title>\n",
       "<path d=\"M48.531,88.13C45.152,70.619 39.999,43.916 36.109,23.764\" fill=\"none\" stroke=\"black\"/>\n",
       "<polygon fill=\"black\" points=\"32.6649,24.388 34.207,13.906 39.5382,23.0618 32.6649,24.388\" stroke=\"black\"/>\n",
       "</g>\n",
       "<!-- n[9] -->\n",
       "<g class=\"node\" id=\"node18\"><title>n[9]</title>\n",
       "<ellipse cx=\"-112.35\" cy=\"-122.68\" fill=\"none\" rx=\"27\" ry=\"18\" stroke=\"black\"/>\n",
       "<text font-family=\"Times New Roman,serif\" font-size=\"14.00\" text-anchor=\"middle\" x=\"-112.35\" y=\"-118.98\">n[9]</text>\n",
       "</g>\n",
       "<!-- n[14]&#45;&gt;n[9] -->\n",
       "<g class=\"edge\" id=\"edge31\"><title>n[14]-&gt;n[9]</title>\n",
       "<path d=\"M39.958,89.506C11.257,49.523 -61.093,-51.267 -94.696,-98.079\" fill=\"none\" stroke=\"black\"/>\n",
       "<polygon fill=\"black\" points=\"-97.7023,-96.2651 -100.69,-106.43 -92.0155,-100.347 -97.7023,-96.2651\" stroke=\"black\"/>\n",
       "</g>\n",
       "<!-- n[10] -->\n",
       "<g class=\"node\" id=\"node19\"><title>n[10]</title>\n",
       "<ellipse cx=\"-37.355\" cy=\"17.58\" fill=\"none\" rx=\"30\" ry=\"18\" stroke=\"black\"/>\n",
       "<text font-family=\"Times New Roman,serif\" font-size=\"14.00\" text-anchor=\"middle\" x=\"-37.355\" y=\"21.28\">n[10]</text>\n",
       "</g>\n",
       "<!-- n[14]&#45;&gt;n[10] -->\n",
       "<g class=\"edge\" id=\"edge32\"><title>n[14]-&gt;n[10]</title>\n",
       "<path d=\"M36.474,90.885C22.459,76.969 1.6762,56.334 -14.271,40.5\" fill=\"none\" stroke=\"black\"/>\n",
       "<polygon fill=\"black\" points=\"-17.0305,42.6924 -21.661,33.163 -12.0985,37.7248 -17.0305,42.6924\" stroke=\"black\"/>\n",
       "</g>\n",
       "<!-- n[25]&#45;&gt;n[6] -->\n",
       "<g class=\"edge\" id=\"edge33\"><title>n[25]-&gt;n[6]</title>\n",
       "<path d=\"M-272.08,14.365C-241.73,-4.4897 -185.35,-39.514 -151.16,-60.751\" fill=\"none\" stroke=\"black\"/>\n",
       "<polygon fill=\"black\" points=\"-152.901,-63.7895 -142.56,-66.093 -149.208,-57.8433 -152.901,-63.7895\" stroke=\"black\"/>\n",
       "</g>\n",
       "<!-- n[25]&#45;&gt;n[14] -->\n",
       "<g class=\"edge\" id=\"edge34\"><title>n[25]-&gt;n[14]</title>\n",
       "<path d=\"M-264.74,33.812C-203.05,47.938 -56.168,81.569 13.766,97.582\" fill=\"none\" stroke=\"black\"/>\n",
       "<polygon fill=\"black\" points=\"14.9391,94.2599 23.906,99.903 13.3771,101.083 14.9391,94.2599\" stroke=\"black\"/>\n",
       "</g>\n",
       "<!-- n[21] -->\n",
       "<g class=\"node\" id=\"node20\"><title>n[21]</title>\n",
       "<ellipse cx=\"-221.64\" cy=\"-163.79\" fill=\"none\" rx=\"30\" ry=\"18\" stroke=\"black\"/>\n",
       "<text font-family=\"Times New Roman,serif\" font-size=\"14.00\" text-anchor=\"middle\" x=\"-221.64\" y=\"-160.09\">n[21]</text>\n",
       "</g>\n",
       "<!-- n[25]&#45;&gt;n[21] -->\n",
       "<g class=\"edge\" id=\"edge35\"><title>n[25]-&gt;n[21]</title>\n",
       "<path d=\"M-286.39,9.7083C-273.89,-23.788 -246.64,-96.804 -231.79,-136.6\" fill=\"none\" stroke=\"black\"/>\n",
       "<polygon fill=\"black\" points=\"-234.986,-138.046 -228.21,-146.19 -228.428,-135.597 -234.986,-138.046\" stroke=\"black\"/>\n",
       "</g>\n",
       "<!-- n[1]&#45;&gt;n[0] -->\n",
       "<g class=\"edge\" id=\"edge36\"><title>n[1]-&gt;n[0]</title>\n",
       "<path d=\"M65.542,-118.86C58.767,-96.481 47.102,-57.955 39.165,-31.743\" fill=\"none\" stroke=\"black\"/>\n",
       "<polygon fill=\"black\" points=\"42.4695,-30.5788 36.222,-22.022 35.7698,-32.6072 42.4695,-30.5788\" stroke=\"black\"/>\n",
       "</g>\n",
       "<!-- n[4]&#45;&gt;n[3] -->\n",
       "<g class=\"edge\" id=\"edge37\"><title>n[4]-&gt;n[3]</title>\n",
       "<path d=\"M-39.82,-110.24C-39.835,-110.4 -39.849,-110.56 -39.864,-110.72\" fill=\"none\" stroke=\"black\"/>\n",
       "<polygon fill=\"black\" points=\"-43.107,-107.716 -40.52,-117.99 -36.1354,-108.345 -43.107,-107.716\" stroke=\"black\"/>\n",
       "</g>\n",
       "<!-- n[4]&#45;&gt;n[0] -->\n",
       "<g class=\"edge\" id=\"edge38\"><title>n[4]-&gt;n[0]</title>\n",
       "<path d=\"M-25.536,-75.919C-15.041,-62.505 0.039322,-43.231 11.951,-28.008\" fill=\"none\" stroke=\"black\"/>\n",
       "<polygon fill=\"black\" points=\"14.7874,-30.0626 18.193,-20.03 9.27434,-25.7491 14.7874,-30.0626\" stroke=\"black\"/>\n",
       "</g>\n",
       "<!-- n[4]&#45;&gt;n[1] -->\n",
       "<g class=\"edge\" id=\"edge39\"><title>n[4]-&gt;n[1]</title>\n",
       "<path d=\"M-15.034,-101.56C0.44972,-107.89 21.053,-116.33 38.211,-123.36\" fill=\"none\" stroke=\"black\"/>\n",
       "<polygon fill=\"black\" points=\"37.2701,-126.756 47.851,-127.3 39.9185,-120.277 37.2701,-126.756\" stroke=\"black\"/>\n",
       "</g>\n",
       "<!-- n[13]&#45;&gt;n[0] -->\n",
       "<g class=\"edge\" id=\"edge40\"><title>n[13]-&gt;n[0]</title>\n",
       "<path d=\"M-76.439,-27.308C-55.692,-22.791 -27.419,-16.637 -5.1186,-11.782\" fill=\"none\" stroke=\"black\"/>\n",
       "<polygon fill=\"black\" points=\"-4.36759,-15.2006 4.659,-9.6534 -5.85668,-8.36077 -4.36759,-15.2006\" stroke=\"black\"/>\n",
       "</g>\n",
       "<!-- n[13]&#45;&gt;n[7] -->\n",
       "<g class=\"edge\" id=\"edge41\"><title>n[13]-&gt;n[7]</title>\n",
       "<path d=\"M-75.655,-37.623C-64.049,-39.263 -50.573,-41.166 -38.342,-42.893\" fill=\"none\" stroke=\"black\"/>\n",
       "<polygon fill=\"black\" points=\"-38.8212,-46.36 -28.43,-44.293 -37.8422,-39.4288 -38.8212,-46.36\" stroke=\"black\"/>\n",
       "</g>\n",
       "<!-- n[13]&#45;&gt;n[9] -->\n",
       "<g class=\"edge\" id=\"edge42\"><title>n[13]-&gt;n[9]</title>\n",
       "<path d=\"M-106.39,-51.544C-107.42,-63.873 -108.81,-80.46 -109.99,-94.515\" fill=\"none\" stroke=\"black\"/>\n",
       "<polygon fill=\"black\" points=\"-113.493,-94.4027 -110.84,-104.66 -106.517,-94.9872 -113.493,-94.4027\" stroke=\"black\"/>\n",
       "</g>\n",
       "<!-- n[7]&#45;&gt;n[6] -->\n",
       "<g class=\"edge\" id=\"edge43\"><title>n[7]-&gt;n[6]</title>\n",
       "<path d=\"M-27.237,-54.424C-44.683,-58.835 -68.115,-64.759 -87.379,-69.63\" fill=\"none\" stroke=\"black\"/>\n",
       "<polygon fill=\"black\" points=\"-88.466,-66.2946 -97.303,-72.139 -86.7501,-73.0811 -88.466,-66.2946\" stroke=\"black\"/>\n",
       "</g>\n",
       "<!-- n[7]&#45;&gt;n[5] -->\n",
       "<g class=\"edge\" id=\"edge44\"><title>n[7]-&gt;n[5]</title>\n",
       "<path d=\"M20.002,-37.458C47.268,-24.329 93.951,-1.8482 124.88,13.048\" fill=\"none\" stroke=\"black\"/>\n",
       "<polygon fill=\"black\" points=\"126.447,9.91777 133.94,17.408 123.411,16.2254 126.447,9.91777\" stroke=\"black\"/>\n",
       "</g>\n",
       "<!-- n[7]&#45;&gt;n[4] -->\n",
       "<g class=\"edge\" id=\"edge45\"><title>n[7]-&gt;n[4]</title>\n",
       "<path d=\"M-15.034,-63.934C-16.149,-65.289 -17.291,-66.678 -18.442,-68.078\" fill=\"none\" stroke=\"black\"/>\n",
       "<polygon fill=\"black\" points=\"-21.3512,-66.1053 -25,-76.052 -15.9448,-70.5517 -21.3512,-66.1053\" stroke=\"black\"/>\n",
       "</g>\n",
       "<!-- n[9]&#45;&gt;n[6] -->\n",
       "<g class=\"edge\" id=\"edge107\"><title>n[9]-&gt;n[6]</title>\n",
       "<path d=\"M-116.5,-104.72C-116.52,-104.63 -116.54,-104.54 -116.56,-104.46\" fill=\"none\" stroke=\"black\"/>\n",
       "<polygon fill=\"black\" points=\"-112.779,-105.278 -118.44,-96.323 -119.599,-106.854 -112.779,-105.278\" stroke=\"black\"/>\n",
       "</g>\n",
       "<!-- n[9]&#45;&gt;n[3] -->\n",
       "<g class=\"edge\" id=\"edge108\"><title>n[9]-&gt;n[3]</title>\n",
       "<path d=\"M-86.214,-127.68C-83.69,-128.16 -81.1,-128.66 -78.5,-129.15\" fill=\"none\" stroke=\"black\"/>\n",
       "<polygon fill=\"black\" points=\"-79.0305,-132.612 -68.55,-131.06 -77.7109,-125.737 -79.0305,-132.612\" stroke=\"black\"/>\n",
       "</g>\n",
       "<!-- n[9]&#45;&gt;n[4] -->\n",
       "<g class=\"edge\" id=\"edge109\"><title>n[9]-&gt;n[4]</title>\n",
       "<path d=\"M-89.29,-113.16C-83.43,-110.75 -77.021,-108.1 -70.784,-105.53\" fill=\"none\" stroke=\"black\"/>\n",
       "<polygon fill=\"black\" points=\"-69.1389,-108.638 -61.228,-101.59 -71.8072,-102.166 -69.1389,-108.638\" stroke=\"black\"/>\n",
       "</g>\n",
       "<!-- n[10]&#45;&gt;n[3] -->\n",
       "<g class=\"edge\" id=\"edge122\"><title>n[10]-&gt;n[3]</title>\n",
       "<path d=\"M-37.924,-0.65359C-38.751,-27.113 -40.29,-76.397 -41.267,-107.66\" fill=\"none\" stroke=\"black\"/>\n",
       "<polygon fill=\"black\" points=\"-44.7729,-107.796 -41.587,-117.9 -37.7763,-108.014 -44.7729,-107.796\" stroke=\"black\"/>\n",
       "</g>\n",
       "<!-- n[10]&#45;&gt;n[2] -->\n",
       "<g class=\"edge\" id=\"edge123\"><title>n[10]-&gt;n[2]</title>\n",
       "<path d=\"M-19.336,2.8652C11.379,-22.218 73.937,-73.305 108.93,-101.88\" fill=\"none\" stroke=\"black\"/>\n",
       "<polygon fill=\"black\" points=\"106.821,-104.676 116.78,-108.29 111.248,-99.2541 106.821,-104.676\" stroke=\"black\"/>\n",
       "</g>\n",
       "<!-- n[10]&#45;&gt;n[9] -->\n",
       "<g class=\"edge\" id=\"edge124\"><title>n[10]-&gt;n[9]</title>\n",
       "<path d=\"M-46.551,0.38202C-59.483,-23.803 -83.152,-68.068 -98.299,-96.394\" fill=\"none\" stroke=\"black\"/>\n",
       "<polygon fill=\"black\" points=\"-101.453,-94.8708 -103.08,-105.34 -95.2797,-98.1702 -101.453,-94.8708\" stroke=\"black\"/>\n",
       "</g>\n",
       "<!-- n[21]&#45;&gt;n[15] -->\n",
       "<g class=\"edge\" id=\"edge161\"><title>n[21]-&gt;n[15]</title>\n",
       "<path d=\"M-215.06,-145.95C-206.93,-123.93 -193.03,-86.271 -183.58,-60.666\" fill=\"none\" stroke=\"black\"/>\n",
       "<polygon fill=\"black\" points=\"-180.255,-61.7654 -180.08,-51.172 -186.823,-59.3441 -180.255,-61.7654\" stroke=\"black\"/>\n",
       "</g>\n",
       "<!-- n[21]&#45;&gt;n[4] -->\n",
       "<g class=\"edge\" id=\"edge162\"><title>n[21]-&gt;n[4]</title>\n",
       "<path d=\"M-196.52,-153.97C-163.96,-141.24 -107.1,-119.02 -71.113,-104.95\" fill=\"none\" stroke=\"black\"/>\n",
       "<polygon fill=\"black\" points=\"-69.5906,-108.113 -61.553,-101.21 -72.1409,-101.594 -69.5906,-108.113\" stroke=\"black\"/>\n",
       "</g>\n",
       "<!-- n[21]&#45;&gt;n[13] -->\n",
       "<g class=\"edge\" id=\"edge163\"><title>n[21]-&gt;n[13]</title>\n",
       "<path d=\"M-207.32,-147.81C-187.01,-125.15 -149.69,-83.509 -126.14,-57.229\" fill=\"none\" stroke=\"black\"/>\n",
       "<polygon fill=\"black\" points=\"-123.375,-59.388 -119.31,-49.604 -128.589,-54.7175 -123.375,-59.388\" stroke=\"black\"/>\n",
       "</g>\n",
       "<!-- n[90] -->\n",
       "<g class=\"node\" id=\"node21\"><title>n[90]</title>\n",
       "<ellipse cx=\"-222.98\" cy=\"118.68\" fill=\"yellow\" rx=\"30\" ry=\"18\" stroke=\"black\"/>\n",
       "<text font-family=\"Times New Roman,serif\" font-size=\"14.00\" text-anchor=\"middle\" x=\"-222.98\" y=\"122.38\">n[90]</text>\n",
       "</g>\n",
       "<!-- n[90]&#45;&gt;n[18] -->\n",
       "<g class=\"edge\" id=\"edge46\"><title>n[90]-&gt;n[18]</title>\n",
       "<path d=\"M-196.59,109.79C-119.17,83.723 107.4,7.4217 195.63,-22.293\" fill=\"none\" stroke=\"black\"/>\n",
       "<polygon fill=\"black\" points=\"194.606,-25.6412 205.2,-25.515 196.84,-19.0071 194.606,-25.6412\" stroke=\"black\"/>\n",
       "</g>\n",
       "<!-- n[90]&#45;&gt;n[27] -->\n",
       "<g class=\"edge\" id=\"edge47\"><title>n[90]-&gt;n[27]</title>\n",
       "<path d=\"M-193.29,121.7C-173.56,123.71 -147.44,126.36 -125.92,128.55\" fill=\"none\" stroke=\"black\"/>\n",
       "<polygon fill=\"black\" points=\"-125.366,125.088 -115.77,129.58 -126.072,132.052 -125.366,125.088\" stroke=\"black\"/>\n",
       "</g>\n",
       "<!-- T -->\n",
       "<g class=\"node\" id=\"node22\"><title>T</title>\n",
       "<ellipse cx=\"-248.79\" cy=\"322.02\" fill=\"red\" rx=\"27\" ry=\"18\" stroke=\"black\"/>\n",
       "<text font-family=\"Times New Roman,serif\" font-size=\"14.00\" text-anchor=\"middle\" x=\"-248.79\" y=\"325.72\">T</text>\n",
       "</g>\n",
       "<!-- n[90]&#45;&gt;T -->\n",
       "<g class=\"edge\" id=\"edge48\"><title>n[90]-&gt;T</title>\n",
       "<path d=\"M-225.27,136.73C-229.79,172.3 -239.86,251.69 -245.24,294.08\" fill=\"none\" stroke=\"black\"/>\n",
       "<polygon fill=\"black\" points=\"-241.769,294.53 -246.5,304.01 -248.713,293.649 -241.769,294.53\" stroke=\"black\"/>\n",
       "</g>\n",
       "<!-- n[31] -->\n",
       "<g class=\"node\" id=\"node23\"><title>n[31]</title>\n",
       "<ellipse cx=\"-153.81\" cy=\"-185.22\" fill=\"none\" rx=\"30\" ry=\"18\" stroke=\"black\"/>\n",
       "<text font-family=\"Times New Roman,serif\" font-size=\"14.00\" text-anchor=\"middle\" x=\"-153.81\" y=\"-181.52\">n[31]</text>\n",
       "</g>\n",
       "<!-- n[90]&#45;&gt;n[31] -->\n",
       "<g class=\"edge\" id=\"edge49\"><title>n[90]-&gt;n[31]</title>\n",
       "<path d=\"M-218.86,100.58C-207.23,49.486 -174.09,-96.123 -160.13,-157.45\" fill=\"none\" stroke=\"black\"/>\n",
       "<polygon fill=\"black\" points=\"-163.541,-158.235 -157.91,-167.21 -156.715,-156.683 -163.541,-158.235\" stroke=\"black\"/>\n",
       "</g>\n",
       "<!-- f[0] -->\n",
       "<g class=\"node\" id=\"node24\"><title>f[0]</title>\n",
       "<ellipse cx=\"-435.36\" cy=\"302.19\" fill=\"#f5f5dc\" rx=\"27\" ry=\"18\" stroke=\"black\"/>\n",
       "<text font-family=\"Times New Roman,serif\" font-size=\"14.00\" text-anchor=\"middle\" x=\"-435.36\" y=\"305.89\">f[0]</text>\n",
       "</g>\n",
       "<!-- T&#45;&gt;f[0] -->\n",
       "<g class=\"edge\" id=\"edge50\"><title>T-&gt;f[0]</title>\n",
       "<path d=\"M-275.64,324.06C-308.52,322.88 -364.28,317.14 -400.46,311.36\" fill=\"none\" stroke=\"black\"/>\n",
       "<polygon fill=\"black\" points=\"-401.285,314.77 -410.56,309.65 -400.116,307.869 -401.285,314.77\" stroke=\"black\"/>\n",
       "</g>\n",
       "<!-- f[3] -->\n",
       "<g class=\"node\" id=\"node25\"><title>f[3]</title>\n",
       "<ellipse cx=\"-378.75\" cy=\"346.24\" fill=\"#f5f5dc\" rx=\"27\" ry=\"18\" stroke=\"black\"/>\n",
       "<text font-family=\"Times New Roman,serif\" font-size=\"14.00\" text-anchor=\"middle\" x=\"-378.75\" y=\"349.94\">f[3]</text>\n",
       "</g>\n",
       "<!-- T&#45;&gt;f[3] -->\n",
       "<g class=\"edge\" id=\"edge51\"><title>T-&gt;f[3]</title>\n",
       "<path d=\"M-271.64,331.73C-290.84,336.88 -318.66,342.32 -341.14,345.47\" fill=\"none\" stroke=\"black\"/>\n",
       "<polygon fill=\"black\" points=\"-340.996,348.98 -351.36,346.78 -341.886,342.037 -340.996,348.98\" stroke=\"black\"/>\n",
       "</g>\n",
       "<!-- f[4] -->\n",
       "<g class=\"node\" id=\"node26\"><title>f[4]</title>\n",
       "<ellipse cx=\"-239.36\" cy=\"424.63\" fill=\"#f5f5dc\" rx=\"27\" ry=\"18\" stroke=\"black\"/>\n",
       "<text font-family=\"Times New Roman,serif\" font-size=\"14.00\" text-anchor=\"middle\" x=\"-239.36\" y=\"428.33\">f[4]</text>\n",
       "</g>\n",
       "<!-- T&#45;&gt;f[4] -->\n",
       "<g class=\"edge\" id=\"edge52\"><title>T-&gt;f[4]</title>\n",
       "<path d=\"M-241.81,339.88C-238.76,355.46 -236.4,378.34 -235.86,396.4\" fill=\"none\" stroke=\"black\"/>\n",
       "<polygon fill=\"black\" points=\"-232.358,396.62 -235.77,406.65 -239.358,396.681 -232.358,396.62\" stroke=\"black\"/>\n",
       "</g>\n",
       "<!-- f[1] -->\n",
       "<g class=\"node\" id=\"node27\"><title>f[1]</title>\n",
       "<ellipse cx=\"-317.61\" cy=\"392.32\" fill=\"#f5f5dc\" rx=\"27\" ry=\"18\" stroke=\"black\"/>\n",
       "<text font-family=\"Times New Roman,serif\" font-size=\"14.00\" text-anchor=\"middle\" x=\"-317.61\" y=\"396.02\">f[1]</text>\n",
       "</g>\n",
       "<!-- T&#45;&gt;f[1] -->\n",
       "<g class=\"edge\" id=\"edge53\"><title>T-&gt;f[1]</title>\n",
       "<path d=\"M-257.87,339.03C-266.09,349.33 -278.41,362.4 -289.78,373.07\" fill=\"none\" stroke=\"black\"/>\n",
       "<polygon fill=\"black\" points=\"-287.672,375.883 -297.43,380.01 -292.375,370.699 -287.672,375.883\" stroke=\"black\"/>\n",
       "</g>\n",
       "<!-- f[2] -->\n",
       "<g class=\"node\" id=\"node28\"><title>f[2]</title>\n",
       "<ellipse cx=\"-173.97\" cy=\"451.52\" fill=\"#f5f5dc\" rx=\"27\" ry=\"18\" stroke=\"black\"/>\n",
       "<text font-family=\"Times New Roman,serif\" font-size=\"14.00\" text-anchor=\"middle\" x=\"-173.97\" y=\"455.22\">f[2]</text>\n",
       "</g>\n",
       "<!-- T&#45;&gt;f[2] -->\n",
       "<g class=\"edge\" id=\"edge54\"><title>T-&gt;f[2]</title>\n",
       "<path d=\"M-234.37,337.34C-219.21,358.86 -196.26,398.2 -183.27,424.63\" fill=\"none\" stroke=\"black\"/>\n",
       "<polygon fill=\"black\" points=\"-180.078,423.193 -178.97,433.73 -186.407,426.184 -180.078,423.193\" stroke=\"black\"/>\n",
       "</g>\n",
       "<!-- n[31]&#45;&gt;n[15] -->\n",
       "<g class=\"edge\" id=\"edge55\"><title>n[31]-&gt;n[15]</title>\n",
       "<path d=\"M-156.15,-167.23C-159.56,-141.11 -165.89,-92.479 -169.91,-61.627\" fill=\"none\" stroke=\"black\"/>\n",
       "<polygon fill=\"black\" points=\"-166.464,-60.9844 -171.23,-51.522 -173.405,-61.8911 -166.464,-60.9844\" stroke=\"black\"/>\n",
       "</g>\n",
       "<!-- n[31]&#45;&gt;n[4] -->\n",
       "<g class=\"edge\" id=\"edge56\"><title>n[31]-&gt;n[4]</title>\n",
       "<path d=\"M-135.74,-170.67C-116.37,-155.06 -85.451,-130.16 -63.621,-112.57\" fill=\"none\" stroke=\"black\"/>\n",
       "<polygon fill=\"black\" points=\"-61.3318,-115.22 -55.742,-106.22 -65.7244,-109.77 -61.3318,-115.22\" stroke=\"black\"/>\n",
       "</g>\n",
       "<!-- n[31]&#45;&gt;n[13] -->\n",
       "<g class=\"edge\" id=\"edge57\"><title>n[31]-&gt;n[13]</title>\n",
       "<path d=\"M-148.1,-167.52C-139.67,-141.39 -123.83,-92.267 -113.84,-61.302\" fill=\"none\" stroke=\"black\"/>\n",
       "<polygon fill=\"black\" points=\"-110.435,-62.1475 -110.7,-51.556 -117.098,-60.0009 -110.435,-62.1475\" stroke=\"black\"/>\n",
       "</g>\n",
       "<!-- f[0]&#45;&gt;T -->\n",
       "<g class=\"edge\" id=\"edge58\"><title>f[0]-&gt;T</title>\n",
       "<path d=\"M-408.51,300.14C-375.63,301.32 -319.86,307.06 -283.68,312.85\" fill=\"none\" stroke=\"black\"/>\n",
       "<polygon fill=\"black\" points=\"-282.865,309.438 -273.59,314.56 -284.034,316.34 -282.865,309.438\" stroke=\"black\"/>\n",
       "</g>\n",
       "<!-- f[3]&#45;&gt;T -->\n",
       "<g class=\"edge\" id=\"edge59\"><title>f[3]-&gt;T</title>\n",
       "<path d=\"M-355.89,336.52C-336.69,331.38 -308.87,325.93 -286.39,322.78\" fill=\"none\" stroke=\"black\"/>\n",
       "<polygon fill=\"black\" points=\"-286.534,319.27 -276.17,321.47 -285.644,326.213 -286.534,319.27\" stroke=\"black\"/>\n",
       "</g>\n",
       "<!-- f[4]&#45;&gt;T -->\n",
       "<g class=\"edge\" id=\"edge60\"><title>f[4]-&gt;T</title>\n",
       "<path d=\"M-246.34,406.77C-249.4,391.19 -251.75,368.31 -252.29,350.25\" fill=\"none\" stroke=\"black\"/>\n",
       "<polygon fill=\"black\" points=\"-255.792,350.034 -252.39,340 -248.793,349.965 -255.792,350.034\" stroke=\"black\"/>\n",
       "</g>\n",
       "<!-- f[1]&#45;&gt;T -->\n",
       "<g class=\"edge\" id=\"edge61\"><title>f[1]-&gt;T</title>\n",
       "<path d=\"M-308.54,375.31C-300.31,365.01 -287.99,351.94 -276.63,341.27\" fill=\"none\" stroke=\"black\"/>\n",
       "<polygon fill=\"black\" points=\"-278.741,338.46 -268.98,334.34 -274.041,343.648 -278.741,338.46\" stroke=\"black\"/>\n",
       "</g>\n",
       "<!-- f[2]&#45;&gt;T -->\n",
       "<g class=\"edge\" id=\"edge62\"><title>f[2]-&gt;T</title>\n",
       "<path d=\"M-188.39,436.19C-203.56,414.67 -226.51,375.33 -239.49,348.9\" fill=\"none\" stroke=\"black\"/>\n",
       "<polygon fill=\"black\" points=\"-242.682,350.337 -243.79,339.8 -236.353,347.346 -242.682,350.337\" stroke=\"black\"/>\n",
       "</g>\n",
       "<!-- n[130] -->\n",
       "<g class=\"node\" id=\"node29\"><title>n[130]</title>\n",
       "<ellipse cx=\"236.7\" cy=\"470.54\" fill=\"none\" rx=\"34.5\" ry=\"18\" stroke=\"black\"/>\n",
       "<text font-family=\"Times New Roman,serif\" font-size=\"14.00\" text-anchor=\"middle\" x=\"236.7\" y=\"474.24\">n[130]</text>\n",
       "</g>\n",
       "<!-- n[117] -->\n",
       "<g class=\"node\" id=\"node30\"><title>n[117]</title>\n",
       "<ellipse cx=\"-21.524\" cy=\"440.63\" fill=\"none\" rx=\"34.5\" ry=\"18\" stroke=\"black\"/>\n",
       "<text font-family=\"Times New Roman,serif\" font-size=\"14.00\" text-anchor=\"middle\" x=\"-21.524\" y=\"444.33\">n[117]</text>\n",
       "</g>\n",
       "<!-- n[130]&#45;&gt;n[117] -->\n",
       "<g class=\"edge\" id=\"edge63\"><title>n[130]-&gt;n[117]</title>\n",
       "<path d=\"M202.94,466.63C156.64,461.27 73.382,451.62 22.315,445.71\" fill=\"none\" stroke=\"black\"/>\n",
       "<polygon fill=\"black\" points=\"21.7714,449.17 12.242,444.54 22.5791,442.217 21.7714,449.17\" stroke=\"black\"/>\n",
       "</g>\n",
       "<!-- n[40] -->\n",
       "<g class=\"node\" id=\"node31\"><title>n[40]</title>\n",
       "<ellipse cx=\"353.98\" cy=\"254.66\" fill=\"none\" rx=\"30\" ry=\"18\" stroke=\"black\"/>\n",
       "<text font-family=\"Times New Roman,serif\" font-size=\"14.00\" text-anchor=\"middle\" x=\"353.98\" y=\"258.36\">n[40]</text>\n",
       "</g>\n",
       "<!-- n[130]&#45;&gt;n[40] -->\n",
       "<g class=\"edge\" id=\"edge64\"><title>n[130]-&gt;n[40]</title>\n",
       "<path d=\"M246.29,452.87C266.93,414.89 315.6,325.3 339.8,280.75\" fill=\"none\" stroke=\"black\"/>\n",
       "<polygon fill=\"black\" points=\"336.724,279.079 344.58,271.97 342.872,282.426 336.724,279.079\" stroke=\"black\"/>\n",
       "</g>\n",
       "<!-- n[112] -->\n",
       "<g class=\"node\" id=\"node32\"><title>n[112]</title>\n",
       "<ellipse cx=\"131.54\" cy=\"398.28\" fill=\"none\" rx=\"34.5\" ry=\"18\" stroke=\"black\"/>\n",
       "<text font-family=\"Times New Roman,serif\" font-size=\"14.00\" text-anchor=\"middle\" x=\"131.54\" y=\"401.98\">n[112]</text>\n",
       "</g>\n",
       "<!-- n[130]&#45;&gt;n[112] -->\n",
       "<g class=\"edge\" id=\"edge65\"><title>n[130]-&gt;n[112]</title>\n",
       "<path d=\"M215.67,456.09C200.05,445.36 178.54,430.58 161.17,418.65\" fill=\"none\" stroke=\"black\"/>\n",
       "<polygon fill=\"black\" points=\"158.781,421.254 152.53,412.7 162.751,415.489 158.781,421.254\" stroke=\"black\"/>\n",
       "</g>\n",
       "<!-- n[117]&#45;&gt;n[29] -->\n",
       "<g class=\"edge\" id=\"edge66\"><title>n[117]-&gt;n[29]</title>\n",
       "<path d=\"M-22.13,422.43C-23.277,387.95 -25.774,312.87 -27.142,271.75\" fill=\"none\" stroke=\"black\"/>\n",
       "<polygon fill=\"black\" points=\"-30.6451,271.711 -27.48,261.6 -23.649,271.478 -30.6451,271.711\" stroke=\"black\"/>\n",
       "</g>\n",
       "<!-- n[110] -->\n",
       "<g class=\"node\" id=\"node33\"><title>n[110]</title>\n",
       "<ellipse cx=\"-173.87\" cy=\"289.71\" fill=\"yellow\" rx=\"34.5\" ry=\"18\" stroke=\"black\"/>\n",
       "<text font-family=\"Times New Roman,serif\" font-size=\"14.00\" text-anchor=\"middle\" x=\"-173.87\" y=\"293.41\">n[110]</text>\n",
       "</g>\n",
       "<!-- n[117]&#45;&gt;n[110] -->\n",
       "<g class=\"edge\" id=\"edge67\"><title>n[117]-&gt;n[110]</title>\n",
       "<path d=\"M-37.828,424.48C-64.859,397.7 -119.06,344 -150.27,313.09\" fill=\"none\" stroke=\"black\"/>\n",
       "<polygon fill=\"black\" points=\"-153.039,315.274 -157.68,305.75 -148.112,310.301 -153.039,315.274\" stroke=\"black\"/>\n",
       "</g>\n",
       "<!-- n[77] -->\n",
       "<g class=\"node\" id=\"node34\"><title>n[77]</title>\n",
       "<ellipse cx=\"-183.81\" cy=\"335.31\" fill=\"none\" rx=\"30\" ry=\"18\" stroke=\"black\"/>\n",
       "<text font-family=\"Times New Roman,serif\" font-size=\"14.00\" text-anchor=\"middle\" x=\"-183.81\" y=\"339.01\">n[77]</text>\n",
       "</g>\n",
       "<!-- n[117]&#45;&gt;n[77] -->\n",
       "<g class=\"edge\" id=\"edge68\"><title>n[117]-&gt;n[77]</title>\n",
       "<path d=\"M-43.411,426.42C-72.197,407.74 -122.86,374.86 -154.81,354.13\" fill=\"none\" stroke=\"black\"/>\n",
       "<polygon fill=\"black\" points=\"-156.812,357.003 -163.29,348.62 -152.998,351.134 -156.812,357.003\" stroke=\"black\"/>\n",
       "</g>\n",
       "<!-- n[40]&#45;&gt;n[34] -->\n",
       "<g class=\"edge\" id=\"edge69\"><title>n[40]-&gt;n[34]</title>\n",
       "<path d=\"M341.78,238.19C320.6,209.6 276.94,150.66 252.06,117.07\" fill=\"none\" stroke=\"black\"/>\n",
       "<polygon fill=\"black\" points=\"249.014,118.838 245.87,108.72 254.637,114.669 249.014,118.838\" stroke=\"black\"/>\n",
       "</g>\n",
       "<!-- n[36] -->\n",
       "<g class=\"node\" id=\"node35\"><title>n[36]</title>\n",
       "<ellipse cx=\"97.903\" cy=\"160.07\" fill=\"none\" rx=\"30\" ry=\"18\" stroke=\"black\"/>\n",
       "<text font-family=\"Times New Roman,serif\" font-size=\"14.00\" text-anchor=\"middle\" x=\"97.903\" y=\"163.77\">n[36]</text>\n",
       "</g>\n",
       "<!-- n[40]&#45;&gt;n[36] -->\n",
       "<g class=\"edge\" id=\"edge70\"><title>n[40]-&gt;n[36]</title>\n",
       "<path d=\"M328.49,245.24C282.5,228.25 185.55,192.45 133.21,173.11\" fill=\"none\" stroke=\"black\"/>\n",
       "<polygon fill=\"black\" points=\"131.84,176.335 123.67,169.59 134.263,169.768 131.84,176.335\" stroke=\"black\"/>\n",
       "</g>\n",
       "<!-- n[37] -->\n",
       "<g class=\"node\" id=\"node36\"><title>n[37]</title>\n",
       "<ellipse cx=\"165.83\" cy=\"72.047\" fill=\"none\" rx=\"30\" ry=\"18\" stroke=\"black\"/>\n",
       "<text font-family=\"Times New Roman,serif\" font-size=\"14.00\" text-anchor=\"middle\" x=\"165.83\" y=\"75.747\">n[37]</text>\n",
       "</g>\n",
       "<!-- n[40]&#45;&gt;n[37] -->\n",
       "<g class=\"edge\" id=\"edge71\"><title>n[40]-&gt;n[37]</title>\n",
       "<path d=\"M337.94,239.09C304.61,206.74 227.78,132.17 189.04,94.579\" fill=\"none\" stroke=\"black\"/>\n",
       "<polygon fill=\"black\" points=\"186.565,97.0547 181.83,87.577 191.442,92.033 186.565,97.0547\" stroke=\"black\"/>\n",
       "</g>\n",
       "<!-- n[84] -->\n",
       "<g class=\"node\" id=\"node37\"><title>n[84]</title>\n",
       "<ellipse cx=\"285.99\" cy=\"293.57\" fill=\"none\" rx=\"30\" ry=\"18\" stroke=\"black\"/>\n",
       "<text font-family=\"Times New Roman,serif\" font-size=\"14.00\" text-anchor=\"middle\" x=\"285.99\" y=\"297.27\">n[84]</text>\n",
       "</g>\n",
       "<!-- n[112]&#45;&gt;n[84] -->\n",
       "<g class=\"edge\" id=\"edge72\"><title>n[112]-&gt;n[84]</title>\n",
       "<path d=\"M152.69,383.94C179.91,365.49 227.29,333.36 257.62,312.8\" fill=\"none\" stroke=\"black\"/>\n",
       "<polygon fill=\"black\" points=\"255.827,309.787 266.07,307.08 259.751,315.584 255.827,309.787\" stroke=\"black\"/>\n",
       "</g>\n",
       "<!-- n[66] -->\n",
       "<g class=\"node\" id=\"node38\"><title>n[66]</title>\n",
       "<ellipse cx=\"-101.47\" cy=\"248.97\" fill=\"none\" rx=\"30\" ry=\"18\" stroke=\"black\"/>\n",
       "<text font-family=\"Times New Roman,serif\" font-size=\"14.00\" text-anchor=\"middle\" x=\"-101.47\" y=\"252.67\">n[66]</text>\n",
       "</g>\n",
       "<!-- n[112]&#45;&gt;n[66] -->\n",
       "<g class=\"edge\" id=\"edge73\"><title>n[112]-&gt;n[66]</title>\n",
       "<path d=\"M109.62,384.23C67.47,357.23 -24.872,298.05 -72.213,267.71\" fill=\"none\" stroke=\"black\"/>\n",
       "<polygon fill=\"black\" points=\"-74.2489,270.562 -80.78,262.22 -70.472,264.669 -74.2489,270.562\" stroke=\"black\"/>\n",
       "</g>\n",
       "<!-- n[75] -->\n",
       "<g class=\"node\" id=\"node39\"><title>n[75]</title>\n",
       "<ellipse cx=\"65.096\" cy=\"310.21\" fill=\"yellow\" rx=\"30\" ry=\"18\" stroke=\"black\"/>\n",
       "<text font-family=\"Times New Roman,serif\" font-size=\"14.00\" text-anchor=\"middle\" x=\"65.096\" y=\"313.91\">n[75]</text>\n",
       "</g>\n",
       "<!-- n[112]&#45;&gt;n[75] -->\n",
       "<g class=\"edge\" id=\"edge74\"><title>n[112]-&gt;n[75]</title>\n",
       "<path d=\"M118.73,381.3C108.83,368.18 94.983,349.83 83.84,335.06\" fill=\"none\" stroke=\"black\"/>\n",
       "<polygon fill=\"black\" points=\"80.8679,336.932 77.642,326.84 86.4571,332.717 80.8679,336.932\" stroke=\"black\"/>\n",
       "</g>\n",
       "<!-- n[110]&#45;&gt;T -->\n",
       "<g class=\"edge\" id=\"edge75\"><title>n[110]-&gt;T</title>\n",
       "<path d=\"M-200.49,301.19C-205.65,303.41 -211.1,305.76 -216.41,308.06\" fill=\"none\" stroke=\"black\"/>\n",
       "<polygon fill=\"black\" points=\"-215.161,311.333 -225.73,312.07 -217.927,304.903 -215.161,311.333\" stroke=\"black\"/>\n",
       "</g>\n",
       "<!-- n[39] -->\n",
       "<g class=\"node\" id=\"node40\"><title>n[39]</title>\n",
       "<ellipse cx=\"-3.2446\" cy=\"152.25\" fill=\"none\" rx=\"30\" ry=\"18\" stroke=\"black\"/>\n",
       "<text font-family=\"Times New Roman,serif\" font-size=\"14.00\" text-anchor=\"middle\" x=\"-3.2446\" y=\"155.95\">n[39]</text>\n",
       "</g>\n",
       "<!-- n[110]&#45;&gt;n[39] -->\n",
       "<g class=\"edge\" id=\"edge76\"><title>n[110]-&gt;n[39]</title>\n",
       "<path d=\"M-154.96,274.48C-124.27,249.76 -63.596,200.87 -28.999,173\" fill=\"none\" stroke=\"black\"/>\n",
       "<polygon fill=\"black\" points=\"-31.1945,170.274 -21.21,166.73 -26.805,175.727 -31.1945,170.274\" stroke=\"black\"/>\n",
       "</g>\n",
       "<!-- n[63] -->\n",
       "<g class=\"node\" id=\"node41\"><title>n[63]</title>\n",
       "<ellipse cx=\"-12.44\" cy=\"287.46\" fill=\"none\" rx=\"30\" ry=\"18\" stroke=\"black\"/>\n",
       "<text font-family=\"Times New Roman,serif\" font-size=\"14.00\" text-anchor=\"middle\" x=\"-12.44\" y=\"291.16\">n[63]</text>\n",
       "</g>\n",
       "<!-- n[110]&#45;&gt;n[63] -->\n",
       "<g class=\"edge\" id=\"edge77\"><title>n[110]-&gt;n[63]</title>\n",
       "<path d=\"M-139.24,289.23C-113.8,288.87 -79.186,288.39 -52.547,288.02\" fill=\"none\" stroke=\"black\"/>\n",
       "<polygon fill=\"black\" points=\"-52.4484,284.518 -42.401,287.88 -52.3517,291.518 -52.4484,284.518\" stroke=\"black\"/>\n",
       "</g>\n",
       "<!-- n[64] -->\n",
       "<g class=\"node\" id=\"node42\"><title>n[64]</title>\n",
       "<ellipse cx=\"-223.75\" cy=\"54.626\" fill=\"none\" rx=\"30\" ry=\"18\" stroke=\"black\"/>\n",
       "<text font-family=\"Times New Roman,serif\" font-size=\"14.00\" text-anchor=\"middle\" x=\"-223.75\" y=\"58.326\">n[64]</text>\n",
       "</g>\n",
       "<!-- n[110]&#45;&gt;n[64] -->\n",
       "<g class=\"edge\" id=\"edge78\"><title>n[110]-&gt;n[64]</title>\n",
       "<path d=\"M-177.7,271.66C-186.35,230.89 -207.44,131.47 -217.8,82.635\" fill=\"none\" stroke=\"black\"/>\n",
       "<polygon fill=\"black\" points=\"-221.247,83.2529 -219.9,72.744 -214.399,81.799 -221.247,83.2529\" stroke=\"black\"/>\n",
       "</g>\n",
       "<!-- n[77]&#45;&gt;n[66] -->\n",
       "<g class=\"edge\" id=\"edge79\"><title>n[77]-&gt;n[66]</title>\n",
       "<path d=\"M-168.71,319.47C-156.06,306.2 -137.82,287.09 -123.54,272.11\" fill=\"none\" stroke=\"black\"/>\n",
       "<polygon fill=\"black\" points=\"-125.905,269.519 -116.47,264.7 -120.841,274.351 -125.905,269.519\" stroke=\"black\"/>\n",
       "</g>\n",
       "<!-- n[77]&#45;&gt;n[64] -->\n",
       "<g class=\"edge\" id=\"edge81\"><title>n[77]-&gt;n[64]</title>\n",
       "<path d=\"M-186.37,317.32C-193.13,269.81 -211.51,140.65 -219.7,83.032\" fill=\"none\" stroke=\"black\"/>\n",
       "<polygon fill=\"black\" points=\"-223.209,83.2199 -221.16,72.825 -216.279,82.2286 -223.209,83.2199\" stroke=\"black\"/>\n",
       "</g>\n",
       "<!-- n[62] -->\n",
       "<g class=\"node\" id=\"node43\"><title>n[62]</title>\n",
       "<ellipse cx=\"161.01\" cy=\"300.84\" fill=\"none\" rx=\"30\" ry=\"18\" stroke=\"black\"/>\n",
       "<text font-family=\"Times New Roman,serif\" font-size=\"14.00\" text-anchor=\"middle\" x=\"161.01\" y=\"304.54\">n[62]</text>\n",
       "</g>\n",
       "<!-- n[77]&#45;&gt;n[62] -->\n",
       "<g class=\"edge\" id=\"edge80\"><title>n[77]-&gt;n[62]</title>\n",
       "<path d=\"M-154.11,332.34C-92.115,326.14 51.112,311.82 121.08,304.83\" fill=\"none\" stroke=\"black\"/>\n",
       "<polygon fill=\"black\" points=\"120.961,301.324 131.26,303.81 121.659,308.29 120.961,301.324\" stroke=\"black\"/>\n",
       "</g>\n",
       "<!-- n[36]&#45;&gt;n[34] -->\n",
       "<g class=\"edge\" id=\"edge82\"><title>n[36]-&gt;n[34]</title>\n",
       "<path d=\"M120.93,148.56C143.06,137.49 176.71,120.67 201.48,108.28\" fill=\"none\" stroke=\"black\"/>\n",
       "<polygon fill=\"black\" points=\"199.981,105.116 210.49,103.77 203.114,111.376 199.981,105.116\" stroke=\"black\"/>\n",
       "</g>\n",
       "<!-- n[33] -->\n",
       "<g class=\"node\" id=\"node44\"><title>n[33]</title>\n",
       "<ellipse cx=\"30.06\" cy=\"199.43\" fill=\"none\" rx=\"30\" ry=\"18\" stroke=\"black\"/>\n",
       "<text font-family=\"Times New Roman,serif\" font-size=\"14.00\" text-anchor=\"middle\" x=\"30.06\" y=\"203.13\">n[33]</text>\n",
       "</g>\n",
       "<!-- n[36]&#45;&gt;n[33] -->\n",
       "<g class=\"edge\" id=\"edge83\"><title>n[36]-&gt;n[33]</title>\n",
       "<path d=\"M76.063,172.74C71.221,175.55 66.002,178.58 60.877,181.55\" fill=\"none\" stroke=\"black\"/>\n",
       "<polygon fill=\"black\" points=\"62.2645,184.791 51.858,186.78 58.753,178.736 62.2645,184.791\" stroke=\"black\"/>\n",
       "</g>\n",
       "<!-- n[17] -->\n",
       "<g class=\"node\" id=\"node45\"><title>n[17]</title>\n",
       "<ellipse cx=\"-161.06\" cy=\"162.77\" fill=\"none\" rx=\"30\" ry=\"18\" stroke=\"black\"/>\n",
       "<text font-family=\"Times New Roman,serif\" font-size=\"14.00\" text-anchor=\"middle\" x=\"-161.06\" y=\"166.47\">n[17]</text>\n",
       "</g>\n",
       "<!-- n[36]&#45;&gt;n[17] -->\n",
       "<g class=\"edge\" id=\"edge84\"><title>n[36]-&gt;n[17]</title>\n",
       "<path d=\"M67.943,160.38C21.358,160.87 -68.506,161.8 -120.74,162.35\" fill=\"none\" stroke=\"black\"/>\n",
       "<polygon fill=\"black\" points=\"-120.933,165.852 -130.97,162.46 -121.008,158.853 -120.933,165.852\" stroke=\"black\"/>\n",
       "</g>\n",
       "<!-- n[37]&#45;&gt;n[18] -->\n",
       "<g class=\"edge\" id=\"edge85\"><title>n[37]-&gt;n[18]</title>\n",
       "<path d=\"M176.36,54.955C186.97,37.74 203.47,10.973 215.63,-8.767\" fill=\"none\" stroke=\"black\"/>\n",
       "<polygon fill=\"black\" points=\"212.653,-10.6073 220.88,-17.283 218.612,-6.93385 212.653,-10.6073\" stroke=\"black\"/>\n",
       "</g>\n",
       "<!-- n[37]&#45;&gt;n[27] -->\n",
       "<g class=\"edge\" id=\"edge86\"><title>n[37]-&gt;n[27]</title>\n",
       "<path d=\"M137.9,78.758C92.589,89.646 2.9904,111.18 -48.101,123.46\" fill=\"none\" stroke=\"black\"/>\n",
       "<polygon fill=\"black\" points=\"-47.5449,126.926 -58.085,125.85 -49.1746,120.118 -47.5449,126.926\" stroke=\"black\"/>\n",
       "</g>\n",
       "<!-- n[37]&#45;&gt;n[13] -->\n",
       "<g class=\"edge\" id=\"edge87\"><title>n[37]-&gt;n[13]</title>\n",
       "<path d=\"M140.36,62.117C91.566,43.093 -15.145,1.4867 -70.313,-20.023\" fill=\"none\" stroke=\"black\"/>\n",
       "<polygon fill=\"black\" points=\"-71.6236,-16.7773 -79.669,-23.671 -69.0807,-23.2991 -71.6236,-16.7773\" stroke=\"black\"/>\n",
       "</g>\n",
       "<!-- n[84]&#45;&gt;n[40] -->\n",
       "<g class=\"edge\" id=\"edge88\"><title>n[84]-&gt;n[40]</title>\n",
       "<path d=\"M307.87,281.05C312.73,278.27 317.96,275.27 323.1,272.33\" fill=\"none\" stroke=\"black\"/>\n",
       "<polygon fill=\"black\" points=\"321.713,269.091 332.13,267.16 325.191,275.166 321.713,269.091\" stroke=\"black\"/>\n",
       "</g>\n",
       "<!-- n[51] -->\n",
       "<g class=\"node\" id=\"node46\"><title>n[51]</title>\n",
       "<ellipse cx=\"369.29\" cy=\"63.46\" fill=\"none\" rx=\"30\" ry=\"18\" stroke=\"black\"/>\n",
       "<text font-family=\"Times New Roman,serif\" font-size=\"14.00\" text-anchor=\"middle\" x=\"369.29\" y=\"67.16\">n[51]</text>\n",
       "</g>\n",
       "<!-- n[84]&#45;&gt;n[51] -->\n",
       "<g class=\"edge\" id=\"edge89\"><title>n[84]-&gt;n[51]</title>\n",
       "<path d=\"M292.39,275.9C306.83,235.99 342.06,138.68 359.37,90.876\" fill=\"none\" stroke=\"black\"/>\n",
       "<polygon fill=\"black\" points=\"356.178,89.4093 362.87,81.195 362.761,91.7893 356.178,89.4093\" stroke=\"black\"/>\n",
       "</g>\n",
       "<!-- n[69] -->\n",
       "<g class=\"node\" id=\"node47\"><title>n[69]</title>\n",
       "<ellipse cx=\"443.2\" cy=\"-95.049\" fill=\"none\" rx=\"30\" ry=\"18\" stroke=\"black\"/>\n",
       "<text font-family=\"Times New Roman,serif\" font-size=\"14.00\" text-anchor=\"middle\" x=\"443.2\" y=\"-91.349\">n[69]</text>\n",
       "</g>\n",
       "<!-- n[84]&#45;&gt;n[69] -->\n",
       "<g class=\"edge\" id=\"edge90\"><title>n[84]-&gt;n[69]</title>\n",
       "<path d=\"M293.15,275.86C318.16,214.03 401.74,7.4286 432.08,-67.558\" fill=\"none\" stroke=\"black\"/>\n",
       "<polygon fill=\"black\" points=\"429.002,-69.2822 436,-77.237 435.49,-66.6544 429.002,-69.2822\" stroke=\"black\"/>\n",
       "</g>\n",
       "<!-- n[66]&#45;&gt;n[17] -->\n",
       "<g class=\"edge\" id=\"edge93\"><title>n[66]-&gt;n[17]</title>\n",
       "<path d=\"M-112.96,232.35C-121.64,219.79 -133.71,202.33 -143.59,188.05\" fill=\"none\" stroke=\"black\"/>\n",
       "<polygon fill=\"black\" points=\"-146.601,189.849 -149.4,179.63 -140.84,185.873 -146.601,189.849\" stroke=\"black\"/>\n",
       "</g>\n",
       "<!-- n[38] -->\n",
       "<g class=\"node\" id=\"node48\"><title>n[38]</title>\n",
       "<ellipse cx=\"-165.63\" cy=\"10.527\" fill=\"none\" rx=\"30\" ry=\"18\" stroke=\"black\"/>\n",
       "<text font-family=\"Times New Roman,serif\" font-size=\"14.00\" text-anchor=\"middle\" x=\"-165.63\" y=\"14.227\">n[38]</text>\n",
       "</g>\n",
       "<!-- n[66]&#45;&gt;n[38] -->\n",
       "<g class=\"edge\" id=\"edge91\"><title>n[66]-&gt;n[38]</title>\n",
       "<path d=\"M-106.29,231.04C-117.42,189.69 -144.95,87.368 -158.24,38.017\" fill=\"none\" stroke=\"black\"/>\n",
       "<polygon fill=\"black\" points=\"-161.628,38.8965 -160.84,28.331 -154.867,37.0817 -161.628,38.8965\" stroke=\"black\"/>\n",
       "</g>\n",
       "<!-- n[46] -->\n",
       "<g class=\"node\" id=\"node49\"><title>n[46]</title>\n",
       "<ellipse cx=\"129.76\" cy=\"116.06\" fill=\"none\" rx=\"30\" ry=\"18\" stroke=\"black\"/>\n",
       "<text font-family=\"Times New Roman,serif\" font-size=\"14.00\" text-anchor=\"middle\" x=\"129.76\" y=\"119.76\">n[46]</text>\n",
       "</g>\n",
       "<!-- n[66]&#45;&gt;n[46] -->\n",
       "<g class=\"edge\" id=\"edge92\"><title>n[66]-&gt;n[46]</title>\n",
       "<path d=\"M-79.714,236.46C-38.398,212.71 51.527,161.03 98.994,133.74\" fill=\"none\" stroke=\"black\"/>\n",
       "<polygon fill=\"black\" points=\"97.4754,130.576 107.89,128.63 100.962,136.646 97.4754,130.576\" stroke=\"black\"/>\n",
       "</g>\n",
       "<!-- n[75]&#45;&gt;n[34] -->\n",
       "<g class=\"edge\" id=\"edge94\"><title>n[75]-&gt;n[34]</title>\n",
       "<path d=\"M77.764,293.82C107.11,255.87 179.87,161.74 214.6,116.82\" fill=\"none\" stroke=\"black\"/>\n",
       "<polygon fill=\"black\" points=\"211.933,114.548 220.82,108.78 217.469,118.831 211.933,114.548\" stroke=\"black\"/>\n",
       "</g>\n",
       "<!-- n[75]&#45;&gt;n[5] -->\n",
       "<g class=\"edge\" id=\"edge95\"><title>n[75]-&gt;n[5]</title>\n",
       "<path d=\"M70.919,292.13C86.37,244.14 128.49,113.34 147.02,55.8\" fill=\"none\" stroke=\"black\"/>\n",
       "<polygon fill=\"black\" points=\"143.796,54.3937 150.19,45.946 150.459,56.5374 143.796,54.3937\" stroke=\"black\"/>\n",
       "</g>\n",
       "<!-- n[75]&#45;&gt;T -->\n",
       "<g class=\"edge\" id=\"edge96\"><title>n[75]-&gt;T</title>\n",
       "<path d=\"M35,311.34C-22.585,313.51 -148.22,318.23 -211.21,320.6\" fill=\"none\" stroke=\"black\"/>\n",
       "<polygon fill=\"black\" points=\"-211.364,324.108 -221.49,320.99 -211.63,317.113 -211.364,324.108\" stroke=\"black\"/>\n",
       "</g>\n",
       "<!-- n[12] -->\n",
       "<g class=\"node\" id=\"node50\"><title>n[12]</title>\n",
       "<ellipse cx=\"-155.16\" cy=\"75.506\" fill=\"none\" rx=\"30\" ry=\"18\" stroke=\"black\"/>\n",
       "<text font-family=\"Times New Roman,serif\" font-size=\"14.00\" text-anchor=\"middle\" x=\"-155.16\" y=\"79.206\">n[12]</text>\n",
       "</g>\n",
       "<!-- n[75]&#45;&gt;n[12] -->\n",
       "<g class=\"edge\" id=\"edge97\"><title>n[75]-&gt;n[12]</title>\n",
       "<path d=\"M50.302,294.45C12.293,253.94 -88.92,146.09 -133.53,98.557\" fill=\"none\" stroke=\"black\"/>\n",
       "<polygon fill=\"black\" points=\"-136.141,100.889 -140.43,91.201 -131.036,96.1 -136.141,100.889\" stroke=\"black\"/>\n",
       "</g>\n",
       "<!-- n[39]&#45;&gt;n[6] -->\n",
       "<g class=\"edge\" id=\"edge140\"><title>n[39]-&gt;n[6]</title>\n",
       "<path d=\"M-12.212,134.91C-32.948,94.798 -84.316,-4.5653 -108.95,-52.215\" fill=\"none\" stroke=\"black\"/>\n",
       "<polygon fill=\"black\" points=\"-112.158,-50.7993 -113.64,-61.29 -105.939,-54.0132 -112.158,-50.7993\" stroke=\"black\"/>\n",
       "</g>\n",
       "<!-- n[39]&#45;&gt;n[27] -->\n",
       "<g class=\"edge\" id=\"edge141\"><title>n[39]-&gt;n[27]</title>\n",
       "<path d=\"M-31.308,145.6C-36.71,144.32 -42.451,142.96 -48.107,141.61\" fill=\"none\" stroke=\"black\"/>\n",
       "<polygon fill=\"black\" points=\"-49.1802,144.953 -58.103,139.24 -47.5653,138.141 -49.1802,144.953\" stroke=\"black\"/>\n",
       "</g>\n",
       "<!-- n[24] -->\n",
       "<g class=\"node\" id=\"node66\"><title>n[24]</title>\n",
       "<ellipse cx=\"93.264\" cy=\"-234.65\" fill=\"none\" rx=\"30\" ry=\"18\" stroke=\"black\"/>\n",
       "<text font-family=\"Times New Roman,serif\" font-size=\"14.00\" text-anchor=\"middle\" x=\"93.264\" y=\"-230.95\">n[24]</text>\n",
       "</g>\n",
       "<!-- n[39]&#45;&gt;n[24] -->\n",
       "<g class=\"edge\" id=\"edge142\"><title>n[39]-&gt;n[24]</title>\n",
       "<path d=\"M1.2167,134.37C16.587,72.75 67.424,-131.06 86.208,-206.36\" fill=\"none\" stroke=\"black\"/>\n",
       "<polygon fill=\"black\" points=\"82.9234,-207.654 88.739,-216.51 89.7154,-205.96 82.9234,-207.654\" stroke=\"black\"/>\n",
       "</g>\n",
       "<!-- n[63]&#45;&gt;n[4] -->\n",
       "<g class=\"edge\" id=\"edge258\"><title>n[63]-&gt;n[4]</title>\n",
       "<path d=\"M-13.664,269.41C-17.797,208.47 -31.255,10.042 -36.272,-63.937\" fill=\"none\" stroke=\"black\"/>\n",
       "<polygon fill=\"black\" points=\"-39.7641,-63.704 -36.949,-73.918 -32.7802,-64.1778 -39.7641,-63.704\" stroke=\"black\"/>\n",
       "</g>\n",
       "<!-- n[56] -->\n",
       "<g class=\"node\" id=\"node59\"><title>n[56]</title>\n",
       "<ellipse cx=\"301.49\" cy=\"51.978\" fill=\"none\" rx=\"30\" ry=\"18\" stroke=\"black\"/>\n",
       "<text font-family=\"Times New Roman,serif\" font-size=\"14.00\" text-anchor=\"middle\" x=\"301.49\" y=\"55.678\">n[56]</text>\n",
       "</g>\n",
       "<!-- n[63]&#45;&gt;n[56] -->\n",
       "<g class=\"edge\" id=\"edge260\"><title>n[63]-&gt;n[56]</title>\n",
       "<path d=\"M6.7249,273.08C60.378,232.84 212.22,118.94 274.41,72.288\" fill=\"none\" stroke=\"black\"/>\n",
       "<polygon fill=\"black\" points=\"272.47,69.3676 282.57,66.166 276.671,74.967 272.47,69.3676\" stroke=\"black\"/>\n",
       "</g>\n",
       "<!-- n[8] -->\n",
       "<g class=\"node\" id=\"node71\"><title>n[8]</title>\n",
       "<ellipse cx=\"-12.642\" cy=\"62.012\" fill=\"none\" rx=\"27\" ry=\"18\" stroke=\"black\"/>\n",
       "<text font-family=\"Times New Roman,serif\" font-size=\"14.00\" text-anchor=\"middle\" x=\"-12.642\" y=\"65.712\">n[8]</text>\n",
       "</g>\n",
       "<!-- n[63]&#45;&gt;n[8] -->\n",
       "<g class=\"edge\" id=\"edge259\"><title>n[63]-&gt;n[8]</title>\n",
       "<path d=\"M-12.456,269.39C-12.491,230.23 -12.574,137.27 -12.616,90.267\" fill=\"none\" stroke=\"black\"/>\n",
       "<polygon fill=\"black\" points=\"-16.116,90.1691 -12.625,80.166 -9.11599,90.1628 -16.116,90.1691\" stroke=\"black\"/>\n",
       "</g>\n",
       "<!-- n[64]&#45;&gt;n[4] -->\n",
       "<g class=\"edge\" id=\"edge261\"><title>n[64]-&gt;n[4]</title>\n",
       "<path d=\"M-205.61,40.293C-172.46,14.084 -101.99,-41.634 -63.897,-71.748\" fill=\"none\" stroke=\"black\"/>\n",
       "<polygon fill=\"black\" points=\"-65.8555,-74.6613 -55.84,-78.117 -61.5145,-69.1699 -65.8555,-74.6613\" stroke=\"black\"/>\n",
       "</g>\n",
       "<!-- n[64]&#45;&gt;n[10] -->\n",
       "<g class=\"edge\" id=\"edge262\"><title>n[64]-&gt;n[10]</title>\n",
       "<path d=\"M-195.03,48.919C-163.06,42.564 -111.23,32.263 -75.78,25.217\" fill=\"none\" stroke=\"black\"/>\n",
       "<polygon fill=\"black\" points=\"-76.2874,21.7495 -65.797,23.233 -74.9229,28.6152 -76.2874,21.7495\" stroke=\"black\"/>\n",
       "</g>\n",
       "<!-- n[16] -->\n",
       "<g class=\"node\" id=\"node65\"><title>n[16]</title>\n",
       "<ellipse cx=\"95.691\" cy=\"-45.182\" fill=\"none\" rx=\"30\" ry=\"18\" stroke=\"black\"/>\n",
       "<text font-family=\"Times New Roman,serif\" font-size=\"14.00\" text-anchor=\"middle\" x=\"95.691\" y=\"-41.482\">n[16]</text>\n",
       "</g>\n",
       "<!-- n[64]&#45;&gt;n[16] -->\n",
       "<g class=\"edge\" id=\"edge263\"><title>n[64]-&gt;n[16]</title>\n",
       "<path d=\"M-197.06,46.288C-139.98,28.455 -5.9716,-13.417 59.038,-33.73\" fill=\"none\" stroke=\"black\"/>\n",
       "<polygon fill=\"black\" points=\"58.2682,-37.1563 68.857,-36.798 60.3559,-30.4748 58.2682,-37.1563\" stroke=\"black\"/>\n",
       "</g>\n",
       "<!-- n[62]&#45;&gt;n[46] -->\n",
       "<g class=\"edge\" id=\"edge150\"><title>n[62]-&gt;n[46]</title>\n",
       "<path d=\"M157.95,282.78C152.49,250.49 141.02,182.64 134.52,144.2\" fill=\"none\" stroke=\"black\"/>\n",
       "<polygon fill=\"black\" points=\"131.044,144.635 132.82,134.19 137.945,143.463 131.044,144.635\" stroke=\"black\"/>\n",
       "</g>\n",
       "<!-- n[50] -->\n",
       "<g class=\"node\" id=\"node68\"><title>n[50]</title>\n",
       "<ellipse cx=\"-322.94\" cy=\"128.91\" fill=\"none\" rx=\"30\" ry=\"18\" stroke=\"black\"/>\n",
       "<text font-family=\"Times New Roman,serif\" font-size=\"14.00\" text-anchor=\"middle\" x=\"-322.94\" y=\"132.61\">n[50]</text>\n",
       "</g>\n",
       "<!-- n[62]&#45;&gt;n[50] -->\n",
       "<g class=\"edge\" id=\"edge149\"><title>n[62]-&gt;n[50]</title>\n",
       "<path d=\"M134.99,291.59C53.818,262.76 -194.85,174.42 -287.58,141.47\" fill=\"none\" stroke=\"black\"/>\n",
       "<polygon fill=\"black\" points=\"-288.826,144.742 -297.08,138.1 -286.485,138.145 -288.826,144.742\" stroke=\"black\"/>\n",
       "</g>\n",
       "<!-- n[60] -->\n",
       "<g class=\"node\" id=\"node69\"><title>n[60]</title>\n",
       "<ellipse cx=\"177.64\" cy=\"-78.358\" fill=\"none\" rx=\"30\" ry=\"18\" stroke=\"black\"/>\n",
       "<text font-family=\"Times New Roman,serif\" font-size=\"14.00\" text-anchor=\"middle\" x=\"177.64\" y=\"-74.658\">n[60]</text>\n",
       "</g>\n",
       "<!-- n[62]&#45;&gt;n[60] -->\n",
       "<g class=\"edge\" id=\"edge151\"><title>n[62]-&gt;n[60]</title>\n",
       "<path d=\"M161.8,282.8C164.46,222.04 173.13,24.482 176.38,-49.786\" fill=\"none\" stroke=\"black\"/>\n",
       "<polygon fill=\"black\" points=\"172.903,-50.377 176.84,-60.213 179.896,-50.0684 172.903,-50.377\" stroke=\"black\"/>\n",
       "</g>\n",
       "<!-- n[33]&#45;&gt;n[18] -->\n",
       "<g class=\"edge\" id=\"edge164\"><title>n[33]-&gt;n[18]</title>\n",
       "<path d=\"M43.898,183.36C78.665,142.99 169.82,37.147 210.85,-10.492\" fill=\"none\" stroke=\"black\"/>\n",
       "<polygon fill=\"black\" points=\"208.271,-12.8608 217.45,-18.152 213.574,-8.29157 208.271,-12.8608\" stroke=\"black\"/>\n",
       "</g>\n",
       "<!-- n[33]&#45;&gt;n[0] -->\n",
       "<g class=\"edge\" id=\"edge165\"><title>n[33]-&gt;n[0]</title>\n",
       "<path d=\"M30.122,181.38C30.243,145.87 30.515,66.713 30.66,24.242\" fill=\"none\" stroke=\"black\"/>\n",
       "<polygon fill=\"black\" points=\"27.1606,24.0259 30.695,14.038 34.1606,24.05 27.1606,24.0259\" stroke=\"black\"/>\n",
       "</g>\n",
       "<!-- n[33]&#45;&gt;n[8] -->\n",
       "<g class=\"edge\" id=\"edge166\"><title>n[33]-&gt;n[8]</title>\n",
       "<path d=\"M24.477,181.47C17.221,158.11 4.4734,117.09 -4.0277,89.732\" fill=\"none\" stroke=\"black\"/>\n",
       "<polygon fill=\"black\" points=\"-7.43257,90.5692 -7.0577,79.981 -0.747866,88.492 -7.43257,90.5692\" stroke=\"black\"/>\n",
       "</g>\n",
       "<!-- n[17]&#45;&gt;n[13] -->\n",
       "<g class=\"edge\" id=\"edge243\"><title>n[17]-&gt;n[13]</title>\n",
       "<path d=\"M-155.98,145.01C-146.16,110.72 -124.54,35.19 -112.81,-5.771\" fill=\"none\" stroke=\"black\"/>\n",
       "<polygon fill=\"black\" points=\"-116.105,-6.97978 -109.99,-15.632 -109.374,-5.05506 -116.105,-6.97978\" stroke=\"black\"/>\n",
       "</g>\n",
       "<!-- n[17]&#45;&gt;n[12] -->\n",
       "<g class=\"edge\" id=\"edge245\"><title>n[17]-&gt;n[12]</title>\n",
       "<path d=\"M-159.84,144.69C-159.04,132.87 -157.98,117.19 -157.07,103.75\" fill=\"none\" stroke=\"black\"/>\n",
       "<polygon fill=\"black\" points=\"-160.548,103.305 -156.38,93.564 -153.564,103.778 -160.548,103.305\" stroke=\"black\"/>\n",
       "</g>\n",
       "<!-- n[17]&#45;&gt;n[16] -->\n",
       "<g class=\"edge\" id=\"edge244\"><title>n[17]-&gt;n[16]</title>\n",
       "<path d=\"M-143.01,148.15C-98.26,111.9 17.903,17.82 69.886,-24.282\" fill=\"none\" stroke=\"black\"/>\n",
       "<polygon fill=\"black\" points=\"67.6829,-27.0016 77.657,-30.575 72.0883,-21.5617 67.6829,-27.0016\" stroke=\"black\"/>\n",
       "</g>\n",
       "<!-- n[51]&#45;&gt;n[34] -->\n",
       "<g class=\"edge\" id=\"edge116\"><title>n[51]-&gt;n[34]</title>\n",
       "<path d=\"M340.85,69.485C320.87,73.72 293.89,79.434 272,84.072\" fill=\"none\" stroke=\"black\"/>\n",
       "<polygon fill=\"black\" points=\"272.538,87.5356 262.03,86.184 271.088,80.6875 272.538,87.5356\" stroke=\"black\"/>\n",
       "</g>\n",
       "<!-- n[51]&#45;&gt;n[10] -->\n",
       "<g class=\"edge\" id=\"edge118\"><title>n[51]-&gt;n[10]</title>\n",
       "<path d=\"M339.72,60.124C267.83,52.013 83.85,31.255 2.4336,22.069\" fill=\"none\" stroke=\"black\"/>\n",
       "<polygon fill=\"black\" points=\"1.65157,25.5031 -7.893,20.904 2.43636,18.5472 1.65157,25.5031\" stroke=\"black\"/>\n",
       "</g>\n",
       "<!-- n[51]&#45;&gt;n[40] -->\n",
       "<g class=\"edge\" id=\"edge117\"><title>n[51]-&gt;n[40]</title>\n",
       "<path d=\"M367.85,81.448C365.18,114.83 359.43,186.58 356.24,226.47\" fill=\"none\" stroke=\"black\"/>\n",
       "<polygon fill=\"black\" points=\"359.718,226.891 355.43,236.58 352.74,226.332 359.718,226.891\" stroke=\"black\"/>\n",
       "</g>\n",
       "<!-- n[26] -->\n",
       "<g class=\"node\" id=\"node52\"><title>n[26]</title>\n",
       "<ellipse cx=\"207.16\" cy=\"-158.4\" fill=\"none\" rx=\"30\" ry=\"18\" stroke=\"black\"/>\n",
       "<text font-family=\"Times New Roman,serif\" font-size=\"14.00\" text-anchor=\"middle\" x=\"207.16\" y=\"-154.7\">n[26]</text>\n",
       "</g>\n",
       "<!-- n[69]&#45;&gt;n[26] -->\n",
       "<g class=\"edge\" id=\"edge119\"><title>n[69]-&gt;n[26]</title>\n",
       "<path d=\"M415.66,-102.44C373.29,-113.81 292.02,-135.62 244.43,-148.4\" fill=\"none\" stroke=\"black\"/>\n",
       "<polygon fill=\"black\" points=\"243.276,-145.085 234.52,-151.05 245.085,-151.848 243.276,-145.085\" stroke=\"black\"/>\n",
       "</g>\n",
       "<!-- n[67] -->\n",
       "<g class=\"node\" id=\"node56\"><title>n[67]</title>\n",
       "<ellipse cx=\"368.01\" cy=\"111.67\" fill=\"none\" rx=\"30\" ry=\"18\" stroke=\"black\"/>\n",
       "<text font-family=\"Times New Roman,serif\" font-size=\"14.00\" text-anchor=\"middle\" x=\"368.01\" y=\"115.37\">n[67]</text>\n",
       "</g>\n",
       "<!-- n[69]&#45;&gt;n[67] -->\n",
       "<g class=\"edge\" id=\"edge120\"><title>n[69]-&gt;n[67]</title>\n",
       "<path d=\"M436.79,-77.424C423.67,-41.358 393.68,41.091 377.99,84.224\" fill=\"none\" stroke=\"black\"/>\n",
       "<polygon fill=\"black\" points=\"381.216,85.5937 374.51,93.796 374.638,83.2019 381.216,85.5937\" stroke=\"black\"/>\n",
       "</g>\n",
       "<!-- n[58] -->\n",
       "<g class=\"node\" id=\"node57\"><title>n[58]</title>\n",
       "<ellipse cx=\"27.03\" cy=\"-285.96\" fill=\"none\" rx=\"30\" ry=\"18\" stroke=\"black\"/>\n",
       "<text font-family=\"Times New Roman,serif\" font-size=\"14.00\" text-anchor=\"middle\" x=\"27.03\" y=\"-282.26\">n[58]</text>\n",
       "</g>\n",
       "<!-- n[69]&#45;&gt;n[58] -->\n",
       "<g class=\"edge\" id=\"edge121\"><title>n[69]-&gt;n[58]</title>\n",
       "<path d=\"M419.33,-106C348.88,-138.32 141.67,-233.37 60.34,-270.68\" fill=\"none\" stroke=\"black\"/>\n",
       "<polygon fill=\"black\" points=\"58.6901,-267.586 51.063,-274.94 61.6113,-273.948 58.6901,-267.586\" stroke=\"black\"/>\n",
       "</g>\n",
       "<!-- n[38]&#45;&gt;n[22] -->\n",
       "<g class=\"edge\" id=\"edge113\"><title>n[38]-&gt;n[22]</title>\n",
       "<path d=\"M-141.71,-0.32377C-100.9,-18.83 -17.758,-56.534 28.685,-77.596\" fill=\"none\" stroke=\"black\"/>\n",
       "<polygon fill=\"black\" points=\"27.4572,-80.8822 38.01,-81.825 30.3484,-74.5072 27.4572,-80.8822\" stroke=\"black\"/>\n",
       "</g>\n",
       "<!-- n[38]&#45;&gt;n[6] -->\n",
       "<g class=\"edge\" id=\"edge114\"><title>n[38]-&gt;n[6]</title>\n",
       "<path d=\"M-157.12,-7.0667C-150.89,-19.956 -142.32,-37.669 -135.27,-52.234\" fill=\"none\" stroke=\"black\"/>\n",
       "<polygon fill=\"black\" points=\"-138.405,-53.7907 -130.9,-61.269 -132.103,-50.7427 -138.405,-53.7907\" stroke=\"black\"/>\n",
       "</g>\n",
       "<!-- n[23] -->\n",
       "<g class=\"node\" id=\"node55\"><title>n[23]</title>\n",
       "<ellipse cx=\"-108.69\" cy=\"-229.26\" fill=\"none\" rx=\"30\" ry=\"18\" stroke=\"black\"/>\n",
       "<text font-family=\"Times New Roman,serif\" font-size=\"14.00\" text-anchor=\"middle\" x=\"-108.69\" y=\"-225.56\">n[23]</text>\n",
       "</g>\n",
       "<!-- n[38]&#45;&gt;n[23] -->\n",
       "<g class=\"edge\" id=\"edge115\"><title>n[38]-&gt;n[23]</title>\n",
       "<path d=\"M-161.35,-7.4961C-151.48,-49.084 -127.04,-151.98 -115.25,-201.61\" fill=\"none\" stroke=\"black\"/>\n",
       "<polygon fill=\"black\" points=\"-118.653,-202.428 -112.94,-211.35 -111.842,-200.812 -118.653,-202.428\" stroke=\"black\"/>\n",
       "</g>\n",
       "<!-- n[46]&#45;&gt;n[29] -->\n",
       "<g class=\"edge\" id=\"edge155\"><title>n[46]-&gt;n[29]</title>\n",
       "<path d=\"M111.65,130.67C83.703,153.23 29.933,196.62 -2.1431,222.51\" fill=\"none\" stroke=\"black\"/>\n",
       "<polygon fill=\"black\" points=\"-0.207285,225.445 -10.188,229 -4.60247,219.997 -0.207285,225.445\" stroke=\"black\"/>\n",
       "</g>\n",
       "<!-- n[46]&#45;&gt;n[4] -->\n",
       "<g class=\"edge\" id=\"edge156\"><title>n[46]-&gt;n[4]</title>\n",
       "<path d=\"M116.58,99.726C87.077,63.16 15.596,-25.43 -18.91,-68.195\" fill=\"none\" stroke=\"black\"/>\n",
       "<polygon fill=\"black\" points=\"-21.7389,-66.1274 -25.294,-76.108 -16.2909,-70.5228 -21.7389,-66.1274\" stroke=\"black\"/>\n",
       "</g>\n",
       "<!-- n[46]&#45;&gt;n[33] -->\n",
       "<g class=\"edge\" id=\"edge157\"><title>n[46]-&gt;n[33]</title>\n",
       "<path d=\"M111.93,130.96C96.198,144.12 73.076,163.46 55.414,178.23\" fill=\"none\" stroke=\"black\"/>\n",
       "<polygon fill=\"black\" points=\"57.6453,180.927 47.73,184.66 53.153,175.558 57.6453,180.927\" stroke=\"black\"/>\n",
       "</g>\n",
       "<!-- n[12]&#45;&gt;n[3] -->\n",
       "<g class=\"edge\" id=\"edge210\"><title>n[12]-&gt;n[3]</title>\n",
       "<path d=\"M-145.92,58.188C-126.08,21.035 -79.333,-66.494 -55.963,-110.26\" fill=\"none\" stroke=\"black\"/>\n",
       "<polygon fill=\"black\" points=\"-59.0171,-111.971 -51.216,-119.14 -52.8438,-108.671 -59.0171,-111.971\" stroke=\"black\"/>\n",
       "</g>\n",
       "<!-- n[12]&#45;&gt;n[7] -->\n",
       "<g class=\"edge\" id=\"edge211\"><title>n[12]-&gt;n[7]</title>\n",
       "<path d=\"M-136.99,60.849C-109.75,38.883 -58.232,-2.6549 -27.308,-27.591\" fill=\"none\" stroke=\"black\"/>\n",
       "<polygon fill=\"black\" points=\"-29.1505,-30.6014 -19.169,-34.154 -24.7565,-25.1523 -29.1505,-30.6014\" stroke=\"black\"/>\n",
       "</g>\n",
       "<!-- n[12]&#45;&gt;n[8] -->\n",
       "<g class=\"edge\" id=\"edge212\"><title>n[12]-&gt;n[8]</title>\n",
       "<path d=\"M-125.29,72.677C-103.24,70.59 -73.119,67.737 -49.568,65.508\" fill=\"none\" stroke=\"black\"/>\n",
       "<polygon fill=\"black\" points=\"-49.8775,62.0217 -39.592,64.563 -49.2173,68.9905 -49.8775,62.0217\" stroke=\"black\"/>\n",
       "</g>\n",
       "<!-- n[137] -->\n",
       "<g class=\"node\" id=\"node51\"><title>n[137]</title>\n",
       "<ellipse cx=\"439.37\" cy=\"-36.222\" fill=\"none\" rx=\"34.5\" ry=\"18\" stroke=\"black\"/>\n",
       "<text font-family=\"Times New Roman,serif\" font-size=\"14.00\" text-anchor=\"middle\" x=\"439.37\" y=\"-32.522\">n[137]</text>\n",
       "</g>\n",
       "<!-- n[137]&#45;&gt;n[22] -->\n",
       "<g class=\"edge\" id=\"edge98\"><title>n[137]-&gt;n[22]</title>\n",
       "<path d=\"M406.2,-41.183C336.54,-51.605 175.3,-75.728 100.88,-86.861\" fill=\"none\" stroke=\"black\"/>\n",
       "<polygon fill=\"black\" points=\"100.349,-83.4014 90.977,-88.343 101.385,-90.3243 100.349,-83.4014\" stroke=\"black\"/>\n",
       "</g>\n",
       "<!-- n[137]&#45;&gt;n[26] -->\n",
       "<g class=\"edge\" id=\"edge99\"><title>n[137]-&gt;n[26]</title>\n",
       "<path d=\"M414.95,-49.066C372.69,-71.305 285.91,-116.97 238.97,-141.66\" fill=\"none\" stroke=\"black\"/>\n",
       "<polygon fill=\"black\" points=\"237.089,-138.695 229.87,-146.45 240.349,-144.889 237.089,-138.695\" stroke=\"black\"/>\n",
       "</g>\n",
       "<!-- n[41] -->\n",
       "<g class=\"node\" id=\"node53\"><title>n[41]</title>\n",
       "<ellipse cx=\"-92.925\" cy=\"198.22\" fill=\"none\" rx=\"30\" ry=\"18\" stroke=\"black\"/>\n",
       "<text font-family=\"Times New Roman,serif\" font-size=\"14.00\" text-anchor=\"middle\" x=\"-92.925\" y=\"201.92\">n[41]</text>\n",
       "</g>\n",
       "<!-- n[137]&#45;&gt;n[41] -->\n",
       "<g class=\"edge\" id=\"edge100\"><title>n[137]-&gt;n[41]</title>\n",
       "<path d=\"M412.97,-24.596C324.56,14.345 38.9,140.16 -59.358,183.43\" fill=\"none\" stroke=\"black\"/>\n",
       "<polygon fill=\"black\" points=\"-57.9741,186.645 -68.536,187.48 -60.8002,180.241 -57.9741,186.645\" stroke=\"black\"/>\n",
       "</g>\n",
       "<!-- n[26]&#45;&gt;n[1] -->\n",
       "<g class=\"edge\" id=\"edge101\"><title>n[26]-&gt;n[1]</title>\n",
       "<path d=\"M177.94,-153.76C157.29,-150.48 129.47,-146.06 107.38,-142.55\" fill=\"none\" stroke=\"black\"/>\n",
       "<polygon fill=\"black\" points=\"107.791,-139.072 97.366,-140.96 106.693,-145.985 107.791,-139.072\" stroke=\"black\"/>\n",
       "</g>\n",
       "<!-- n[26]&#45;&gt;n[4] -->\n",
       "<g class=\"edge\" id=\"edge102\"><title>n[26]-&gt;n[4]</title>\n",
       "<path d=\"M179.49,-150.92C134.68,-138.81 46.296,-114.91 -2.9464,-101.6\" fill=\"none\" stroke=\"black\"/>\n",
       "<polygon fill=\"black\" points=\"-2.26332,-98.1592 -12.83,-98.931 -4.0883,-104.917 -2.26332,-98.1592\" stroke=\"black\"/>\n",
       "</g>\n",
       "<!-- n[26]&#45;&gt;n[9] -->\n",
       "<g class=\"edge\" id=\"edge103\"><title>n[26]-&gt;n[9]</title>\n",
       "<path d=\"M177.67,-155.1C119.13,-148.56 -11.601,-133.94 -75.614,-126.78\" fill=\"none\" stroke=\"black\"/>\n",
       "<polygon fill=\"black\" points=\"-75.3348,-123.29 -85.661,-125.66 -76.1104,-130.246 -75.3348,-123.29\" stroke=\"black\"/>\n",
       "</g>\n",
       "<!-- n[41]&#45;&gt;n[0] -->\n",
       "<g class=\"edge\" id=\"edge104\"><title>n[41]-&gt;n[0]</title>\n",
       "<path d=\"M-82.38,180.98C-60.601,145.38 -10.556,63.564 15.046,21.711\" fill=\"none\" stroke=\"black\"/>\n",
       "<polygon fill=\"black\" points=\"12.2088,19.6418 20.413,12.938 18.18,23.2949 12.2088,19.6418\" stroke=\"black\"/>\n",
       "</g>\n",
       "<!-- n[41]&#45;&gt;n[38] -->\n",
       "<g class=\"edge\" id=\"edge106\"><title>n[41]-&gt;n[38]</title>\n",
       "<path d=\"M-99.765,180.56C-112.51,147.65 -139.98,76.753 -155.11,37.702\" fill=\"none\" stroke=\"black\"/>\n",
       "<polygon fill=\"black\" points=\"-158.414,38.8632 -158.76,28.274 -151.886,36.3359 -158.414,38.8632\" stroke=\"black\"/>\n",
       "</g>\n",
       "<!-- n[20] -->\n",
       "<g class=\"node\" id=\"node54\"><title>n[20]</title>\n",
       "<ellipse cx=\"-257.46\" cy=\"220.43\" fill=\"none\" rx=\"30\" ry=\"18\" stroke=\"black\"/>\n",
       "<text font-family=\"Times New Roman,serif\" font-size=\"14.00\" text-anchor=\"middle\" x=\"-257.46\" y=\"224.13\">n[20]</text>\n",
       "</g>\n",
       "<!-- n[41]&#45;&gt;n[20] -->\n",
       "<g class=\"edge\" id=\"edge105\"><title>n[41]-&gt;n[20]</title>\n",
       "<path d=\"M-122.34,202.19C-149.05,205.79 -188.64,211.14 -218.07,215.11\" fill=\"none\" stroke=\"black\"/>\n",
       "<polygon fill=\"black\" points=\"-217.64,218.584 -228.02,216.46 -218.581,211.647 -217.64,218.584\" stroke=\"black\"/>\n",
       "</g>\n",
       "<!-- n[20]&#45;&gt;n[14] -->\n",
       "<g class=\"edge\" id=\"edge110\"><title>n[20]-&gt;n[14]</title>\n",
       "<path d=\"M-231.87,211C-176.6,190.63 -46.014,142.49 16.926,119.29\" fill=\"none\" stroke=\"black\"/>\n",
       "<polygon fill=\"black\" points=\"15.8316,115.963 26.425,115.79 18.2518,122.532 15.8316,115.963\" stroke=\"black\"/>\n",
       "</g>\n",
       "<!-- n[20]&#45;&gt;n[17] -->\n",
       "<g class=\"edge\" id=\"edge112\"><title>n[20]-&gt;n[17]</title>\n",
       "<path d=\"M-236.07,207.63C-222.84,199.72 -205.66,189.45 -191.08,180.72\" fill=\"none\" stroke=\"black\"/>\n",
       "<polygon fill=\"black\" points=\"-192.779,177.658 -182.4,175.53 -189.187,183.666 -192.779,177.658\" stroke=\"black\"/>\n",
       "</g>\n",
       "<!-- n[20]&#45;&gt;n[12] -->\n",
       "<g class=\"edge\" id=\"edge111\"><title>n[20]-&gt;n[12]</title>\n",
       "<path d=\"M-245.73,203.81C-227.94,178.61 -194.01,130.55 -173.11,100.93\" fill=\"none\" stroke=\"black\"/>\n",
       "<polygon fill=\"black\" points=\"-175.705,98.5364 -167.08,92.383 -169.985,102.572 -175.705,98.5364\" stroke=\"black\"/>\n",
       "</g>\n",
       "<!-- n[23]&#45;&gt;n[6] -->\n",
       "<g class=\"edge\" id=\"edge204\"><title>n[23]-&gt;n[6]</title>\n",
       "<path d=\"M-110.36,-211.07C-112.74,-185.16 -117.14,-137.36 -119.95,-106.8\" fill=\"none\" stroke=\"black\"/>\n",
       "<polygon fill=\"black\" points=\"-116.471,-106.408 -120.87,-96.769 -123.442,-107.047 -116.471,-106.408\" stroke=\"black\"/>\n",
       "</g>\n",
       "<!-- n[23]&#45;&gt;n[1] -->\n",
       "<g class=\"edge\" id=\"edge205\"><title>n[23]-&gt;n[1]</title>\n",
       "<path d=\"M-85.933,-217.54C-53.865,-201.03 4.7021,-170.88 40.498,-152.45\" fill=\"none\" stroke=\"black\"/>\n",
       "<polygon fill=\"black\" points=\"42.224,-155.498 49.514,-147.81 39.0208,-149.274 42.224,-155.498\" stroke=\"black\"/>\n",
       "</g>\n",
       "<!-- n[23]&#45;&gt;n[16] -->\n",
       "<g class=\"edge\" id=\"edge206\"><title>n[23]-&gt;n[16]</title>\n",
       "<path d=\"M-91.961,-214.19C-55.868,-181.68 29.453,-104.84 71.463,-67.003\" fill=\"none\" stroke=\"black\"/>\n",
       "<polygon fill=\"black\" points=\"73.9331,-69.4887 79.022,-60.196 69.2488,-64.2869 73.9331,-69.4887\" stroke=\"black\"/>\n",
       "</g>\n",
       "<!-- n[67]&#45;&gt;n[14] -->\n",
       "<g class=\"edge\" id=\"edge125\"><title>n[67]-&gt;n[14]</title>\n",
       "<path d=\"M338,111.16C280.95,110.2 156.8,108.11 92.482,107.03\" fill=\"none\" stroke=\"black\"/>\n",
       "<polygon fill=\"black\" points=\"92.259,110.527 82.319,106.86 92.3762,103.528 92.259,110.527\" stroke=\"black\"/>\n",
       "</g>\n",
       "<!-- n[48] -->\n",
       "<g class=\"node\" id=\"node58\"><title>n[48]</title>\n",
       "<ellipse cx=\"218.19\" cy=\"240.57\" fill=\"none\" rx=\"30\" ry=\"18\" stroke=\"black\"/>\n",
       "<text font-family=\"Times New Roman,serif\" font-size=\"14.00\" text-anchor=\"middle\" x=\"218.19\" y=\"244.27\">n[48]</text>\n",
       "</g>\n",
       "<!-- n[67]&#45;&gt;n[48] -->\n",
       "<g class=\"edge\" id=\"edge126\"><title>n[67]-&gt;n[48]</title>\n",
       "<path d=\"M350.82,126.46C324.44,149.16 273.8,192.72 243.3,218.96\" fill=\"none\" stroke=\"black\"/>\n",
       "<polygon fill=\"black\" points=\"245.503,221.681 235.64,225.55 240.938,216.375 245.503,221.681\" stroke=\"black\"/>\n",
       "</g>\n",
       "<!-- n[67]&#45;&gt;n[56] -->\n",
       "<g class=\"edge\" id=\"edge127\"><title>n[67]-&gt;n[56]</title>\n",
       "<path d=\"M351.22,96.607C343.64,89.802 334.53,81.625 326.19,74.141\" fill=\"none\" stroke=\"black\"/>\n",
       "<polygon fill=\"black\" points=\"323.608,76.5264 318.5,67.244 328.281,71.3153 323.608,76.5264\" stroke=\"black\"/>\n",
       "</g>\n",
       "<!-- n[58]&#45;&gt;n[22] -->\n",
       "<g class=\"edge\" id=\"edge128\"><title>n[58]-&gt;n[22]</title>\n",
       "<path d=\"M30.316,-267.78C36.442,-233.88 49.644,-160.82 56.909,-120.62\" fill=\"none\" stroke=\"black\"/>\n",
       "<polygon fill=\"black\" points=\"60.3711,-121.143 58.705,-110.68 53.4826,-119.898 60.3711,-121.143\" stroke=\"black\"/>\n",
       "</g>\n",
       "<!-- n[58]&#45;&gt;n[15] -->\n",
       "<g class=\"edge\" id=\"edge129\"><title>n[58]-&gt;n[15]</title>\n",
       "<path d=\"M13.868,-269.4C-20.646,-225.97 -113.88,-108.66 -154.37,-57.713\" fill=\"none\" stroke=\"black\"/>\n",
       "<polygon fill=\"black\" points=\"-151.659,-55.4987 -160.62,-49.846 -157.14,-59.853 -151.659,-55.4987\" stroke=\"black\"/>\n",
       "</g>\n",
       "<!-- n[45] -->\n",
       "<g class=\"node\" id=\"node60\"><title>n[45]</title>\n",
       "<ellipse cx=\"-15.102\" cy=\"-330.26\" fill=\"none\" rx=\"30\" ry=\"18\" stroke=\"black\"/>\n",
       "<text font-family=\"Times New Roman,serif\" font-size=\"14.00\" text-anchor=\"middle\" x=\"-15.102\" y=\"-326.56\">n[45]</text>\n",
       "</g>\n",
       "<!-- n[58]&#45;&gt;n[45] -->\n",
       "<g class=\"edge\" id=\"edge130\"><title>n[58]-&gt;n[45]</title>\n",
       "<path d=\"M11.819,-301.96C10.249,-303.61 8.6313,-305.31 7.0054,-307.02\" fill=\"none\" stroke=\"black\"/>\n",
       "<polygon fill=\"black\" points=\"4.30276,-304.783 -0.05516,-314.44 9.37383,-309.608 4.30276,-304.783\" stroke=\"black\"/>\n",
       "</g>\n",
       "<!-- n[48]&#45;&gt;n[37] -->\n",
       "<g class=\"edge\" id=\"edge177\"><title>n[48]-&gt;n[37]</title>\n",
       "<path d=\"M212.69,222.85C203.57,193.52 185.28,134.65 174.44,99.773\" fill=\"none\" stroke=\"black\"/>\n",
       "<polygon fill=\"black\" points=\"170.96,100.366 171.34,89.778 177.645,98.2923 170.96,100.366\" stroke=\"black\"/>\n",
       "</g>\n",
       "<!-- n[48]&#45;&gt;n[26] -->\n",
       "<g class=\"edge\" id=\"edge178\"><title>n[48]-&gt;n[26]</title>\n",
       "<path d=\"M217.69,222.39C215.94,159.04 210.09,-52.327 207.95,-129.7\" fill=\"none\" stroke=\"black\"/>\n",
       "<polygon fill=\"black\" points=\"204.44,-130.016 207.66,-140.11 211.437,-130.211 204.44,-130.016\" stroke=\"black\"/>\n",
       "</g>\n",
       "<!-- n[11] -->\n",
       "<g class=\"node\" id=\"node77\"><title>n[11]</title>\n",
       "<ellipse cx=\"197.62\" cy=\"141.81\" fill=\"none\" rx=\"30\" ry=\"18\" stroke=\"black\"/>\n",
       "<text font-family=\"Times New Roman,serif\" font-size=\"14.00\" text-anchor=\"middle\" x=\"197.62\" y=\"145.51\">n[11]</text>\n",
       "</g>\n",
       "<!-- n[48]&#45;&gt;n[11] -->\n",
       "<g class=\"edge\" id=\"edge179\"><title>n[48]-&gt;n[11]</title>\n",
       "<path d=\"M214.42,222.45C211.34,207.7 206.95,186.61 203.43,169.7\" fill=\"none\" stroke=\"black\"/>\n",
       "<polygon fill=\"black\" points=\"199.983,170.314 201.37,159.81 206.836,168.886 199.983,170.314\" stroke=\"black\"/>\n",
       "</g>\n",
       "<!-- n[56]&#45;&gt;n[27] -->\n",
       "<g class=\"edge\" id=\"edge237\"><title>n[56]-&gt;n[27]</title>\n",
       "<path d=\"M272.98,57.906C204.3,72.192 29.581,108.53 -48.01,124.67\" fill=\"none\" stroke=\"black\"/>\n",
       "<polygon fill=\"black\" points=\"-47.3528,128.108 -57.855,126.71 -48.7732,121.254 -47.3528,128.108\" stroke=\"black\"/>\n",
       "</g>\n",
       "<!-- n[56]&#45;&gt;n[1] -->\n",
       "<g class=\"edge\" id=\"edge238\"><title>n[56]-&gt;n[1]</title>\n",
       "<path d=\"M283.4,37.168C242.45,3.6376 142.58,-78.131 95.845,-116.39\" fill=\"none\" stroke=\"black\"/>\n",
       "<polygon fill=\"black\" points=\"93.5405,-113.753 88.026,-122.8 97.9784,-119.167 93.5405,-113.753\" stroke=\"black\"/>\n",
       "</g>\n",
       "<!-- n[56]&#45;&gt;n[37] -->\n",
       "<g class=\"edge\" id=\"edge239\"><title>n[56]-&gt;n[37]</title>\n",
       "<path d=\"M272.38,56.283C252.71,59.193 226.51,63.07 205.01,66.25\" fill=\"none\" stroke=\"black\"/>\n",
       "<polygon fill=\"black\" points=\"205.285,69.7474 194.88,67.749 204.26,62.8228 205.285,69.7474\" stroke=\"black\"/>\n",
       "</g>\n",
       "<!-- n[45]&#45;&gt;n[13] -->\n",
       "<g class=\"edge\" id=\"edge201\"><title>n[45]-&gt;n[13]</title>\n",
       "<path d=\"M-20.583,-312.14C-35.737,-262.04 -78.283,-121.39 -96.463,-61.294\" fill=\"none\" stroke=\"black\"/>\n",
       "<polygon fill=\"black\" points=\"-93.2173,-59.9352 -99.463,-51.377 -99.9175,-61.9621 -93.2173,-59.9352\" stroke=\"black\"/>\n",
       "</g>\n",
       "<!-- n[45]&#45;&gt;n[9] -->\n",
       "<g class=\"edge\" id=\"edge202\"><title>n[45]-&gt;n[9]</title>\n",
       "<path d=\"M-23.227,-312.92C-40.209,-276.67 -79.567,-192.66 -99.818,-149.43\" fill=\"none\" stroke=\"black\"/>\n",
       "<polygon fill=\"black\" points=\"-96.771,-147.683 -104.18,-140.11 -103.111,-150.651 -96.771,-147.683\" stroke=\"black\"/>\n",
       "</g>\n",
       "<!-- n[45]&#45;&gt;n[23] -->\n",
       "<g class=\"edge\" id=\"edge203\"><title>n[45]-&gt;n[23]</title>\n",
       "<path d=\"M-29.725,-314.48C-45.087,-297.9 -69.415,-271.64 -87.01,-252.65\" fill=\"none\" stroke=\"black\"/>\n",
       "<polygon fill=\"black\" points=\"-84.4938,-250.216 -93.858,-245.26 -89.6282,-254.974 -84.4938,-250.216\" stroke=\"black\"/>\n",
       "</g>\n",
       "<!-- n[99] -->\n",
       "<g class=\"node\" id=\"node61\"><title>n[99]</title>\n",
       "<ellipse cx=\"566.76\" cy=\"56.408\" fill=\"none\" rx=\"30\" ry=\"18\" stroke=\"black\"/>\n",
       "<text font-family=\"Times New Roman,serif\" font-size=\"14.00\" text-anchor=\"middle\" x=\"566.76\" y=\"60.108\">n[99]</text>\n",
       "</g>\n",
       "<!-- n[99]&#45;&gt;n[5] -->\n",
       "<g class=\"edge\" id=\"edge131\"><title>n[99]-&gt;n[5]</title>\n",
       "<path d=\"M536.88,54.343C463.38,49.262 273.87,36.164 193.2,30.588\" fill=\"none\" stroke=\"black\"/>\n",
       "<polygon fill=\"black\" points=\"192.755,34.0657 183.02,29.884 193.238,27.0823 192.755,34.0657\" stroke=\"black\"/>\n",
       "</g>\n",
       "<!-- n[97] -->\n",
       "<g class=\"node\" id=\"node62\"><title>n[97]</title>\n",
       "<ellipse cx=\"437.88\" cy=\"156.7\" fill=\"none\" rx=\"30\" ry=\"18\" stroke=\"black\"/>\n",
       "<text font-family=\"Times New Roman,serif\" font-size=\"14.00\" text-anchor=\"middle\" x=\"437.88\" y=\"160.4\">n[97]</text>\n",
       "</g>\n",
       "<!-- n[99]&#45;&gt;n[97] -->\n",
       "<g class=\"edge\" id=\"edge132\"><title>n[99]-&gt;n[97]</title>\n",
       "<path d=\"M548.29,70.777C526.28,87.905 489.34,116.65 464.3,136.13\" fill=\"none\" stroke=\"black\"/>\n",
       "<polygon fill=\"black\" points=\"466.351,138.969 456.31,142.35 462.051,133.445 466.351,138.969\" stroke=\"black\"/>\n",
       "</g>\n",
       "<!-- n[59] -->\n",
       "<g class=\"node\" id=\"node63\"><title>n[59]</title>\n",
       "<ellipse cx=\"449.73\" cy=\"19.437\" fill=\"none\" rx=\"30\" ry=\"18\" stroke=\"black\"/>\n",
       "<text font-family=\"Times New Roman,serif\" font-size=\"14.00\" text-anchor=\"middle\" x=\"449.73\" y=\"23.137\">n[59]</text>\n",
       "</g>\n",
       "<!-- n[99]&#45;&gt;n[59] -->\n",
       "<g class=\"edge\" id=\"edge133\"><title>n[99]-&gt;n[59]</title>\n",
       "<path d=\"M540.2,48.018C524.31,42.996 503.87,36.54 486.44,31.035\" fill=\"none\" stroke=\"black\"/>\n",
       "<polygon fill=\"black\" points=\"485.07,34.2726 476.59,27.921 487.18,27.5982 485.07,34.2726\" stroke=\"black\"/>\n",
       "</g>\n",
       "<!-- n[97]&#45;&gt;n[40] -->\n",
       "<g class=\"edge\" id=\"edge134\"><title>n[97]-&gt;n[40]</title>\n",
       "<path d=\"M424.02,172.87C410.54,188.61 389.9,212.72 374.51,230.69\" fill=\"none\" stroke=\"black\"/>\n",
       "<polygon fill=\"black\" points=\"377.021,233.138 367.86,238.46 371.703,228.587 377.021,233.138\" stroke=\"black\"/>\n",
       "</g>\n",
       "<!-- n[97]&#45;&gt;n[39] -->\n",
       "<g class=\"edge\" id=\"edge135\"><title>n[97]-&gt;n[39]</title>\n",
       "<path d=\"M407.91,156.4C330.57,155.62 124.28,153.54 36.829,152.66\" fill=\"none\" stroke=\"black\"/>\n",
       "<polygon fill=\"black\" points=\"36.7347,156.159 26.77,152.56 36.8043,149.16 36.7347,156.159\" stroke=\"black\"/>\n",
       "</g>\n",
       "<!-- n[85] -->\n",
       "<g class=\"node\" id=\"node64\"><title>n[85]</title>\n",
       "<ellipse cx=\"511.75\" cy=\"-57.518\" fill=\"none\" rx=\"30\" ry=\"18\" stroke=\"black\"/>\n",
       "<text font-family=\"Times New Roman,serif\" font-size=\"14.00\" text-anchor=\"middle\" x=\"511.75\" y=\"-53.818\">n[85]</text>\n",
       "</g>\n",
       "<!-- n[97]&#45;&gt;n[85] -->\n",
       "<g class=\"edge\" id=\"edge136\"><title>n[97]-&gt;n[85]</title>\n",
       "<path d=\"M444.05,138.8C456.98,101.3 487,14.266 502.34,-30.241\" fill=\"none\" stroke=\"black\"/>\n",
       "<polygon fill=\"black\" points=\"499.077,-31.5154 505.65,-39.825 505.694,-29.2303 499.077,-31.5154\" stroke=\"black\"/>\n",
       "</g>\n",
       "<!-- n[59]&#45;&gt;n[34] -->\n",
       "<g class=\"edge\" id=\"edge137\"><title>n[59]-&gt;n[34]</title>\n",
       "<path d=\"M423.23,28.359C384.65,41.351 312.9,65.51 269.58,80.095\" fill=\"none\" stroke=\"black\"/>\n",
       "<polygon fill=\"black\" points=\"270.604,83.4432 260.01,83.32 268.369,76.8097 270.604,83.4432\" stroke=\"black\"/>\n",
       "</g>\n",
       "<!-- n[59]&#45;&gt;n[7] -->\n",
       "<g class=\"edge\" id=\"edge138\"><title>n[59]-&gt;n[7]</title>\n",
       "<path d=\"M420.44,15.062C340.98,3.1927 121.46,-29.597 34.349,-42.609\" fill=\"none\" stroke=\"black\"/>\n",
       "<polygon fill=\"black\" points=\"33.7727,-39.1562 24.4,-44.096 34.8075,-46.0793 33.7727,-39.1562\" stroke=\"black\"/>\n",
       "</g>\n",
       "<!-- n[59]&#45;&gt;n[16] -->\n",
       "<g class=\"edge\" id=\"edge139\"><title>n[59]-&gt;n[16]</title>\n",
       "<path d=\"M421.06,14.204C357.83,2.6628 206.35,-24.985 134.62,-38.078\" fill=\"none\" stroke=\"black\"/>\n",
       "<polygon fill=\"black\" points=\"133.84,-34.6625 124.63,-39.9 135.096,-41.5489 133.84,-34.6625\" stroke=\"black\"/>\n",
       "</g>\n",
       "<!-- n[85]&#45;&gt;n[18] -->\n",
       "<g class=\"edge\" id=\"edge143\"><title>n[85]-&gt;n[18]</title>\n",
       "<path d=\"M482.01,-55.059C431.33,-50.868 328.2,-42.339 271.3,-37.633\" fill=\"none\" stroke=\"black\"/>\n",
       "<polygon fill=\"black\" points=\"271.494,-34.1372 261.24,-36.801 270.917,-41.1134 271.494,-34.1372\" stroke=\"black\"/>\n",
       "</g>\n",
       "<!-- n[85]&#45;&gt;n[67] -->\n",
       "<g class=\"edge\" id=\"edge144\"><title>n[85]-&gt;n[67]</title>\n",
       "<path d=\"M497.97,-41.296C472.53,-11.357 418.1,52.707 388.39,87.679\" fill=\"none\" stroke=\"black\"/>\n",
       "<polygon fill=\"black\" points=\"390.892,90.1403 381.75,95.496 385.556,85.6085 390.892,90.1403\" stroke=\"black\"/>\n",
       "</g>\n",
       "<!-- n[28] -->\n",
       "<g class=\"node\" id=\"node67\"><title>n[28]</title>\n",
       "<ellipse cx=\"162.84\" cy=\"-204.38\" fill=\"none\" rx=\"30\" ry=\"18\" stroke=\"black\"/>\n",
       "<text font-family=\"Times New Roman,serif\" font-size=\"14.00\" text-anchor=\"middle\" x=\"162.84\" y=\"-200.68\">n[28]</text>\n",
       "</g>\n",
       "<!-- n[85]&#45;&gt;n[28] -->\n",
       "<g class=\"edge\" id=\"edge145\"><title>n[85]-&gt;n[28]</title>\n",
       "<path d=\"M487.22,-67.845C426.03,-93.598 266.6,-160.71 196.61,-190.16\" fill=\"none\" stroke=\"black\"/>\n",
       "<polygon fill=\"black\" points=\"195.207,-186.953 187.35,-194.06 197.925,-193.404 195.207,-186.953\" stroke=\"black\"/>\n",
       "</g>\n",
       "<!-- n[16]&#45;&gt;n[2] -->\n",
       "<g class=\"edge\" id=\"edge146\"><title>n[16]-&gt;n[2]</title>\n",
       "<path d=\"M104.39,-62.703C109.28,-72.545 115.48,-85.024 120.95,-96.025\" fill=\"none\" stroke=\"black\"/>\n",
       "<polygon fill=\"black\" points=\"117.928,-97.8095 125.51,-105.21 124.198,-94.6967 117.928,-97.8095\" stroke=\"black\"/>\n",
       "</g>\n",
       "<!-- n[16]&#45;&gt;n[10] -->\n",
       "<g class=\"edge\" id=\"edge147\"><title>n[16]-&gt;n[10]</title>\n",
       "<path d=\"M71.905,-33.961C50.621,-23.921 19.214,-9.1052 -4.4713,2.068\" fill=\"none\" stroke=\"black\"/>\n",
       "<polygon fill=\"black\" points=\"-3.23751,5.35582 -13.775,6.4567 -6.22397,-0.975164 -3.23751,5.35582\" stroke=\"black\"/>\n",
       "</g>\n",
       "<!-- n[16]&#45;&gt;n[12] -->\n",
       "<g class=\"edge\" id=\"edge148\"><title>n[16]-&gt;n[12]</title>\n",
       "<path d=\"M72.091,-33.828C27.082,-12.174 -71.105,35.064 -122.43,59.757\" fill=\"none\" stroke=\"black\"/>\n",
       "<polygon fill=\"black\" points=\"-120.911,62.9104 -131.44,64.094 -123.948,56.6031 -120.911,62.9104\" stroke=\"black\"/>\n",
       "</g>\n",
       "<!-- n[24]&#45;&gt;n[4] -->\n",
       "<g class=\"edge\" id=\"edge198\"><title>n[24]-&gt;n[4]</title>\n",
       "<path d=\"M78.695,-218.85C55.478,-193.67 9.9719,-144.31 -16.896,-115.17\" fill=\"none\" stroke=\"black\"/>\n",
       "<polygon fill=\"black\" points=\"-14.5954,-112.502 -23.946,-107.52 -19.7429,-117.245 -14.5954,-112.502\" stroke=\"black\"/>\n",
       "</g>\n",
       "<!-- n[24]&#45;&gt;n[21] -->\n",
       "<g class=\"edge\" id=\"edge199\"><title>n[24]-&gt;n[21]</title>\n",
       "<path d=\"M65.041,-228.3C8.4118,-215.56 -119.12,-186.86 -183.27,-172.42\" fill=\"none\" stroke=\"black\"/>\n",
       "<polygon fill=\"black\" points=\"-182.846,-168.928 -193.37,-170.15 -184.381,-175.758 -182.846,-168.928\" stroke=\"black\"/>\n",
       "</g>\n",
       "<!-- n[24]&#45;&gt;n[8] -->\n",
       "<g class=\"edge\" id=\"edge200\"><title>n[24]-&gt;n[8]</title>\n",
       "<path d=\"M86.957,-216.98C69.15,-167.1 18.408,-24.963 -2.9646,34.905\" fill=\"none\" stroke=\"black\"/>\n",
       "<polygon fill=\"black\" points=\"0.291653,36.194 -6.3669,44.435 -6.30082,33.8404 0.291653,36.194\" stroke=\"black\"/>\n",
       "</g>\n",
       "<!-- n[28]&#45;&gt;n[18] -->\n",
       "<g class=\"edge\" id=\"edge219\"><title>n[28]-&gt;n[18]</title>\n",
       "<path d=\"M169.92,-186.82C181.87,-157.16 206.15,-96.94 220.35,-61.701\" fill=\"none\" stroke=\"black\"/>\n",
       "<polygon fill=\"black\" points=\"223.748,-62.6324 224.24,-52.049 217.256,-60.0157 223.748,-62.6324\" stroke=\"black\"/>\n",
       "</g>\n",
       "<!-- n[28]&#45;&gt;n[5] -->\n",
       "<g class=\"edge\" id=\"edge220\"><title>n[28]-&gt;n[5]</title>\n",
       "<path d=\"M162.3,-186.14C161.11,-145.75 158.23,-48.525 156.8,-0.21248\" fill=\"none\" stroke=\"black\"/>\n",
       "<polygon fill=\"black\" points=\"160.296,-0.0273804 156.5,9.864 153.299,-0.235762 160.296,-0.0273804\" stroke=\"black\"/>\n",
       "</g>\n",
       "<!-- n[28]&#45;&gt;n[2] -->\n",
       "<g class=\"edge\" id=\"edge221\"><title>n[28]-&gt;n[2]</title>\n",
       "<path d=\"M156.59,-186.59C152.82,-175.84 147.93,-161.93 143.67,-149.8\" fill=\"none\" stroke=\"black\"/>\n",
       "<polygon fill=\"black\" points=\"146.897,-148.425 140.28,-140.15 140.292,-150.745 146.897,-148.425\" stroke=\"black\"/>\n",
       "</g>\n",
       "<!-- n[50]&#45;&gt;n[0] -->\n",
       "<g class=\"edge\" id=\"edge152\"><title>n[50]-&gt;n[0]</title>\n",
       "<path d=\"M-297.5,119.36C-234.85,95.818 -73.084,35.042 -2.7395,8.6126\" fill=\"none\" stroke=\"black\"/>\n",
       "<polygon fill=\"black\" points=\"-3.63891,5.21169 6.9532,4.971 -1.17695,11.7645 -3.63891,5.21169\" stroke=\"black\"/>\n",
       "</g>\n",
       "<!-- n[50]&#45;&gt;n[21] -->\n",
       "<g class=\"edge\" id=\"edge154\"><title>n[50]-&gt;n[21]</title>\n",
       "<path d=\"M-316.75,111.05C-299.65,61.633 -251.64,-77.093 -231.13,-136.37\" fill=\"none\" stroke=\"black\"/>\n",
       "<polygon fill=\"black\" points=\"-234.322,-137.848 -227.74,-146.15 -227.708,-135.555 -234.322,-137.848\" stroke=\"black\"/>\n",
       "</g>\n",
       "<!-- n[50]&#45;&gt;n[41] -->\n",
       "<g class=\"edge\" id=\"edge153\"><title>n[50]-&gt;n[41]</title>\n",
       "<path d=\"M-296.1,137C-254.92,149.41 -176.05,173.17 -129.61,187.16\" fill=\"none\" stroke=\"black\"/>\n",
       "<polygon fill=\"black\" points=\"-128.501,183.839 -119.94,190.08 -130.525,190.54 -128.501,183.839\" stroke=\"black\"/>\n",
       "</g>\n",
       "<!-- n[60]&#45;&gt;n[6] -->\n",
       "<g class=\"edge\" id=\"edge158\"><title>n[60]-&gt;n[6]</title>\n",
       "<path d=\"M147.48,-78.374C92.217,-78.405 -25.115,-78.469 -85.275,-78.502\" fill=\"none\" stroke=\"black\"/>\n",
       "<polygon fill=\"black\" points=\"-85.4701,-75.002 -95.468,-78.508 -85.4659,-82.002 -85.4701,-75.002\" stroke=\"black\"/>\n",
       "</g>\n",
       "<!-- n[60]&#45;&gt;n[0] -->\n",
       "<g class=\"edge\" id=\"edge159\"><title>n[60]-&gt;n[0]</title>\n",
       "<path d=\"M154.69,-66.735C129.71,-54.088 89.646,-33.796 61.859,-19.724\" fill=\"none\" stroke=\"black\"/>\n",
       "<polygon fill=\"black\" points=\"63.0895,-16.4239 52.587,-15.028 59.9267,-22.6687 63.0895,-16.4239\" stroke=\"black\"/>\n",
       "</g>\n",
       "<!-- n[54] -->\n",
       "<g class=\"node\" id=\"node70\"><title>n[54]</title>\n",
       "<ellipse cx=\"367\" cy=\"-52.487\" fill=\"none\" rx=\"30\" ry=\"18\" stroke=\"black\"/>\n",
       "<text font-family=\"Times New Roman,serif\" font-size=\"14.00\" text-anchor=\"middle\" x=\"367\" y=\"-48.787\">n[54]</text>\n",
       "</g>\n",
       "<!-- n[60]&#45;&gt;n[54] -->\n",
       "<g class=\"edge\" id=\"edge160\"><title>n[60]-&gt;n[54]</title>\n",
       "<path d=\"M206.81,-74.372C239.2,-69.947 291.64,-62.782 327.65,-57.863\" fill=\"none\" stroke=\"black\"/>\n",
       "<polygon fill=\"black\" points=\"328.356,-61.2991 337.79,-56.477 327.408,-54.3636 328.356,-61.2991\" stroke=\"black\"/>\n",
       "</g>\n",
       "<!-- n[54]&#45;&gt;n[18] -->\n",
       "<g class=\"edge\" id=\"edge167\"><title>n[54]-&gt;n[18]</title>\n",
       "<path d=\"M337.57,-48.548C318.02,-45.931 292.13,-42.464 270.81,-39.61\" fill=\"none\" stroke=\"black\"/>\n",
       "<polygon fill=\"black\" points=\"271.126,-36.1212 260.75,-38.264 270.197,-43.0593 271.126,-36.1212\" stroke=\"black\"/>\n",
       "</g>\n",
       "<!-- n[54]&#45;&gt;n[37] -->\n",
       "<g class=\"edge\" id=\"edge168\"><title>n[54]-&gt;n[37]</title>\n",
       "<path d=\"M345.85,-39.395C309.84,-17.101 236.52,28.284 195.43,53.72\" fill=\"none\" stroke=\"black\"/>\n",
       "<polygon fill=\"black\" points=\"197.035,56.8427 186.69,59.13 193.351,50.8907 197.035,56.8427\" stroke=\"black\"/>\n",
       "</g>\n",
       "<!-- n[43] -->\n",
       "<g class=\"node\" id=\"node72\"><title>n[43]</title>\n",
       "<ellipse cx=\"40.106\" cy=\"-181.54\" fill=\"none\" rx=\"30\" ry=\"18\" stroke=\"black\"/>\n",
       "<text font-family=\"Times New Roman,serif\" font-size=\"14.00\" text-anchor=\"middle\" x=\"40.106\" y=\"-177.84\">n[43]</text>\n",
       "</g>\n",
       "<!-- n[54]&#45;&gt;n[43] -->\n",
       "<g class=\"edge\" id=\"edge169\"><title>n[54]-&gt;n[43]</title>\n",
       "<path d=\"M341.89,-62.399C284.01,-85.248 141.13,-141.66 74.875,-167.81\" fill=\"none\" stroke=\"black\"/>\n",
       "<polygon fill=\"black\" points=\"73.3162,-164.662 65.3,-171.59 75.8866,-171.173 73.3162,-164.662\" stroke=\"black\"/>\n",
       "</g>\n",
       "<!-- n[8]&#45;&gt;n[3] -->\n",
       "<g class=\"edge\" id=\"edge207\"><title>n[8]-&gt;n[3]</title>\n",
       "<path d=\"M-15.313,44.08C-20.469,9.4682 -31.827,-66.774 -37.986,-108.12\" fill=\"none\" stroke=\"black\"/>\n",
       "<polygon fill=\"black\" points=\"-41.458,-107.674 -39.469,-118.08 -34.5344,-108.705 -41.458,-107.674\" stroke=\"black\"/>\n",
       "</g>\n",
       "<!-- n[8]&#45;&gt;n[2] -->\n",
       "<g class=\"edge\" id=\"edge208\"><title>n[8]-&gt;n[2]</title>\n",
       "<path d=\"M0.11944,45.969C25.911,13.546 84.371,-59.945 114.81,-98.212\" fill=\"none\" stroke=\"black\"/>\n",
       "<polygon fill=\"black\" points=\"112.246,-100.612 121.21,-106.26 117.725,-96.2546 112.246,-100.612\" stroke=\"black\"/>\n",
       "</g>\n",
       "<!-- n[8]&#45;&gt;n[0] -->\n",
       "<g class=\"edge\" id=\"edge209\"><title>n[8]-&gt;n[0]</title>\n",
       "<path d=\"M-1.6903,45.361C3.1041,38.071 8.8351,29.358 14.137,21.296\" fill=\"none\" stroke=\"black\"/>\n",
       "<polygon fill=\"black\" points=\"11.2386,19.3335 19.658,12.902 17.0869,23.1802 11.2386,19.3335\" stroke=\"black\"/>\n",
       "</g>\n",
       "<!-- n[43]&#45;&gt;n[14] -->\n",
       "<g class=\"edge\" id=\"edge322\"><title>n[43]-&gt;n[14]</title>\n",
       "<path d=\"M40.853,-163.53C42.872,-114.86 48.448,19.585 50.883,78.301\" fill=\"none\" stroke=\"black\"/>\n",
       "<polygon fill=\"black\" points=\"54.3821,78.2084 51.3,88.345 47.3881,78.4988 54.3821,78.2084\" stroke=\"black\"/>\n",
       "</g>\n",
       "<!-- n[43]&#45;&gt;n[12] -->\n",
       "<g class=\"edge\" id=\"edge324\"><title>n[43]-&gt;n[12]</title>\n",
       "<path d=\"M27.594,-165.07C-5.736,-121.19 -96.817,-1.2989 -136.39,50.795\" fill=\"none\" stroke=\"black\"/>\n",
       "<polygon fill=\"black\" points=\"-133.664,52.9932 -142.5,58.84 -139.239,48.7595 -133.664,52.9932\" stroke=\"black\"/>\n",
       "</g>\n",
       "<!-- n[30] -->\n",
       "<g class=\"node\" id=\"node76\"><title>n[30]</title>\n",
       "<ellipse cx=\"-85.994\" cy=\"-180.14\" fill=\"none\" rx=\"30\" ry=\"18\" stroke=\"black\"/>\n",
       "<text font-family=\"Times New Roman,serif\" font-size=\"14.00\" text-anchor=\"middle\" x=\"-85.994\" y=\"-176.44\">n[30]</text>\n",
       "</g>\n",
       "<!-- n[43]&#45;&gt;n[30] -->\n",
       "<g class=\"edge\" id=\"edge323\"><title>n[43]-&gt;n[30]</title>\n",
       "<path d=\"M9.9022,-181.2C-6.7868,-181.02 -27.735,-180.78 -45.793,-180.58\" fill=\"none\" stroke=\"black\"/>\n",
       "<polygon fill=\"black\" points=\"-45.999,-177.078 -56.036,-180.47 -46.0742,-184.077 -45.999,-177.078\" stroke=\"black\"/>\n",
       "</g>\n",
       "<!-- n[74] -->\n",
       "<g class=\"node\" id=\"node73\"><title>n[74]</title>\n",
       "<ellipse cx=\"-18.003\" cy=\"345.48\" fill=\"yellow\" rx=\"30\" ry=\"18\" stroke=\"black\"/>\n",
       "<text font-family=\"Times New Roman,serif\" font-size=\"14.00\" text-anchor=\"middle\" x=\"-18.003\" y=\"349.18\">n[74]</text>\n",
       "</g>\n",
       "<!-- n[74]&#45;&gt;T -->\n",
       "<g class=\"edge\" id=\"edge170\"><title>n[74]-&gt;T</title>\n",
       "<path d=\"M-47.702,342.46C-89.717,338.19 -166.45,330.39 -212.02,325.76\" fill=\"none\" stroke=\"black\"/>\n",
       "<polygon fill=\"black\" points=\"-212.469,329.232 -222.06,324.73 -211.755,322.269 -212.469,329.232\" stroke=\"black\"/>\n",
       "</g>\n",
       "<!-- n[74]&#45;&gt;n[48] -->\n",
       "<g class=\"edge\" id=\"edge172\"><title>n[74]-&gt;n[48]</title>\n",
       "<path d=\"M6.3841,334.65C48.838,315.79 136.38,276.9 184.57,255.5\" fill=\"none\" stroke=\"black\"/>\n",
       "<polygon fill=\"black\" points=\"183.38,252.199 193.94,251.34 186.221,258.597 183.38,252.199\" stroke=\"black\"/>\n",
       "</g>\n",
       "<!-- n[42] -->\n",
       "<g class=\"node\" id=\"node74\"><title>n[42]</title>\n",
       "<ellipse cx=\"-183.97\" cy=\"206.78\" fill=\"none\" rx=\"30\" ry=\"18\" stroke=\"black\"/>\n",
       "<text font-family=\"Times New Roman,serif\" font-size=\"14.00\" text-anchor=\"middle\" x=\"-183.97\" y=\"210.48\">n[42]</text>\n",
       "</g>\n",
       "<!-- n[74]&#45;&gt;n[42] -->\n",
       "<g class=\"edge\" id=\"edge171\"><title>n[74]-&gt;n[42]</title>\n",
       "<path d=\"M-35.765,330.63C-65.213,306.02 -124.26,256.67 -158.27,228.26\" fill=\"none\" stroke=\"black\"/>\n",
       "<polygon fill=\"black\" points=\"-160.915,230.611 -166.34,221.51 -156.424,225.241 -160.915,230.611\" stroke=\"black\"/>\n",
       "</g>\n",
       "<!-- n[72] -->\n",
       "<g class=\"node\" id=\"node75\"><title>n[72]</title>\n",
       "<ellipse cx=\"165.77\" cy=\"196.55\" fill=\"none\" rx=\"30\" ry=\"18\" stroke=\"black\"/>\n",
       "<text font-family=\"Times New Roman,serif\" font-size=\"14.00\" text-anchor=\"middle\" x=\"165.77\" y=\"200.25\">n[72]</text>\n",
       "</g>\n",
       "<!-- n[74]&#45;&gt;n[72] -->\n",
       "<g class=\"edge\" id=\"edge173\"><title>n[74]-&gt;n[72]</title>\n",
       "<path d=\"M-0.047407,330.93C32.616,304.46 101.87,248.34 139.72,217.66\" fill=\"none\" stroke=\"black\"/>\n",
       "<polygon fill=\"black\" points=\"137.767,214.737 147.74,211.16 142.175,220.176 137.767,214.737\" stroke=\"black\"/>\n",
       "</g>\n",
       "<!-- n[42]&#45;&gt;n[39] -->\n",
       "<g class=\"edge\" id=\"edge175\"><title>n[42]-&gt;n[39]</title>\n",
       "<path d=\"M-156.91,198.61C-125.81,189.23 -74.612,173.78 -39.94,163.32\" fill=\"none\" stroke=\"black\"/>\n",
       "<polygon fill=\"black\" points=\"-40.7757,159.916 -30.191,160.38 -38.7546,166.618 -40.7757,159.916\" stroke=\"black\"/>\n",
       "</g>\n",
       "<!-- n[42]&#45;&gt;n[41] -->\n",
       "<g class=\"edge\" id=\"edge174\"><title>n[42]-&gt;n[41]</title>\n",
       "<path d=\"M-154.41,204C-147.49,203.35 -140.01,202.64 -132.73,201.96\" fill=\"none\" stroke=\"black\"/>\n",
       "<polygon fill=\"black\" points=\"-132.934,198.464 -122.65,201.01 -132.277,205.433 -132.934,198.464\" stroke=\"black\"/>\n",
       "</g>\n",
       "<!-- n[42]&#45;&gt;n[30] -->\n",
       "<g class=\"edge\" id=\"edge176\"><title>n[42]-&gt;n[30]</title>\n",
       "<path d=\"M-179.44,188.89C-163.84,127.27 -112.23,-76.54 -93.157,-151.85\" fill=\"none\" stroke=\"black\"/>\n",
       "<polygon fill=\"black\" points=\"-96.4368,-153.156 -90.588,-161.99 -89.6512,-151.437 -96.4368,-153.156\" stroke=\"black\"/>\n",
       "</g>\n",
       "<!-- n[72]&#45;&gt;n[13] -->\n",
       "<g class=\"edge\" id=\"edge180\"><title>n[72]-&gt;n[13]</title>\n",
       "<path d=\"M148.43,181.81C102.05,142.38 -25.045,34.355 -79.528,-11.955\" fill=\"none\" stroke=\"black\"/>\n",
       "<polygon fill=\"black\" points=\"-81.9716,-9.43853 -87.324,-18.582 -77.4379,-14.772 -81.9716,-9.43853\" stroke=\"black\"/>\n",
       "</g>\n",
       "<!-- n[57] -->\n",
       "<g class=\"node\" id=\"node78\"><title>n[57]</title>\n",
       "<ellipse cx=\"195.49\" cy=\"353.5\" fill=\"none\" rx=\"30\" ry=\"18\" stroke=\"black\"/>\n",
       "<text font-family=\"Times New Roman,serif\" font-size=\"14.00\" text-anchor=\"middle\" x=\"195.49\" y=\"357.2\">n[57]</text>\n",
       "</g>\n",
       "<!-- n[72]&#45;&gt;n[57] -->\n",
       "<g class=\"edge\" id=\"edge181\"><title>n[72]-&gt;n[57]</title>\n",
       "<path d=\"M169.18,214.55C174.31,241.61 184.04,293 190.12,325.13\" fill=\"none\" stroke=\"black\"/>\n",
       "<polygon fill=\"black\" points=\"193.609,324.743 192.03,335.22 186.731,326.045 193.609,324.743\" stroke=\"black\"/>\n",
       "</g>\n",
       "<!-- n[55] -->\n",
       "<g class=\"node\" id=\"node79\"><title>n[55]</title>\n",
       "<ellipse cx=\"163.55\" cy=\"-15.992\" fill=\"none\" rx=\"30\" ry=\"18\" stroke=\"black\"/>\n",
       "<text font-family=\"Times New Roman,serif\" font-size=\"14.00\" text-anchor=\"middle\" x=\"163.55\" y=\"-12.292\">n[55]</text>\n",
       "</g>\n",
       "<!-- n[72]&#45;&gt;n[55] -->\n",
       "<g class=\"edge\" id=\"edge182\"><title>n[72]-&gt;n[55]</title>\n",
       "<path d=\"M165.58,178.43C165.2,141.33 164.31,56.508 163.85,12.174\" fill=\"none\" stroke=\"black\"/>\n",
       "<polygon fill=\"black\" points=\"160.349,12.1208 163.74,2.0832 167.349,12.0444 160.349,12.1208\" stroke=\"black\"/>\n",
       "</g>\n",
       "<!-- n[30]&#45;&gt;n[9] -->\n",
       "<g class=\"edge\" id=\"edge183\"><title>n[30]-&gt;n[9]</title>\n",
       "<path d=\"M-94.045,-162.58C-95.936,-158.46 -97.993,-153.98 -100.02,-149.55\" fill=\"none\" stroke=\"black\"/>\n",
       "<polygon fill=\"black\" points=\"-96.9964,-147.747 -104.35,-140.12 -103.358,-150.668 -96.9964,-147.747\" stroke=\"black\"/>\n",
       "</g>\n",
       "<!-- n[30]&#45;&gt;n[28] -->\n",
       "<g class=\"edge\" id=\"edge185\"><title>n[30]-&gt;n[28]</title>\n",
       "<path d=\"M-56.472,-183.01C-11.882,-187.36 72.744,-195.6 122.83,-200.48\" fill=\"none\" stroke=\"black\"/>\n",
       "<polygon fill=\"black\" points=\"122.677,-203.982 132.97,-201.47 123.357,-197.015 122.677,-203.982\" stroke=\"black\"/>\n",
       "</g>\n",
       "<!-- n[30]&#45;&gt;n[8] -->\n",
       "<g class=\"edge\" id=\"edge184\"><title>n[30]-&gt;n[8]</title>\n",
       "<path d=\"M-80.6,-162.33C-67.936,-120.52 -36.224,-15.839 -21.024,34.341\" fill=\"none\" stroke=\"black\"/>\n",
       "<polygon fill=\"black\" points=\"-17.593,33.5947 -18.043,44.18 -24.2923,35.6245 -17.593,33.5947\" stroke=\"black\"/>\n",
       "</g>\n",
       "<!-- n[11]&#45;&gt;n[0] -->\n",
       "<g class=\"edge\" id=\"edge186\"><title>n[11]-&gt;n[0]</title>\n",
       "<path d=\"M180.39,126.76C150.48,100.62 88.889,46.815 54.791,17.025\" fill=\"none\" stroke=\"black\"/>\n",
       "<polygon fill=\"black\" points=\"52.3789,19.5652 47.151,10.35 56.9845,14.2938 52.3789,19.5652\" stroke=\"black\"/>\n",
       "</g>\n",
       "<!-- n[11]&#45;&gt;n[7] -->\n",
       "<g class=\"edge\" id=\"edge187\"><title>n[11]-&gt;n[7]</title>\n",
       "<path d=\"M181.62,126.59C146.34,93.034 61.748,12.565 20.892,-26.299\" fill=\"none\" stroke=\"black\"/>\n",
       "<polygon fill=\"black\" points=\"18.3956,-23.843 13.562,-33.271 23.22,-28.9151 18.3956,-23.843\" stroke=\"black\"/>\n",
       "</g>\n",
       "<!-- n[11]&#45;&gt;n[10] -->\n",
       "<g class=\"edge\" id=\"edge188\"><title>n[11]-&gt;n[10]</title>\n",
       "<path d=\"M175.09,129.9C133.09,107.69 42.739,59.924 -5.4902,34.427\" fill=\"none\" stroke=\"black\"/>\n",
       "<polygon fill=\"black\" points=\"-7.34286,37.4066 -14.547,29.638 -4.0707,31.2184 -7.34286,37.4066\" stroke=\"black\"/>\n",
       "</g>\n",
       "<!-- n[57]&#45;&gt;n[54] -->\n",
       "<g class=\"edge\" id=\"edge189\"><title>n[57]-&gt;n[54]</title>\n",
       "<path d=\"M202.86,336.06C229.74,272.44 322.62,52.553 355.42,-25.081\" fill=\"none\" stroke=\"black\"/>\n",
       "<polygon fill=\"black\" points=\"352.346,-26.7988 359.46,-34.65 358.795,-24.0761 352.346,-26.7988\" stroke=\"black\"/>\n",
       "</g>\n",
       "<!-- n[57]&#45;&gt;n[42] -->\n",
       "<g class=\"edge\" id=\"edge190\"><title>n[57]-&gt;n[42]</title>\n",
       "<path d=\"M170.3,343.76C104.4,318.28 -73.222,249.6 -148.97,220.31\" fill=\"none\" stroke=\"black\"/>\n",
       "<polygon fill=\"black\" points=\"-150.475,223.481 -158.54,216.61 -147.951,216.952 -150.475,223.481\" stroke=\"black\"/>\n",
       "</g>\n",
       "<!-- n[53] -->\n",
       "<g class=\"node\" id=\"node80\"><title>n[53]</title>\n",
       "<ellipse cx=\"286.08\" cy=\"231.24\" fill=\"none\" rx=\"30\" ry=\"18\" stroke=\"black\"/>\n",
       "<text font-family=\"Times New Roman,serif\" font-size=\"14.00\" text-anchor=\"middle\" x=\"286.08\" y=\"234.94\">n[53]</text>\n",
       "</g>\n",
       "<!-- n[57]&#45;&gt;n[53] -->\n",
       "<g class=\"edge\" id=\"edge191\"><title>n[57]-&gt;n[53]</title>\n",
       "<path d=\"M207.71,337.01C223.11,316.23 249.72,280.31 267.61,256.17\" fill=\"none\" stroke=\"black\"/>\n",
       "<polygon fill=\"black\" points=\"265.007,253.804 273.77,247.85 270.632,257.97 265.007,253.804\" stroke=\"black\"/>\n",
       "</g>\n",
       "<!-- n[55]&#45;&gt;n[1] -->\n",
       "<g class=\"edge\" id=\"edge192\"><title>n[55]-&gt;n[1]</title>\n",
       "<path d=\"M150.68,-32.785C134.84,-53.451 107.81,-88.702 89.675,-112.36\" fill=\"none\" stroke=\"black\"/>\n",
       "<polygon fill=\"black\" points=\"86.7408,-110.435 83.433,-120.5 92.2956,-114.694 86.7408,-110.435\" stroke=\"black\"/>\n",
       "</g>\n",
       "<!-- n[55]&#45;&gt;n[13] -->\n",
       "<g class=\"edge\" id=\"edge193\"><title>n[55]-&gt;n[13]</title>\n",
       "<path d=\"M133.8,-17.932C85.429,-21.087 -10.32,-27.331 -64.69,-30.877\" fill=\"none\" stroke=\"black\"/>\n",
       "<polygon fill=\"black\" points=\"-65.2348,-27.405 -74.986,-31.548 -64.7795,-34.3902 -65.2348,-27.405\" stroke=\"black\"/>\n",
       "</g>\n",
       "<!-- n[55]&#45;&gt;n[39] -->\n",
       "<g class=\"edge\" id=\"edge194\"><title>n[55]-&gt;n[39]</title>\n",
       "<path d=\"M148.16,-0.46563C118.62,29.332 53.853,94.66 19.384,129.43\" fill=\"none\" stroke=\"black\"/>\n",
       "<polygon fill=\"black\" points=\"21.639,132.127 12.111,136.76 16.6699,127.196 21.639,132.127\" stroke=\"black\"/>\n",
       "</g>\n",
       "<!-- n[53]&#45;&gt;n[18] -->\n",
       "<g class=\"edge\" id=\"edge234\"><title>n[53]-&gt;n[18]</title>\n",
       "<path d=\"M282.32,212.98C272.93,167.39 248.4,48.281 237.16,-6.2892\" fill=\"none\" stroke=\"black\"/>\n",
       "<polygon fill=\"black\" points=\"233.687,-5.80181 235.1,-16.302 240.543,-7.21248 233.687,-5.80181\" stroke=\"black\"/>\n",
       "</g>\n",
       "<!-- n[53]&#45;&gt;n[27] -->\n",
       "<g class=\"edge\" id=\"edge235\"><title>n[53]-&gt;n[27]</title>\n",
       "<path d=\"M258.71,223.98C192.97,206.56 26.074,162.33 -48.794,142.49\" fill=\"none\" stroke=\"black\"/>\n",
       "<polygon fill=\"black\" points=\"-49.956,145.803 -58.727,139.86 -48.1642,139.036 -49.956,145.803\" stroke=\"black\"/>\n",
       "</g>\n",
       "<!-- n[53]&#45;&gt;n[40] -->\n",
       "<g class=\"edge\" id=\"edge236\"><title>n[53]-&gt;n[40]</title>\n",
       "<path d=\"M312.14,240.22C314.05,240.88 315.99,241.55 317.94,242.23\" fill=\"none\" stroke=\"black\"/>\n",
       "<polygon fill=\"black\" points=\"319.346,239.013 327.66,245.58 317.065,245.631 319.346,239.013\" stroke=\"black\"/>\n",
       "</g>\n",
       "<!-- n[92] -->\n",
       "<g class=\"node\" id=\"node81\"><title>n[92]</title>\n",
       "<ellipse cx=\"64.742\" cy=\"256.75\" fill=\"none\" rx=\"30\" ry=\"18\" stroke=\"black\"/>\n",
       "<text font-family=\"Times New Roman,serif\" font-size=\"14.00\" text-anchor=\"middle\" x=\"64.742\" y=\"260.45\">n[92]</text>\n",
       "</g>\n",
       "<!-- n[92]&#45;&gt;n[9] -->\n",
       "<g class=\"edge\" id=\"edge196\"><title>n[92]-&gt;n[9]</title>\n",
       "<path d=\"M56.556,239.21C28.229,178.52 -65.749,-22.828 -99.851,-95.893\" fill=\"none\" stroke=\"black\"/>\n",
       "<polygon fill=\"black\" points=\"-103.193,-94.778 -104.25,-105.32 -96.8496,-97.7381 -103.193,-94.778\" stroke=\"black\"/>\n",
       "</g>\n",
       "<!-- n[92]&#45;&gt;n[39] -->\n",
       "<g class=\"edge\" id=\"edge197\"><title>n[92]-&gt;n[39]</title>\n",
       "<path d=\"M53.819,239.96C42.931,223.23 26.065,197.3 13.489,177.97\" fill=\"none\" stroke=\"black\"/>\n",
       "<polygon fill=\"black\" points=\"10.4,179.64 7.8774,169.35 16.2664,175.821 10.4,179.64\" stroke=\"black\"/>\n",
       "</g>\n",
       "<!-- n[92]&#45;&gt;n[41] -->\n",
       "<g class=\"edge\" id=\"edge195\"><title>n[92]-&gt;n[41]</title>\n",
       "<path d=\"M39.06,247.21C12.718,237.44 -28.443,222.16 -57.791,211.26\" fill=\"none\" stroke=\"black\"/>\n",
       "<polygon fill=\"black\" points=\"-59.0946,214.51 -67.253,207.75 -56.66,207.947 -59.0946,214.51\" stroke=\"black\"/>\n",
       "</g>\n",
       "<!-- n[131] -->\n",
       "<g class=\"node\" id=\"node82\"><title>n[131]</title>\n",
       "<ellipse cx=\"167.27\" cy=\"-284.26\" fill=\"none\" rx=\"34.5\" ry=\"18\" stroke=\"black\"/>\n",
       "<text font-family=\"Times New Roman,serif\" font-size=\"14.00\" text-anchor=\"middle\" x=\"167.27\" y=\"-280.56\">n[131]</text>\n",
       "</g>\n",
       "<!-- n[131]&#45;&gt;n[2] -->\n",
       "<g class=\"edge\" id=\"edge213\"><title>n[131]-&gt;n[2]</title>\n",
       "<path d=\"M163.59,-266.32C157.83,-238.24 146.63,-183.7 139.8,-150.41\" fill=\"none\" stroke=\"black\"/>\n",
       "<polygon fill=\"black\" points=\"143.187,-149.503 137.75,-140.41 136.33,-150.909 143.187,-149.503\" stroke=\"black\"/>\n",
       "</g>\n",
       "<!-- n[131]&#45;&gt;n[60] -->\n",
       "<g class=\"edge\" id=\"edge214\"><title>n[131]-&gt;n[60]</title>\n",
       "<path d=\"M168.19,-265.99C170.01,-229.97 174.05,-149.57 176.21,-106.65\" fill=\"none\" stroke=\"black\"/>\n",
       "<polygon fill=\"black\" points=\"179.709,-106.753 176.72,-96.589 172.718,-106.399 179.709,-106.753\" stroke=\"black\"/>\n",
       "</g>\n",
       "<!-- n[47] -->\n",
       "<g class=\"node\" id=\"node83\"><title>n[47]</title>\n",
       "<ellipse cx=\"-91.782\" cy=\"-315.42\" fill=\"none\" rx=\"30\" ry=\"18\" stroke=\"black\"/>\n",
       "<text font-family=\"Times New Roman,serif\" font-size=\"14.00\" text-anchor=\"middle\" x=\"-91.782\" y=\"-311.72\">n[47]</text>\n",
       "</g>\n",
       "<!-- n[131]&#45;&gt;n[47] -->\n",
       "<g class=\"edge\" id=\"edge215\"><title>n[131]-&gt;n[47]</title>\n",
       "<path d=\"M133.67,-288.3C85.899,-294.05 -1.4827,-304.56 -52.29,-310.67\" fill=\"none\" stroke=\"black\"/>\n",
       "<polygon fill=\"black\" points=\"-52.7358,-307.198 -62.245,-311.87 -51.898,-314.148 -52.7358,-307.198\" stroke=\"black\"/>\n",
       "</g>\n",
       "<!-- n[47]&#45;&gt;n[31] -->\n",
       "<g class=\"edge\" id=\"edge216\"><title>n[47]-&gt;n[31]</title>\n",
       "<path d=\"M-100.15,-297.86C-110.64,-275.83 -128.75,-237.81 -141,-212.11\" fill=\"none\" stroke=\"black\"/>\n",
       "<polygon fill=\"black\" points=\"-137.918,-210.441 -145.38,-202.92 -144.237,-213.453 -137.918,-210.441\" stroke=\"black\"/>\n",
       "</g>\n",
       "<!-- n[47]&#45;&gt;n[38] -->\n",
       "<g class=\"edge\" id=\"edge217\"><title>n[47]-&gt;n[38]</title>\n",
       "<path d=\"M-95.858,-297.43C-108.09,-243.45 -144.54,-82.561 -159.31,-17.37\" fill=\"none\" stroke=\"black\"/>\n",
       "<polygon fill=\"black\" points=\"-155.945,-16.3845 -161.57,-7.4065 -162.771,-17.933 -155.945,-16.3845\" stroke=\"black\"/>\n",
       "</g>\n",
       "<!-- n[47]&#45;&gt;n[28] -->\n",
       "<g class=\"edge\" id=\"edge218\"><title>n[47]-&gt;n[28]</title>\n",
       "<path d=\"M-67.368,-304.77C-21.646,-284.83 76.962,-241.83 129.04,-219.12\" fill=\"none\" stroke=\"black\"/>\n",
       "<polygon fill=\"black\" points=\"130.736,-222.199 138.5,-214.99 127.935,-215.783 130.736,-222.199\" stroke=\"black\"/>\n",
       "</g>\n",
       "<!-- n[149] -->\n",
       "<g class=\"node\" id=\"node84\"><title>n[149]</title>\n",
       "<ellipse cx=\"167.29\" cy=\"-331.43\" fill=\"none\" rx=\"34.5\" ry=\"18\" stroke=\"black\"/>\n",
       "<text font-family=\"Times New Roman,serif\" font-size=\"14.00\" text-anchor=\"middle\" x=\"167.29\" y=\"-327.73\">n[149]</text>\n",
       "</g>\n",
       "<!-- n[149]&#45;&gt;n[1] -->\n",
       "<g class=\"edge\" id=\"edge222\"><title>n[149]-&gt;n[1]</title>\n",
       "<path d=\"M158.57,-313.81C141.59,-279.48 103.98,-203.49 84.013,-163.14\" fill=\"none\" stroke=\"black\"/>\n",
       "<polygon fill=\"black\" points=\"87.0242,-161.333 79.455,-153.92 80.7492,-164.436 87.0242,-161.333\" stroke=\"black\"/>\n",
       "</g>\n",
       "<!-- n[149]&#45;&gt;n[24] -->\n",
       "<g class=\"edge\" id=\"edge223\"><title>n[149]-&gt;n[24]</title>\n",
       "<path d=\"M154.4,-314.57C142.72,-299.3 125.37,-276.62 112.14,-259.32\" fill=\"none\" stroke=\"black\"/>\n",
       "<polygon fill=\"black\" points=\"114.867,-257.124 106.01,-251.31 109.308,-261.378 114.867,-257.124\" stroke=\"black\"/>\n",
       "</g>\n",
       "<!-- n[76] -->\n",
       "<g class=\"node\" id=\"node85\"><title>n[76]</title>\n",
       "<ellipse cx=\"248.23\" cy=\"-113.31\" fill=\"none\" rx=\"30\" ry=\"18\" stroke=\"black\"/>\n",
       "<text font-family=\"Times New Roman,serif\" font-size=\"14.00\" text-anchor=\"middle\" x=\"248.23\" y=\"-109.61\">n[76]</text>\n",
       "</g>\n",
       "<!-- n[149]&#45;&gt;n[76] -->\n",
       "<g class=\"edge\" id=\"edge224\"><title>n[149]-&gt;n[76]</title>\n",
       "<path d=\"M173.91,-313.58C188.06,-275.46 221.29,-185.89 238.11,-140.58\" fill=\"none\" stroke=\"black\"/>\n",
       "<polygon fill=\"black\" points=\"241.43,-141.693 241.62,-131.1 234.866,-139.263 241.43,-141.693\" stroke=\"black\"/>\n",
       "</g>\n",
       "<!-- n[76]&#45;&gt;n[4] -->\n",
       "<g class=\"edge\" id=\"edge225\"><title>n[76]-&gt;n[4]</title>\n",
       "<path d=\"M218.39,-111.1C165.78,-107.2 56.692,-99.111 -0.82433,-94.848\" fill=\"none\" stroke=\"black\"/>\n",
       "<polygon fill=\"black\" points=\"-0.706512,-91.3472 -10.938,-94.098 -1.22425,-98.328 -0.706512,-91.3472\" stroke=\"black\"/>\n",
       "</g>\n",
       "<!-- n[76]&#45;&gt;n[66] -->\n",
       "<g class=\"edge\" id=\"edge226\"><title>n[76]-&gt;n[66]</title>\n",
       "<path d=\"M233.2,-97.743C178.06,-40.625 -13.316,157.64 -79.075,225.77\" fill=\"none\" stroke=\"black\"/>\n",
       "<polygon fill=\"black\" points=\"-76.6394,228.286 -86.103,233.05 -81.6756,223.425 -76.6394,228.286\" stroke=\"black\"/>\n",
       "</g>\n",
       "<!-- n[76]&#45;&gt;n[30] -->\n",
       "<g class=\"edge\" id=\"edge227\"><title>n[76]-&gt;n[30]</title>\n",
       "<path d=\"M219.73,-119.01C159.67,-131.02 20.05,-158.93 -47.722,-172.48\" fill=\"none\" stroke=\"black\"/>\n",
       "<polygon fill=\"black\" points=\"-48.4517,-169.057 -57.571,-174.45 -47.0787,-175.921 -48.4517,-169.057\" stroke=\"black\"/>\n",
       "</g>\n",
       "<!-- n[107] -->\n",
       "<g class=\"node\" id=\"node86\"><title>n[107]</title>\n",
       "<ellipse cx=\"426.42\" cy=\"235.06\" fill=\"none\" rx=\"34.5\" ry=\"18\" stroke=\"black\"/>\n",
       "<text font-family=\"Times New Roman,serif\" font-size=\"14.00\" text-anchor=\"middle\" x=\"426.42\" y=\"238.76\">n[107]</text>\n",
       "</g>\n",
       "<!-- n[107]&#45;&gt;n[33] -->\n",
       "<g class=\"edge\" id=\"edge229\"><title>n[107]-&gt;n[33]</title>\n",
       "<path d=\"M392.29,231.99C319.29,225.43 148.35,210.06 70.254,203.04\" fill=\"none\" stroke=\"black\"/>\n",
       "<polygon fill=\"black\" points=\"69.5189,206.488 59.871,202.11 70.1434,199.516 69.5189,206.488\" stroke=\"black\"/>\n",
       "</g>\n",
       "<!-- n[107]&#45;&gt;n[85] -->\n",
       "<g class=\"edge\" id=\"edge228\"><title>n[107]-&gt;n[85]</title>\n",
       "<path d=\"M431.63,217.2C446,167.92 486.29,29.796 503.63,-29.691\" fill=\"none\" stroke=\"black\"/>\n",
       "<polygon fill=\"black\" points=\"500.337,-30.901 506.5,-39.519 507.056,-28.9388 500.337,-30.901\" stroke=\"black\"/>\n",
       "</g>\n",
       "<!-- n[107]&#45;&gt;n[72] -->\n",
       "<g class=\"edge\" id=\"edge230\"><title>n[107]-&gt;n[72]</title>\n",
       "<path d=\"M393.15,230.14C345,223.03 256.08,209.89 204.87,202.33\" fill=\"none\" stroke=\"black\"/>\n",
       "<polygon fill=\"black\" points=\"204.226,205.773 194.85,200.84 205.256,198.849 204.226,205.773\" stroke=\"black\"/>\n",
       "</g>\n",
       "<!-- n[93] -->\n",
       "<g class=\"node\" id=\"node87\"><title>n[93]</title>\n",
       "<ellipse cx=\"403.66\" cy=\"-183.1\" fill=\"none\" rx=\"30\" ry=\"18\" stroke=\"black\"/>\n",
       "<text font-family=\"Times New Roman,serif\" font-size=\"14.00\" text-anchor=\"middle\" x=\"403.66\" y=\"-179.4\">n[93]</text>\n",
       "</g>\n",
       "<!-- n[93]&#45;&gt;n[0] -->\n",
       "<g class=\"edge\" id=\"edge231\"><title>n[93]-&gt;n[0]</title>\n",
       "<path d=\"M380.05,-171.76C315.39,-140.7 135.41,-54.24 62.264,-19.107\" fill=\"none\" stroke=\"black\"/>\n",
       "<polygon fill=\"black\" points=\"63.6074,-15.8695 53.078,-14.694 60.5762,-22.1792 63.6074,-15.8695\" stroke=\"black\"/>\n",
       "</g>\n",
       "<!-- n[93]&#45;&gt;n[28] -->\n",
       "<g class=\"edge\" id=\"edge233\"><title>n[93]-&gt;n[28]</title>\n",
       "<path d=\"M373.65,-185.75C330.42,-189.57 250.56,-196.63 202.51,-200.87\" fill=\"none\" stroke=\"black\"/>\n",
       "<polygon fill=\"black\" points=\"202.131,-197.39 192.48,-201.76 202.75,-204.362 202.131,-197.39\" stroke=\"black\"/>\n",
       "</g>\n",
       "<!-- n[93]&#45;&gt;n[60] -->\n",
       "<g class=\"edge\" id=\"edge232\"><title>n[93]-&gt;n[60]</title>\n",
       "<path d=\"M379.9,-172.09C339.37,-153.31 256.8,-115.04 210.68,-93.67\" fill=\"none\" stroke=\"black\"/>\n",
       "<polygon fill=\"black\" points=\"211.965,-90.4079 201.42,-89.379 209.022,-96.7591 211.965,-90.4079\" stroke=\"black\"/>\n",
       "</g>\n",
       "<!-- n[73] -->\n",
       "<g class=\"node\" id=\"node88\"><title>n[73]</title>\n",
       "<ellipse cx=\"-377.95\" cy=\"173.73\" fill=\"none\" rx=\"30\" ry=\"18\" stroke=\"black\"/>\n",
       "<text font-family=\"Times New Roman,serif\" font-size=\"14.00\" text-anchor=\"middle\" x=\"-377.95\" y=\"177.43\">n[73]</text>\n",
       "</g>\n",
       "<!-- n[73]&#45;&gt;n[4] -->\n",
       "<g class=\"edge\" id=\"edge240\"><title>n[73]-&gt;n[4]</title>\n",
       "<path d=\"M-359.68,159.44C-302.96,115.06 -129.72,-20.465 -63.911,-71.949\" fill=\"none\" stroke=\"black\"/>\n",
       "<polygon fill=\"black\" points=\"-65.7499,-74.9542 -55.717,-78.359 -61.4368,-69.4408 -65.7499,-74.9542\" stroke=\"black\"/>\n",
       "</g>\n",
       "<!-- n[73]&#45;&gt;n[66] -->\n",
       "<g class=\"edge\" id=\"edge241\"><title>n[73]-&gt;n[66]</title>\n",
       "<path d=\"M-350.68,181.15C-300.92,194.69 -195.32,223.43 -138.88,238.78\" fill=\"none\" stroke=\"black\"/>\n",
       "<polygon fill=\"black\" points=\"-137.667,235.483 -128.94,241.49 -139.509,242.236 -137.667,235.483\" stroke=\"black\"/>\n",
       "</g>\n",
       "<!-- n[73]&#45;&gt;n[42] -->\n",
       "<g class=\"edge\" id=\"edge242\"><title>n[73]-&gt;n[42]</title>\n",
       "<path d=\"M-348.91,178.68C-315.38,184.39 -260.1,193.81 -222.88,200.15\" fill=\"none\" stroke=\"black\"/>\n",
       "<polygon fill=\"black\" points=\"-222.161,196.722 -212.89,201.85 -223.335,203.623 -222.161,196.722\" stroke=\"black\"/>\n",
       "</g>\n",
       "<!-- n[98] -->\n",
       "<g class=\"node\" id=\"node89\"><title>n[98]</title>\n",
       "<ellipse cx=\"-381.19\" cy=\"-194.37\" fill=\"none\" rx=\"30\" ry=\"18\" stroke=\"black\"/>\n",
       "<text font-family=\"Times New Roman,serif\" font-size=\"14.00\" text-anchor=\"middle\" x=\"-381.19\" y=\"-190.67\">n[98]</text>\n",
       "</g>\n",
       "<!-- n[98]&#45;&gt;n[3] -->\n",
       "<g class=\"edge\" id=\"edge246\"><title>n[98]-&gt;n[3]</title>\n",
       "<path d=\"M-352.29,-189.4C-290.72,-178.83 -146.77,-154.09 -78.854,-142.42\" fill=\"none\" stroke=\"black\"/>\n",
       "<polygon fill=\"black\" points=\"-77.8922,-145.806 -68.631,-140.66 -79.0799,-138.907 -77.8922,-145.806\" stroke=\"black\"/>\n",
       "</g>\n",
       "<!-- n[98]&#45;&gt;n[21] -->\n",
       "<g class=\"edge\" id=\"edge247\"><title>n[98]-&gt;n[21]</title>\n",
       "<path d=\"M-352.67,-188.9C-326.88,-183.96 -288.71,-176.64 -260.21,-171.18\" fill=\"none\" stroke=\"black\"/>\n",
       "<polygon fill=\"black\" points=\"-259.353,-174.579 -250.19,-169.26 -260.67,-167.705 -259.353,-174.579\" stroke=\"black\"/>\n",
       "</g>\n",
       "<!-- n[61] -->\n",
       "<g class=\"node\" id=\"node90\"><title>n[61]</title>\n",
       "<ellipse cx=\"-279.63\" cy=\"-340.88\" fill=\"none\" rx=\"30\" ry=\"18\" stroke=\"black\"/>\n",
       "<text font-family=\"Times New Roman,serif\" font-size=\"14.00\" text-anchor=\"middle\" x=\"-279.63\" y=\"-337.18\">n[61]</text>\n",
       "</g>\n",
       "<!-- n[98]&#45;&gt;n[61] -->\n",
       "<g class=\"edge\" id=\"edge248\"><title>n[98]-&gt;n[61]</title>\n",
       "<path d=\"M-369.54,-211.18C-351.81,-236.76 -317.91,-285.66 -297.19,-315.56\" fill=\"none\" stroke=\"black\"/>\n",
       "<polygon fill=\"black\" points=\"-300.036,-317.598 -291.46,-323.82 -294.284,-313.608 -300.036,-317.598\" stroke=\"black\"/>\n",
       "</g>\n",
       "<!-- n[61]&#45;&gt;n[47] -->\n",
       "<g class=\"edge\" id=\"edge249\"><title>n[61]-&gt;n[47]</title>\n",
       "<path d=\"M-250.28,-336.9C-218.26,-332.56 -166.82,-325.59 -131.27,-320.77\" fill=\"none\" stroke=\"black\"/>\n",
       "<polygon fill=\"black\" points=\"-130.679,-324.222 -121.24,-319.41 -131.62,-317.285 -130.679,-324.222\" stroke=\"black\"/>\n",
       "</g>\n",
       "<!-- n[44] -->\n",
       "<g class=\"node\" id=\"node91\"><title>n[44]</title>\n",
       "<ellipse cx=\"-40.766\" cy=\"-271.39\" fill=\"none\" rx=\"30\" ry=\"18\" stroke=\"black\"/>\n",
       "<text font-family=\"Times New Roman,serif\" font-size=\"14.00\" text-anchor=\"middle\" x=\"-40.766\" y=\"-267.69\">n[44]</text>\n",
       "</g>\n",
       "<!-- n[61]&#45;&gt;n[44] -->\n",
       "<g class=\"edge\" id=\"edge250\"><title>n[61]-&gt;n[44]</title>\n",
       "<path d=\"M-252.7,-333.05C-209.87,-320.59 -126.15,-296.23 -77.737,-282.15\" fill=\"none\" stroke=\"black\"/>\n",
       "<polygon fill=\"black\" points=\"-76.595,-285.463 -67.97,-279.31 -78.5496,-278.741 -76.595,-285.463\" stroke=\"black\"/>\n",
       "</g>\n",
       "<!-- n[52] -->\n",
       "<g class=\"node\" id=\"node92\"><title>n[52]</title>\n",
       "<ellipse cx=\"-263.91\" cy=\"-75.206\" fill=\"none\" rx=\"30\" ry=\"18\" stroke=\"black\"/>\n",
       "<text font-family=\"Times New Roman,serif\" font-size=\"14.00\" text-anchor=\"middle\" x=\"-263.91\" y=\"-71.506\">n[52]</text>\n",
       "</g>\n",
       "<!-- n[61]&#45;&gt;n[52] -->\n",
       "<g class=\"edge\" id=\"edge251\"><title>n[61]-&gt;n[52]</title>\n",
       "<path d=\"M-278.55,-322.62C-275.85,-277.01 -268.8,-157.85 -265.57,-103.26\" fill=\"none\" stroke=\"black\"/>\n",
       "<polygon fill=\"black\" points=\"-262.074,-103.433 -264.98,-93.244 -269.062,-103.021 -262.074,-103.433\" stroke=\"black\"/>\n",
       "</g>\n",
       "<!-- n[44]&#45;&gt;n[9] -->\n",
       "<g class=\"edge\" id=\"edge253\"><title>n[44]-&gt;n[9]</title>\n",
       "<path d=\"M-49.118,-254.04C-61.565,-228.18 -85.076,-179.34 -99.658,-149.05\" fill=\"none\" stroke=\"black\"/>\n",
       "<polygon fill=\"black\" points=\"-96.5609,-147.414 -104.05,-139.92 -102.869,-150.449 -96.5609,-147.414\" stroke=\"black\"/>\n",
       "</g>\n",
       "<!-- n[44]&#45;&gt;n[31] -->\n",
       "<g class=\"edge\" id=\"edge252\"><title>n[44]-&gt;n[31]</title>\n",
       "<path d=\"M-59.433,-257.16C-77.841,-243.13 -106.17,-221.54 -126.98,-205.67\" fill=\"none\" stroke=\"black\"/>\n",
       "<polygon fill=\"black\" points=\"-125.044,-202.745 -135.12,-199.47 -129.286,-208.314 -125.044,-202.745\" stroke=\"black\"/>\n",
       "</g>\n",
       "<!-- n[19] -->\n",
       "<g class=\"node\" id=\"node93\"><title>n[19]</title>\n",
       "<ellipse cx=\"-20.75\" cy=\"-226.3\" fill=\"none\" rx=\"30\" ry=\"18\" stroke=\"black\"/>\n",
       "<text font-family=\"Times New Roman,serif\" font-size=\"14.00\" text-anchor=\"middle\" x=\"-20.75\" y=\"-222.6\">n[19]</text>\n",
       "</g>\n",
       "<!-- n[44]&#45;&gt;n[19] -->\n",
       "<g class=\"edge\" id=\"edge254\"><title>n[44]-&gt;n[19]</title>\n",
       "<path d=\"M-32.97,-253.83C-32.879,-253.63 -32.788,-253.42 -32.697,-253.22\" fill=\"none\" stroke=\"black\"/>\n",
       "<polygon fill=\"black\" points=\"-29.4139,-254.45 -28.558,-243.89 -35.8125,-251.612 -29.4139,-254.45\" stroke=\"black\"/>\n",
       "</g>\n",
       "<!-- n[52]&#45;&gt;n[27] -->\n",
       "<g class=\"edge\" id=\"edge255\"><title>n[52]-&gt;n[27]</title>\n",
       "<path d=\"M-249.96,-58.9C-218.74,-22.407 -143.12,65.987 -106.58,108.7\" fill=\"none\" stroke=\"black\"/>\n",
       "<polygon fill=\"black\" points=\"-103.86,106.495 -100.02,116.37 -109.18,111.045 -103.86,106.495\" stroke=\"black\"/>\n",
       "</g>\n",
       "<!-- n[52]&#45;&gt;n[0] -->\n",
       "<g class=\"edge\" id=\"edge256\"><title>n[52]-&gt;n[0]</title>\n",
       "<path d=\"M-235.93,-68.441C-182.12,-55.434 -64.342,-26.962 -4.9664,-12.608\" fill=\"none\" stroke=\"black\"/>\n",
       "<polygon fill=\"black\" points=\"-3.82736,-15.9336 5.0704,-10.182 -5.47202,-9.12949 -3.82736,-15.9336\" stroke=\"black\"/>\n",
       "</g>\n",
       "<!-- n[52]&#45;&gt;n[37] -->\n",
       "<g class=\"edge\" id=\"edge257\"><title>n[52]-&gt;n[37]</title>\n",
       "<path d=\"M-237.68,-66.217C-163.87,-40.925 45.682,30.878 130.02,59.776\" fill=\"none\" stroke=\"black\"/>\n",
       "<polygon fill=\"black\" points=\"131.336,56.527 139.66,63.081 129.065,63.1486 131.336,56.527\" stroke=\"black\"/>\n",
       "</g>\n",
       "<!-- n[19]&#45;&gt;n[18] -->\n",
       "<g class=\"edge\" id=\"edge300\"><title>n[19]-&gt;n[18]</title>\n",
       "<path d=\"M-1.7991,-211.87C42.572,-178.09 153.31,-93.775 204.57,-54.747\" fill=\"none\" stroke=\"black\"/>\n",
       "<polygon fill=\"black\" points=\"206.721,-57.508 212.56,-48.667 202.483,-51.9374 206.721,-57.508\" stroke=\"black\"/>\n",
       "</g>\n",
       "<!-- n[19]&#45;&gt;n[3] -->\n",
       "<g class=\"edge\" id=\"edge301\"><title>n[19]-&gt;n[3]</title>\n",
       "<path d=\"M-24.979,-208.48C-27.999,-195.76 -32.12,-178.4 -35.569,-163.87\" fill=\"none\" stroke=\"black\"/>\n",
       "<polygon fill=\"black\" points=\"-32.2225,-162.813 -37.935,-153.89 -39.0337,-164.428 -32.2225,-162.813\" stroke=\"black\"/>\n",
       "</g>\n",
       "<!-- n[19]&#45;&gt;n[0] -->\n",
       "<g class=\"edge\" id=\"edge302\"><title>n[19]-&gt;n[0]</title>\n",
       "<path d=\"M-16.535,-208.11C-7.5301,-169.24 13.634,-77.884 24.329,-31.716\" fill=\"none\" stroke=\"black\"/>\n",
       "<polygon fill=\"black\" points=\"27.7796,-32.3289 26.627,-21.797 20.9602,-30.749 27.7796,-32.3289\" stroke=\"black\"/>\n",
       "</g>\n",
       "<!-- n[138] -->\n",
       "<g class=\"node\" id=\"node94\"><title>n[138]</title>\n",
       "<ellipse cx=\"409.67\" cy=\"-332.38\" fill=\"none\" rx=\"34.5\" ry=\"18\" stroke=\"black\"/>\n",
       "<text font-family=\"Times New Roman,serif\" font-size=\"14.00\" text-anchor=\"middle\" x=\"409.67\" y=\"-328.68\">n[138]</text>\n",
       "</g>\n",
       "<!-- n[138]&#45;&gt;n[85] -->\n",
       "<g class=\"edge\" id=\"edge264\"><title>n[138]-&gt;n[85]</title>\n",
       "<path d=\"M416.37,-314.34C433.82,-267.35 480.79,-140.88 501.59,-84.867\" fill=\"none\" stroke=\"black\"/>\n",
       "<polygon fill=\"black\" points=\"504.957,-85.8549 505.16,-75.262 498.395,-83.4161 504.957,-85.8549\" stroke=\"black\"/>\n",
       "</g>\n",
       "<!-- n[138]&#45;&gt;n[131] -->\n",
       "<g class=\"edge\" id=\"edge265\"><title>n[138]-&gt;n[131]</title>\n",
       "<path d=\"M377.23,-325.94C333.96,-317.35 257.29,-302.13 209.54,-292.65\" fill=\"none\" stroke=\"black\"/>\n",
       "<polygon fill=\"black\" points=\"210.01,-289.175 199.52,-290.66 208.647,-296.041 210.01,-289.175\" stroke=\"black\"/>\n",
       "</g>\n",
       "<!-- n[136] -->\n",
       "<g class=\"node\" id=\"node95\"><title>n[136]</title>\n",
       "<ellipse cx=\"333.93\" cy=\"-388.71\" fill=\"none\" rx=\"34.5\" ry=\"18\" stroke=\"black\"/>\n",
       "<text font-family=\"Times New Roman,serif\" font-size=\"14.00\" text-anchor=\"middle\" x=\"333.93\" y=\"-385.01\">n[136]</text>\n",
       "</g>\n",
       "<!-- n[138]&#45;&gt;n[136] -->\n",
       "<g class=\"edge\" id=\"edge266\"><title>n[138]-&gt;n[136]</title>\n",
       "<path d=\"M389.77,-347.18C381.32,-353.47 371.3,-360.91 362.11,-367.75\" fill=\"none\" stroke=\"black\"/>\n",
       "<polygon fill=\"black\" points=\"359.896,-365.034 353.96,-373.81 364.073,-370.652 359.896,-365.034\" stroke=\"black\"/>\n",
       "</g>\n",
       "<!-- n[136]&#45;&gt;n[24] -->\n",
       "<g class=\"edge\" id=\"edge267\"><title>n[136]-&gt;n[24]</title>\n",
       "<path d=\"M311.72,-374.49C268.12,-346.58 171.35,-284.63 122.57,-253.41\" fill=\"none\" stroke=\"black\"/>\n",
       "<polygon fill=\"black\" points=\"124.349,-250.393 114.04,-247.95 120.575,-256.289 124.349,-250.393\" stroke=\"black\"/>\n",
       "</g>\n",
       "<!-- n[70] -->\n",
       "<g class=\"node\" id=\"node96\"><title>n[70]</title>\n",
       "<ellipse cx=\"71.398\" cy=\"-348.04\" fill=\"none\" rx=\"30\" ry=\"18\" stroke=\"black\"/>\n",
       "<text font-family=\"Times New Roman,serif\" font-size=\"14.00\" text-anchor=\"middle\" x=\"71.398\" y=\"-344.34\">n[70]</text>\n",
       "</g>\n",
       "<!-- n[136]&#45;&gt;n[70] -->\n",
       "<g class=\"edge\" id=\"edge268\"><title>n[136]-&gt;n[70]</title>\n",
       "<path d=\"M300.68,-383.56C252.15,-376.04 162.07,-362.09 110.45,-354.09\" fill=\"none\" stroke=\"black\"/>\n",
       "<polygon fill=\"black\" points=\"110.777,-350.599 100.36,-352.53 109.708,-357.517 110.777,-350.599\" stroke=\"black\"/>\n",
       "</g>\n",
       "<!-- n[118] -->\n",
       "<g class=\"node\" id=\"node97\"><title>n[118]</title>\n",
       "<ellipse cx=\"526.78\" cy=\"-183.27\" fill=\"none\" rx=\"34.5\" ry=\"18\" stroke=\"black\"/>\n",
       "<text font-family=\"Times New Roman,serif\" font-size=\"14.00\" text-anchor=\"middle\" x=\"526.78\" y=\"-179.57\">n[118]</text>\n",
       "</g>\n",
       "<!-- n[136]&#45;&gt;n[118] -->\n",
       "<g class=\"edge\" id=\"edge269\"><title>n[136]-&gt;n[118]</title>\n",
       "<path d=\"M349.39,-372.24C383.47,-335.94 465.16,-248.91 504.65,-206.83\" fill=\"none\" stroke=\"black\"/>\n",
       "<polygon fill=\"black\" points=\"507.222,-209.204 511.52,-199.52 502.121,-204.41 507.222,-209.204\" stroke=\"black\"/>\n",
       "</g>\n",
       "<!-- n[70]&#45;&gt;n[46] -->\n",
       "<g class=\"edge\" id=\"edge270\"><title>n[70]-&gt;n[46]</title>\n",
       "<path d=\"M73.686,-329.85C82.639,-258.65 115.34,1.3916 126.21,87.875\" fill=\"none\" stroke=\"black\"/>\n",
       "<polygon fill=\"black\" points=\"129.707,87.6307 127.49,97.991 122.762,88.5095 129.707,87.6307\" stroke=\"black\"/>\n",
       "</g>\n",
       "<!-- n[70]&#45;&gt;n[47] -->\n",
       "<g class=\"edge\" id=\"edge271\"><title>n[70]-&gt;n[47]</title>\n",
       "<path d=\"M42.974,-342.36C16.346,-337.04 -23.665,-329.04 -53.175,-323.14\" fill=\"none\" stroke=\"black\"/>\n",
       "<polygon fill=\"black\" points=\"-52.6441,-319.677 -63.136,-321.15 -54.0155,-326.541 -52.6441,-319.677\" stroke=\"black\"/>\n",
       "</g>\n",
       "<!-- n[70]&#45;&gt;n[44] -->\n",
       "<g class=\"edge\" id=\"edge272\"><title>n[70]-&gt;n[44]</title>\n",
       "<path d=\"M51.604,-334.52C33.854,-322.39 7.6051,-304.45 -12.379,-290.79\" fill=\"none\" stroke=\"black\"/>\n",
       "<polygon fill=\"black\" points=\"-10.5611,-287.793 -20.792,-285.04 -14.511,-293.572 -10.5611,-287.793\" stroke=\"black\"/>\n",
       "</g>\n",
       "<!-- n[118]&#45;&gt;n[56] -->\n",
       "<g class=\"edge\" id=\"edge273\"><title>n[118]-&gt;n[56]</title>\n",
       "<path d=\"M511.29,-167.1C472.12,-126.19 368.96,-18.479 323.52,28.973\" fill=\"none\" stroke=\"black\"/>\n",
       "<polygon fill=\"black\" points=\"325.934,31.5127 316.49,36.315 320.878,26.6715 325.934,31.5127\" stroke=\"black\"/>\n",
       "</g>\n",
       "<!-- n[81] -->\n",
       "<g class=\"node\" id=\"node98\"><title>n[81]</title>\n",
       "<ellipse cx=\"257.49\" cy=\"-233.97\" fill=\"none\" rx=\"30\" ry=\"18\" stroke=\"black\"/>\n",
       "<text font-family=\"Times New Roman,serif\" font-size=\"14.00\" text-anchor=\"middle\" x=\"257.49\" y=\"-230.27\">n[81]</text>\n",
       "</g>\n",
       "<!-- n[118]&#45;&gt;n[81] -->\n",
       "<g class=\"edge\" id=\"edge274\"><title>n[118]-&gt;n[81]</title>\n",
       "<path d=\"M494.3,-189.38C444.59,-198.74 349.83,-216.58 296.49,-226.63\" fill=\"none\" stroke=\"black\"/>\n",
       "<polygon fill=\"black\" points=\"295.571,-223.241 286.39,-228.53 296.865,-230.121 295.571,-223.241\" stroke=\"black\"/>\n",
       "</g>\n",
       "<!-- n[102] -->\n",
       "<g class=\"node\" id=\"node99\"><title>n[102]</title>\n",
       "<ellipse cx=\"324.04\" cy=\"-143.44\" fill=\"none\" rx=\"34.5\" ry=\"18\" stroke=\"black\"/>\n",
       "<text font-family=\"Times New Roman,serif\" font-size=\"14.00\" text-anchor=\"middle\" x=\"324.04\" y=\"-139.74\">n[102]</text>\n",
       "</g>\n",
       "<!-- n[118]&#45;&gt;n[102] -->\n",
       "<g class=\"edge\" id=\"edge275\"><title>n[118]-&gt;n[102]</title>\n",
       "<path d=\"M494.21,-176.87C459.62,-170.07 404.82,-159.31 366.78,-151.83\" fill=\"none\" stroke=\"black\"/>\n",
       "<polygon fill=\"black\" points=\"367.017,-148.31 356.53,-149.82 365.67,-155.179 367.017,-148.31\" stroke=\"black\"/>\n",
       "</g>\n",
       "<!-- n[81]&#45;&gt;n[34] -->\n",
       "<g class=\"edge\" id=\"edge276\"><title>n[81]-&gt;n[34]</title>\n",
       "<path d=\"M256.17,-215.97C252.23,-162.07 240.5,-1.7033 235.71,63.826\" fill=\"none\" stroke=\"black\"/>\n",
       "<polygon fill=\"black\" points=\"239.197,64.1387 234.97,73.854 232.216,63.6235 239.197,64.1387\" stroke=\"black\"/>\n",
       "</g>\n",
       "<!-- n[81]&#45;&gt;n[26] -->\n",
       "<g class=\"edge\" id=\"edge277\"><title>n[81]-&gt;n[26]</title>\n",
       "<path d=\"M246.32,-217.2C239.74,-207.32 231.28,-194.62 223.92,-183.56\" fill=\"none\" stroke=\"black\"/>\n",
       "<polygon fill=\"black\" points=\"226.756,-181.504 218.3,-175.12 220.929,-185.383 226.756,-181.504\" stroke=\"black\"/>\n",
       "</g>\n",
       "<!-- n[81]&#45;&gt;n[70] -->\n",
       "<g class=\"edge\" id=\"edge278\"><title>n[81]-&gt;n[70]</title>\n",
       "<path d=\"M236.5,-246.83C203.42,-267.12 139,-306.6 101.15,-329.8\" fill=\"none\" stroke=\"black\"/>\n",
       "<polygon fill=\"black\" points=\"99.2857,-326.838 92.592,-335.05 102.946,-332.804 99.2857,-326.838\" stroke=\"black\"/>\n",
       "</g>\n",
       "<!-- n[102]&#45;&gt;n[14] -->\n",
       "<g class=\"edge\" id=\"edge310\"><title>n[102]-&gt;n[14]</title>\n",
       "<path d=\"M306.61,-127.43C259.56,-84.225 129.9,34.849 76.016,84.334\" fill=\"none\" stroke=\"black\"/>\n",
       "<polygon fill=\"black\" points=\"78.3676,86.9264 68.635,91.113 73.6325,81.7709 78.3676,86.9264\" stroke=\"black\"/>\n",
       "</g>\n",
       "<!-- n[102]&#45;&gt;n[38] -->\n",
       "<g class=\"edge\" id=\"edge311\"><title>n[102]-&gt;n[38]</title>\n",
       "<path d=\"M294.51,-134.15C209.41,-107.39 -36.208,-30.167 -129.29,-0.90061\" fill=\"none\" stroke=\"black\"/>\n",
       "<polygon fill=\"black\" points=\"-128.511,2.52319 -139.1,2.1834 -130.61,-4.1546 -128.511,2.52319\" stroke=\"black\"/>\n",
       "</g>\n",
       "<!-- n[102]&#45;&gt;n[85] -->\n",
       "<g class=\"edge\" id=\"edge312\"><title>n[102]-&gt;n[85]</title>\n",
       "<path d=\"M350.14,-131.49C383.71,-116.13 442.04,-89.428 478.68,-72.657\" fill=\"none\" stroke=\"black\"/>\n",
       "<polygon fill=\"black\" points=\"480.314,-75.7584 487.95,-68.414 477.401,-69.3935 480.314,-75.7584\" stroke=\"black\"/>\n",
       "</g>\n",
       "<!-- n[146] -->\n",
       "<g class=\"node\" id=\"node100\"><title>n[146]</title>\n",
       "<ellipse cx=\"-27.554\" cy=\"-385\" fill=\"none\" rx=\"34.5\" ry=\"18\" stroke=\"black\"/>\n",
       "<text font-family=\"Times New Roman,serif\" font-size=\"14.00\" text-anchor=\"middle\" x=\"-27.554\" y=\"-381.3\">n[146]</text>\n",
       "</g>\n",
       "<!-- n[146]&#45;&gt;n[21] -->\n",
       "<g class=\"edge\" id=\"edge279\"><title>n[146]-&gt;n[21]</title>\n",
       "<path d=\"M-42.142,-368.37C-76.252,-329.49 -161.32,-232.54 -200.84,-187.49\" fill=\"none\" stroke=\"black\"/>\n",
       "<polygon fill=\"black\" points=\"-198.442,-184.916 -207.67,-179.71 -203.703,-189.534 -198.442,-184.916\" stroke=\"black\"/>\n",
       "</g>\n",
       "<!-- n[146]&#45;&gt;n[30] -->\n",
       "<g class=\"edge\" id=\"edge280\"><title>n[146]-&gt;n[30]</title>\n",
       "<path d=\"M-32.638,-367.17C-42.848,-331.38 -65.91,-250.54 -78.1,-207.81\" fill=\"none\" stroke=\"black\"/>\n",
       "<polygon fill=\"black\" points=\"-74.7721,-206.717 -80.88,-198.06 -81.5038,-208.636 -74.7721,-206.717\" stroke=\"black\"/>\n",
       "</g>\n",
       "<!-- n[146]&#45;&gt;n[138] -->\n",
       "<g class=\"edge\" id=\"edge281\"><title>n[146]-&gt;n[138]</title>\n",
       "<path d=\"M6.0284,-380.95C84.235,-371.54 278.49,-348.16 365.86,-337.65\" fill=\"none\" stroke=\"black\"/>\n",
       "<polygon fill=\"black\" points=\"366.461,-341.103 375.97,-336.43 365.623,-334.153 366.461,-341.103\" stroke=\"black\"/>\n",
       "</g>\n",
       "<!-- n[87] -->\n",
       "<g class=\"node\" id=\"node101\"><title>n[87]</title>\n",
       "<ellipse cx=\"-491.74\" cy=\"84.117\" fill=\"none\" rx=\"30\" ry=\"18\" stroke=\"black\"/>\n",
       "<text font-family=\"Times New Roman,serif\" font-size=\"14.00\" text-anchor=\"middle\" x=\"-491.74\" y=\"87.817\">n[87]</text>\n",
       "</g>\n",
       "<!-- n[87]&#45;&gt;n[20] -->\n",
       "<g class=\"edge\" id=\"edge282\"><title>n[87]-&gt;n[20]</title>\n",
       "<path d=\"M-470.12,96.697C-428.19,121.09 -335.74,174.88 -287.73,202.82\" fill=\"none\" stroke=\"black\"/>\n",
       "<polygon fill=\"black\" points=\"-285.915,199.827 -279.03,207.88 -289.434,205.878 -285.915,199.827\" stroke=\"black\"/>\n",
       "</g>\n",
       "<!-- n[87]&#45;&gt;n[50] -->\n",
       "<g class=\"edge\" id=\"edge283\"><title>n[87]-&gt;n[50]</title>\n",
       "<path d=\"M-464.25,91.414C-435.92,98.931 -391.59,110.7 -360.14,119.04\" fill=\"none\" stroke=\"black\"/>\n",
       "<polygon fill=\"black\" points=\"-359.187,115.672 -350.42,121.62 -360.983,122.437 -359.187,115.672\" stroke=\"black\"/>\n",
       "</g>\n",
       "<!-- n[68] -->\n",
       "<g class=\"node\" id=\"node102\"><title>n[68]</title>\n",
       "<ellipse cx=\"-276.09\" cy=\"-119.75\" fill=\"none\" rx=\"30\" ry=\"18\" stroke=\"black\"/>\n",
       "<text font-family=\"Times New Roman,serif\" font-size=\"14.00\" text-anchor=\"middle\" x=\"-276.09\" y=\"-116.05\">n[68]</text>\n",
       "</g>\n",
       "<!-- n[87]&#45;&gt;n[68] -->\n",
       "<g class=\"edge\" id=\"edge284\"><title>n[87]-&gt;n[68]</title>\n",
       "<path d=\"M-475.53,68.794C-437.74,33.066 -343.65,-55.883 -299.57,-97.551\" fill=\"none\" stroke=\"black\"/>\n",
       "<polygon fill=\"black\" points=\"-301.864,-100.199 -292.19,-104.52 -297.058,-95.1095 -301.864,-100.199\" stroke=\"black\"/>\n",
       "</g>\n",
       "<!-- n[68]&#45;&gt;n[22] -->\n",
       "<g class=\"edge\" id=\"edge285\"><title>n[68]-&gt;n[22]</title>\n",
       "<path d=\"M-246.39,-117.37C-185.55,-112.5 -46.727,-101.38 21.955,-95.887\" fill=\"none\" stroke=\"black\"/>\n",
       "<polygon fill=\"black\" points=\"22.2693,-99.3731 31.958,-95.086 21.7105,-92.3955 22.2693,-99.3731\" stroke=\"black\"/>\n",
       "</g>\n",
       "<!-- n[68]&#45;&gt;n[38] -->\n",
       "<g class=\"edge\" id=\"edge286\"><title>n[68]-&gt;n[38]</title>\n",
       "<path d=\"M-262.32,-103.51C-243.22,-80.984 -208.53,-40.071 -186.31,-13.864\" fill=\"none\" stroke=\"black\"/>\n",
       "<polygon fill=\"black\" points=\"-183.367,-15.8048 -179.57,-5.9137 -188.706,-11.2782 -183.367,-15.8048\" stroke=\"black\"/>\n",
       "</g>\n",
       "<!-- n[68]&#45;&gt;n[55] -->\n",
       "<g class=\"edge\" id=\"edge287\"><title>n[68]-&gt;n[55]</title>\n",
       "<path d=\"M-247.92,-113.1C-171.61,-95.09 39.139,-45.353 125.69,-24.927\" fill=\"none\" stroke=\"black\"/>\n",
       "<polygon fill=\"black\" points=\"126.69,-28.2871 135.62,-22.585 125.084,-21.4741 126.69,-28.2871\" stroke=\"black\"/>\n",
       "</g>\n",
       "<!-- n[105] -->\n",
       "<g class=\"node\" id=\"node103\"><title>n[105]</title>\n",
       "<ellipse cx=\"-82.781\" cy=\"61.674\" fill=\"none\" rx=\"34.5\" ry=\"18\" stroke=\"black\"/>\n",
       "<text font-family=\"Times New Roman,serif\" font-size=\"14.00\" text-anchor=\"middle\" x=\"-82.781\" y=\"65.374\">n[105]</text>\n",
       "</g>\n",
       "<!-- n[105]&#45;&gt;n[36] -->\n",
       "<g class=\"edge\" id=\"edge288\"><title>n[105]-&gt;n[36]</title>\n",
       "<path d=\"M-58.787,74.741C-26.535,92.304 30.86,123.56 66.513,142.98\" fill=\"none\" stroke=\"black\"/>\n",
       "<polygon fill=\"black\" points=\"68.4058,140.025 75.516,147.88 65.0595,146.174 68.4058,140.025\" stroke=\"black\"/>\n",
       "</g>\n",
       "<!-- n[105]&#45;&gt;n[84] -->\n",
       "<g class=\"edge\" id=\"edge289\"><title>n[105]-&gt;n[84]</title>\n",
       "<path d=\"M-60.543,75.658C2.9228,115.57 184.93,230.02 256.54,275.05\" fill=\"none\" stroke=\"black\"/>\n",
       "<polygon fill=\"black\" points=\"258.503,272.15 265.1,280.44 254.773,278.073 258.503,272.15\" stroke=\"black\"/>\n",
       "</g>\n",
       "<!-- n[105]&#45;&gt;n[28] -->\n",
       "<g class=\"edge\" id=\"edge290\"><title>n[105]-&gt;n[28]</title>\n",
       "<path d=\"M-67.786,45.432C-25.978,0.14691 92.023,-127.67 141.06,-180.78\" fill=\"none\" stroke=\"black\"/>\n",
       "<polygon fill=\"black\" points=\"138.688,-183.371 148.04,-188.35 143.834,-178.626 138.688,-183.371\" stroke=\"black\"/>\n",
       "</g>\n",
       "<!-- n[135] -->\n",
       "<g class=\"node\" id=\"node104\"><title>n[135]</title>\n",
       "<ellipse cx=\"-352.73\" cy=\"-333.47\" fill=\"none\" rx=\"34.5\" ry=\"18\" stroke=\"black\"/>\n",
       "<text font-family=\"Times New Roman,serif\" font-size=\"14.00\" text-anchor=\"middle\" x=\"-352.73\" y=\"-329.77\">n[135]</text>\n",
       "</g>\n",
       "<!-- n[135]&#45;&gt;n[44] -->\n",
       "<g class=\"edge\" id=\"edge291\"><title>n[135]-&gt;n[44]</title>\n",
       "<path d=\"M-320.52,-327.06C-262.69,-315.55 -141.49,-291.43 -79.334,-279.07\" fill=\"none\" stroke=\"black\"/>\n",
       "<polygon fill=\"black\" points=\"-78.2845,-282.43 -69.163,-277.04 -79.6547,-275.565 -78.2845,-282.43\" stroke=\"black\"/>\n",
       "</g>\n",
       "<!-- n[129] -->\n",
       "<g class=\"node\" id=\"node105\"><title>n[129]</title>\n",
       "<ellipse cx=\"-197.06\" cy=\"-270.83\" fill=\"none\" rx=\"34.5\" ry=\"18\" stroke=\"black\"/>\n",
       "<text font-family=\"Times New Roman,serif\" font-size=\"14.00\" text-anchor=\"middle\" x=\"-197.06\" y=\"-267.13\">n[129]</text>\n",
       "</g>\n",
       "<!-- n[135]&#45;&gt;n[129] -->\n",
       "<g class=\"edge\" id=\"edge292\"><title>n[135]-&gt;n[129]</title>\n",
       "<path d=\"M-325.26,-322.41C-299.88,-312.2 -261.99,-296.96 -233.98,-285.68\" fill=\"none\" stroke=\"black\"/>\n",
       "<polygon fill=\"black\" points=\"-232.495,-288.855 -224.52,-281.88 -235.104,-282.36 -232.495,-288.855\" stroke=\"black\"/>\n",
       "</g>\n",
       "<!-- n[127] -->\n",
       "<g class=\"node\" id=\"node106\"><title>n[127]</title>\n",
       "<ellipse cx=\"-545.2\" cy=\"38.041\" fill=\"none\" rx=\"34.5\" ry=\"18\" stroke=\"black\"/>\n",
       "<text font-family=\"Times New Roman,serif\" font-size=\"14.00\" text-anchor=\"middle\" x=\"-545.2\" y=\"41.741\">n[127]</text>\n",
       "</g>\n",
       "<!-- n[135]&#45;&gt;n[127] -->\n",
       "<g class=\"edge\" id=\"edge293\"><title>n[135]-&gt;n[127]</title>\n",
       "<path d=\"M-361.76,-316.05C-392.63,-256.45 -494.18,-60.426 -531.38,11.378\" fill=\"none\" stroke=\"black\"/>\n",
       "<polygon fill=\"black\" points=\"-528.481,13.3904 -536.19,20.658 -534.696,10.1691 -528.481,13.3904\" stroke=\"black\"/>\n",
       "</g>\n",
       "<!-- n[129]&#45;&gt;n[10] -->\n",
       "<g class=\"edge\" id=\"edge294\"><title>n[129]-&gt;n[10]</title>\n",
       "<path d=\"M-187.31,-253.22C-160.24,-204.33 -84.029,-66.71 -51.914,-8.7131\" fill=\"none\" stroke=\"black\"/>\n",
       "<polygon fill=\"black\" points=\"-48.759,-10.2403 -46.977,0.20358 -54.8829,-6.84958 -48.759,-10.2403\" stroke=\"black\"/>\n",
       "</g>\n",
       "<!-- n[129]&#45;&gt;n[23] -->\n",
       "<g class=\"edge\" id=\"edge296\"><title>n[129]-&gt;n[23]</title>\n",
       "<path d=\"M-171.02,-258.58C-161.86,-254.27 -151.43,-249.37 -141.76,-244.82\" fill=\"none\" stroke=\"black\"/>\n",
       "<polygon fill=\"black\" points=\"-139.982,-247.851 -132.43,-240.42 -142.968,-241.52 -139.982,-247.851\" stroke=\"black\"/>\n",
       "</g>\n",
       "<!-- n[129]&#45;&gt;n[60] -->\n",
       "<g class=\"edge\" id=\"edge295\"><title>n[129]-&gt;n[60]</title>\n",
       "<path d=\"M-172.47,-258.2C-106.87,-224.5 72.291,-132.47 145.66,-94.783\" fill=\"none\" stroke=\"black\"/>\n",
       "<polygon fill=\"black\" points=\"147.585,-97.7287 154.88,-90.045 144.386,-91.5027 147.585,-97.7287\" stroke=\"black\"/>\n",
       "</g>\n",
       "<!-- n[127]&#45;&gt;n[77] -->\n",
       "<g class=\"edge\" id=\"edge297\"><title>n[127]-&gt;n[77]</title>\n",
       "<path d=\"M-526.53,53.397C-466.53,102.75 -278.53,257.39 -209.53,314.15\" fill=\"none\" stroke=\"black\"/>\n",
       "<polygon fill=\"black\" points=\"-207.222,311.516 -201.72,320.57 -211.668,316.924 -207.222,311.516\" stroke=\"black\"/>\n",
       "</g>\n",
       "<!-- n[104] -->\n",
       "<g class=\"node\" id=\"node107\"><title>n[104]</title>\n",
       "<ellipse cx=\"-371.59\" cy=\"63\" fill=\"none\" rx=\"34.5\" ry=\"18\" stroke=\"black\"/>\n",
       "<text font-family=\"Times New Roman,serif\" font-size=\"14.00\" text-anchor=\"middle\" x=\"-371.59\" y=\"66.7\">n[104]</text>\n",
       "</g>\n",
       "<!-- n[127]&#45;&gt;n[104] -->\n",
       "<g class=\"edge\" id=\"edge298\"><title>n[127]-&gt;n[104]</title>\n",
       "<path d=\"M-511.72,42.853C-484.22,46.807 -445.07,52.437 -415.13,56.741\" fill=\"none\" stroke=\"black\"/>\n",
       "<polygon fill=\"black\" points=\"-414.36,53.3156 -404.96,58.203 -415.356,60.2444 -414.36,53.3156\" stroke=\"black\"/>\n",
       "</g>\n",
       "<!-- n[89] -->\n",
       "<g class=\"node\" id=\"node108\"><title>n[89]</title>\n",
       "<ellipse cx=\"-293.03\" cy=\"-17.008\" fill=\"yellow\" rx=\"30\" ry=\"18\" stroke=\"black\"/>\n",
       "<text font-family=\"Times New Roman,serif\" font-size=\"14.00\" text-anchor=\"middle\" x=\"-293.03\" y=\"-13.308\">n[89]</text>\n",
       "</g>\n",
       "<!-- n[127]&#45;&gt;n[89] -->\n",
       "<g class=\"edge\" id=\"edge299\"><title>n[127]-&gt;n[89]</title>\n",
       "<path d=\"M-513.26,31.069C-466.86,20.94 -380.94,2.184 -331.25,-8.6651\" fill=\"none\" stroke=\"black\"/>\n",
       "<polygon fill=\"black\" points=\"-331.736,-12.1413 -321.22,-10.854 -330.244,-5.30224 -331.736,-12.1413\" stroke=\"black\"/>\n",
       "</g>\n",
       "<!-- n[104]&#45;&gt;n[9] -->\n",
       "<g class=\"edge\" id=\"edge303\"><title>n[104]-&gt;n[9]</title>\n",
       "<path d=\"M-351.25,48.431C-304.87,15.215 -191.32,-66.119 -139.24,-103.42\" fill=\"none\" stroke=\"black\"/>\n",
       "<polygon fill=\"black\" points=\"-141.018,-106.452 -130.85,-109.43 -136.941,-100.761 -141.018,-106.452\" stroke=\"black\"/>\n",
       "</g>\n",
       "<!-- n[104]&#45;&gt;n[33] -->\n",
       "<g class=\"edge\" id=\"edge304\"><title>n[104]-&gt;n[33]</title>\n",
       "<path d=\"M-342.71,72.812C-270.86,97.216 -84.255,160.6 -5.6633,187.3\" fill=\"none\" stroke=\"black\"/>\n",
       "<polygon fill=\"black\" points=\"-4.53115,183.988 3.8106,190.52 -6.78381,190.616 -4.53115,183.988\" stroke=\"black\"/>\n",
       "</g>\n",
       "<!-- n[104]&#45;&gt;n[68] -->\n",
       "<g class=\"edge\" id=\"edge305\"><title>n[104]-&gt;n[68]</title>\n",
       "<path d=\"M-362.43,45.478C-345.56,13.194 -309.49,-55.826 -289.73,-93.642\" fill=\"none\" stroke=\"black\"/>\n",
       "<polygon fill=\"black\" points=\"-292.814,-95.2983 -285.08,-102.54 -286.61,-92.0562 -292.814,-95.2983\" stroke=\"black\"/>\n",
       "</g>\n",
       "<!-- n[89]&#45;&gt;T -->\n",
       "<g class=\"edge\" id=\"edge306\"><title>n[89]-&gt;T</title>\n",
       "<path d=\"M-290.65,1.219C-283.36,57.096 -261.28,226.28 -252.47,293.77\" fill=\"none\" stroke=\"black\"/>\n",
       "<polygon fill=\"black\" points=\"-248.998,293.332 -251.18,303.7 -255.939,294.234 -248.998,293.332\" stroke=\"black\"/>\n",
       "</g>\n",
       "<!-- n[89]&#45;&gt;n[36] -->\n",
       "<g class=\"edge\" id=\"edge307\"><title>n[89]-&gt;n[36]</title>\n",
       "<path d=\"M-268.87,-6.065C-201.66,24.378 -12.388,110.11 64.654,145.01\" fill=\"none\" stroke=\"black\"/>\n",
       "<polygon fill=\"black\" points=\"66.2398,141.886 73.905,149.2 63.3517,148.262 66.2398,141.886\" stroke=\"black\"/>\n",
       "</g>\n",
       "<!-- n[89]&#45;&gt;n[44] -->\n",
       "<g class=\"edge\" id=\"edge308\"><title>n[89]-&gt;n[44]</title>\n",
       "<path d=\"M-277.63,-32.538C-234.79,-75.735 -114.07,-197.47 -63.499,-248.47\" fill=\"none\" stroke=\"black\"/>\n",
       "<polygon fill=\"black\" points=\"-65.8131,-251.107 -56.285,-255.74 -60.8443,-246.176 -65.8131,-251.107\" stroke=\"black\"/>\n",
       "</g>\n",
       "<!-- n[89]&#45;&gt;n[19] -->\n",
       "<g class=\"edge\" id=\"edge309\"><title>n[89]-&gt;n[19]</title>\n",
       "<path d=\"M-274.31,-31.394C-226.98,-67.775 -102.39,-163.55 -47.435,-205.79\" fill=\"none\" stroke=\"black\"/>\n",
       "<polygon fill=\"black\" points=\"-49.298,-208.772 -39.236,-212.09 -45.033,-203.222 -49.298,-208.772\" stroke=\"black\"/>\n",
       "</g>\n",
       "<!-- n[145] -->\n",
       "<g class=\"node\" id=\"node109\"><title>n[145]</title>\n",
       "<ellipse cx=\"661.59\" cy=\"-52.39\" fill=\"none\" rx=\"34.5\" ry=\"18\" stroke=\"black\"/>\n",
       "<text font-family=\"Times New Roman,serif\" font-size=\"14.00\" text-anchor=\"middle\" x=\"661.59\" y=\"-48.69\">n[145]</text>\n",
       "</g>\n",
       "<!-- n[145]&#45;&gt;n[137] -->\n",
       "<g class=\"edge\" id=\"edge313\"><title>n[145]-&gt;n[137]</title>\n",
       "<path d=\"M627.36,-49.899C588.78,-47.092 525.95,-42.521 483.66,-39.444\" fill=\"none\" stroke=\"black\"/>\n",
       "<polygon fill=\"black\" points=\"483.868,-35.9499 473.64,-38.715 483.36,-42.9315 483.868,-35.9499\" stroke=\"black\"/>\n",
       "</g>\n",
       "<!-- n[109] -->\n",
       "<g class=\"node\" id=\"node110\"><title>n[109]</title>\n",
       "<ellipse cx=\"357.06\" cy=\"162.15\" fill=\"none\" rx=\"34.5\" ry=\"18\" stroke=\"black\"/>\n",
       "<text font-family=\"Times New Roman,serif\" font-size=\"14.00\" text-anchor=\"middle\" x=\"357.06\" y=\"165.85\">n[109]</text>\n",
       "</g>\n",
       "<!-- n[145]&#45;&gt;n[109] -->\n",
       "<g class=\"edge\" id=\"edge314\"><title>n[145]-&gt;n[109]</title>\n",
       "<path d=\"M640.66,-37.644C587.51,-0.19767 447.22,98.634 386.15,141.66\" fill=\"none\" stroke=\"black\"/>\n",
       "<polygon fill=\"black\" points=\"387.924,144.692 377.73,147.58 383.897,138.965 387.924,144.692\" stroke=\"black\"/>\n",
       "</g>\n",
       "<!-- n[124] -->\n",
       "<g class=\"node\" id=\"node111\"><title>n[124]</title>\n",
       "<ellipse cx=\"466.88\" cy=\"-230.45\" fill=\"none\" rx=\"34.5\" ry=\"18\" stroke=\"black\"/>\n",
       "<text font-family=\"Times New Roman,serif\" font-size=\"14.00\" text-anchor=\"middle\" x=\"466.88\" y=\"-226.75\">n[124]</text>\n",
       "</g>\n",
       "<!-- n[145]&#45;&gt;n[124] -->\n",
       "<g class=\"edge\" id=\"edge315\"><title>n[145]-&gt;n[124]</title>\n",
       "<path d=\"M644.31,-68.191C609.67,-99.869 531.63,-171.23 491.6,-207.85\" fill=\"none\" stroke=\"black\"/>\n",
       "<polygon fill=\"black\" points=\"489.145,-205.352 484.12,-214.68 493.865,-210.522 489.145,-205.352\" stroke=\"black\"/>\n",
       "</g>\n",
       "<!-- n[109]&#45;&gt;n[54] -->\n",
       "<g class=\"edge\" id=\"edge316\"><title>n[109]-&gt;n[54]</title>\n",
       "<path d=\"M357.91,143.85C359.64,106.39 363.61,20.728 365.68,-24.043\" fill=\"none\" stroke=\"black\"/>\n",
       "<polygon fill=\"black\" points=\"362.193,-24.4059 366.15,-34.234 369.185,-24.0833 362.193,-24.4059\" stroke=\"black\"/>\n",
       "</g>\n",
       "<!-- n[109]&#45;&gt;n[43] -->\n",
       "<g class=\"edge\" id=\"edge318\"><title>n[109]-&gt;n[43]</title>\n",
       "<path d=\"M341.77,145.57C290.19,89.637 122.4,-92.298 62.015,-157.78\" fill=\"none\" stroke=\"black\"/>\n",
       "<polygon fill=\"black\" points=\"59.076,-155.804 54.873,-165.53 64.2235,-160.548 59.076,-155.804\" stroke=\"black\"/>\n",
       "</g>\n",
       "<!-- n[109]&#45;&gt;n[74] -->\n",
       "<g class=\"edge\" id=\"edge317\"><title>n[109]-&gt;n[74]</title>\n",
       "<path d=\"M331.87,174.46C266.01,206.66 88.7,293.32 14.915,329.39\" fill=\"none\" stroke=\"black\"/>\n",
       "<polygon fill=\"black\" points=\"16.1432,332.685 5.6217,333.93 13.0705,326.396 16.1432,332.685\" stroke=\"black\"/>\n",
       "</g>\n",
       "<!-- n[124]&#45;&gt;n[24] -->\n",
       "<g class=\"edge\" id=\"edge319\"><title>n[124]-&gt;n[24]</title>\n",
       "<path d=\"M432.4,-230.84C363.1,-231.62 207.25,-233.37 133.46,-234.2\" fill=\"none\" stroke=\"black\"/>\n",
       "<polygon fill=\"black\" points=\"133.152,-230.703 123.19,-234.31 133.227,-237.703 133.152,-230.703\" stroke=\"black\"/>\n",
       "</g>\n",
       "<!-- n[124]&#45;&gt;n[28] -->\n",
       "<g class=\"edge\" id=\"edge320\"><title>n[124]-&gt;n[28]</title>\n",
       "<path d=\"M432.59,-227.51C375.9,-222.65 262.9,-212.96 202.72,-207.8\" fill=\"none\" stroke=\"black\"/>\n",
       "<polygon fill=\"black\" points=\"202.743,-204.289 192.48,-206.92 202.144,-211.263 202.743,-204.289\" stroke=\"black\"/>\n",
       "</g>\n",
       "<!-- n[119] -->\n",
       "<g class=\"node\" id=\"node112\"><title>n[119]</title>\n",
       "<ellipse cx=\"466.79\" cy=\"-139.09\" fill=\"none\" rx=\"34.5\" ry=\"18\" stroke=\"black\"/>\n",
       "<text font-family=\"Times New Roman,serif\" font-size=\"14.00\" text-anchor=\"middle\" x=\"466.79\" y=\"-135.39\">n[119]</text>\n",
       "</g>\n",
       "<!-- n[124]&#45;&gt;n[119] -->\n",
       "<g class=\"edge\" id=\"edge321\"><title>n[124]-&gt;n[119]</title>\n",
       "<path d=\"M466.86,-212.4C466.85,-199.51 466.83,-181.92 466.82,-167.21\" fill=\"none\" stroke=\"black\"/>\n",
       "<polygon fill=\"black\" points=\"470.32,-167.096 466.81,-157.1 463.32,-167.103 470.32,-167.096\" stroke=\"black\"/>\n",
       "</g>\n",
       "<!-- n[119]&#45;&gt;n[11] -->\n",
       "<g class=\"edge\" id=\"edge325\"><title>n[119]-&gt;n[11]</title>\n",
       "<path d=\"M451.16,-122.78C405.6,-75.233 272.85,63.299 219.85,118.61\" fill=\"none\" stroke=\"black\"/>\n",
       "<polygon fill=\"black\" points=\"222.077,121.344 212.63,126.14 217.025,116.5 222.077,121.344\" stroke=\"black\"/>\n",
       "</g>\n",
       "<!-- n[119]&#45;&gt;n[55] -->\n",
       "<g class=\"edge\" id=\"edge326\"><title>n[119]-&gt;n[55]</title>\n",
       "<path d=\"M439.35,-127.95C383.97,-105.47 258.96,-54.722 198.12,-30.024\" fill=\"none\" stroke=\"black\"/>\n",
       "<polygon fill=\"black\" points=\"199.162,-26.6697 188.58,-26.151 196.529,-33.1556 199.162,-26.6697\" stroke=\"black\"/>\n",
       "</g>\n",
       "<!-- n[32] -->\n",
       "<g class=\"node\" id=\"node113\"><title>n[32]</title>\n",
       "<ellipse cx=\"94.859\" cy=\"-291.7\" fill=\"none\" rx=\"30\" ry=\"18\" stroke=\"black\"/>\n",
       "<text font-family=\"Times New Roman,serif\" font-size=\"14.00\" text-anchor=\"middle\" x=\"94.859\" y=\"-288\">n[32]</text>\n",
       "</g>\n",
       "<!-- n[119]&#45;&gt;n[32] -->\n",
       "<g class=\"edge\" id=\"edge327\"><title>n[119]-&gt;n[32]</title>\n",
       "<path d=\"M439.44,-150.31C372.95,-177.6 202.9,-247.37 129.48,-277.5\" fill=\"none\" stroke=\"black\"/>\n",
       "<polygon fill=\"black\" points=\"127.703,-274.446 119.78,-281.48 130.36,-280.922 127.703,-274.446\" stroke=\"black\"/>\n",
       "</g>\n",
       "<!-- n[32]&#45;&gt;n[3] -->\n",
       "<g class=\"edge\" id=\"edge337\"><title>n[32]-&gt;n[3]</title>\n",
       "<path d=\"M80.712,-275.64C56.382,-248.01 6.5214,-191.39 -21.629,-159.42\" fill=\"none\" stroke=\"black\"/>\n",
       "<polygon fill=\"black\" points=\"-19.053,-157.049 -28.29,-151.86 -24.3052,-161.677 -19.053,-157.049\" stroke=\"black\"/>\n",
       "</g>\n",
       "<!-- n[32]&#45;&gt;n[31] -->\n",
       "<g class=\"edge\" id=\"edge338\"><title>n[32]-&gt;n[31]</title>\n",
       "<path d=\"M70.106,-281.1C25.327,-261.93 -69.183,-221.46 -119.92,-199.73\" fill=\"none\" stroke=\"black\"/>\n",
       "<polygon fill=\"black\" points=\"-118.589,-196.493 -129.16,-195.78 -121.341,-202.929 -118.589,-196.493\" stroke=\"black\"/>\n",
       "</g>\n",
       "<!-- n[32]&#45;&gt;n[30] -->\n",
       "<g class=\"edge\" id=\"edge339\"><title>n[32]-&gt;n[30]</title>\n",
       "<path d=\"M73.759,-278.69C41.633,-258.87 -19.669,-221.05 -56.284,-198.46\" fill=\"none\" stroke=\"black\"/>\n",
       "<polygon fill=\"black\" points=\"-54.6787,-195.338 -65.028,-193.07 -58.3519,-201.297 -54.6787,-195.338\" stroke=\"black\"/>\n",
       "</g>\n",
       "<!-- n[35] -->\n",
       "<g class=\"node\" id=\"node114\"><title>n[35]</title>\n",
       "<ellipse cx=\"-115.96\" cy=\"354.79\" fill=\"none\" rx=\"30\" ry=\"18\" stroke=\"black\"/>\n",
       "<text font-family=\"Times New Roman,serif\" font-size=\"14.00\" text-anchor=\"middle\" x=\"-115.96\" y=\"358.49\">n[35]</text>\n",
       "</g>\n",
       "<!-- n[35]&#45;&gt;n[33] -->\n",
       "<g class=\"edge\" id=\"edge329\"><title>n[35]-&gt;n[33]</title>\n",
       "<path d=\"M-101.16,339.04C-75.355,311.59 -22.036,254.86 8.0881,222.81\" fill=\"none\" stroke=\"black\"/>\n",
       "<polygon fill=\"black\" points=\"5.81896,220.114 15.216,215.22 10.9216,224.906 5.81896,220.114\" stroke=\"black\"/>\n",
       "</g>\n",
       "<!-- n[35]&#45;&gt;n[20] -->\n",
       "<g class=\"edge\" id=\"edge328\"><title>n[35]-&gt;n[20]</title>\n",
       "<path d=\"M-132.19,339.38C-157.14,315.69 -205.04,270.2 -233.84,242.86\" fill=\"none\" stroke=\"black\"/>\n",
       "<polygon fill=\"black\" points=\"-236.58,245.085 -241.42,235.66 -231.759,240.009 -236.58,245.085\" stroke=\"black\"/>\n",
       "</g>\n",
       "<!-- n[35]&#45;&gt;n[8] -->\n",
       "<g class=\"edge\" id=\"edge330\"><title>n[35]-&gt;n[8]</title>\n",
       "<path d=\"M-109.65,336.91C-92.211,287.49 -43.243,148.73 -22.319,89.435\" fill=\"none\" stroke=\"black\"/>\n",
       "<polygon fill=\"black\" points=\"-25.4946,87.9161 -18.866,79.651 -18.8936,90.2458 -25.4946,87.9161\" stroke=\"black\"/>\n",
       "</g>\n",
       "<!-- n[116] -->\n",
       "<g class=\"node\" id=\"node115\"><title>n[116]</title>\n",
       "<ellipse cx=\"-206.35\" cy=\"-359.1\" fill=\"none\" rx=\"34.5\" ry=\"18\" stroke=\"black\"/>\n",
       "<text font-family=\"Times New Roman,serif\" font-size=\"14.00\" text-anchor=\"middle\" x=\"-206.35\" y=\"-355.4\">n[116]</text>\n",
       "</g>\n",
       "<!-- n[116]&#45;&gt;n[43] -->\n",
       "<g class=\"edge\" id=\"edge332\"><title>n[116]-&gt;n[43]</title>\n",
       "<path d=\"M-185.76,-344.26C-141.56,-312.42 -37.556,-237.49 12.388,-201.51\" fill=\"none\" stroke=\"black\"/>\n",
       "<polygon fill=\"black\" points=\"14.7056,-204.154 20.775,-195.47 10.6149,-198.474 14.7056,-204.154\" stroke=\"black\"/>\n",
       "</g>\n",
       "<!-- n[116]&#45;&gt;n[105] -->\n",
       "<g class=\"edge\" id=\"edge331\"><title>n[116]-&gt;n[105]</title>\n",
       "<path d=\"M-201.12,-341.28C-181.82,-275.57 -114.51,-46.37 -90.978,33.76\" fill=\"none\" stroke=\"black\"/>\n",
       "<polygon fill=\"black\" points=\"-87.5411,33.042 -88.082,43.623 -94.2576,35.0141 -87.5411,33.042\" stroke=\"black\"/>\n",
       "</g>\n",
       "<!-- n[71] -->\n",
       "<g class=\"node\" id=\"node116\"><title>n[71]</title>\n",
       "<ellipse cx=\"102.44\" cy=\"-392.08\" fill=\"none\" rx=\"30\" ry=\"18\" stroke=\"black\"/>\n",
       "<text font-family=\"Times New Roman,serif\" font-size=\"14.00\" text-anchor=\"middle\" x=\"102.44\" y=\"-388.38\">n[71]</text>\n",
       "</g>\n",
       "<!-- n[116]&#45;&gt;n[71] -->\n",
       "<g class=\"edge\" id=\"edge333\"><title>n[116]-&gt;n[71]</title>\n",
       "<path d=\"M-172.42,-362.72C-114.96,-368.86 1.2302,-381.27 62.516,-387.81\" fill=\"none\" stroke=\"black\"/>\n",
       "<polygon fill=\"black\" points=\"62.2626,-391.303 72.579,-388.89 63.0096,-384.343 62.2626,-391.303\" stroke=\"black\"/>\n",
       "</g>\n",
       "<!-- n[71]&#45;&gt;n[23] -->\n",
       "<g class=\"edge\" id=\"edge334\"><title>n[71]-&gt;n[23]</title>\n",
       "<path d=\"M83.703,-377.63C46.142,-348.66 -38.474,-283.4 -81.886,-249.93\" fill=\"none\" stroke=\"black\"/>\n",
       "<polygon fill=\"black\" points=\"-79.9381,-247.012 -89.992,-243.67 -84.2167,-252.552 -79.9381,-247.012\" stroke=\"black\"/>\n",
       "</g>\n",
       "<!-- n[71]&#45;&gt;n[28] -->\n",
       "<g class=\"edge\" id=\"edge335\"><title>n[71]-&gt;n[28]</title>\n",
       "<path d=\"M108.23,-374.08C118.83,-341.15 141.4,-270.99 153.96,-231.98\" fill=\"none\" stroke=\"black\"/>\n",
       "<polygon fill=\"black\" points=\"157.337,-232.911 157.07,-222.32 150.674,-230.766 157.337,-232.911\" stroke=\"black\"/>\n",
       "</g>\n",
       "<!-- n[71]&#45;&gt;n[32] -->\n",
       "<g class=\"edge\" id=\"edge336\"><title>n[71]-&gt;n[32]</title>\n",
       "<path d=\"M101.05,-373.67C99.916,-358.67 98.298,-337.24 97,-320.05\" fill=\"none\" stroke=\"black\"/>\n",
       "<polygon fill=\"black\" points=\"100.484,-319.708 96.24,-310 93.5041,-320.235 100.484,-319.708\" stroke=\"black\"/>\n",
       "</g>\n",
       "<!-- n[91] -->\n",
       "<g class=\"node\" id=\"node117\"><title>n[91]</title>\n",
       "<ellipse cx=\"447.39\" cy=\"98.779\" fill=\"none\" rx=\"30\" ry=\"18\" stroke=\"black\"/>\n",
       "<text font-family=\"Times New Roman,serif\" font-size=\"14.00\" text-anchor=\"middle\" x=\"447.39\" y=\"102.479\">n[91]</text>\n",
       "</g>\n",
       "<!-- n[91]&#45;&gt;n[62] -->\n",
       "<g class=\"edge\" id=\"edge341\"><title>n[91]-&gt;n[62]</title>\n",
       "<path d=\"M427.7,112.67C377.82,147.86 246.33,240.64 188.72,281.28\" fill=\"none\" stroke=\"black\"/>\n",
       "<polygon fill=\"black\" points=\"190.638,284.211 180.45,287.12 186.6,278.493 190.638,284.211\" stroke=\"black\"/>\n",
       "</g>\n",
       "<!-- n[91]&#45;&gt;n[69] -->\n",
       "<g class=\"edge\" id=\"edge340\"><title>n[91]-&gt;n[69]</title>\n",
       "<path d=\"M446.99,80.544C446.26,46.619 444.68,-26.408 443.81,-66.779\" fill=\"none\" stroke=\"black\"/>\n",
       "<polygon fill=\"black\" points=\"440.306,-66.931 443.59,-77.004 447.304,-67.0816 440.306,-66.931\" stroke=\"black\"/>\n",
       "</g>\n",
       "<!-- n[91]&#45;&gt;n[55] -->\n",
       "<g class=\"edge\" id=\"edge342\"><title>n[91]-&gt;n[55]</title>\n",
       "<path d=\"M422.2,88.594C371.28,68.005 256.04,21.408 198.14,-2.0081\" fill=\"none\" stroke=\"black\"/>\n",
       "<polygon fill=\"black\" points=\"196.641,1.16119 188.68,-5.8298 199.263,-5.32919 196.641,1.16119\" stroke=\"black\"/>\n",
       "</g>\n",
       "<!-- n[96] -->\n",
       "<g class=\"node\" id=\"node118\"><title>n[96]</title>\n",
       "<ellipse cx=\"-449.33\" cy=\"-196.32\" fill=\"none\" rx=\"30\" ry=\"18\" stroke=\"black\"/>\n",
       "<text font-family=\"Times New Roman,serif\" font-size=\"14.00\" text-anchor=\"middle\" x=\"-449.33\" y=\"-192.62\">n[96]</text>\n",
       "</g>\n",
       "<!-- n[96]&#45;&gt;n[64] -->\n",
       "<g class=\"edge\" id=\"edge344\"><title>n[96]-&gt;n[64]</title>\n",
       "<path d=\"M-434.87,-180.24C-396.2,-137.21 -290.21,-19.31 -244.82,31.179\" fill=\"none\" stroke=\"black\"/>\n",
       "<polygon fill=\"black\" points=\"-242.16,28.9031 -238.08,38.681 -247.367,33.5813 -242.16,28.9031\" stroke=\"black\"/>\n",
       "</g>\n",
       "<!-- n[96]&#45;&gt;n[47] -->\n",
       "<g class=\"edge\" id=\"edge343\"><title>n[96]-&gt;n[47]</title>\n",
       "<path d=\"M-423.04,-205.07C-359.89,-226.11 -199.57,-279.52 -127.65,-303.47\" fill=\"none\" stroke=\"black\"/>\n",
       "<polygon fill=\"black\" points=\"-128.704,-306.808 -118.11,-306.65 -126.49,-300.167 -128.704,-306.808\" stroke=\"black\"/>\n",
       "</g>\n",
       "<!-- n[65] -->\n",
       "<g class=\"node\" id=\"node119\"><title>n[65]</title>\n",
       "<ellipse cx=\"-344.5\" cy=\"-149.68\" fill=\"none\" rx=\"30\" ry=\"18\" stroke=\"black\"/>\n",
       "<text font-family=\"Times New Roman,serif\" font-size=\"14.00\" text-anchor=\"middle\" x=\"-344.5\" y=\"-145.98\">n[65]</text>\n",
       "</g>\n",
       "<!-- n[96]&#45;&gt;n[65] -->\n",
       "<g class=\"edge\" id=\"edge345\"><title>n[96]-&gt;n[65]</title>\n",
       "<path d=\"M-425.28,-185.62C-411.26,-179.38 -393.37,-171.42 -377.99,-164.58\" fill=\"none\" stroke=\"black\"/>\n",
       "<polygon fill=\"black\" points=\"-376.513,-167.754 -368.8,-160.49 -379.359,-161.358 -376.513,-167.754\" stroke=\"black\"/>\n",
       "</g>\n",
       "<!-- n[65]&#45;&gt;n[6] -->\n",
       "<g class=\"edge\" id=\"edge346\"><title>n[65]-&gt;n[6]</title>\n",
       "<path d=\"M-317.73,-141.1C-277.4,-128.17 -201.09,-103.7 -156.78,-89.496\" fill=\"none\" stroke=\"black\"/>\n",
       "<polygon fill=\"black\" points=\"-155.494,-92.7592 -147.04,-86.373 -157.631,-86.0935 -155.494,-92.7592\" stroke=\"black\"/>\n",
       "</g>\n",
       "<!-- n[65]&#45;&gt;n[39] -->\n",
       "<g class=\"edge\" id=\"edge347\"><title>n[65]-&gt;n[39]</title>\n",
       "<path d=\"M-327.58,-134.71C-271.86,-85.411 -93.965,71.986 -28.089,130.27\" fill=\"none\" stroke=\"black\"/>\n",
       "<polygon fill=\"black\" points=\"-25.4389,127.942 -20.27,137.19 -30.0781,133.183 -25.4389,127.942\" stroke=\"black\"/>\n",
       "</g>\n",
       "<!-- n[65]&#45;&gt;n[23] -->\n",
       "<g class=\"edge\" id=\"edge348\"><title>n[65]-&gt;n[23]</title>\n",
       "<path d=\"M-318.36,-158.5C-276.04,-172.78 -192.45,-200.99 -144.58,-217.14\" fill=\"none\" stroke=\"black\"/>\n",
       "<polygon fill=\"black\" points=\"-145.534,-220.512 -134.94,-220.4 -143.292,-213.881 -145.534,-220.512\" stroke=\"black\"/>\n",
       "</g>\n",
       "<!-- n[111] -->\n",
       "<g class=\"node\" id=\"node120\"><title>n[111]</title>\n",
       "<ellipse cx=\"-43.562\" cy=\"396.61\" fill=\"none\" rx=\"34.5\" ry=\"18\" stroke=\"black\"/>\n",
       "<text font-family=\"Times New Roman,serif\" font-size=\"14.00\" text-anchor=\"middle\" x=\"-43.562\" y=\"400.31\">n[111]</text>\n",
       "</g>\n",
       "<!-- n[111]&#45;&gt;n[75] -->\n",
       "<g class=\"edge\" id=\"edge349\"><title>n[111]-&gt;n[75]</title>\n",
       "<path d=\"M-24.635,381.56C-7.0782,367.6 19.215,346.69 38.807,331.11\" fill=\"none\" stroke=\"black\"/>\n",
       "<polygon fill=\"black\" points=\"36.7413,328.281 46.748,324.8 41.0962,333.761 36.7413,328.281\" stroke=\"black\"/>\n",
       "</g>\n",
       "<!-- n[111]&#45;&gt;n[33] -->\n",
       "<g class=\"edge\" id=\"edge350\"><title>n[111]-&gt;n[33]</title>\n",
       "<path d=\"M-36.899,378.77C-23.977,344.16 4.5589,267.73 19.874,226.71\" fill=\"none\" stroke=\"black\"/>\n",
       "<polygon fill=\"black\" points=\"16.686,225.242 23.465,217.1 23.2432,227.693 16.686,225.242\" stroke=\"black\"/>\n",
       "</g>\n",
       "<!-- n[111]&#45;&gt;n[17] -->\n",
       "<g class=\"edge\" id=\"edge351\"><title>n[111]-&gt;n[17]</title>\n",
       "<path d=\"M-52.394,379.04C-72.816,338.39 -123.41,237.71 -147.67,189.43\" fill=\"none\" stroke=\"black\"/>\n",
       "<polygon fill=\"black\" points=\"-150.93,190.737 -152.29,180.23 -144.675,187.596 -150.93,190.737\" stroke=\"black\"/>\n",
       "</g>\n",
       "<!-- n[126] -->\n",
       "<g class=\"node\" id=\"node121\"><title>n[126]</title>\n",
       "<ellipse cx=\"-372.1\" cy=\"-289.39\" fill=\"none\" rx=\"34.5\" ry=\"18\" stroke=\"black\"/>\n",
       "<text font-family=\"Times New Roman,serif\" font-size=\"14.00\" text-anchor=\"middle\" x=\"-372.1\" y=\"-285.69\">n[126]</text>\n",
       "</g>\n",
       "<!-- n[126]&#45;&gt;n[13] -->\n",
       "<g class=\"edge\" id=\"edge352\"><title>n[126]-&gt;n[13]</title>\n",
       "<path d=\"M-355.39,-273.38C-309.43,-229.37 -181.07,-106.47 -128.15,-55.783\" fill=\"none\" stroke=\"black\"/>\n",
       "<polygon fill=\"black\" points=\"-125.707,-58.2896 -120.9,-48.848 -130.546,-53.2312 -125.707,-58.2896\" stroke=\"black\"/>\n",
       "</g>\n",
       "<!-- n[126]&#45;&gt;n[61] -->\n",
       "<g class=\"edge\" id=\"edge353\"><title>n[126]-&gt;n[61]</title>\n",
       "<path d=\"M-348.29,-302.65C-336.86,-309.01 -323.02,-316.72 -310.77,-323.54\" fill=\"none\" stroke=\"black\"/>\n",
       "<polygon fill=\"black\" points=\"-312.219,-326.739 -301.78,-328.55 -308.811,-320.625 -312.219,-326.739\" stroke=\"black\"/>\n",
       "</g>\n",
       "<!-- n[126]&#45;&gt;n[96] -->\n",
       "<g class=\"edge\" id=\"edge354\"><title>n[126]-&gt;n[96]</title>\n",
       "<path d=\"M-385.91,-272.75C-397.95,-258.23 -415.58,-236.99 -429.2,-220.58\" fill=\"none\" stroke=\"black\"/>\n",
       "<polygon fill=\"black\" points=\"-426.823,-217.964 -435.9,-212.5 -432.211,-222.432 -426.823,-217.964\" stroke=\"black\"/>\n",
       "</g>\n",
       "<!-- n[128] -->\n",
       "<g class=\"node\" id=\"node122\"><title>n[128]</title>\n",
       "<ellipse cx=\"321.12\" cy=\"-315.78\" fill=\"none\" rx=\"34.5\" ry=\"18\" stroke=\"black\"/>\n",
       "<text font-family=\"Times New Roman,serif\" font-size=\"14.00\" text-anchor=\"middle\" x=\"321.12\" y=\"-312.08\">n[128]</text>\n",
       "</g>\n",
       "<!-- n[128]&#45;&gt;n[26] -->\n",
       "<g class=\"edge\" id=\"edge355\"><title>n[128]-&gt;n[26]</title>\n",
       "<path d=\"M308.92,-298.94C288.87,-271.25 248.84,-215.96 225.4,-183.6\" fill=\"none\" stroke=\"black\"/>\n",
       "<polygon fill=\"black\" points=\"227.96,-181.167 219.26,-175.12 222.29,-185.272 227.96,-181.167\" stroke=\"black\"/>\n",
       "</g>\n",
       "<!-- n[128]&#45;&gt;n[45] -->\n",
       "<g class=\"edge\" id=\"edge356\"><title>n[128]-&gt;n[45]</title>\n",
       "<path d=\"M286.72,-317.26C224.12,-319.96 91.934,-325.65 25.219,-328.52\" fill=\"none\" stroke=\"black\"/>\n",
       "<polygon fill=\"black\" points=\"24.9336,-325.029 15.095,-328.96 25.2376,-332.022 24.9336,-325.029\" stroke=\"black\"/>\n",
       "</g>\n",
       "<!-- n[128]&#45;&gt;n[102] -->\n",
       "<g class=\"edge\" id=\"edge357\"><title>n[128]-&gt;n[102]</title>\n",
       "<path d=\"M321.42,-297.66C321.93,-267.67 322.95,-207.46 323.56,-171.79\" fill=\"none\" stroke=\"black\"/>\n",
       "<polygon fill=\"black\" points=\"327.063,-171.627 323.73,-161.57 320.064,-171.51 327.063,-171.627\" stroke=\"black\"/>\n",
       "</g>\n",
       "<!-- n[78] -->\n",
       "<g class=\"node\" id=\"node123\"><title>n[78]</title>\n",
       "<ellipse cx=\"-523.08\" cy=\"178.05\" fill=\"none\" rx=\"30\" ry=\"18\" stroke=\"black\"/>\n",
       "<text font-family=\"Times New Roman,serif\" font-size=\"14.00\" text-anchor=\"middle\" x=\"-523.08\" y=\"181.75\">n[78]</text>\n",
       "</g>\n",
       "<!-- n[78]&#45;&gt;n[25] -->\n",
       "<g class=\"edge\" id=\"edge358\"><title>n[78]-&gt;n[25]</title>\n",
       "<path d=\"M-502.66,164.68C-461.64,137.81 -369.12,77.215 -321.89,46.285\" fill=\"none\" stroke=\"black\"/>\n",
       "<polygon fill=\"black\" points=\"-323.633,43.2427 -313.35,40.691 -319.797,49.0983 -323.633,43.2427\" stroke=\"black\"/>\n",
       "</g>\n",
       "<!-- n[78]&#45;&gt;n[74] -->\n",
       "<g class=\"edge\" id=\"edge359\"><title>n[78]-&gt;n[74]</title>\n",
       "<path d=\"M-496.63,186.82C-412.44,214.73 -150.49,301.56 -54.087,333.52\" fill=\"none\" stroke=\"black\"/>\n",
       "<polygon fill=\"black\" points=\"-52.8808,330.232 -44.489,336.7 -55.0824,336.877 -52.8808,330.232\" stroke=\"black\"/>\n",
       "</g>\n",
       "<!-- n[78]&#45;&gt;n[52] -->\n",
       "<g class=\"edge\" id=\"edge360\"><title>n[78]-&gt;n[52]</title>\n",
       "<path d=\"M-507.26,162.59C-463.25,119.59 -339.22,-1.6107 -287.27,-52.383\" fill=\"none\" stroke=\"black\"/>\n",
       "<polygon fill=\"black\" points=\"-289.458,-55.1389 -279.86,-59.626 -284.565,-50.133 -289.458,-55.1389\" stroke=\"black\"/>\n",
       "</g>\n",
       "<!-- n[122] -->\n",
       "<g class=\"node\" id=\"node124\"><title>n[122]</title>\n",
       "<ellipse cx=\"-250.83\" cy=\"264.47\" fill=\"none\" rx=\"34.5\" ry=\"18\" stroke=\"black\"/>\n",
       "<text font-family=\"Times New Roman,serif\" font-size=\"14.00\" text-anchor=\"middle\" x=\"-250.83\" y=\"268.17\">n[122]</text>\n",
       "</g>\n",
       "<!-- n[122]&#45;&gt;n[15] -->\n",
       "<g class=\"edge\" id=\"edge361\"><title>n[122]-&gt;n[15]</title>\n",
       "<path d=\"M-246.11,246.28C-233.07,195.97 -196.45,54.72 -180.81,-5.636\" fill=\"none\" stroke=\"black\"/>\n",
       "<polygon fill=\"black\" points=\"-184.126,-6.79233 -178.23,-15.595 -177.35,-5.0368 -184.126,-6.79233\" stroke=\"black\"/>\n",
       "</g>\n",
       "<!-- n[122]&#45;&gt;n[90] -->\n",
       "<g class=\"edge\" id=\"edge362\"><title>n[122]-&gt;n[90]</title>\n",
       "<path d=\"M-247.36,246.3C-242.58,221.29 -233.93,176 -228.32,146.65\" fill=\"none\" stroke=\"black\"/>\n",
       "<polygon fill=\"black\" points=\"-231.719,145.789 -226.41,136.62 -224.843,147.098 -231.719,145.789\" stroke=\"black\"/>\n",
       "</g>\n",
       "<!-- n[122]&#45;&gt;n[66] -->\n",
       "<g class=\"edge\" id=\"edge363\"><title>n[122]-&gt;n[66]</title>\n",
       "<path d=\"M-216.94,260.95C-194.44,258.62 -164.83,255.54 -141.22,253.09\" fill=\"none\" stroke=\"black\"/>\n",
       "<polygon fill=\"black\" points=\"-141.487,249.599 -131.18,252.05 -140.766,256.562 -141.487,249.599\" stroke=\"black\"/>\n",
       "</g>\n",
       "<!-- n[113] -->\n",
       "<g class=\"node\" id=\"node125\"><title>n[113]</title>\n",
       "<ellipse cx=\"329.94\" cy=\"-271.13\" fill=\"none\" rx=\"34.5\" ry=\"18\" stroke=\"black\"/>\n",
       "<text font-family=\"Times New Roman,serif\" font-size=\"14.00\" text-anchor=\"middle\" x=\"329.94\" y=\"-267.43\">n[113]</text>\n",
       "</g>\n",
       "<!-- n[113]&#45;&gt;n[51] -->\n",
       "<g class=\"edge\" id=\"edge364\"><title>n[113]-&gt;n[51]</title>\n",
       "<path d=\"M332.06,-253.14C338.53,-198.11 358.1,-31.713 365.97,35.173\" fill=\"none\" stroke=\"black\"/>\n",
       "<polygon fill=\"black\" points=\"369.479,35.0418 367.17,45.382 362.526,35.859 369.479,35.0418\" stroke=\"black\"/>\n",
       "</g>\n",
       "<!-- n[113]&#45;&gt;n[44] -->\n",
       "<g class=\"edge\" id=\"edge365\"><title>n[113]-&gt;n[44]</title>\n",
       "<path d=\"M295.4,-271.16C226.61,-271.21 72.857,-271.31 -0.42579,-271.36\" fill=\"none\" stroke=\"black\"/>\n",
       "<polygon fill=\"black\" points=\"-0.637468,-267.86 -10.634,-271.37 -0.630542,-274.86 -0.637468,-267.86\" stroke=\"black\"/>\n",
       "</g>\n",
       "<!-- n[113]&#45;&gt;n[102] -->\n",
       "<g class=\"edge\" id=\"edge366\"><title>n[113]-&gt;n[102]</title>\n",
       "<path d=\"M329.11,-253.11C328.13,-232.03 326.51,-196.86 325.36,-172.04\" fill=\"none\" stroke=\"black\"/>\n",
       "<polygon fill=\"black\" points=\"328.844,-171.609 324.89,-161.78 321.851,-171.93 328.844,-171.609\" stroke=\"black\"/>\n",
       "</g>\n",
       "<!-- n[134] -->\n",
       "<g class=\"node\" id=\"node126\"><title>n[134]</title>\n",
       "<ellipse cx=\"155.27\" cy=\"442.51\" fill=\"none\" rx=\"34.5\" ry=\"18\" stroke=\"black\"/>\n",
       "<text font-family=\"Times New Roman,serif\" font-size=\"14.00\" text-anchor=\"middle\" x=\"155.27\" y=\"446.21\">n[134]</text>\n",
       "</g>\n",
       "<!-- n[134]&#45;&gt;n[117] -->\n",
       "<g class=\"edge\" id=\"edge367\"><title>n[134]-&gt;n[117]</title>\n",
       "<path d=\"M120.76,442.14C92.987,441.85 53.731,441.43 23.486,441.11\" fill=\"none\" stroke=\"black\"/>\n",
       "<polygon fill=\"black\" points=\"23.16,444.607 13.198,441 23.2349,437.607 23.16,444.607\" stroke=\"black\"/>\n",
       "</g>\n",
       "<!-- n[134]&#45;&gt;n[112] -->\n",
       "<g class=\"edge\" id=\"edge368\"><title>n[134]-&gt;n[112]</title>\n",
       "<path d=\"M145.89,425.03C145.79,424.84 145.68,424.64 145.58,424.45\" fill=\"none\" stroke=\"black\"/>\n",
       "<polygon fill=\"black\" points=\"142.492,426.097 140.85,415.63 148.661,422.789 142.492,426.097\" stroke=\"black\"/>\n",
       "</g>\n",
       "<!-- n[134]&#45;&gt;n[11] -->\n",
       "<g class=\"edge\" id=\"edge369\"><title>n[134]-&gt;n[11]</title>\n",
       "<path d=\"M157.86,424.15C165,373.39 185.08,230.87 193.65,169.97\" fill=\"none\" stroke=\"black\"/>\n",
       "<polygon fill=\"black\" points=\"190.205,169.332 195.07,159.92 197.136,170.311 190.205,169.332\" stroke=\"black\"/>\n",
       "</g>\n",
       "<!-- n[80] -->\n",
       "<g class=\"node\" id=\"node127\"><title>n[80]</title>\n",
       "<ellipse cx=\"-361.12\" cy=\"-16.437\" fill=\"none\" rx=\"30\" ry=\"18\" stroke=\"black\"/>\n",
       "<text font-family=\"Times New Roman,serif\" font-size=\"14.00\" text-anchor=\"middle\" x=\"-361.12\" y=\"-12.737\">n[80]</text>\n",
       "</g>\n",
       "<!-- n[80]&#45;&gt;n[15] -->\n",
       "<g class=\"edge\" id=\"edge370\"><title>n[80]-&gt;n[15]</title>\n",
       "<path d=\"M-331.41,-19.149C-299.44,-22.066 -248.46,-26.718 -213.13,-29.942\" fill=\"none\" stroke=\"black\"/>\n",
       "<polygon fill=\"black\" points=\"-213.427,-33.4294 -203.15,-30.852 -212.791,-26.4583 -213.427,-33.4294\" stroke=\"black\"/>\n",
       "</g>\n",
       "<!-- n[80]&#45;&gt;n[3] -->\n",
       "<g class=\"edge\" id=\"edge371\"><title>n[80]-&gt;n[3]</title>\n",
       "<path d=\"M-335.56,-26.028C-278.31,-47.509 -139.8,-99.477 -75.712,-123.52\" fill=\"none\" stroke=\"black\"/>\n",
       "<polygon fill=\"black\" points=\"-76.6812,-126.895 -66.089,-127.13 -74.2225,-120.341 -76.6812,-126.895\" stroke=\"black\"/>\n",
       "</g>\n",
       "<!-- n[80]&#45;&gt;n[42] -->\n",
       "<g class=\"edge\" id=\"edge372\"><title>n[80]-&gt;n[42]</title>\n",
       "<path d=\"M-348.1,-0.023463C-317.26,38.837 -239.64,136.63 -203.3,182.42\" fill=\"none\" stroke=\"black\"/>\n",
       "<polygon fill=\"black\" points=\"-200.491,180.33 -197.02,190.34 -205.976,184.679 -200.491,180.33\" stroke=\"black\"/>\n",
       "</g>\n",
       "<!-- n[100] -->\n",
       "<g class=\"node\" id=\"node128\"><title>n[100]</title>\n",
       "<ellipse cx=\"331.31\" cy=\"-227.11\" fill=\"none\" rx=\"34.5\" ry=\"18\" stroke=\"black\"/>\n",
       "<text font-family=\"Times New Roman,serif\" font-size=\"14.00\" text-anchor=\"middle\" x=\"331.31\" y=\"-223.41\">n[100]</text>\n",
       "</g>\n",
       "<!-- n[100]&#45;&gt;n[69] -->\n",
       "<g class=\"edge\" id=\"edge373\"><title>n[100]-&gt;n[69]</title>\n",
       "<path d=\"M345.48,-210.38C365.09,-187.24 400.62,-145.31 423,-118.89\" fill=\"none\" stroke=\"black\"/>\n",
       "<polygon fill=\"black\" points=\"425.699,-121.119 429.5,-111.23 420.361,-116.59 425.699,-121.119\" stroke=\"black\"/>\n",
       "</g>\n",
       "<!-- n[100]&#45;&gt;n[16] -->\n",
       "<g class=\"edge\" id=\"edge374\"><title>n[100]-&gt;n[16]</title>\n",
       "<path d=\"M311.63,-211.91C269.37,-179.28 169.94,-102.51 122.19,-65.643\" fill=\"none\" stroke=\"black\"/>\n",
       "<polygon fill=\"black\" points=\"124.225,-62.7921 114.17,-59.452 119.947,-68.3332 124.225,-62.7921\" stroke=\"black\"/>\n",
       "</g>\n",
       "<!-- n[100]&#45;&gt;n[44] -->\n",
       "<g class=\"edge\" id=\"edge375\"><title>n[100]-&gt;n[44]</title>\n",
       "<path d=\"M297.64,-231.12C228.84,-239.3 72.463,-257.92 -1.1069,-266.67\" fill=\"none\" stroke=\"black\"/>\n",
       "<polygon fill=\"black\" points=\"-1.82469,-263.231 -11.34,-267.89 -0.99595,-270.181 -1.82469,-263.231\" stroke=\"black\"/>\n",
       "</g>\n",
       "<!-- n[143] -->\n",
       "<g class=\"node\" id=\"node129\"><title>n[143]</title>\n",
       "<ellipse cx=\"-330.5\" cy=\"218.05\" fill=\"none\" rx=\"34.5\" ry=\"18\" stroke=\"black\"/>\n",
       "<text font-family=\"Times New Roman,serif\" font-size=\"14.00\" text-anchor=\"middle\" x=\"-330.5\" y=\"221.75\">n[143]</text>\n",
       "</g>\n",
       "<!-- n[143]&#45;&gt;n[14] -->\n",
       "<g class=\"edge\" id=\"edge376\"><title>n[143]-&gt;n[14]</title>\n",
       "<path d=\"M-300.16,209.19C-230.71,188.91 -60.353,139.17 15.075,117.14\" fill=\"none\" stroke=\"black\"/>\n",
       "<polygon fill=\"black\" points=\"14.4877,113.665 25.068,114.22 16.4511,120.384 14.4877,113.665\" stroke=\"black\"/>\n",
       "</g>\n",
       "<!-- n[143]&#45;&gt;n[105] -->\n",
       "<g class=\"edge\" id=\"edge377\"><title>n[143]-&gt;n[105]</title>\n",
       "<path d=\"M-308.52,204.17C-264.28,176.25 -164.42,113.21 -113.66,81.168\" fill=\"none\" stroke=\"black\"/>\n",
       "<polygon fill=\"black\" points=\"-115.394,78.1238 -105.07,75.745 -111.657,84.043 -115.394,78.1238\" stroke=\"black\"/>\n",
       "</g>\n",
       "<!-- n[143]&#45;&gt;n[104] -->\n",
       "<g class=\"edge\" id=\"edge378\"><title>n[143]-&gt;n[104]</title>\n",
       "<path d=\"M-335.3,199.96C-342.41,173.12 -355.82,122.52 -364.2,90.906\" fill=\"none\" stroke=\"black\"/>\n",
       "<polygon fill=\"black\" points=\"-367.653,91.5378 -366.83,80.975 -360.887,89.7457 -367.653,91.5378\" stroke=\"black\"/>\n",
       "</g>\n",
       "<!-- n[133] -->\n",
       "<g class=\"node\" id=\"node130\"><title>n[133]</title>\n",
       "<ellipse cx=\"252.71\" cy=\"-400.56\" fill=\"none\" rx=\"34.5\" ry=\"18\" stroke=\"black\"/>\n",
       "<text font-family=\"Times New Roman,serif\" font-size=\"14.00\" text-anchor=\"middle\" x=\"252.71\" y=\"-396.86\">n[133]</text>\n",
       "</g>\n",
       "<!-- n[133]&#45;&gt;n[44] -->\n",
       "<g class=\"edge\" id=\"edge379\"><title>n[133]-&gt;n[44]</title>\n",
       "<path d=\"M226.15,-388.87C172.55,-365.28 51.569,-312.03 -7.313,-286.11\" fill=\"none\" stroke=\"black\"/>\n",
       "<polygon fill=\"black\" points=\"-5.98401,-282.871 -16.547,-282.05 -8.80151,-289.279 -5.98401,-282.871\" stroke=\"black\"/>\n",
       "</g>\n",
       "<!-- n[133]&#45;&gt;n[32] -->\n",
       "<g class=\"edge\" id=\"edge380\"><title>n[133]-&gt;n[32]</title>\n",
       "<path d=\"M231.75,-386.11C203.85,-366.86 154.4,-332.76 123.19,-311.24\" fill=\"none\" stroke=\"black\"/>\n",
       "<polygon fill=\"black\" points=\"125.129,-308.326 114.91,-305.53 121.155,-314.088 125.129,-308.326\" stroke=\"black\"/>\n",
       "</g>\n",
       "<!-- n[49] -->\n",
       "<g class=\"node\" id=\"node131\"><title>n[49]</title>\n",
       "<ellipse cx=\"299.18\" cy=\"-61.981\" fill=\"none\" rx=\"30\" ry=\"18\" stroke=\"black\"/>\n",
       "<text font-family=\"Times New Roman,serif\" font-size=\"14.00\" text-anchor=\"middle\" x=\"299.18\" y=\"-58.281\">n[49]</text>\n",
       "</g>\n",
       "<!-- n[133]&#45;&gt;n[49] -->\n",
       "<g class=\"edge\" id=\"edge381\"><title>n[133]-&gt;n[49]</title>\n",
       "<path d=\"M255.21,-382.36C262.87,-326.55 286.06,-157.59 295.31,-90.188\" fill=\"none\" stroke=\"black\"/>\n",
       "<polygon fill=\"black\" points=\"298.778,-90.658 296.67,-80.275 291.843,-89.7064 298.778,-90.658\" stroke=\"black\"/>\n",
       "</g>\n",
       "<!-- n[49]&#45;&gt;n[36] -->\n",
       "<g class=\"edge\" id=\"edge382\"><title>n[49]-&gt;n[36]</title>\n",
       "<path d=\"M284.71,-46.012C249.67,-7.3624 160.18,91.363 119.1,136.68\" fill=\"none\" stroke=\"black\"/>\n",
       "<polygon fill=\"black\" points=\"121.555,139.183 112.25,144.25 116.364,134.487 121.555,139.183\" stroke=\"black\"/>\n",
       "</g>\n",
       "<!-- n[49]&#45;&gt;n[12] -->\n",
       "<g class=\"edge\" id=\"edge383\"><title>n[49]-&gt;n[12]</title>\n",
       "<path d=\"M272.46,-53.894C194.98,-30.45 -29.844,37.583 -118.55,64.427\" fill=\"none\" stroke=\"black\"/>\n",
       "<polygon fill=\"black\" points=\"-117.605,67.7977 -128.19,67.342 -119.631,61.0973 -117.605,67.7977\" stroke=\"black\"/>\n",
       "</g>\n",
       "<!-- n[49]&#45;&gt;n[32] -->\n",
       "<g class=\"edge\" id=\"edge384\"><title>n[49]-&gt;n[32]</title>\n",
       "<path d=\"M284.82,-78.135C249.35,-118.01 157.52,-221.25 115.91,-268.04\" fill=\"none\" stroke=\"black\"/>\n",
       "<polygon fill=\"black\" points=\"113.243,-265.773 109.21,-275.57 118.472,-270.426 113.243,-265.773\" stroke=\"black\"/>\n",
       "</g>\n",
       "<!-- n[147] -->\n",
       "<g class=\"node\" id=\"node132\"><title>n[147]</title>\n",
       "<ellipse cx=\"279.97\" cy=\"177.25\" fill=\"none\" rx=\"34.5\" ry=\"18\" stroke=\"black\"/>\n",
       "<text font-family=\"Times New Roman,serif\" font-size=\"14.00\" text-anchor=\"middle\" x=\"279.97\" y=\"180.95\">n[147]</text>\n",
       "</g>\n",
       "<!-- n[147]&#45;&gt;n[29] -->\n",
       "<g class=\"edge\" id=\"edge385\"><title>n[147]-&gt;n[29]</title>\n",
       "<path d=\"M247.88,184.15C190.77,196.42 71.773,221.99 10.385,235.18\" fill=\"none\" stroke=\"black\"/>\n",
       "<polygon fill=\"black\" points=\"10.8444,238.661 0.33226,237.34 9.37384,231.817 10.8444,238.661\" stroke=\"black\"/>\n",
       "</g>\n",
       "<!-- n[147]&#45;&gt;n[36] -->\n",
       "<g class=\"edge\" id=\"edge386\"><title>n[147]-&gt;n[36]</title>\n",
       "<path d=\"M245.73,174.02C214.96,171.12 169.78,166.85 137.48,163.8\" fill=\"none\" stroke=\"black\"/>\n",
       "<polygon fill=\"black\" points=\"137.109,167.281 127.48,162.86 137.764,160.311 137.109,167.281\" stroke=\"black\"/>\n",
       "</g>\n",
       "<!-- n[147]&#45;&gt;n[26] -->\n",
       "<g class=\"edge\" id=\"edge387\"><title>n[147]-&gt;n[26]</title>\n",
       "<path d=\"M276.06,159.2C264.06,103.88 227.72,-63.614 213.22,-130.44\" fill=\"none\" stroke=\"black\"/>\n",
       "<polygon fill=\"black\" points=\"209.789,-129.745 211.09,-140.26 216.63,-131.229 209.789,-129.745\" stroke=\"black\"/>\n",
       "</g>\n",
       "<!-- n[121] -->\n",
       "<g class=\"node\" id=\"node133\"><title>n[121]</title>\n",
       "<ellipse cx=\"-425.35\" cy=\"-94.697\" fill=\"none\" rx=\"34.5\" ry=\"18\" stroke=\"black\"/>\n",
       "<text font-family=\"Times New Roman,serif\" font-size=\"14.00\" text-anchor=\"middle\" x=\"-425.35\" y=\"-90.997\">n[121]</text>\n",
       "</g>\n",
       "<!-- n[121]&#45;&gt;n[13] -->\n",
       "<g class=\"edge\" id=\"edge388\"><title>n[121]-&gt;n[13]</title>\n",
       "<path d=\"M-392.86,-88.492C-333.47,-77.15 -207.64,-53.121 -143.79,-40.928\" fill=\"none\" stroke=\"black\"/>\n",
       "<polygon fill=\"black\" points=\"-142.886,-44.3188 -133.72,-39.006 -144.199,-37.4429 -142.886,-44.3188\" stroke=\"black\"/>\n",
       "</g>\n",
       "<!-- n[121]&#45;&gt;n[7] -->\n",
       "<g class=\"edge\" id=\"edge389\"><title>n[121]-&gt;n[7]</title>\n",
       "<path d=\"M-391.42,-90.957C-313.11,-82.326 -120.26,-61.071 -39.003,-52.116\" fill=\"none\" stroke=\"black\"/>\n",
       "<polygon fill=\"black\" points=\"-38.3102,-55.5609 -28.754,-50.986 -39.0774,-48.6031 -38.3102,-55.5609\" stroke=\"black\"/>\n",
       "</g>\n",
       "<!-- n[121]&#45;&gt;n[87] -->\n",
       "<g class=\"edge\" id=\"edge390\"><title>n[121]-&gt;n[87]</title>\n",
       "<path d=\"M-431.96,-76.898C-443.59,-45.568 -467.8,19.616 -481.57,56.72\" fill=\"none\" stroke=\"black\"/>\n",
       "<polygon fill=\"black\" points=\"-478.398,58.2334 -485.16,66.39 -484.961,55.797 -478.398,58.2334\" stroke=\"black\"/>\n",
       "</g>\n",
       "<!-- n[86] -->\n",
       "<g class=\"node\" id=\"node134\"><title>n[86]</title>\n",
       "<ellipse cx=\"126.99\" cy=\"354.25\" fill=\"none\" rx=\"30\" ry=\"18\" stroke=\"black\"/>\n",
       "<text font-family=\"Times New Roman,serif\" font-size=\"14.00\" text-anchor=\"middle\" x=\"126.99\" y=\"357.95\">n[86]</text>\n",
       "</g>\n",
       "<!-- n[86]&#45;&gt;n[10] -->\n",
       "<g class=\"edge\" id=\"edge391\"><title>n[86]-&gt;n[10]</title>\n",
       "<path d=\"M118.39,336.62C91.375,281.28 8.1344,110.76 -24.263,44.4\" fill=\"none\" stroke=\"black\"/>\n",
       "<polygon fill=\"black\" points=\"-27.5944,45.554 -28.835,35.032 -21.3036,42.4837 -27.5944,45.554\" stroke=\"black\"/>\n",
       "</g>\n",
       "<!-- n[86]&#45;&gt;n[60] -->\n",
       "<g class=\"edge\" id=\"edge392\"><title>n[86]-&gt;n[60]</title>\n",
       "<path d=\"M129.1,336.21C136.99,268.87 164.73,31.875 174.33,-50.16\" fill=\"none\" stroke=\"black\"/>\n",
       "<polygon fill=\"black\" points=\"170.871,-50.7176 175.51,-60.243 177.824,-49.9039 170.871,-50.7176\" stroke=\"black\"/>\n",
       "</g>\n",
       "<!-- n[86]&#45;&gt;n[35] -->\n",
       "<g class=\"edge\" id=\"edge393\"><title>n[86]-&gt;n[35]</title>\n",
       "<path d=\"M96.714,354.31C53.103,354.41 -27.463,354.59 -75.938,354.7\" fill=\"none\" stroke=\"black\"/>\n",
       "<polygon fill=\"black\" points=\"-76.0561,358.2 -86.063,354.72 -76.07,351.2 -76.0561,358.2\" stroke=\"black\"/>\n",
       "</g>\n",
       "<!-- n[94] -->\n",
       "<g class=\"node\" id=\"node135\"><title>n[94]</title>\n",
       "<ellipse cx=\"-185.19\" cy=\"-403.46\" fill=\"none\" rx=\"30\" ry=\"18\" stroke=\"black\"/>\n",
       "<text font-family=\"Times New Roman,serif\" font-size=\"14.00\" text-anchor=\"middle\" x=\"-185.19\" y=\"-399.76\">n[94]</text>\n",
       "</g>\n",
       "<!-- n[94]&#45;&gt;n[4] -->\n",
       "<g class=\"edge\" id=\"edge394\"><title>n[94]-&gt;n[4]</title>\n",
       "<path d=\"M-176.86,-385.83C-152.3,-333.81 -80.033,-180.73 -50.734,-118.67\" fill=\"none\" stroke=\"black\"/>\n",
       "<polygon fill=\"black\" points=\"-47.5185,-120.057 -46.414,-109.52 -53.8484,-117.069 -47.5185,-120.057\" stroke=\"black\"/>\n",
       "</g>\n",
       "<!-- n[94]&#45;&gt;n[71] -->\n",
       "<g class=\"edge\" id=\"edge395\"><title>n[94]-&gt;n[71]</title>\n",
       "<path d=\"M-155.22,-402.28C-103.21,-400.22 3.8042,-395.98 62.221,-393.67\" fill=\"none\" stroke=\"black\"/>\n",
       "<polygon fill=\"black\" points=\"62.6859,-397.154 72.539,-393.26 62.4079,-390.16 62.6859,-397.154\" stroke=\"black\"/>\n",
       "</g>\n",
       "<!-- n[82] -->\n",
       "<g class=\"node\" id=\"node136\"><title>n[82]</title>\n",
       "<ellipse cx=\"-102.83\" cy=\"-403.46\" fill=\"none\" rx=\"30\" ry=\"18\" stroke=\"black\"/>\n",
       "<text font-family=\"Times New Roman,serif\" font-size=\"14.00\" text-anchor=\"middle\" x=\"-102.83\" y=\"-399.76\">n[82]</text>\n",
       "</g>\n",
       "<!-- n[94]&#45;&gt;n[82] -->\n",
       "<g class=\"edge\" id=\"edge396\"><title>n[94]-&gt;n[82]</title>\n",
       "<path d=\"M-154.99,-403.46C-151.02,-403.46 -146.91,-403.46 -142.81,-403.46\" fill=\"none\" stroke=\"black\"/>\n",
       "<polygon fill=\"black\" points=\"-142.75,-406.96 -132.75,-403.46 -142.75,-399.96 -142.75,-406.96\" stroke=\"black\"/>\n",
       "</g>\n",
       "<!-- n[82]&#45;&gt;n[58] -->\n",
       "<g class=\"edge\" id=\"edge397\"><title>n[82]-&gt;n[58]</title>\n",
       "<path d=\"M-86.12,-388.34C-63.523,-367.89 -23.075,-331.3 2.8422,-307.85\" fill=\"none\" stroke=\"black\"/>\n",
       "<polygon fill=\"black\" points=\"5.31404,-310.334 10.383,-301.03 0.61862,-305.142 5.31404,-310.334\" stroke=\"black\"/>\n",
       "</g>\n",
       "<!-- n[82]&#45;&gt;n[43] -->\n",
       "<g class=\"edge\" id=\"edge399\"><title>n[82]-&gt;n[43]</title>\n",
       "<path d=\"M-91.853,-386.41C-66.848,-347.59 -5.5556,-252.43 23.85,-206.78\" fill=\"none\" stroke=\"black\"/>\n",
       "<polygon fill=\"black\" points=\"26.8136,-208.642 29.286,-198.34 20.9286,-204.852 26.8136,-208.642\" stroke=\"black\"/>\n",
       "</g>\n",
       "<!-- n[82]&#45;&gt;n[70] -->\n",
       "<g class=\"edge\" id=\"edge398\"><title>n[82]-&gt;n[70]</title>\n",
       "<path d=\"M-76.37,-395.04C-46.693,-385.6 1.6285,-370.23 34.887,-359.66\" fill=\"none\" stroke=\"black\"/>\n",
       "<polygon fill=\"black\" points=\"36.22,-362.909 44.687,-356.54 34.0965,-356.239 36.22,-362.909\" stroke=\"black\"/>\n",
       "</g>\n",
       "<!-- n[103] -->\n",
       "<g class=\"node\" id=\"node137\"><title>n[103]</title>\n",
       "<ellipse cx=\"244.2\" cy=\"-278.04\" fill=\"none\" rx=\"34.5\" ry=\"18\" stroke=\"black\"/>\n",
       "<text font-family=\"Times New Roman,serif\" font-size=\"14.00\" text-anchor=\"middle\" x=\"244.2\" y=\"-274.34\">n[103]</text>\n",
       "</g>\n",
       "<!-- n[103]&#45;&gt;n[24] -->\n",
       "<g class=\"edge\" id=\"edge401\"><title>n[103]-&gt;n[24]</title>\n",
       "<path d=\"M214.02,-269.36C189.87,-262.42 155.9,-252.65 130.14,-245.25\" fill=\"none\" stroke=\"black\"/>\n",
       "<polygon fill=\"black\" points=\"130.928,-241.835 120.35,-242.44 128.996,-248.563 130.928,-241.835\" stroke=\"black\"/>\n",
       "</g>\n",
       "<!-- n[103]&#45;&gt;n[54] -->\n",
       "<g class=\"edge\" id=\"edge400\"><title>n[103]-&gt;n[54]</title>\n",
       "<path d=\"M253.64,-260.71C275.02,-221.44 327.29,-125.41 352.69,-78.772\" fill=\"none\" stroke=\"black\"/>\n",
       "<polygon fill=\"black\" points=\"355.828,-80.3273 357.53,-69.87 349.678,-76.9836 355.828,-80.3273\" stroke=\"black\"/>\n",
       "</g>\n",
       "<!-- n[103]&#45;&gt;n[81] -->\n",
       "<g class=\"edge\" id=\"edge402\"><title>n[103]-&gt;n[81]</title>\n",
       "<path d=\"M249.61,-260.11C249.63,-260.03 249.66,-259.94 249.69,-259.85\" fill=\"none\" stroke=\"black\"/>\n",
       "<polygon fill=\"black\" points=\"252.604,-262.314 252.13,-251.73 245.9,-260.3 252.604,-262.314\" stroke=\"black\"/>\n",
       "</g>\n",
       "<!-- n[142] -->\n",
       "<g class=\"node\" id=\"node138\"><title>n[142]</title>\n",
       "<ellipse cx=\"-440.22\" cy=\"128.67\" fill=\"none\" rx=\"34.5\" ry=\"18\" stroke=\"black\"/>\n",
       "<text font-family=\"Times New Roman,serif\" font-size=\"14.00\" text-anchor=\"middle\" x=\"-440.22\" y=\"132.37\">n[142]</text>\n",
       "</g>\n",
       "<!-- n[142]&#45;&gt;n[29] -->\n",
       "<g class=\"edge\" id=\"edge403\"><title>n[142]-&gt;n[29]</title>\n",
       "<path d=\"M-409.58,137.2C-335.25,157.9 -145.56,210.73 -65.08,233.14\" fill=\"none\" stroke=\"black\"/>\n",
       "<polygon fill=\"black\" points=\"-64.0676,229.789 -55.371,235.84 -65.9432,236.533 -64.0676,229.789\" stroke=\"black\"/>\n",
       "</g>\n",
       "<!-- n[142]&#45;&gt;n[64] -->\n",
       "<g class=\"edge\" id=\"edge405\"><title>n[142]-&gt;n[64]</title>\n",
       "<path d=\"M-411.03,118.68C-371.71,105.23 -301.79,81.321 -259.41,66.824\" fill=\"none\" stroke=\"black\"/>\n",
       "<polygon fill=\"black\" points=\"-260.375,63.4549 -249.78,63.53 -258.109,70.0782 -260.375,63.4549\" stroke=\"black\"/>\n",
       "</g>\n",
       "<!-- n[142]&#45;&gt;n[58] -->\n",
       "<g class=\"edge\" id=\"edge404\"><title>n[142]-&gt;n[58]</title>\n",
       "<path d=\"M-422.48,112.92C-350.69,49.213 -81.639,-189.53 2.035,-263.78\" fill=\"none\" stroke=\"black\"/>\n",
       "<polygon fill=\"black\" points=\"-0.0389708,-266.619 9.7632,-270.64 4.608,-261.384 -0.0389708,-266.619\" stroke=\"black\"/>\n",
       "</g>\n",
       "<!-- n[148] -->\n",
       "<g class=\"node\" id=\"node139\"><title>n[148]</title>\n",
       "<ellipse cx=\"-524.22\" cy=\"-187.74\" fill=\"none\" rx=\"34.5\" ry=\"18\" stroke=\"black\"/>\n",
       "<text font-family=\"Times New Roman,serif\" font-size=\"14.00\" text-anchor=\"middle\" x=\"-524.22\" y=\"-184.04\">n[148]</text>\n",
       "</g>\n",
       "<!-- n[106] -->\n",
       "<g class=\"node\" id=\"node140\"><title>n[106]</title>\n",
       "<ellipse cx=\"-348.45\" cy=\"-82.742\" fill=\"none\" rx=\"34.5\" ry=\"18\" stroke=\"black\"/>\n",
       "<text font-family=\"Times New Roman,serif\" font-size=\"14.00\" text-anchor=\"middle\" x=\"-348.45\" y=\"-79.042\">n[106]</text>\n",
       "</g>\n",
       "<!-- n[148]&#45;&gt;n[106] -->\n",
       "<g class=\"edge\" id=\"edge406\"><title>n[148]-&gt;n[106]</title>\n",
       "<path d=\"M-501.25,-174.01C-470.24,-155.49 -414.87,-122.42 -379.99,-101.58\" fill=\"none\" stroke=\"black\"/>\n",
       "<polygon fill=\"black\" points=\"-377.95,-104.438 -371.16,-96.305 -381.54,-98.4289 -377.95,-104.438\" stroke=\"black\"/>\n",
       "</g>\n",
       "<!-- n[108] -->\n",
       "<g class=\"node\" id=\"node141\"><title>n[108]</title>\n",
       "<ellipse cx=\"-436.14\" cy=\"-50.65\" fill=\"none\" rx=\"34.5\" ry=\"18\" stroke=\"black\"/>\n",
       "<text font-family=\"Times New Roman,serif\" font-size=\"14.00\" text-anchor=\"middle\" x=\"-436.14\" y=\"-46.95\">n[108]</text>\n",
       "</g>\n",
       "<!-- n[148]&#45;&gt;n[108] -->\n",
       "<g class=\"edge\" id=\"edge407\"><title>n[148]-&gt;n[108]</title>\n",
       "<path d=\"M-513.25,-170.65C-498.08,-147.05 -470.59,-104.27 -452.86,-76.676\" fill=\"none\" stroke=\"black\"/>\n",
       "<polygon fill=\"black\" points=\"-449.716,-78.2572 -447.26,-67.951 -455.607,-74.4762 -449.716,-78.2572\" stroke=\"black\"/>\n",
       "</g>\n",
       "<!-- n[83] -->\n",
       "<g class=\"node\" id=\"node142\"><title>n[83]</title>\n",
       "<ellipse cx=\"-289.5\" cy=\"-201.33\" fill=\"none\" rx=\"30\" ry=\"18\" stroke=\"black\"/>\n",
       "<text font-family=\"Times New Roman,serif\" font-size=\"14.00\" text-anchor=\"middle\" x=\"-289.5\" y=\"-197.63\">n[83]</text>\n",
       "</g>\n",
       "<!-- n[148]&#45;&gt;n[83] -->\n",
       "<g class=\"edge\" id=\"edge408\"><title>n[148]-&gt;n[83]</title>\n",
       "<path d=\"M-489.84,-189.73C-447.2,-192.2 -374.62,-196.4 -329.52,-199.01\" fill=\"none\" stroke=\"black\"/>\n",
       "<polygon fill=\"black\" points=\"-329.686,-202.506 -319.5,-199.59 -329.281,-195.518 -329.686,-202.506\" stroke=\"black\"/>\n",
       "</g>\n",
       "<!-- n[106]&#45;&gt;n[90] -->\n",
       "<g class=\"edge\" id=\"edge409\"><title>n[106]-&gt;n[90]</title>\n",
       "<path d=\"M-337.75,-65.569C-315.67,-30.115 -264.93,51.337 -238.95,93.047\" fill=\"none\" stroke=\"black\"/>\n",
       "<polygon fill=\"black\" points=\"-235.969,91.2122 -233.65,101.55 -241.91,94.915 -235.969,91.2122\" stroke=\"black\"/>\n",
       "</g>\n",
       "<!-- n[106]&#45;&gt;n[12] -->\n",
       "<g class=\"edge\" id=\"edge411\"><title>n[106]-&gt;n[12]</title>\n",
       "<path d=\"M-329.92,-67.569C-295.25,-39.185 -220.53,21.991 -180.96,54.385\" fill=\"none\" stroke=\"black\"/>\n",
       "<polygon fill=\"black\" points=\"-178.599,51.7949 -173.08,60.839 -183.034,57.2104 -178.599,51.7949\" stroke=\"black\"/>\n",
       "</g>\n",
       "<!-- n[106]&#45;&gt;n[26] -->\n",
       "<g class=\"edge\" id=\"edge410\"><title>n[106]-&gt;n[26]</title>\n",
       "<path d=\"M-314.95,-87.304C-217.87,-100.52 63.313,-138.81 167.61,-153.01\" fill=\"none\" stroke=\"black\"/>\n",
       "<polygon fill=\"black\" points=\"167.338,-156.505 177.72,-154.39 168.285,-149.57 167.338,-156.505\" stroke=\"black\"/>\n",
       "</g>\n",
       "<!-- n[108]&#45;&gt;n[13] -->\n",
       "<g class=\"edge\" id=\"edge412\"><title>n[108]-&gt;n[13]</title>\n",
       "<path d=\"M-401.63,-48.863C-339.93,-45.669 -211.07,-38.996 -145.33,-35.592\" fill=\"none\" stroke=\"black\"/>\n",
       "<polygon fill=\"black\" points=\"-144.766,-39.0676 -134.96,-35.055 -145.128,-32.0769 -144.766,-39.0676\" stroke=\"black\"/>\n",
       "</g>\n",
       "<!-- n[108]&#45;&gt;n[105] -->\n",
       "<g class=\"edge\" id=\"edge413\"><title>n[108]-&gt;n[105]</title>\n",
       "<path d=\"M-406.62,-41.267C-343.09,-21.073 -193.41,26.509 -122,49.206\" fill=\"none\" stroke=\"black\"/>\n",
       "<polygon fill=\"black\" points=\"-120.93,45.8736 -112.46,52.239 -123.05,52.5446 -120.93,45.8736\" stroke=\"black\"/>\n",
       "</g>\n",
       "<!-- n[108]&#45;&gt;n[106] -->\n",
       "<g class=\"edge\" id=\"edge414\"><title>n[108]-&gt;n[106]</title>\n",
       "<path d=\"M-407.91,-60.981C-401.1,-63.475 -393.7,-66.181 -386.52,-68.81\" fill=\"none\" stroke=\"black\"/>\n",
       "<polygon fill=\"black\" points=\"-387.524,-72.1697 -376.93,-72.321 -385.117,-65.5963 -387.524,-72.1697\" stroke=\"black\"/>\n",
       "</g>\n",
       "<!-- n[83]&#45;&gt;n[9] -->\n",
       "<g class=\"edge\" id=\"edge415\"><title>n[83]-&gt;n[9]</title>\n",
       "<path d=\"M-265.24,-190.56C-233.8,-176.6 -178.9,-152.22 -144.15,-136.8\" fill=\"none\" stroke=\"black\"/>\n",
       "<polygon fill=\"black\" points=\"-142.638,-139.958 -134.92,-132.7 -145.48,-133.561 -142.638,-139.958\" stroke=\"black\"/>\n",
       "</g>\n",
       "<!-- n[83]&#45;&gt;n[10] -->\n",
       "<g class=\"edge\" id=\"edge416\"><title>n[83]-&gt;n[10]</title>\n",
       "<path d=\"M-272.17,-186.28C-228.34,-148.23 -112.95,-48.054 -62.066,-3.874\" fill=\"none\" stroke=\"black\"/>\n",
       "<polygon fill=\"black\" points=\"-59.7302,-6.48117 -54.474,2.7179 -64.3196,-1.19552 -59.7302,-6.48117\" stroke=\"black\"/>\n",
       "</g>\n",
       "<!-- n[83]&#45;&gt;n[44] -->\n",
       "<g class=\"edge\" id=\"edge417\"><title>n[83]-&gt;n[44]</title>\n",
       "<path d=\"M-262.41,-208.96C-217.76,-221.54 -128.66,-246.63 -78.081,-260.88\" fill=\"none\" stroke=\"black\"/>\n",
       "<polygon fill=\"black\" points=\"-78.7773,-264.32 -68.203,-263.66 -76.8808,-257.582 -78.7773,-264.32\" stroke=\"black\"/>\n",
       "</g>\n",
       "<!-- n[132] -->\n",
       "<g class=\"node\" id=\"node143\"><title>n[132]</title>\n",
       "<ellipse cx=\"-459.9\" cy=\"40.087\" fill=\"none\" rx=\"34.5\" ry=\"18\" stroke=\"black\"/>\n",
       "<text font-family=\"Times New Roman,serif\" font-size=\"14.00\" text-anchor=\"middle\" x=\"-459.9\" y=\"43.787\">n[132]</text>\n",
       "</g>\n",
       "<!-- n[132]&#45;&gt;n[110] -->\n",
       "<g class=\"edge\" id=\"edge418\"><title>n[132]-&gt;n[110]</title>\n",
       "<path d=\"M-442.01,55.702C-393.05,98.43 -256.73,217.4 -199.59,267.26\" fill=\"none\" stroke=\"black\"/>\n",
       "<polygon fill=\"black\" points=\"-196.989,264.885 -191.76,274.1 -201.594,270.157 -196.989,264.885\" stroke=\"black\"/>\n",
       "</g>\n",
       "<!-- n[132]&#45;&gt;n[38] -->\n",
       "<g class=\"edge\" id=\"edge419\"><title>n[132]-&gt;n[38]</title>\n",
       "<path d=\"M-425.86,36.667C-371.17,31.173 -263.98,20.406 -205.69,14.551\" fill=\"none\" stroke=\"black\"/>\n",
       "<polygon fill=\"black\" points=\"-205.7,11.0344 -195.4,13.517 -205,17.9994 -205.7,11.0344\" stroke=\"black\"/>\n",
       "</g>\n",
       "<!-- n[132]&#45;&gt;n[98] -->\n",
       "<g class=\"edge\" id=\"edge420\"><title>n[132]-&gt;n[98]</title>\n",
       "<path d=\"M-453.85,22.079C-440.14,-18.765 -406.62,-118.64 -390.35,-167.1\" fill=\"none\" stroke=\"black\"/>\n",
       "<polygon fill=\"black\" points=\"-393.654,-168.256 -387.15,-176.62 -387.019,-166.026 -393.654,-168.256\" stroke=\"black\"/>\n",
       "</g>\n",
       "<!-- n[125] -->\n",
       "<g class=\"node\" id=\"node144\"><title>n[125]</title>\n",
       "<ellipse cx=\"-125.98\" cy=\"-359.46\" fill=\"none\" rx=\"34.5\" ry=\"18\" stroke=\"black\"/>\n",
       "<text font-family=\"Times New Roman,serif\" font-size=\"14.00\" text-anchor=\"middle\" x=\"-125.98\" y=\"-355.76\">n[125]</text>\n",
       "</g>\n",
       "<!-- n[125]&#45;&gt;n[52] -->\n",
       "<g class=\"edge\" id=\"edge421\"><title>n[125]-&gt;n[52]</title>\n",
       "<path d=\"M-134.6,-341.68C-158.08,-293.31 -223.19,-159.13 -251.02,-101.77\" fill=\"none\" stroke=\"black\"/>\n",
       "<polygon fill=\"black\" points=\"-247.946,-100.087 -255.46,-92.618 -254.244,-103.143 -247.946,-100.087\" stroke=\"black\"/>\n",
       "</g>\n",
       "<!-- n[125]&#45;&gt;n[81] -->\n",
       "<g class=\"edge\" id=\"edge422\"><title>n[125]-&gt;n[81]</title>\n",
       "<path d=\"M-96.522,-349.82C-27.203,-327.13 146.07,-270.43 221.48,-245.75\" fill=\"none\" stroke=\"black\"/>\n",
       "<polygon fill=\"black\" points=\"222.611,-249.063 231.03,-242.63 220.437,-242.409 222.611,-249.063\" stroke=\"black\"/>\n",
       "</g>\n",
       "<!-- n[125]&#45;&gt;n[68] -->\n",
       "<g class=\"edge\" id=\"edge423\"><title>n[125]-&gt;n[68]</title>\n",
       "<path d=\"M-136.77,-342.22C-162.79,-300.67 -229.09,-194.8 -259.9,-145.6\" fill=\"none\" stroke=\"black\"/>\n",
       "<polygon fill=\"black\" points=\"-257.117,-143.449 -265.39,-136.83 -263.051,-147.163 -257.117,-143.449\" stroke=\"black\"/>\n",
       "</g>\n",
       "<!-- n[114] -->\n",
       "<g class=\"node\" id=\"node145\"><title>n[114]</title>\n",
       "<ellipse cx=\"522.13\" cy=\"10.146\" fill=\"none\" rx=\"34.5\" ry=\"18\" stroke=\"black\"/>\n",
       "<text font-family=\"Times New Roman,serif\" font-size=\"14.00\" text-anchor=\"middle\" x=\"522.13\" y=\"13.846\">n[114]</text>\n",
       "</g>\n",
       "<!-- n[114]&#45;&gt;n[34] -->\n",
       "<g class=\"edge\" id=\"edge424\"><title>n[114]-&gt;n[34]</title>\n",
       "<path d=\"M491.8,18.772C438.58,33.91 328.54,65.208 270.82,81.624\" fill=\"none\" stroke=\"black\"/>\n",
       "<polygon fill=\"black\" points=\"271.586,85.0449 261.01,84.414 269.671,78.3119 271.586,85.0449\" stroke=\"black\"/>\n",
       "</g>\n",
       "<!-- n[114]&#45;&gt;n[18] -->\n",
       "<g class=\"edge\" id=\"edge425\"><title>n[114]-&gt;n[18]</title>\n",
       "<path d=\"M489.06,5.0867C435.12,-3.1656 328.42,-19.488 270.69,-28.319\" fill=\"none\" stroke=\"black\"/>\n",
       "<polygon fill=\"black\" points=\"269.865,-24.9044 260.51,-29.877 270.924,-31.8238 269.865,-24.9044\" stroke=\"black\"/>\n",
       "</g>\n",
       "<!-- n[114]&#45;&gt;n[102] -->\n",
       "<g class=\"edge\" id=\"edge426\"><title>n[114]-&gt;n[102]</title>\n",
       "<path d=\"M502.78,-4.8601C467.42,-32.272 392.3,-90.517 351.61,-122.06\" fill=\"none\" stroke=\"black\"/>\n",
       "<polygon fill=\"black\" points=\"349.229,-119.477 343.47,-128.37 353.518,-125.01 349.229,-119.477\" stroke=\"black\"/>\n",
       "</g>\n",
       "<!-- n[139] -->\n",
       "<g class=\"node\" id=\"node146\"><title>n[139]</title>\n",
       "<ellipse cx=\"-153.05\" cy=\"-447.51\" fill=\"none\" rx=\"34.5\" ry=\"18\" stroke=\"black\"/>\n",
       "<text font-family=\"Times New Roman,serif\" font-size=\"14.00\" text-anchor=\"middle\" x=\"-153.05\" y=\"-443.81\">n[139]</text>\n",
       "</g>\n",
       "<!-- n[139]&#45;&gt;n[135] -->\n",
       "<g class=\"edge\" id=\"edge427\"><title>n[139]-&gt;n[135]</title>\n",
       "<path d=\"M-176.34,-434.2C-211.95,-413.87 -280,-375.01 -320.37,-351.95\" fill=\"none\" stroke=\"black\"/>\n",
       "<polygon fill=\"black\" points=\"-318.852,-348.786 -329.27,-346.86 -322.327,-354.863 -318.852,-348.786\" stroke=\"black\"/>\n",
       "</g>\n",
       "<!-- n[139]&#45;&gt;n[89] -->\n",
       "<g class=\"edge\" id=\"edge428\"><title>n[139]-&gt;n[89]</title>\n",
       "<path d=\"M-158.88,-429.56C-180.72,-362.41 -257.67,-125.74 -284.07,-44.571\" fill=\"none\" stroke=\"black\"/>\n",
       "<polygon fill=\"black\" points=\"-280.75,-43.463 -287.17,-35.035 -287.407,-45.6272 -280.75,-43.463\" stroke=\"black\"/>\n",
       "</g>\n",
       "<!-- n[139]&#45;&gt;n[103] -->\n",
       "<g class=\"edge\" id=\"edge429\"><title>n[139]-&gt;n[103]</title>\n",
       "<path d=\"M-126.05,-435.99C-56.471,-406.31 129.06,-327.16 207.92,-293.52\" fill=\"none\" stroke=\"black\"/>\n",
       "<polygon fill=\"black\" points=\"209.615,-296.602 217.44,-289.46 206.869,-290.163 209.615,-296.602\" stroke=\"black\"/>\n",
       "</g>\n",
       "<!-- n[141] -->\n",
       "<g class=\"node\" id=\"node147\"><title>n[141]</title>\n",
       "<ellipse cx=\"295.28\" cy=\"339.99\" fill=\"none\" rx=\"34.5\" ry=\"18\" stroke=\"black\"/>\n",
       "<text font-family=\"Times New Roman,serif\" font-size=\"14.00\" text-anchor=\"middle\" x=\"295.28\" y=\"343.69\">n[141]</text>\n",
       "</g>\n",
       "<!-- n[141]&#45;&gt;n[66] -->\n",
       "<g class=\"edge\" id=\"edge430\"><title>n[141]-&gt;n[66]</title>\n",
       "<path d=\"M263.48,332.7C191.15,316.1 14.565,275.59 -63.401,257.7\" fill=\"none\" stroke=\"black\"/>\n",
       "<polygon fill=\"black\" points=\"-64.3248,261.079 -73.288,255.43 -62.7584,254.257 -64.3248,261.079\" stroke=\"black\"/>\n",
       "</g>\n",
       "<!-- n[141]&#45;&gt;n[67] -->\n",
       "<g class=\"edge\" id=\"edge431\"><title>n[141]-&gt;n[67]</title>\n",
       "<path d=\"M300.98,322.08C313.65,282.31 344.18,186.47 359.27,139.1\" fill=\"none\" stroke=\"black\"/>\n",
       "<polygon fill=\"black\" points=\"355.958,137.965 362.33,129.5 362.628,140.091 355.958,137.965\" stroke=\"black\"/>\n",
       "</g>\n",
       "<!-- n[141]&#45;&gt;n[56] -->\n",
       "<g class=\"edge\" id=\"edge432\"><title>n[141]-&gt;n[56]</title>\n",
       "<path d=\"M295.66,321.98C296.71,273.28 299.61,138.78 300.88,80.037\" fill=\"none\" stroke=\"black\"/>\n",
       "<polygon fill=\"black\" points=\"297.382,79.909 301.1,69.988 304.38,80.0622 297.382,79.909\" stroke=\"black\"/>\n",
       "</g>\n",
       "<!-- n[120] -->\n",
       "<g class=\"node\" id=\"node148\"><title>n[120]</title>\n",
       "<ellipse cx=\"584.1\" cy=\"-34.037\" fill=\"none\" rx=\"34.5\" ry=\"18\" stroke=\"black\"/>\n",
       "<text font-family=\"Times New Roman,serif\" font-size=\"14.00\" text-anchor=\"middle\" x=\"584.1\" y=\"-30.337\">n[120]</text>\n",
       "</g>\n",
       "<!-- n[120]&#45;&gt;n[72] -->\n",
       "<g class=\"edge\" id=\"edge433\"><title>n[120]-&gt;n[72]</title>\n",
       "<path d=\"M560.11,-20.811C488.7,18.547 277.56,134.93 197.26,179.19\" fill=\"none\" stroke=\"black\"/>\n",
       "<polygon fill=\"black\" points=\"198.576,182.461 188.13,184.23 195.193,176.333 198.576,182.461\" stroke=\"black\"/>\n",
       "</g>\n",
       "<!-- n[120]&#45;&gt;n[119] -->\n",
       "<g class=\"edge\" id=\"edge434\"><title>n[120]-&gt;n[119]</title>\n",
       "<path d=\"M566.54,-49.765C546.75,-67.481 514.44,-96.421 491.97,-116.54\" fill=\"none\" stroke=\"black\"/>\n",
       "<polygon fill=\"black\" points=\"489.582,-113.98 484.47,-123.26 494.253,-119.194 489.582,-113.98\" stroke=\"black\"/>\n",
       "</g>\n",
       "<!-- n[120]&#45;&gt;n[100] -->\n",
       "<g class=\"edge\" id=\"edge435\"><title>n[120]-&gt;n[100]</title>\n",
       "<path d=\"M564.26,-49.187C519.5,-83.375 410.55,-166.59 359.09,-205.89\" fill=\"none\" stroke=\"black\"/>\n",
       "<polygon fill=\"black\" points=\"356.878,-203.175 351.06,-212.03 361.13,-208.736 356.878,-203.175\" stroke=\"black\"/>\n",
       "</g>\n",
       "<!-- n[79] -->\n",
       "<g class=\"node\" id=\"node149\"><title>n[79]</title>\n",
       "<ellipse cx=\"-451.78\" cy=\"210.04\" fill=\"none\" rx=\"30\" ry=\"18\" stroke=\"black\"/>\n",
       "<text font-family=\"Times New Roman,serif\" font-size=\"14.00\" text-anchor=\"middle\" x=\"-451.78\" y=\"213.74\">n[79]</text>\n",
       "</g>\n",
       "<!-- n[79]&#45;&gt;n[38] -->\n",
       "<g class=\"edge\" id=\"edge436\"><title>n[79]-&gt;n[38]</title>\n",
       "<path d=\"M-432.11,196.33C-382.39,161.66 -251.52,70.412 -193.74,30.123\" fill=\"none\" stroke=\"black\"/>\n",
       "<polygon fill=\"black\" points=\"-195.645,27.1843 -185.44,24.336 -191.641,32.9265 -195.645,27.1843\" stroke=\"black\"/>\n",
       "</g>\n",
       "<!-- n[79]&#45;&gt;n[42] -->\n",
       "<g class=\"edge\" id=\"edge437\"><title>n[79]-&gt;n[42]</title>\n",
       "<path d=\"M-421.83,209.68C-373.59,209.09 -278.61,207.93 -224.4,207.27\" fill=\"none\" stroke=\"black\"/>\n",
       "<polygon fill=\"black\" points=\"-224.17,203.767 -214.13,207.15 -224.088,210.767 -224.17,203.767\" stroke=\"black\"/>\n",
       "</g>\n",
       "<!-- n[79]&#45;&gt;n[35] -->\n",
       "<g class=\"edge\" id=\"edge438\"><title>n[79]-&gt;n[35]</title>\n",
       "<path d=\"M-427.35,220.57C-368.23,246.05 -217.29,311.11 -149.65,340.27\" fill=\"none\" stroke=\"black\"/>\n",
       "<polygon fill=\"black\" points=\"-148.091,337.131 -140.29,344.3 -150.859,343.56 -148.091,337.131\" stroke=\"black\"/>\n",
       "</g>\n",
       "<!-- n[88] -->\n",
       "<g class=\"node\" id=\"node150\"><title>n[88]</title>\n",
       "<ellipse cx=\"-357.32\" cy=\"-245.31\" fill=\"none\" rx=\"30\" ry=\"18\" stroke=\"black\"/>\n",
       "<text font-family=\"Times New Roman,serif\" font-size=\"14.00\" text-anchor=\"middle\" x=\"-357.32\" y=\"-241.61\">n[88]</text>\n",
       "</g>\n",
       "<!-- n[88]&#45;&gt;n[21] -->\n",
       "<g class=\"edge\" id=\"edge439\"><title>n[88]-&gt;n[21]</title>\n",
       "<path d=\"M-336.12,-232.57C-313.45,-218.95 -277.32,-197.24 -251.72,-181.86\" fill=\"none\" stroke=\"black\"/>\n",
       "<polygon fill=\"black\" points=\"-249.906,-184.853 -243.14,-176.7 -253.513,-178.854 -249.906,-184.853\" stroke=\"black\"/>\n",
       "</g>\n",
       "<!-- n[88]&#45;&gt;n[17] -->\n",
       "<g class=\"edge\" id=\"edge440\"><title>n[88]-&gt;n[17]</title>\n",
       "<path d=\"M-348.88,-227.77C-318,-163.55 -210.92,59.105 -173.83,136.23\" fill=\"none\" stroke=\"black\"/>\n",
       "<polygon fill=\"black\" points=\"-170.647,134.772 -169.46,145.3 -176.954,137.81 -170.647,134.772\" stroke=\"black\"/>\n",
       "</g>\n",
       "<!-- n[88]&#45;&gt;n[82] -->\n",
       "<g class=\"edge\" id=\"edge441\"><title>n[88]-&gt;n[82]</title>\n",
       "<path d=\"M-336.49,-258.25C-291.47,-286.23 -184.95,-352.42 -132.74,-384.87\" fill=\"none\" stroke=\"black\"/>\n",
       "<polygon fill=\"black\" points=\"-134.281,-388.033 -123.94,-390.34 -130.585,-382.088 -134.281,-388.033\" stroke=\"black\"/>\n",
       "</g>\n",
       "<!-- n[123] -->\n",
       "<g class=\"node\" id=\"node151\"><title>n[123]</title>\n",
       "<ellipse cx=\"-513.07\" cy=\"-50.042\" fill=\"none\" rx=\"34.5\" ry=\"18\" stroke=\"black\"/>\n",
       "<text font-family=\"Times New Roman,serif\" font-size=\"14.00\" text-anchor=\"middle\" x=\"-513.07\" y=\"-46.342\">n[123]</text>\n",
       "</g>\n",
       "<!-- n[123]&#45;&gt;n[27] -->\n",
       "<g class=\"edge\" id=\"edge442\"><title>n[123]-&gt;n[27]</title>\n",
       "<path d=\"M-486.37,-38.617C-411.99,-6.7988 -202.54,82.801 -120.09,118.07\" fill=\"none\" stroke=\"black\"/>\n",
       "<polygon fill=\"black\" points=\"-118.495,114.946 -110.68,122.1 -121.25,121.38 -118.495,114.946\" stroke=\"black\"/>\n",
       "</g>\n",
       "<!-- n[123]&#45;&gt;n[25] -->\n",
       "<g class=\"edge\" id=\"edge443\"><title>n[123]-&gt;n[25]</title>\n",
       "<path d=\"M-484.3,-39.924C-444.3,-25.861 -371.94,-0.41726 -328.59,14.826\" fill=\"none\" stroke=\"black\"/>\n",
       "<polygon fill=\"black\" points=\"-327.292,11.5722 -319.02,18.192 -329.615,18.1757 -327.292,11.5722\" stroke=\"black\"/>\n",
       "</g>\n",
       "<!-- n[123]&#45;&gt;n[83] -->\n",
       "<g class=\"edge\" id=\"edge444\"><title>n[123]-&gt;n[83]</title>\n",
       "<path d=\"M-491.64,-64.548C-451.16,-91.935 -363.5,-151.26 -318.07,-181.99\" fill=\"none\" stroke=\"black\"/>\n",
       "<polygon fill=\"black\" points=\"-319.822,-185.03 -309.58,-187.74 -315.897,-179.234 -319.822,-185.03\" stroke=\"black\"/>\n",
       "</g>\n",
       "<!-- n[95] -->\n",
       "<g class=\"node\" id=\"node152\"><title>n[95]</title>\n",
       "<ellipse cx=\"404.4\" cy=\"-279.7\" fill=\"none\" rx=\"30\" ry=\"18\" stroke=\"black\"/>\n",
       "<text font-family=\"Times New Roman,serif\" font-size=\"14.00\" text-anchor=\"middle\" x=\"404.4\" y=\"-276\">n[95]</text>\n",
       "</g>\n",
       "<!-- n[95]&#45;&gt;n[18] -->\n",
       "<g class=\"edge\" id=\"edge445\"><title>n[95]-&gt;n[18]</title>\n",
       "<path d=\"M392.51,-262.84C362.62,-220.45 284.23,-109.28 248.99,-59.304\" fill=\"none\" stroke=\"black\"/>\n",
       "<polygon fill=\"black\" points=\"251.752,-57.1478 243.13,-50.991 246.031,-61.181 251.752,-57.1478\" stroke=\"black\"/>\n",
       "</g>\n",
       "<!-- n[95]&#45;&gt;n[28] -->\n",
       "<g class=\"edge\" id=\"edge446\"><title>n[95]-&gt;n[28]</title>\n",
       "<path d=\"M377.63,-271.35C334.19,-257.81 248.29,-231.02 199.31,-215.75\" fill=\"none\" stroke=\"black\"/>\n",
       "<polygon fill=\"black\" points=\"200.319,-212.398 189.73,-212.76 198.233,-219.08 200.319,-212.398\" stroke=\"black\"/>\n",
       "</g>\n",
       "<!-- n[95]&#45;&gt;n[81] -->\n",
       "<g class=\"edge\" id=\"edge447\"><title>n[95]-&gt;n[81]</title>\n",
       "<path d=\"M377.8,-271.42C354.44,-264.15 320.23,-253.5 294.26,-245.41\" fill=\"none\" stroke=\"black\"/>\n",
       "<polygon fill=\"black\" points=\"294.978,-241.968 284.39,-242.34 292.899,-248.652 294.978,-241.968\" stroke=\"black\"/>\n",
       "</g>\n",
       "<!-- n[101] -->\n",
       "<g class=\"node\" id=\"node153\"><title>n[101]</title>\n",
       "<ellipse cx=\"229.39\" cy=\"398.44\" fill=\"none\" rx=\"34.5\" ry=\"18\" stroke=\"black\"/>\n",
       "<text font-family=\"Times New Roman,serif\" font-size=\"14.00\" text-anchor=\"middle\" x=\"229.39\" y=\"402.14\">n[101]</text>\n",
       "</g>\n",
       "<!-- n[101]&#45;&gt;n[62] -->\n",
       "<g class=\"edge\" id=\"edge448\"><title>n[101]-&gt;n[62]</title>\n",
       "<path d=\"M217.47,381.44C206.79,366.18 190.96,343.58 178.77,326.2\" fill=\"none\" stroke=\"black\"/>\n",
       "<polygon fill=\"black\" points=\"175.646,327.84 172.78,317.64 181.381,323.827 175.646,327.84\" stroke=\"black\"/>\n",
       "</g>\n",
       "<!-- n[101]&#45;&gt;n[72] -->\n",
       "<g class=\"edge\" id=\"edge449\"><title>n[101]-&gt;n[72]</title>\n",
       "<path d=\"M223.74,380.52C212.59,345.13 187.67,266.04 174.43,224.02\" fill=\"none\" stroke=\"black\"/>\n",
       "<polygon fill=\"black\" points=\"171.075,225.02 171.41,214.43 177.752,222.917 171.075,225.02\" stroke=\"black\"/>\n",
       "</g>\n",
       "<!-- n[101]&#45;&gt;n[86] -->\n",
       "<g class=\"edge\" id=\"edge450\"><title>n[101]-&gt;n[86]</title>\n",
       "<path d=\"M202.75,386.94C189.97,381.43 174.52,374.76 160.91,368.88\" fill=\"none\" stroke=\"black\"/>\n",
       "<polygon fill=\"black\" points=\"159.19,371.95 151.39,364.78 161.959,365.521 159.19,371.95\" stroke=\"black\"/>\n",
       "</g>\n",
       "<!-- n[140] -->\n",
       "<g class=\"node\" id=\"node154\"><title>n[140]</title>\n",
       "<ellipse cx=\"175.46\" cy=\"-411.05\" fill=\"none\" rx=\"34.5\" ry=\"18\" stroke=\"black\"/>\n",
       "<text font-family=\"Times New Roman,serif\" font-size=\"14.00\" text-anchor=\"middle\" x=\"175.46\" y=\"-407.35\">n[140]</text>\n",
       "</g>\n",
       "<!-- n[140]&#45;&gt;n[26] -->\n",
       "<g class=\"edge\" id=\"edge451\"><title>n[140]-&gt;n[26]</title>\n",
       "<path d=\"M177.74,-392.88C183.2,-349.36 197.06,-238.89 203.62,-186.63\" fill=\"none\" stroke=\"black\"/>\n",
       "<polygon fill=\"black\" points=\"207.131,-186.757 204.9,-176.4 200.185,-185.888 207.131,-186.757\" stroke=\"black\"/>\n",
       "</g>\n",
       "<!-- n[140]&#45;&gt;n[19] -->\n",
       "<g class=\"edge\" id=\"edge452\"><title>n[140]-&gt;n[19]</title>\n",
       "<path d=\"M158.73,-395.3C123.81,-362.41 43.05,-286.38 2.8571,-248.53\" fill=\"none\" stroke=\"black\"/>\n",
       "<polygon fill=\"black\" points=\"5.06653,-245.803 -4.6151,-241.5 0.269914,-250.901 5.06653,-245.803\" stroke=\"black\"/>\n",
       "</g>\n",
       "<!-- n[140]&#45;&gt;n[139] -->\n",
       "<g class=\"edge\" id=\"edge453\"><title>n[140]-&gt;n[139]</title>\n",
       "<path d=\"M141.54,-414.82C81.635,-421.46 -42.835,-435.28 -109.18,-442.64\" fill=\"none\" stroke=\"black\"/>\n",
       "<polygon fill=\"black\" points=\"-109.755,-439.182 -119.31,-443.76 -108.986,-446.14 -109.755,-439.182\" stroke=\"black\"/>\n",
       "</g>\n",
       "<!-- n[115] -->\n",
       "<g class=\"node\" id=\"node155\"><title>n[115]</title>\n",
       "<ellipse cx=\"-508.58\" cy=\"-5.9988\" fill=\"none\" rx=\"34.5\" ry=\"18\" stroke=\"black\"/>\n",
       "<text font-family=\"Times New Roman,serif\" font-size=\"14.00\" text-anchor=\"middle\" x=\"-508.58\" y=\"-2.2988\">n[115]</text>\n",
       "</g>\n",
       "<!-- n[115]&#45;&gt;n[42] -->\n",
       "<g class=\"edge\" id=\"edge454\"><title>n[115]-&gt;n[42]</title>\n",
       "<path d=\"M-487.03,8.1269C-430.36,45.27 -277.14,145.71 -212.91,187.8\" fill=\"none\" stroke=\"black\"/>\n",
       "<polygon fill=\"black\" points=\"-210.897,184.935 -204.46,193.35 -214.74,190.786 -210.897,184.935\" stroke=\"black\"/>\n",
       "</g>\n",
       "<!-- n[115]&#45;&gt;n[30] -->\n",
       "<g class=\"edge\" id=\"edge455\"><title>n[115]-&gt;n[30]</title>\n",
       "<path d=\"M-481.5,-17.157C-407.46,-47.669 -201.7,-132.46 -120.03,-166.11\" fill=\"none\" stroke=\"black\"/>\n",
       "<polygon fill=\"black\" points=\"-121.289,-169.377 -110.71,-169.95 -118.623,-162.904 -121.289,-169.377\" stroke=\"black\"/>\n",
       "</g>\n",
       "<!-- n[115]&#45;&gt;n[78] -->\n",
       "<g class=\"edge\" id=\"edge456\"><title>n[115]-&gt;n[78]</title>\n",
       "<path d=\"M-510.02,12.322C-512.55,44.432 -517.8,111.09 -520.82,149.36\" fill=\"none\" stroke=\"black\"/>\n",
       "<polygon fill=\"black\" points=\"-517.368,150.114 -521.64,159.81 -524.347,149.567 -517.368,150.114\" stroke=\"black\"/>\n",
       "</g>\n",
       "<!-- n[144] -->\n",
       "<g class=\"node\" id=\"node156\"><title>n[144]</title>\n",
       "<ellipse cx=\"54.509\" cy=\"389.2\" fill=\"none\" rx=\"34.5\" ry=\"18\" stroke=\"black\"/>\n",
       "<text font-family=\"Times New Roman,serif\" font-size=\"14.00\" text-anchor=\"middle\" x=\"54.509\" y=\"392.9\">n[144]</text>\n",
       "</g>\n",
       "<!-- n[144]&#45;&gt;n[29] -->\n",
       "<g class=\"edge\" id=\"edge457\"><title>n[144]-&gt;n[29]</title>\n",
       "<path d=\"M44.71,371.91C30.367,346.6 3.5422,299.26 -13.233,269.65\" fill=\"none\" stroke=\"black\"/>\n",
       "<polygon fill=\"black\" points=\"-16.4138,271.136 -18.298,260.71 -10.3233,267.685 -16.4138,271.136\" stroke=\"black\"/>\n",
       "</g>\n",
       "<!-- n[144]&#45;&gt;n[122] -->\n",
       "<g class=\"edge\" id=\"edge458\"><title>n[144]-&gt;n[122]</title>\n",
       "<path d=\"M27.144,378.02C-27.878,355.55 -151.93,304.87 -214,279.52\" fill=\"none\" stroke=\"black\"/>\n",
       "<polygon fill=\"black\" points=\"-215.48,282.696 -223.41,275.67 -212.829,276.217 -215.48,282.696\" stroke=\"black\"/>\n",
       "</g>\n",
       "<!-- n[144]&#45;&gt;n[49] -->\n",
       "<g class=\"edge\" id=\"edge459\"><title>n[144]-&gt;n[49]</title>\n",
       "<path d=\"M63.951,371.79C101.46,302.63 240.07,47.022 285.02,-35.855\" fill=\"none\" stroke=\"black\"/>\n",
       "<polygon fill=\"black\" points=\"282.06,-37.7388 289.9,-44.865 288.215,-34.405 282.06,-37.7388\" stroke=\"black\"/>\n",
       "</g>\n",
       "</g>\n",
       "</svg>"
      ],
      "text/plain": [
       "<IPython.core.display.SVG object>"
      ]
     },
     "metadata": {},
     "output_type": "display_data"
    },
    {
     "name": "stdout",
     "output_type": "stream",
     "text": [
      "working on P (0/6)\n",
      "working on P (1/6)\n",
      "working on P (2/6)\n",
      "working on P (3/6)\n",
      "working on P (4/6)\n",
      "working on P (5/6)\n",
      "working on P (6/6)\n"
     ]
    },
    {
     "data": {
      "application/vnd.plotly.v1+json": {
       "config": {
        "plotlyServerURL": "https://plot.ly"
       },
       "data": [
        {
         "name": "P 0",
         "type": "surface",
         "visible": true,
         "y": [
          90,
          80,
          70,
          60,
          50,
          40,
          29.999999999999993,
          19.999999999999996,
          9.999999999999998,
          0
         ],
         "z": [
          [
           0.0009933774834437088,
           0.006578947368421052,
           0.009538950715417134,
           0.012460512460508135,
           0.015344376634703167,
           0.01819126819126374,
           0.02100189361335458,
           0.023776941498464536,
           0.02651708312085272,
           0.02922297297296845,
           0.03189524928655794
          ],
          [
           0.0009933774834437088,
           0.006578947368421052,
           0.009538950715417134,
           0.012460512460508135,
           0.015344376634703167,
           0.01819126819126374,
           0.02100189361335458,
           0.023776941498464536,
           0.02651708312085272,
           0.02922297297296845,
           0.03189524928655794
          ],
          [
           0.0009933774834437088,
           0.006578947368421052,
           0.009538950715417134,
           0.012460512460508135,
           0.015344376634703167,
           0.01819126819126374,
           0.02100189361335458,
           0.023776941498464536,
           0.02651708312085272,
           0.02922297297296845,
           0.03189524928655794
          ],
          [
           0.0009933774834437088,
           0.006578947368421052,
           0.009538950715417134,
           0.012460512460508135,
           0.015344376634703167,
           0.01819126819126374,
           0.02100189361335458,
           0.023776941498464536,
           0.02651708312085272,
           0.02922297297296845,
           0.03189524928655794
          ],
          [
           0.0009933774834437088,
           0.006578947368421052,
           0.009538950715417134,
           0.012460512460508135,
           0.015344376634703167,
           0.01819126819126374,
           0.02100189361335458,
           0.023776941498464536,
           0.02651708312085272,
           0.02922297297296845,
           0.03189524928655794
          ],
          [
           0.0009933774834437088,
           0.006578947368421052,
           0.009538950715417134,
           0.012460512460508135,
           0.015344376634703167,
           0.01819126819126374,
           0.02100189361335458,
           0.023776941498464536,
           0.02651708312085272,
           0.02922297297296845,
           0.03189524928655794
          ],
          [
           0.0009933774834437088,
           0.006578947368421052,
           0.009538950715417134,
           0.012460512460508135,
           0.015344376634703167,
           0.01819126819126374,
           0.02100189361335458,
           0.023776941498464536,
           0.02651708312085272,
           0.02922297297296845,
           0.03189524928655794
          ],
          [
           0.0009933774834437088,
           0.006578947368421052,
           0.009538950715417134,
           0.012460512460508135,
           0.015344376634703167,
           0.01819126819126374,
           0.02100189361335458,
           0.023776941498464536,
           0.02651708312085272,
           0.02922297297296845,
           0.03189524928655794
          ],
          [
           0.0009933774834437088,
           0.006578947368421052,
           0.009538950715417134,
           0.012460512460508135,
           0.015344376634703167,
           0.01819126819126374,
           0.02100189361335458,
           0.023776941498464536,
           0.02651708312085272,
           0.02922297297296845,
           0.03189524928655794
          ],
          [
           0.0009933774834437088,
           0.006578947368421052,
           0.009538950715417134,
           0.012460512460508135,
           0.015344376634703167,
           0.01819126819126374,
           0.02100189361335458,
           0.023776941498464536,
           0.02651708312085272,
           0.02922297297296845,
           0.03189524928655794
          ]
         ]
        },
        {
         "name": "P 1",
         "type": "surface",
         "visible": false,
         "y": [
          90,
          80,
          70,
          60,
          50,
          40,
          29.999999999999993,
          19.999999999999996,
          9.999999999999998,
          0
         ],
         "z": [
          [
           0.002581420586744028,
           0.012263976021776025,
           0.015186822318746275,
           0.018071709572906585,
           0.02091937247540875,
           0.023730526879144256,
           0.026505870398764522,
           0.0292460829877643,
           0.03195182749386758,
           0.03462375019365196,
           0.03726248130711298
          ],
          [
           0.001911609552143651,
           0.009866122389138596,
           0.012804640932082108,
           0.01570499689654536,
           0.018567928913080494,
           0.021394156672992947,
           0.024184381531497302,
           0.02693928708801176,
           0.029659539744427657,
           0.03234578924265466,
           0.03499866918188994
          ],
          [
           0.0016218827714535179,
           0.008828930737062517,
           0.01177422831041992,
           0.014681275265933075,
           0.017550811938149603,
           0.020383559678670622,
           0.023180221460705835,
           0.02594148246070619,
           0.028668010617922863,
           0.03136045717319043,
           0.03401945718739136
          ],
          [
           0.0014668164369097993,
           0.008273809435116321,
           0.011222735252269059,
           0.014133363331536225,
           0.017006434919457917,
           0.019842672256252945,
           0.022642779181114528,
           0.02540744171452972,
           0.02813732861857793,
           0.030833091936332883,
           0.033495367511019426
          ],
          [
           0.0013579815121412806,
           0.007884191757542923,
           0.01083566409547205,
           0.013748805623809549,
           0.01662435822920108,
           0.019463044775548704,
           0.02226556970983312,
           0.025032619644965573,
           0.027764863920520237,
           0.030462955142646568,
           0.03312752970362103
          ],
          [
           0.001286027237398823,
           0.007626602959863815,
           0.010579758884705893,
           0.013494562135191148,
           0.016371755021154382,
           0.01921206081883562,
           0.022016184377048057,
           0.024784812700362768,
           0.027518615510160157,
           0.030218245784851293,
           0.0328843402797251
          ],
          [
           0.0012642798013245036,
           0.00754874940730622,
           0.010502414178888904,
           0.013417719667723649,
           0.016295408311541516,
           0.019136203511207463,
           0.021940810236984448,
           0.02470991561181851,
           0.027444189472487272,
           0.03014428490991385,
           0.03281083878910404
          ],
          [
           0.0012044701986754969,
           0.00733463726885232,
           0.010289701466176483,
           0.013206388206392338,
           0.016085440278992957,
           0.018927581427585452,
           0.02173351695644269,
           0.024503934314065123,
           0.027239503654593853,
           0.02994087837838234,
           0.032608695652178325
          ],
          [
           0.0012044701986754969,
           0.00733463726885232,
           0.010289701466176483,
           0.013206388206392338,
           0.016085440278992946,
           0.018927581427585452,
           0.02173351695644269,
           0.024503934314065123,
           0.027239503654593853,
           0.029940878378382357,
           0.032608695652178325
          ],
          [
           0.0012044701986754969,
           0.00733463726885232,
           0.010289701466176483,
           0.013206388206392338,
           0.016085440278992946,
           0.018927581427585452,
           0.02173351695644269,
           0.024503934314065123,
           0.027239503654593853,
           0.029940878378382357,
           0.032608695652178325
          ]
         ]
        },
        {
         "name": "P 2",
         "type": "surface",
         "visible": false,
         "y": [
          90,
          80,
          70,
          60,
          50,
          40,
          29.999999999999993,
          19.999999999999996,
          9.999999999999998,
          0
         ],
         "z": [
          [
           0.00423359334348767,
           0.018178582144771353,
           0.02106277088539039,
           0.023909502629377657,
           0.026719502350870283,
           0.02949347643489134,
           0.03223211326944314,
           0.034936083814957566,
           0.03760604215233638,
           0.040242626010505315,
           0.04284645727417222
          ],
          [
           0.0028308723831979095,
           0.013156987431547902,
           0.01607399705265403,
           0.018953123431918885,
           0.02179509979338712,
           0.024600640560477127,
           0.027370441954730117,
           0.030105182571856917,
           0.03280552393592169,
           0.03547211103295176,
           0.038105572824421216
          ],
          [
           0.0022581125041588896,
           0.011106566811944487,
           0.01403697787500872,
           0.016929331651530842,
           0.019784364734162813,
           0.022602794828555497,
           0.025385321354858735,
           0.02813262602641529,
           0.030845373406488963,
           0.03352421144432813,
           0.03616977199100644
          ],
          [
           0.001937584480454475,
           0.009959109922912645,
           0.012897020704196694,
           0.015796776800010102,
           0.018659116688144173,
           0.021484759911028595,
           0.024274407678853447,
           0.027028743449624953,
           0.02974843348741452,
           0.032434127399739235,
           0.035086458654777455
          ],
          [
           0.0017225855408388524,
           0.009189436146668707,
           0.012132377475519256,
           0.015037098787102972,
           0.017904339823698986,
           0.020734821359825416,
           0.023529245806311647,
           0.026288297791466592,
           0.02901264472018774,
           0.0317029373123163,
           0.034359810120684134
          ],
          [
           0.0015965728090060606,
           0.008738323711714232,
           0.011684213487834725,
           0.014591844955191276,
           0.017461958597154433,
           0.02029527591037407,
           0.023092500009404455,
           0.025854316208463988,
           0.028581392581103305,
           0.0312743804991012,
           0.033933915151029365
          ],
          [
           0.0015351821192052984,
           0.00851855144618739,
           0.011465877642344217,
           0.014374926874931167,
           0.017246439988379873,
           0.02008113883114294,
           0.022879726860614315,
           0.025642889725172487,
           0.028371295824121828,
           0.031065596846850858,
           0.03372642829165016
          ],
          [
           0.0014155629139072851,
           0.008090327169270523,
           0.011040452216918286,
           0.013952263952268546,
           0.016826503923274196,
           0.019663894663898927,
           0.022465140299530808,
           0.025230927129665688,
           0.027961924188335013,
           0.03065878378378788,
           0.03332214201779872
          ],
          [
           0.0014155629139072851,
           0.008090327169270523,
           0.011040452216918286,
           0.013952263952268546,
           0.016826503923274196,
           0.019663894663898927,
           0.022465140299530808,
           0.025230927129665688,
           0.027961924188335013,
           0.030658783783787887,
           0.03332214201779872
          ],
          [
           0.0014155629139072851,
           0.008090327169270523,
           0.011040452216918286,
           0.013952263952268546,
           0.016826503923274196,
           0.019663894663898927,
           0.022465140299530808,
           0.025230927129665688,
           0.027961924188335013,
           0.030658783783787887,
           0.03332214201779872
          ]
         ]
        },
        {
         "name": "P 3",
         "type": "surface",
         "visible": false,
         "y": [
          90,
          80,
          70,
          60,
          50,
          40,
          29.999999999999993,
          19.999999999999996,
          9.999999999999998,
          0
         ],
         "z": [
          [
           0.005918528649965394,
           0.02421047477820255,
           0.02705523938396283,
           0.029863058994842446,
           0.032634648675267476,
           0.03537070515464502,
           0.03807190741136401,
           0.04073891723446117,
           0.04337237976417017,
           0.04597292401226517,
           0.04854116336287765
          ],
          [
           0.003758322866912127,
           0.016477163416395043,
           0.01937247254086823,
           0.02223018024813161,
           0.02505101430755974,
           0.027835683827764014,
           0.030584879850887692,
           0.03329927592436798,
           0.035979528650995504,
           0.03862627821855646,
           0.0412401489094942
          ],
          [
           0.0028950713048447006,
           0.013386812874152079,
           0.016302320368173747,
           0.019179964128506515,
           0.022020477001609622,
           0.02482457304300585,
           0.027592948115713938,
           0.030326280465999198,
           0.03302523127727051,
           0.03569044520341724,
           0.03832255088202667
          ],
          [
           0.0024314104784309283,
           0.01172695548228774,
           0.014653311717432345,
           0.017541663326146727,
           0.020392745881853948,
           0.023207276097086497,
           0.02598595242423581,
           0.02872945563332762,
           0.031438449368075085,
           0.034113580681145665,
           0.036755480549342814
          ],
          [
           0.0020871895695364242,
           0.010494680535802891,
           0.013429090855557178,
           0.016325391950396385,
           0.019184321418196894,
           0.022006597944102126,
           0.024792921902790185,
           0.027543975937967605,
           0.030260425519855246,
           0.032942919481986035,
           0.035592090537747235
          ],
          [
           0.0019109699990354943,
           0.009863832855717701,
           0.012802366362940073,
           0.01570273709732512,
           0.01856568369320985,
           0.02139192584556586,
           0.02418216491316156,
           0.026937084498906458,
           0.029657351008083626,
           0.0323436141859131,
           0.0349965076348176
          ],
          [
           0.001806084437086093,
           0.009488353485059992,
           0.012429341105807177,
           0.015332134082138672,
           0.01819747166520968,
           0.02102607415107842,
           0.023818643484244183,
           0.02657586383852645,
           0.029298402175756386,
           0.03198690878378786,
           0.03464201779419624
          ],
          [
           0.0016266556291390732,
           0.008846017069696928,
           0.01179120296767804,
           0.014698139698135401,
           0.017567567567563364,
           0.020400207900212405,
           0.023196763642627426,
           0.02595791994526629,
           0.02868434472207616,
           0.031376689189193396,
           0.03403558838341048
          ],
          [
           0.0016266556291390732,
           0.008846017069696928,
           0.011791202967678036,
           0.014698139698135401,
           0.017567567567563364,
           0.020400207900212394,
           0.023196763642627426,
           0.02595791994526629,
           0.02868434472207616,
           0.03137668918919339,
           0.03403558838341048
          ],
          [
           0.0016266556291390732,
           0.008846017069696925,
           0.011791202967678036,
           0.014698139698135401,
           0.017567567567563357,
           0.020400207900212394,
           0.023196763642627426,
           0.025957919945266285,
           0.02868434472207616,
           0.0313766891891934,
           0.03403558838341048
          ]
         ]
        },
        {
         "name": "P 4",
         "type": "surface",
         "visible": false,
         "y": [
          90,
          80,
          70,
          60,
          50,
          40,
          29.999999999999993,
          19.999999999999996,
          9.999999999999998,
          0
         ],
         "z": [
          [
           0.0074974472818702025,
           0.029862838775784575,
           0.03267065982599575,
           0.0354420156677714,
           0.03817761207933909,
           0.040878136742023674,
           0.04354425981665747,
           0.046176634497949114,
           0.04877589754801344,
           0.05134266980995942,
           0.05387755670220121
          ],
          [
           0.004627556835508041,
           0.019588930349973943,
           0.022463901128458787,
           0.025301534624114424,
           0.028102553494028105,
           0.030867661865593022,
           0.03359754592670087,
           0.036292874493371895,
           0.038954299556043695,
           0.04158245680543946,
           0.044177966138703055
          ],
          [
           0.0035360818251327095,
           0.015681563669872247,
           0.01858207279267163,
           0.021444912965841355,
           0.024270813265800262,
           0.027060484074733663,
           0.02981461767590176,
           0.03253388882643925,
           0.0352189553083994,
           0.037870458459351795,
           0.0404890236829554
          ],
          [
           0.002926596867971338,
           0.013499671101561271,
           0.016414440960101122,
           0.01929135666464224,
           0.022131150876229994,
           0.02493453746970382,
           0.02770221213205938,
           0.030434852937937042,
           0.03313312090347317,
           0.03579766051944752,
           0.038429100264425385
          ],
          [
           0.0024579553717883865,
           0.011821983431480793,
           0.01474771856892691,
           0.017635457146130247,
           0.020485934580409766,
           0.02329986743220681,
           0.026077954005620085,
           0.028820874926222827,
           0.03152929369686343,
           0.03420385723288803,
           0.03684519637715296
          ],
          [
           0.0022416819195652956,
           0.011047747033061684,
           0.013978542539116462,
           0.016871275765863662,
           0.019726683402596555,
           0.02254548324912334,
           0.025328374817333188,
           0.028076039910013825,
           0.03078914317761159,
           0.03346833265438163,
           0.03611424027428088
          ],
          [
           0.002076986754966888,
           0.01045815552394955,
           0.013392804569279425,
           0.016289341289337123,
           0.019148503342047624,
           0.021971009471013898,
           0.024757560107874044,
           0.027508837951880437,
           0.03022550852739093,
           0.032908220720724884,
           0.03555760729673379
          ],
          [
           0.0018377483443708614,
           0.009601706970123833,
           0.012541953718419957,
           0.015444015444019427,
           0.01830863121185253,
           0.021136521136517112,
           0.023928386985715904,
           0.026684912760858114,
           0.029406765255817306,
           0.03209459459459893,
           0.03474903474903066
          ],
          [
           0.0018377483443708614,
           0.009601706970123833,
           0.012541953718419955,
           0.015444015444019427,
           0.018308631211852527,
           0.021136521136517112,
           0.023928386985715904,
           0.026684912760858118,
           0.029406765255817306,
           0.032094594594598916,
           0.034749034749030676
          ],
          [
           0.0018377483443708614,
           0.009601706970123828,
           0.012541953718419955,
           0.015444015444019427,
           0.018308631211852527,
           0.021136521136517112,
           0.023928386985715904,
           0.026684912760858114,
           0.029406765255817306,
           0.032094594594598916,
           0.034749034749030676
          ]
         ]
        },
        {
         "name": "P 5",
         "type": "surface",
         "visible": false,
         "y": [
          90,
          80,
          70,
          60,
          50,
          40,
          29.999999999999993,
          19.999999999999996,
          9.999999999999998,
          0
         ],
         "z": [
          [
           0.009383858977869731,
           0.03661599586671798,
           0.03937967863530607,
           0.042107469419878335,
           0.04480006290400487,
           0.04745813595884734,
           0.05008234821043549,
           0.05267334258543761,
           0.05523174583620938,
           0.05775816904636269,
           0.060253208117251995
          ],
          [
           0.005568870305723727,
           0.022958734380380885,
           0.025811680295930485,
           0.028627574965815073,
           0.03140713551093496,
           0.03415106066445126,
           0.036860031357413475,
           0.03953471128211783,
           0.042175747434168694,
           0.04478377063432618,
           0.0473593960307643
          ],
          [
           0.0041402938373419,
           0.01784457964530151,
           0.020730951408783786,
           0.023579837824706244,
           0.02639196441589827,
           0.02916803810207461,
           0.03190874779224046,
           0.03461476495469993,
           0.03728674416541308,
           0.03992532363600918,
           0.0425311257218696
          ],
          [
           0.0034234402096371104,
           0.015278318436582169,
           0.018181463149157962,
           0.02104690468364037,
           0.023875372778968472,
           0.02666757846281758,
           0.029424214647501553,
           0.03214595670328168,
           0.03483346300991613,
           0.037487375487733725,
           0.04010832010867661
          ],
          [
           0.0028443068365602772,
           0.013205081373172797,
           0.016121776654790955,
           0.019000592776890632,
           0.021842262884520153,
           0.024647501324111688,
           0.02741700424216223,
           0.030151450161268106,
           0.03285150053420381,
           0.03551780027749523,
           0.0381509782848285
          ],
          [
           0.002572393840095097,
           0.012231661210388422,
           0.01515471871529285,
           0.018039814434402203,
           0.020887683111983274,
           0.023699040652680824,
           0.026474584721504803,
           0.02921499532112119,
           0.03192093534713954,
           0.03459305112285014,
           0.037231972913752624
          ],
          [
           0.0023478890728476825,
           0.011427957562830098,
           0.014356268032734631,
           0.017246548496544074,
           0.020099535018885565,
           0.022915944790949376,
           0.025696476731512544,
           0.028441812065225856,
           0.031152614879025497,
           0.033829532657661913,
           0.036473196799279725
          ],
          [
           0.0020488410596026492,
           0.010357396870559232,
           0.013292704469179224,
           0.016189891189895503,
           0.01904969485615051,
           0.021872834372830146,
           0.024660010328804383,
           0.02741190557645839,
           0.030129185789567147,
           0.03281250000000446,
           0.03546248111465083
          ],
          [
           0.0020488410596026492,
           0.010357396870559232,
           0.013292704469179219,
           0.0161898911898955,
           0.019049694856150524,
           0.021872834372830156,
           0.024660010328804383,
           0.02741190557645839,
           0.030129185789567147,
           0.03281250000000445,
           0.03546248111465085
          ],
          [
           0.0020488410596026492,
           0.010357396870559225,
           0.013292704469179219,
           0.0161898911898955,
           0.019049694856150524,
           0.02187283437283015,
           0.024660010328804383,
           0.027411905576458367,
           0.030129185789567147,
           0.03281250000000445,
           0.035462481114650835
          ]
         ]
        },
        {
         "name": "P 6",
         "type": "surface",
         "visible": false,
         "y": [
          90,
          80,
          70,
          60,
          50,
          40,
          29.999999999999993,
          19.999999999999996,
          9.999999999999998,
          0
         ],
         "z": [
          [
           0.011647948205043236,
           0.044721199121890425,
           0.047431906705796244,
           0.05010741029510566,
           0.052748391257464715,
           0.05535551348952029,
           0.05792942397340572,
           0.06047075331193311,
           0.06298011624367052,
           0.06545811213876858,
           0.06790532547617312
          ],
          [
           0.006541339752676004,
           0.02644007355746524,
           0.029270265622184367,
           0.03206370194581177,
           0.03482109392976212,
           0.03754313473443974,
           0.04023049986008541,
           0.04288384770564203,
           0.04550382010661853,
           0.04809104285256487,
           0.050646126185535545
          ],
          [
           0.0047899180479966,
           0.02017016655399857,
           0.023041338403053894,
           0.025875222306009426,
           0.028672539965063942,
           0.031433994577215865,
           0.0341602714235908,
           0.03685203843648493,
           0.03950994674479678,
           0.04213463119927185,
           0.04472671087789852
          ],
          [
           0.00389288382957836,
           0.01695887762604323,
           0.01985103829162142,
           0.02270563842907469,
           0.025523405016367684,
           0.028305046391002675,
           0.03105125284365982,
           0.033762697189337804,
           0.03644003531681457,
           0.03908390671771413,
           0.041694934995613664
          ],
          [
           0.003232018692896125,
           0.014593049374762804,
           0.017500672970079303,
           0.0203705352200099,
           0.023203366989296793,
           0.02599988040256746,
           0.028760769441154264,
           0.031486710517211566,
           0.03417836302628175,
           0.036836369878997834,
           0.03946135801302969
          ],
          [
           0.0028964685561087096,
           0.013391814887922735,
           0.01630728968903607,
           0.01918490118105133,
           0.022025382202202435,
           0.024829446800014136,
           0.027597790829691556,
           0.030331092529880633,
           0.03303001307659853,
           0.03569519711650006,
           0.038327273280112754
          ],
          [
           0.002618791390728477,
           0.012397759601702776,
           0.015319731496197734,
           0.01820375570375969,
           0.021050566695723506,
           0.023860880110876097,
           0.026635393355142655,
           0.02937478617857963,
           0.03207972123066008,
           0.03475084459459893,
           0.0373887863018257
          ],
          [
           0.0022599337748344375,
           0.011113086770976973,
           0.014043455219921884,
           0.016935766935762982,
           0.019790758500440205,
           0.02260914760914318,
           0.025391633671892865,
           0.028138898392058652,
           0.030851606323308564,
           0.03353040540540999,
           0.03617592748027101
          ],
          [
           0.0022599337748344375,
           0.011113086770976973,
           0.014043455219921886,
           0.016935766935762986,
           0.01979075850044021,
           0.022609147609143183,
           0.025391633671892865,
           0.028138898392058652,
           0.030851606323308564,
           0.03353040540540998,
           0.03617592748027103
          ],
          [
           0.0022599337748344375,
           0.011113086770976964,
           0.014043455219921881,
           0.016935766935762986,
           0.019790758500440212,
           0.022609147609143183,
           0.025391633671892865,
           0.02813889839205865,
           0.030851606323308564,
           0.03353040540540998,
           0.03617592748027103
          ]
         ]
        }
       ],
       "layout": {
        "autosize": true,
        "scene": {
         "xaxis": {
          "title": {
           "text": "ammount of supporting pages"
          }
         },
         "yaxis": {
          "title": {
           "text": "percentile of pagerank gained from accessible pages"
          }
         },
         "zaxis": {
          "title": {
           "text": "Pagerank"
          }
         }
        },
        "sliders": [
         {
          "active": 10,
          "currentvalue": {
           "prefix": "Amount of accessible pages: "
          },
          "pad": {
           "t": 50
          },
          "steps": [
           {
            "args": [
             "visible",
             [
              true,
              false,
              false,
              false,
              false,
              false,
              false
             ]
            ],
            "method": "restyle"
           },
           {
            "args": [
             "visible",
             [
              false,
              true,
              false,
              false,
              false,
              false,
              false
             ]
            ],
            "method": "restyle"
           },
           {
            "args": [
             "visible",
             [
              false,
              false,
              true,
              false,
              false,
              false,
              false
             ]
            ],
            "method": "restyle"
           },
           {
            "args": [
             "visible",
             [
              false,
              false,
              false,
              true,
              false,
              false,
              false
             ]
            ],
            "method": "restyle"
           },
           {
            "args": [
             "visible",
             [
              false,
              false,
              false,
              false,
              true,
              false,
              false
             ]
            ],
            "method": "restyle"
           },
           {
            "args": [
             "visible",
             [
              false,
              false,
              false,
              false,
              false,
              true,
              false
             ]
            ],
            "method": "restyle"
           },
           {
            "args": [
             "visible",
             [
              false,
              false,
              false,
              false,
              false,
              false,
              true
             ]
            ],
            "method": "restyle"
           }
          ]
         }
        ],
        "template": {
         "data": {
          "bar": [
           {
            "error_x": {
             "color": "#2a3f5f"
            },
            "error_y": {
             "color": "#2a3f5f"
            },
            "marker": {
             "line": {
              "color": "#E5ECF6",
              "width": 0.5
             }
            },
            "type": "bar"
           }
          ],
          "barpolar": [
           {
            "marker": {
             "line": {
              "color": "#E5ECF6",
              "width": 0.5
             }
            },
            "type": "barpolar"
           }
          ],
          "carpet": [
           {
            "aaxis": {
             "endlinecolor": "#2a3f5f",
             "gridcolor": "white",
             "linecolor": "white",
             "minorgridcolor": "white",
             "startlinecolor": "#2a3f5f"
            },
            "baxis": {
             "endlinecolor": "#2a3f5f",
             "gridcolor": "white",
             "linecolor": "white",
             "minorgridcolor": "white",
             "startlinecolor": "#2a3f5f"
            },
            "type": "carpet"
           }
          ],
          "choropleth": [
           {
            "colorbar": {
             "outlinewidth": 0,
             "ticks": ""
            },
            "type": "choropleth"
           }
          ],
          "contour": [
           {
            "colorbar": {
             "outlinewidth": 0,
             "ticks": ""
            },
            "colorscale": [
             [
              0,
              "#0d0887"
             ],
             [
              0.1111111111111111,
              "#46039f"
             ],
             [
              0.2222222222222222,
              "#7201a8"
             ],
             [
              0.3333333333333333,
              "#9c179e"
             ],
             [
              0.4444444444444444,
              "#bd3786"
             ],
             [
              0.5555555555555556,
              "#d8576b"
             ],
             [
              0.6666666666666666,
              "#ed7953"
             ],
             [
              0.7777777777777778,
              "#fb9f3a"
             ],
             [
              0.8888888888888888,
              "#fdca26"
             ],
             [
              1,
              "#f0f921"
             ]
            ],
            "type": "contour"
           }
          ],
          "contourcarpet": [
           {
            "colorbar": {
             "outlinewidth": 0,
             "ticks": ""
            },
            "type": "contourcarpet"
           }
          ],
          "heatmap": [
           {
            "colorbar": {
             "outlinewidth": 0,
             "ticks": ""
            },
            "colorscale": [
             [
              0,
              "#0d0887"
             ],
             [
              0.1111111111111111,
              "#46039f"
             ],
             [
              0.2222222222222222,
              "#7201a8"
             ],
             [
              0.3333333333333333,
              "#9c179e"
             ],
             [
              0.4444444444444444,
              "#bd3786"
             ],
             [
              0.5555555555555556,
              "#d8576b"
             ],
             [
              0.6666666666666666,
              "#ed7953"
             ],
             [
              0.7777777777777778,
              "#fb9f3a"
             ],
             [
              0.8888888888888888,
              "#fdca26"
             ],
             [
              1,
              "#f0f921"
             ]
            ],
            "type": "heatmap"
           }
          ],
          "heatmapgl": [
           {
            "colorbar": {
             "outlinewidth": 0,
             "ticks": ""
            },
            "colorscale": [
             [
              0,
              "#0d0887"
             ],
             [
              0.1111111111111111,
              "#46039f"
             ],
             [
              0.2222222222222222,
              "#7201a8"
             ],
             [
              0.3333333333333333,
              "#9c179e"
             ],
             [
              0.4444444444444444,
              "#bd3786"
             ],
             [
              0.5555555555555556,
              "#d8576b"
             ],
             [
              0.6666666666666666,
              "#ed7953"
             ],
             [
              0.7777777777777778,
              "#fb9f3a"
             ],
             [
              0.8888888888888888,
              "#fdca26"
             ],
             [
              1,
              "#f0f921"
             ]
            ],
            "type": "heatmapgl"
           }
          ],
          "histogram": [
           {
            "marker": {
             "colorbar": {
              "outlinewidth": 0,
              "ticks": ""
             }
            },
            "type": "histogram"
           }
          ],
          "histogram2d": [
           {
            "colorbar": {
             "outlinewidth": 0,
             "ticks": ""
            },
            "colorscale": [
             [
              0,
              "#0d0887"
             ],
             [
              0.1111111111111111,
              "#46039f"
             ],
             [
              0.2222222222222222,
              "#7201a8"
             ],
             [
              0.3333333333333333,
              "#9c179e"
             ],
             [
              0.4444444444444444,
              "#bd3786"
             ],
             [
              0.5555555555555556,
              "#d8576b"
             ],
             [
              0.6666666666666666,
              "#ed7953"
             ],
             [
              0.7777777777777778,
              "#fb9f3a"
             ],
             [
              0.8888888888888888,
              "#fdca26"
             ],
             [
              1,
              "#f0f921"
             ]
            ],
            "type": "histogram2d"
           }
          ],
          "histogram2dcontour": [
           {
            "colorbar": {
             "outlinewidth": 0,
             "ticks": ""
            },
            "colorscale": [
             [
              0,
              "#0d0887"
             ],
             [
              0.1111111111111111,
              "#46039f"
             ],
             [
              0.2222222222222222,
              "#7201a8"
             ],
             [
              0.3333333333333333,
              "#9c179e"
             ],
             [
              0.4444444444444444,
              "#bd3786"
             ],
             [
              0.5555555555555556,
              "#d8576b"
             ],
             [
              0.6666666666666666,
              "#ed7953"
             ],
             [
              0.7777777777777778,
              "#fb9f3a"
             ],
             [
              0.8888888888888888,
              "#fdca26"
             ],
             [
              1,
              "#f0f921"
             ]
            ],
            "type": "histogram2dcontour"
           }
          ],
          "mesh3d": [
           {
            "colorbar": {
             "outlinewidth": 0,
             "ticks": ""
            },
            "type": "mesh3d"
           }
          ],
          "parcoords": [
           {
            "line": {
             "colorbar": {
              "outlinewidth": 0,
              "ticks": ""
             }
            },
            "type": "parcoords"
           }
          ],
          "pie": [
           {
            "automargin": true,
            "type": "pie"
           }
          ],
          "scatter": [
           {
            "marker": {
             "colorbar": {
              "outlinewidth": 0,
              "ticks": ""
             }
            },
            "type": "scatter"
           }
          ],
          "scatter3d": [
           {
            "line": {
             "colorbar": {
              "outlinewidth": 0,
              "ticks": ""
             }
            },
            "marker": {
             "colorbar": {
              "outlinewidth": 0,
              "ticks": ""
             }
            },
            "type": "scatter3d"
           }
          ],
          "scattercarpet": [
           {
            "marker": {
             "colorbar": {
              "outlinewidth": 0,
              "ticks": ""
             }
            },
            "type": "scattercarpet"
           }
          ],
          "scattergeo": [
           {
            "marker": {
             "colorbar": {
              "outlinewidth": 0,
              "ticks": ""
             }
            },
            "type": "scattergeo"
           }
          ],
          "scattergl": [
           {
            "marker": {
             "colorbar": {
              "outlinewidth": 0,
              "ticks": ""
             }
            },
            "type": "scattergl"
           }
          ],
          "scattermapbox": [
           {
            "marker": {
             "colorbar": {
              "outlinewidth": 0,
              "ticks": ""
             }
            },
            "type": "scattermapbox"
           }
          ],
          "scatterpolar": [
           {
            "marker": {
             "colorbar": {
              "outlinewidth": 0,
              "ticks": ""
             }
            },
            "type": "scatterpolar"
           }
          ],
          "scatterpolargl": [
           {
            "marker": {
             "colorbar": {
              "outlinewidth": 0,
              "ticks": ""
             }
            },
            "type": "scatterpolargl"
           }
          ],
          "scatterternary": [
           {
            "marker": {
             "colorbar": {
              "outlinewidth": 0,
              "ticks": ""
             }
            },
            "type": "scatterternary"
           }
          ],
          "surface": [
           {
            "colorbar": {
             "outlinewidth": 0,
             "ticks": ""
            },
            "colorscale": [
             [
              0,
              "#0d0887"
             ],
             [
              0.1111111111111111,
              "#46039f"
             ],
             [
              0.2222222222222222,
              "#7201a8"
             ],
             [
              0.3333333333333333,
              "#9c179e"
             ],
             [
              0.4444444444444444,
              "#bd3786"
             ],
             [
              0.5555555555555556,
              "#d8576b"
             ],
             [
              0.6666666666666666,
              "#ed7953"
             ],
             [
              0.7777777777777778,
              "#fb9f3a"
             ],
             [
              0.8888888888888888,
              "#fdca26"
             ],
             [
              1,
              "#f0f921"
             ]
            ],
            "type": "surface"
           }
          ],
          "table": [
           {
            "cells": {
             "fill": {
              "color": "#EBF0F8"
             },
             "line": {
              "color": "white"
             }
            },
            "header": {
             "fill": {
              "color": "#C8D4E3"
             },
             "line": {
              "color": "white"
             }
            },
            "type": "table"
           }
          ]
         },
         "layout": {
          "annotationdefaults": {
           "arrowcolor": "#2a3f5f",
           "arrowhead": 0,
           "arrowwidth": 1
          },
          "coloraxis": {
           "colorbar": {
            "outlinewidth": 0,
            "ticks": ""
           }
          },
          "colorscale": {
           "diverging": [
            [
             0,
             "#8e0152"
            ],
            [
             0.1,
             "#c51b7d"
            ],
            [
             0.2,
             "#de77ae"
            ],
            [
             0.3,
             "#f1b6da"
            ],
            [
             0.4,
             "#fde0ef"
            ],
            [
             0.5,
             "#f7f7f7"
            ],
            [
             0.6,
             "#e6f5d0"
            ],
            [
             0.7,
             "#b8e186"
            ],
            [
             0.8,
             "#7fbc41"
            ],
            [
             0.9,
             "#4d9221"
            ],
            [
             1,
             "#276419"
            ]
           ],
           "sequential": [
            [
             0,
             "#0d0887"
            ],
            [
             0.1111111111111111,
             "#46039f"
            ],
            [
             0.2222222222222222,
             "#7201a8"
            ],
            [
             0.3333333333333333,
             "#9c179e"
            ],
            [
             0.4444444444444444,
             "#bd3786"
            ],
            [
             0.5555555555555556,
             "#d8576b"
            ],
            [
             0.6666666666666666,
             "#ed7953"
            ],
            [
             0.7777777777777778,
             "#fb9f3a"
            ],
            [
             0.8888888888888888,
             "#fdca26"
            ],
            [
             1,
             "#f0f921"
            ]
           ],
           "sequentialminus": [
            [
             0,
             "#0d0887"
            ],
            [
             0.1111111111111111,
             "#46039f"
            ],
            [
             0.2222222222222222,
             "#7201a8"
            ],
            [
             0.3333333333333333,
             "#9c179e"
            ],
            [
             0.4444444444444444,
             "#bd3786"
            ],
            [
             0.5555555555555556,
             "#d8576b"
            ],
            [
             0.6666666666666666,
             "#ed7953"
            ],
            [
             0.7777777777777778,
             "#fb9f3a"
            ],
            [
             0.8888888888888888,
             "#fdca26"
            ],
            [
             1,
             "#f0f921"
            ]
           ]
          },
          "colorway": [
           "#636efa",
           "#EF553B",
           "#00cc96",
           "#ab63fa",
           "#FFA15A",
           "#19d3f3",
           "#FF6692",
           "#B6E880",
           "#FF97FF",
           "#FECB52"
          ],
          "font": {
           "color": "#2a3f5f"
          },
          "geo": {
           "bgcolor": "white",
           "lakecolor": "white",
           "landcolor": "#E5ECF6",
           "showlakes": true,
           "showland": true,
           "subunitcolor": "white"
          },
          "hoverlabel": {
           "align": "left"
          },
          "hovermode": "closest",
          "mapbox": {
           "style": "light"
          },
          "paper_bgcolor": "white",
          "plot_bgcolor": "#E5ECF6",
          "polar": {
           "angularaxis": {
            "gridcolor": "white",
            "linecolor": "white",
            "ticks": ""
           },
           "bgcolor": "#E5ECF6",
           "radialaxis": {
            "gridcolor": "white",
            "linecolor": "white",
            "ticks": ""
           }
          },
          "scene": {
           "xaxis": {
            "backgroundcolor": "#E5ECF6",
            "gridcolor": "white",
            "gridwidth": 2,
            "linecolor": "white",
            "showbackground": true,
            "ticks": "",
            "zerolinecolor": "white"
           },
           "yaxis": {
            "backgroundcolor": "#E5ECF6",
            "gridcolor": "white",
            "gridwidth": 2,
            "linecolor": "white",
            "showbackground": true,
            "ticks": "",
            "zerolinecolor": "white"
           },
           "zaxis": {
            "backgroundcolor": "#E5ECF6",
            "gridcolor": "white",
            "gridwidth": 2,
            "linecolor": "white",
            "showbackground": true,
            "ticks": "",
            "zerolinecolor": "white"
           }
          },
          "shapedefaults": {
           "line": {
            "color": "#2a3f5f"
           }
          },
          "ternary": {
           "aaxis": {
            "gridcolor": "white",
            "linecolor": "white",
            "ticks": ""
           },
           "baxis": {
            "gridcolor": "white",
            "linecolor": "white",
            "ticks": ""
           },
           "bgcolor": "#E5ECF6",
           "caxis": {
            "gridcolor": "white",
            "linecolor": "white",
            "ticks": ""
           }
          },
          "title": {
           "x": 0.05
          },
          "xaxis": {
           "automargin": true,
           "gridcolor": "white",
           "linecolor": "white",
           "ticks": "",
           "title": {
            "standoff": 15
           },
           "zerolinecolor": "white",
           "zerolinewidth": 2
          },
          "yaxis": {
           "automargin": true,
           "gridcolor": "white",
           "linecolor": "white",
           "ticks": "",
           "title": {
            "standoff": 15
           },
           "zerolinecolor": "white",
           "zerolinewidth": 2
          }
         }
        },
        "title": {
         "text": "Pagerank of T based on f and r"
        }
       }
      },
      "text/html": [
       "<div>\n",
       "        \n",
       "        \n",
       "            <div id=\"7a5be985-b4bf-4807-a506-6dbca33c81cd\" class=\"plotly-graph-div\" style=\"height:525px; width:100%;\"></div>\n",
       "            <script type=\"text/javascript\">\n",
       "                require([\"plotly\"], function(Plotly) {\n",
       "                    window.PLOTLYENV=window.PLOTLYENV || {};\n",
       "                    \n",
       "                if (document.getElementById(\"7a5be985-b4bf-4807-a506-6dbca33c81cd\")) {\n",
       "                    Plotly.newPlot(\n",
       "                        '7a5be985-b4bf-4807-a506-6dbca33c81cd',\n",
       "                        [{\"name\": \"P 0\", \"type\": \"surface\", \"visible\": true, \"y\": [90.0, 80.0, 70.0, 60.0, 50.0, 40.0, 29.999999999999993, 19.999999999999996, 9.999999999999998, 0.0], \"z\": [[0.0009933774834437088, 0.006578947368421052, 0.009538950715417134, 0.012460512460508135, 0.015344376634703167, 0.01819126819126374, 0.02100189361335458, 0.023776941498464536, 0.02651708312085272, 0.02922297297296845, 0.03189524928655794], [0.0009933774834437088, 0.006578947368421052, 0.009538950715417134, 0.012460512460508135, 0.015344376634703167, 0.01819126819126374, 0.02100189361335458, 0.023776941498464536, 0.02651708312085272, 0.02922297297296845, 0.03189524928655794], [0.0009933774834437088, 0.006578947368421052, 0.009538950715417134, 0.012460512460508135, 0.015344376634703167, 0.01819126819126374, 0.02100189361335458, 0.023776941498464536, 0.02651708312085272, 0.02922297297296845, 0.03189524928655794], [0.0009933774834437088, 0.006578947368421052, 0.009538950715417134, 0.012460512460508135, 0.015344376634703167, 0.01819126819126374, 0.02100189361335458, 0.023776941498464536, 0.02651708312085272, 0.02922297297296845, 0.03189524928655794], [0.0009933774834437088, 0.006578947368421052, 0.009538950715417134, 0.012460512460508135, 0.015344376634703167, 0.01819126819126374, 0.02100189361335458, 0.023776941498464536, 0.02651708312085272, 0.02922297297296845, 0.03189524928655794], [0.0009933774834437088, 0.006578947368421052, 0.009538950715417134, 0.012460512460508135, 0.015344376634703167, 0.01819126819126374, 0.02100189361335458, 0.023776941498464536, 0.02651708312085272, 0.02922297297296845, 0.03189524928655794], [0.0009933774834437088, 0.006578947368421052, 0.009538950715417134, 0.012460512460508135, 0.015344376634703167, 0.01819126819126374, 0.02100189361335458, 0.023776941498464536, 0.02651708312085272, 0.02922297297296845, 0.03189524928655794], [0.0009933774834437088, 0.006578947368421052, 0.009538950715417134, 0.012460512460508135, 0.015344376634703167, 0.01819126819126374, 0.02100189361335458, 0.023776941498464536, 0.02651708312085272, 0.02922297297296845, 0.03189524928655794], [0.0009933774834437088, 0.006578947368421052, 0.009538950715417134, 0.012460512460508135, 0.015344376634703167, 0.01819126819126374, 0.02100189361335458, 0.023776941498464536, 0.02651708312085272, 0.02922297297296845, 0.03189524928655794], [0.0009933774834437088, 0.006578947368421052, 0.009538950715417134, 0.012460512460508135, 0.015344376634703167, 0.01819126819126374, 0.02100189361335458, 0.023776941498464536, 0.02651708312085272, 0.02922297297296845, 0.03189524928655794]]}, {\"name\": \"P 1\", \"type\": \"surface\", \"visible\": false, \"y\": [90.0, 80.0, 70.0, 60.0, 50.0, 40.0, 29.999999999999993, 19.999999999999996, 9.999999999999998, 0.0], \"z\": [[0.002581420586744028, 0.012263976021776025, 0.015186822318746275, 0.018071709572906585, 0.02091937247540875, 0.023730526879144256, 0.026505870398764522, 0.0292460829877643, 0.03195182749386758, 0.03462375019365196, 0.03726248130711298], [0.001911609552143651, 0.009866122389138596, 0.012804640932082108, 0.01570499689654536, 0.018567928913080494, 0.021394156672992947, 0.024184381531497302, 0.02693928708801176, 0.029659539744427657, 0.03234578924265466, 0.03499866918188994], [0.0016218827714535179, 0.008828930737062517, 0.01177422831041992, 0.014681275265933075, 0.017550811938149603, 0.020383559678670622, 0.023180221460705835, 0.02594148246070619, 0.028668010617922863, 0.03136045717319043, 0.03401945718739136], [0.0014668164369097993, 0.008273809435116321, 0.011222735252269059, 0.014133363331536225, 0.017006434919457917, 0.019842672256252945, 0.022642779181114528, 0.02540744171452972, 0.02813732861857793, 0.030833091936332883, 0.033495367511019426], [0.0013579815121412806, 0.007884191757542923, 0.01083566409547205, 0.013748805623809549, 0.01662435822920108, 0.019463044775548704, 0.02226556970983312, 0.025032619644965573, 0.027764863920520237, 0.030462955142646568, 0.03312752970362103], [0.001286027237398823, 0.007626602959863815, 0.010579758884705893, 0.013494562135191148, 0.016371755021154382, 0.01921206081883562, 0.022016184377048057, 0.024784812700362768, 0.027518615510160157, 0.030218245784851293, 0.0328843402797251], [0.0012642798013245036, 0.00754874940730622, 0.010502414178888904, 0.013417719667723649, 0.016295408311541516, 0.019136203511207463, 0.021940810236984448, 0.02470991561181851, 0.027444189472487272, 0.03014428490991385, 0.03281083878910404], [0.0012044701986754969, 0.00733463726885232, 0.010289701466176483, 0.013206388206392338, 0.016085440278992957, 0.018927581427585452, 0.02173351695644269, 0.024503934314065123, 0.027239503654593853, 0.02994087837838234, 0.032608695652178325], [0.0012044701986754969, 0.00733463726885232, 0.010289701466176483, 0.013206388206392338, 0.016085440278992946, 0.018927581427585452, 0.02173351695644269, 0.024503934314065123, 0.027239503654593853, 0.029940878378382357, 0.032608695652178325], [0.0012044701986754969, 0.00733463726885232, 0.010289701466176483, 0.013206388206392338, 0.016085440278992946, 0.018927581427585452, 0.02173351695644269, 0.024503934314065123, 0.027239503654593853, 0.029940878378382357, 0.032608695652178325]]}, {\"name\": \"P 2\", \"type\": \"surface\", \"visible\": false, \"y\": [90.0, 80.0, 70.0, 60.0, 50.0, 40.0, 29.999999999999993, 19.999999999999996, 9.999999999999998, 0.0], \"z\": [[0.00423359334348767, 0.018178582144771353, 0.02106277088539039, 0.023909502629377657, 0.026719502350870283, 0.02949347643489134, 0.03223211326944314, 0.034936083814957566, 0.03760604215233638, 0.040242626010505315, 0.04284645727417222], [0.0028308723831979095, 0.013156987431547902, 0.01607399705265403, 0.018953123431918885, 0.02179509979338712, 0.024600640560477127, 0.027370441954730117, 0.030105182571856917, 0.03280552393592169, 0.03547211103295176, 0.038105572824421216], [0.0022581125041588896, 0.011106566811944487, 0.01403697787500872, 0.016929331651530842, 0.019784364734162813, 0.022602794828555497, 0.025385321354858735, 0.02813262602641529, 0.030845373406488963, 0.03352421144432813, 0.03616977199100644], [0.001937584480454475, 0.009959109922912645, 0.012897020704196694, 0.015796776800010102, 0.018659116688144173, 0.021484759911028595, 0.024274407678853447, 0.027028743449624953, 0.02974843348741452, 0.032434127399739235, 0.035086458654777455], [0.0017225855408388524, 0.009189436146668707, 0.012132377475519256, 0.015037098787102972, 0.017904339823698986, 0.020734821359825416, 0.023529245806311647, 0.026288297791466592, 0.02901264472018774, 0.0317029373123163, 0.034359810120684134], [0.0015965728090060606, 0.008738323711714232, 0.011684213487834725, 0.014591844955191276, 0.017461958597154433, 0.02029527591037407, 0.023092500009404455, 0.025854316208463988, 0.028581392581103305, 0.0312743804991012, 0.033933915151029365], [0.0015351821192052984, 0.00851855144618739, 0.011465877642344217, 0.014374926874931167, 0.017246439988379873, 0.02008113883114294, 0.022879726860614315, 0.025642889725172487, 0.028371295824121828, 0.031065596846850858, 0.03372642829165016], [0.0014155629139072851, 0.008090327169270523, 0.011040452216918286, 0.013952263952268546, 0.016826503923274196, 0.019663894663898927, 0.022465140299530808, 0.025230927129665688, 0.027961924188335013, 0.03065878378378788, 0.03332214201779872], [0.0014155629139072851, 0.008090327169270523, 0.011040452216918286, 0.013952263952268546, 0.016826503923274196, 0.019663894663898927, 0.022465140299530808, 0.025230927129665688, 0.027961924188335013, 0.030658783783787887, 0.03332214201779872], [0.0014155629139072851, 0.008090327169270523, 0.011040452216918286, 0.013952263952268546, 0.016826503923274196, 0.019663894663898927, 0.022465140299530808, 0.025230927129665688, 0.027961924188335013, 0.030658783783787887, 0.03332214201779872]]}, {\"name\": \"P 3\", \"type\": \"surface\", \"visible\": false, \"y\": [90.0, 80.0, 70.0, 60.0, 50.0, 40.0, 29.999999999999993, 19.999999999999996, 9.999999999999998, 0.0], \"z\": [[0.005918528649965394, 0.02421047477820255, 0.02705523938396283, 0.029863058994842446, 0.032634648675267476, 0.03537070515464502, 0.03807190741136401, 0.04073891723446117, 0.04337237976417017, 0.04597292401226517, 0.04854116336287765], [0.003758322866912127, 0.016477163416395043, 0.01937247254086823, 0.02223018024813161, 0.02505101430755974, 0.027835683827764014, 0.030584879850887692, 0.03329927592436798, 0.035979528650995504, 0.03862627821855646, 0.0412401489094942], [0.0028950713048447006, 0.013386812874152079, 0.016302320368173747, 0.019179964128506515, 0.022020477001609622, 0.02482457304300585, 0.027592948115713938, 0.030326280465999198, 0.03302523127727051, 0.03569044520341724, 0.03832255088202667], [0.0024314104784309283, 0.01172695548228774, 0.014653311717432345, 0.017541663326146727, 0.020392745881853948, 0.023207276097086497, 0.02598595242423581, 0.02872945563332762, 0.031438449368075085, 0.034113580681145665, 0.036755480549342814], [0.0020871895695364242, 0.010494680535802891, 0.013429090855557178, 0.016325391950396385, 0.019184321418196894, 0.022006597944102126, 0.024792921902790185, 0.027543975937967605, 0.030260425519855246, 0.032942919481986035, 0.035592090537747235], [0.0019109699990354943, 0.009863832855717701, 0.012802366362940073, 0.01570273709732512, 0.01856568369320985, 0.02139192584556586, 0.02418216491316156, 0.026937084498906458, 0.029657351008083626, 0.0323436141859131, 0.0349965076348176], [0.001806084437086093, 0.009488353485059992, 0.012429341105807177, 0.015332134082138672, 0.01819747166520968, 0.02102607415107842, 0.023818643484244183, 0.02657586383852645, 0.029298402175756386, 0.03198690878378786, 0.03464201779419624], [0.0016266556291390732, 0.008846017069696928, 0.01179120296767804, 0.014698139698135401, 0.017567567567563364, 0.020400207900212405, 0.023196763642627426, 0.02595791994526629, 0.02868434472207616, 0.031376689189193396, 0.03403558838341048], [0.0016266556291390732, 0.008846017069696928, 0.011791202967678036, 0.014698139698135401, 0.017567567567563364, 0.020400207900212394, 0.023196763642627426, 0.02595791994526629, 0.02868434472207616, 0.03137668918919339, 0.03403558838341048], [0.0016266556291390732, 0.008846017069696925, 0.011791202967678036, 0.014698139698135401, 0.017567567567563357, 0.020400207900212394, 0.023196763642627426, 0.025957919945266285, 0.02868434472207616, 0.0313766891891934, 0.03403558838341048]]}, {\"name\": \"P 4\", \"type\": \"surface\", \"visible\": false, \"y\": [90.0, 80.0, 70.0, 60.0, 50.0, 40.0, 29.999999999999993, 19.999999999999996, 9.999999999999998, 0.0], \"z\": [[0.0074974472818702025, 0.029862838775784575, 0.03267065982599575, 0.0354420156677714, 0.03817761207933909, 0.040878136742023674, 0.04354425981665747, 0.046176634497949114, 0.04877589754801344, 0.05134266980995942, 0.05387755670220121], [0.004627556835508041, 0.019588930349973943, 0.022463901128458787, 0.025301534624114424, 0.028102553494028105, 0.030867661865593022, 0.03359754592670087, 0.036292874493371895, 0.038954299556043695, 0.04158245680543946, 0.044177966138703055], [0.0035360818251327095, 0.015681563669872247, 0.01858207279267163, 0.021444912965841355, 0.024270813265800262, 0.027060484074733663, 0.02981461767590176, 0.03253388882643925, 0.0352189553083994, 0.037870458459351795, 0.0404890236829554], [0.002926596867971338, 0.013499671101561271, 0.016414440960101122, 0.01929135666464224, 0.022131150876229994, 0.02493453746970382, 0.02770221213205938, 0.030434852937937042, 0.03313312090347317, 0.03579766051944752, 0.038429100264425385], [0.0024579553717883865, 0.011821983431480793, 0.01474771856892691, 0.017635457146130247, 0.020485934580409766, 0.02329986743220681, 0.026077954005620085, 0.028820874926222827, 0.03152929369686343, 0.03420385723288803, 0.03684519637715296], [0.0022416819195652956, 0.011047747033061684, 0.013978542539116462, 0.016871275765863662, 0.019726683402596555, 0.02254548324912334, 0.025328374817333188, 0.028076039910013825, 0.03078914317761159, 0.03346833265438163, 0.03611424027428088], [0.002076986754966888, 0.01045815552394955, 0.013392804569279425, 0.016289341289337123, 0.019148503342047624, 0.021971009471013898, 0.024757560107874044, 0.027508837951880437, 0.03022550852739093, 0.032908220720724884, 0.03555760729673379], [0.0018377483443708614, 0.009601706970123833, 0.012541953718419957, 0.015444015444019427, 0.01830863121185253, 0.021136521136517112, 0.023928386985715904, 0.026684912760858114, 0.029406765255817306, 0.03209459459459893, 0.03474903474903066], [0.0018377483443708614, 0.009601706970123833, 0.012541953718419955, 0.015444015444019427, 0.018308631211852527, 0.021136521136517112, 0.023928386985715904, 0.026684912760858118, 0.029406765255817306, 0.032094594594598916, 0.034749034749030676], [0.0018377483443708614, 0.009601706970123828, 0.012541953718419955, 0.015444015444019427, 0.018308631211852527, 0.021136521136517112, 0.023928386985715904, 0.026684912760858114, 0.029406765255817306, 0.032094594594598916, 0.034749034749030676]]}, {\"name\": \"P 5\", \"type\": \"surface\", \"visible\": false, \"y\": [90.0, 80.0, 70.0, 60.0, 50.0, 40.0, 29.999999999999993, 19.999999999999996, 9.999999999999998, 0.0], \"z\": [[0.009383858977869731, 0.03661599586671798, 0.03937967863530607, 0.042107469419878335, 0.04480006290400487, 0.04745813595884734, 0.05008234821043549, 0.05267334258543761, 0.05523174583620938, 0.05775816904636269, 0.060253208117251995], [0.005568870305723727, 0.022958734380380885, 0.025811680295930485, 0.028627574965815073, 0.03140713551093496, 0.03415106066445126, 0.036860031357413475, 0.03953471128211783, 0.042175747434168694, 0.04478377063432618, 0.0473593960307643], [0.0041402938373419, 0.01784457964530151, 0.020730951408783786, 0.023579837824706244, 0.02639196441589827, 0.02916803810207461, 0.03190874779224046, 0.03461476495469993, 0.03728674416541308, 0.03992532363600918, 0.0425311257218696], [0.0034234402096371104, 0.015278318436582169, 0.018181463149157962, 0.02104690468364037, 0.023875372778968472, 0.02666757846281758, 0.029424214647501553, 0.03214595670328168, 0.03483346300991613, 0.037487375487733725, 0.04010832010867661], [0.0028443068365602772, 0.013205081373172797, 0.016121776654790955, 0.019000592776890632, 0.021842262884520153, 0.024647501324111688, 0.02741700424216223, 0.030151450161268106, 0.03285150053420381, 0.03551780027749523, 0.0381509782848285], [0.002572393840095097, 0.012231661210388422, 0.01515471871529285, 0.018039814434402203, 0.020887683111983274, 0.023699040652680824, 0.026474584721504803, 0.02921499532112119, 0.03192093534713954, 0.03459305112285014, 0.037231972913752624], [0.0023478890728476825, 0.011427957562830098, 0.014356268032734631, 0.017246548496544074, 0.020099535018885565, 0.022915944790949376, 0.025696476731512544, 0.028441812065225856, 0.031152614879025497, 0.033829532657661913, 0.036473196799279725], [0.0020488410596026492, 0.010357396870559232, 0.013292704469179224, 0.016189891189895503, 0.01904969485615051, 0.021872834372830146, 0.024660010328804383, 0.02741190557645839, 0.030129185789567147, 0.03281250000000446, 0.03546248111465083], [0.0020488410596026492, 0.010357396870559232, 0.013292704469179219, 0.0161898911898955, 0.019049694856150524, 0.021872834372830156, 0.024660010328804383, 0.02741190557645839, 0.030129185789567147, 0.03281250000000445, 0.03546248111465085], [0.0020488410596026492, 0.010357396870559225, 0.013292704469179219, 0.0161898911898955, 0.019049694856150524, 0.02187283437283015, 0.024660010328804383, 0.027411905576458367, 0.030129185789567147, 0.03281250000000445, 0.035462481114650835]]}, {\"name\": \"P 6\", \"type\": \"surface\", \"visible\": false, \"y\": [90.0, 80.0, 70.0, 60.0, 50.0, 40.0, 29.999999999999993, 19.999999999999996, 9.999999999999998, 0.0], \"z\": [[0.011647948205043236, 0.044721199121890425, 0.047431906705796244, 0.05010741029510566, 0.052748391257464715, 0.05535551348952029, 0.05792942397340572, 0.06047075331193311, 0.06298011624367052, 0.06545811213876858, 0.06790532547617312], [0.006541339752676004, 0.02644007355746524, 0.029270265622184367, 0.03206370194581177, 0.03482109392976212, 0.03754313473443974, 0.04023049986008541, 0.04288384770564203, 0.04550382010661853, 0.04809104285256487, 0.050646126185535545], [0.0047899180479966, 0.02017016655399857, 0.023041338403053894, 0.025875222306009426, 0.028672539965063942, 0.031433994577215865, 0.0341602714235908, 0.03685203843648493, 0.03950994674479678, 0.04213463119927185, 0.04472671087789852], [0.00389288382957836, 0.01695887762604323, 0.01985103829162142, 0.02270563842907469, 0.025523405016367684, 0.028305046391002675, 0.03105125284365982, 0.033762697189337804, 0.03644003531681457, 0.03908390671771413, 0.041694934995613664], [0.003232018692896125, 0.014593049374762804, 0.017500672970079303, 0.0203705352200099, 0.023203366989296793, 0.02599988040256746, 0.028760769441154264, 0.031486710517211566, 0.03417836302628175, 0.036836369878997834, 0.03946135801302969], [0.0028964685561087096, 0.013391814887922735, 0.01630728968903607, 0.01918490118105133, 0.022025382202202435, 0.024829446800014136, 0.027597790829691556, 0.030331092529880633, 0.03303001307659853, 0.03569519711650006, 0.038327273280112754], [0.002618791390728477, 0.012397759601702776, 0.015319731496197734, 0.01820375570375969, 0.021050566695723506, 0.023860880110876097, 0.026635393355142655, 0.02937478617857963, 0.03207972123066008, 0.03475084459459893, 0.0373887863018257], [0.0022599337748344375, 0.011113086770976973, 0.014043455219921884, 0.016935766935762982, 0.019790758500440205, 0.02260914760914318, 0.025391633671892865, 0.028138898392058652, 0.030851606323308564, 0.03353040540540999, 0.03617592748027101], [0.0022599337748344375, 0.011113086770976973, 0.014043455219921886, 0.016935766935762986, 0.01979075850044021, 0.022609147609143183, 0.025391633671892865, 0.028138898392058652, 0.030851606323308564, 0.03353040540540998, 0.03617592748027103], [0.0022599337748344375, 0.011113086770976964, 0.014043455219921881, 0.016935766935762986, 0.019790758500440212, 0.022609147609143183, 0.025391633671892865, 0.02813889839205865, 0.030851606323308564, 0.03353040540540998, 0.03617592748027103]]}],\n",
       "                        {\"autosize\": true, \"scene\": {\"xaxis\": {\"title\": {\"text\": \"ammount of supporting pages\"}}, \"yaxis\": {\"title\": {\"text\": \"percentile of pagerank gained from accessible pages\"}}, \"zaxis\": {\"title\": {\"text\": \"Pagerank\"}}}, \"sliders\": [{\"active\": 10, \"currentvalue\": {\"prefix\": \"Amount of accessible pages: \"}, \"pad\": {\"t\": 50}, \"steps\": [{\"args\": [\"visible\", [true, false, false, false, false, false, false]], \"method\": \"restyle\"}, {\"args\": [\"visible\", [false, true, false, false, false, false, false]], \"method\": \"restyle\"}, {\"args\": [\"visible\", [false, false, true, false, false, false, false]], \"method\": \"restyle\"}, {\"args\": [\"visible\", [false, false, false, true, false, false, false]], \"method\": \"restyle\"}, {\"args\": [\"visible\", [false, false, false, false, true, false, false]], \"method\": \"restyle\"}, {\"args\": [\"visible\", [false, false, false, false, false, true, false]], \"method\": \"restyle\"}, {\"args\": [\"visible\", [false, false, false, false, false, false, true]], \"method\": \"restyle\"}]}], \"template\": {\"data\": {\"bar\": [{\"error_x\": {\"color\": \"#2a3f5f\"}, \"error_y\": {\"color\": \"#2a3f5f\"}, \"marker\": {\"line\": {\"color\": \"#E5ECF6\", \"width\": 0.5}}, \"type\": \"bar\"}], \"barpolar\": [{\"marker\": {\"line\": {\"color\": \"#E5ECF6\", \"width\": 0.5}}, \"type\": \"barpolar\"}], \"carpet\": [{\"aaxis\": {\"endlinecolor\": \"#2a3f5f\", \"gridcolor\": \"white\", \"linecolor\": \"white\", \"minorgridcolor\": \"white\", \"startlinecolor\": \"#2a3f5f\"}, \"baxis\": {\"endlinecolor\": \"#2a3f5f\", \"gridcolor\": \"white\", \"linecolor\": \"white\", \"minorgridcolor\": \"white\", \"startlinecolor\": \"#2a3f5f\"}, \"type\": \"carpet\"}], \"choropleth\": [{\"colorbar\": {\"outlinewidth\": 0, \"ticks\": \"\"}, \"type\": \"choropleth\"}], \"contour\": [{\"colorbar\": {\"outlinewidth\": 0, \"ticks\": \"\"}, \"colorscale\": [[0.0, \"#0d0887\"], [0.1111111111111111, \"#46039f\"], [0.2222222222222222, \"#7201a8\"], [0.3333333333333333, \"#9c179e\"], [0.4444444444444444, \"#bd3786\"], [0.5555555555555556, \"#d8576b\"], [0.6666666666666666, \"#ed7953\"], [0.7777777777777778, \"#fb9f3a\"], [0.8888888888888888, \"#fdca26\"], [1.0, \"#f0f921\"]], \"type\": \"contour\"}], \"contourcarpet\": [{\"colorbar\": {\"outlinewidth\": 0, \"ticks\": \"\"}, \"type\": \"contourcarpet\"}], \"heatmap\": [{\"colorbar\": {\"outlinewidth\": 0, \"ticks\": \"\"}, \"colorscale\": [[0.0, \"#0d0887\"], [0.1111111111111111, \"#46039f\"], [0.2222222222222222, \"#7201a8\"], [0.3333333333333333, \"#9c179e\"], [0.4444444444444444, \"#bd3786\"], [0.5555555555555556, \"#d8576b\"], [0.6666666666666666, \"#ed7953\"], [0.7777777777777778, \"#fb9f3a\"], [0.8888888888888888, \"#fdca26\"], [1.0, \"#f0f921\"]], \"type\": \"heatmap\"}], \"heatmapgl\": [{\"colorbar\": {\"outlinewidth\": 0, \"ticks\": \"\"}, \"colorscale\": [[0.0, \"#0d0887\"], [0.1111111111111111, \"#46039f\"], [0.2222222222222222, \"#7201a8\"], [0.3333333333333333, \"#9c179e\"], [0.4444444444444444, \"#bd3786\"], [0.5555555555555556, \"#d8576b\"], [0.6666666666666666, \"#ed7953\"], [0.7777777777777778, \"#fb9f3a\"], [0.8888888888888888, \"#fdca26\"], [1.0, \"#f0f921\"]], \"type\": \"heatmapgl\"}], \"histogram\": [{\"marker\": {\"colorbar\": {\"outlinewidth\": 0, \"ticks\": \"\"}}, \"type\": \"histogram\"}], \"histogram2d\": [{\"colorbar\": {\"outlinewidth\": 0, \"ticks\": \"\"}, \"colorscale\": [[0.0, \"#0d0887\"], [0.1111111111111111, \"#46039f\"], [0.2222222222222222, \"#7201a8\"], [0.3333333333333333, \"#9c179e\"], [0.4444444444444444, \"#bd3786\"], [0.5555555555555556, \"#d8576b\"], [0.6666666666666666, \"#ed7953\"], [0.7777777777777778, \"#fb9f3a\"], [0.8888888888888888, \"#fdca26\"], [1.0, \"#f0f921\"]], \"type\": \"histogram2d\"}], \"histogram2dcontour\": [{\"colorbar\": {\"outlinewidth\": 0, \"ticks\": \"\"}, \"colorscale\": [[0.0, \"#0d0887\"], [0.1111111111111111, \"#46039f\"], [0.2222222222222222, \"#7201a8\"], [0.3333333333333333, \"#9c179e\"], [0.4444444444444444, \"#bd3786\"], [0.5555555555555556, \"#d8576b\"], [0.6666666666666666, \"#ed7953\"], [0.7777777777777778, \"#fb9f3a\"], [0.8888888888888888, \"#fdca26\"], [1.0, \"#f0f921\"]], \"type\": \"histogram2dcontour\"}], \"mesh3d\": [{\"colorbar\": {\"outlinewidth\": 0, \"ticks\": \"\"}, \"type\": \"mesh3d\"}], \"parcoords\": [{\"line\": {\"colorbar\": {\"outlinewidth\": 0, \"ticks\": \"\"}}, \"type\": \"parcoords\"}], \"pie\": [{\"automargin\": true, \"type\": \"pie\"}], \"scatter\": [{\"marker\": {\"colorbar\": {\"outlinewidth\": 0, \"ticks\": \"\"}}, \"type\": \"scatter\"}], \"scatter3d\": [{\"line\": {\"colorbar\": {\"outlinewidth\": 0, \"ticks\": \"\"}}, \"marker\": {\"colorbar\": {\"outlinewidth\": 0, \"ticks\": \"\"}}, \"type\": \"scatter3d\"}], \"scattercarpet\": [{\"marker\": {\"colorbar\": {\"outlinewidth\": 0, \"ticks\": \"\"}}, \"type\": \"scattercarpet\"}], \"scattergeo\": [{\"marker\": {\"colorbar\": {\"outlinewidth\": 0, \"ticks\": \"\"}}, \"type\": \"scattergeo\"}], \"scattergl\": [{\"marker\": {\"colorbar\": {\"outlinewidth\": 0, \"ticks\": \"\"}}, \"type\": \"scattergl\"}], \"scattermapbox\": [{\"marker\": {\"colorbar\": {\"outlinewidth\": 0, \"ticks\": \"\"}}, \"type\": \"scattermapbox\"}], \"scatterpolar\": [{\"marker\": {\"colorbar\": {\"outlinewidth\": 0, \"ticks\": \"\"}}, \"type\": \"scatterpolar\"}], \"scatterpolargl\": [{\"marker\": {\"colorbar\": {\"outlinewidth\": 0, \"ticks\": \"\"}}, \"type\": \"scatterpolargl\"}], \"scatterternary\": [{\"marker\": {\"colorbar\": {\"outlinewidth\": 0, \"ticks\": \"\"}}, \"type\": \"scatterternary\"}], \"surface\": [{\"colorbar\": {\"outlinewidth\": 0, \"ticks\": \"\"}, \"colorscale\": [[0.0, \"#0d0887\"], [0.1111111111111111, \"#46039f\"], [0.2222222222222222, \"#7201a8\"], [0.3333333333333333, \"#9c179e\"], [0.4444444444444444, \"#bd3786\"], [0.5555555555555556, \"#d8576b\"], [0.6666666666666666, \"#ed7953\"], [0.7777777777777778, \"#fb9f3a\"], [0.8888888888888888, \"#fdca26\"], [1.0, \"#f0f921\"]], \"type\": \"surface\"}], \"table\": [{\"cells\": {\"fill\": {\"color\": \"#EBF0F8\"}, \"line\": {\"color\": \"white\"}}, \"header\": {\"fill\": {\"color\": \"#C8D4E3\"}, \"line\": {\"color\": \"white\"}}, \"type\": \"table\"}]}, \"layout\": {\"annotationdefaults\": {\"arrowcolor\": \"#2a3f5f\", \"arrowhead\": 0, \"arrowwidth\": 1}, \"coloraxis\": {\"colorbar\": {\"outlinewidth\": 0, \"ticks\": \"\"}}, \"colorscale\": {\"diverging\": [[0, \"#8e0152\"], [0.1, \"#c51b7d\"], [0.2, \"#de77ae\"], [0.3, \"#f1b6da\"], [0.4, \"#fde0ef\"], [0.5, \"#f7f7f7\"], [0.6, \"#e6f5d0\"], [0.7, \"#b8e186\"], [0.8, \"#7fbc41\"], [0.9, \"#4d9221\"], [1, \"#276419\"]], \"sequential\": [[0.0, \"#0d0887\"], [0.1111111111111111, \"#46039f\"], [0.2222222222222222, \"#7201a8\"], [0.3333333333333333, \"#9c179e\"], [0.4444444444444444, \"#bd3786\"], [0.5555555555555556, \"#d8576b\"], [0.6666666666666666, \"#ed7953\"], [0.7777777777777778, \"#fb9f3a\"], [0.8888888888888888, \"#fdca26\"], [1.0, \"#f0f921\"]], \"sequentialminus\": [[0.0, \"#0d0887\"], [0.1111111111111111, \"#46039f\"], [0.2222222222222222, \"#7201a8\"], [0.3333333333333333, \"#9c179e\"], [0.4444444444444444, \"#bd3786\"], [0.5555555555555556, \"#d8576b\"], [0.6666666666666666, \"#ed7953\"], [0.7777777777777778, \"#fb9f3a\"], [0.8888888888888888, \"#fdca26\"], [1.0, \"#f0f921\"]]}, \"colorway\": [\"#636efa\", \"#EF553B\", \"#00cc96\", \"#ab63fa\", \"#FFA15A\", \"#19d3f3\", \"#FF6692\", \"#B6E880\", \"#FF97FF\", \"#FECB52\"], \"font\": {\"color\": \"#2a3f5f\"}, \"geo\": {\"bgcolor\": \"white\", \"lakecolor\": \"white\", \"landcolor\": \"#E5ECF6\", \"showlakes\": true, \"showland\": true, \"subunitcolor\": \"white\"}, \"hoverlabel\": {\"align\": \"left\"}, \"hovermode\": \"closest\", \"mapbox\": {\"style\": \"light\"}, \"paper_bgcolor\": \"white\", \"plot_bgcolor\": \"#E5ECF6\", \"polar\": {\"angularaxis\": {\"gridcolor\": \"white\", \"linecolor\": \"white\", \"ticks\": \"\"}, \"bgcolor\": \"#E5ECF6\", \"radialaxis\": {\"gridcolor\": \"white\", \"linecolor\": \"white\", \"ticks\": \"\"}}, \"scene\": {\"xaxis\": {\"backgroundcolor\": \"#E5ECF6\", \"gridcolor\": \"white\", \"gridwidth\": 2, \"linecolor\": \"white\", \"showbackground\": true, \"ticks\": \"\", \"zerolinecolor\": \"white\"}, \"yaxis\": {\"backgroundcolor\": \"#E5ECF6\", \"gridcolor\": \"white\", \"gridwidth\": 2, \"linecolor\": \"white\", \"showbackground\": true, \"ticks\": \"\", \"zerolinecolor\": \"white\"}, \"zaxis\": {\"backgroundcolor\": \"#E5ECF6\", \"gridcolor\": \"white\", \"gridwidth\": 2, \"linecolor\": \"white\", \"showbackground\": true, \"ticks\": \"\", \"zerolinecolor\": \"white\"}}, \"shapedefaults\": {\"line\": {\"color\": \"#2a3f5f\"}}, \"ternary\": {\"aaxis\": {\"gridcolor\": \"white\", \"linecolor\": \"white\", \"ticks\": \"\"}, \"baxis\": {\"gridcolor\": \"white\", \"linecolor\": \"white\", \"ticks\": \"\"}, \"bgcolor\": \"#E5ECF6\", \"caxis\": {\"gridcolor\": \"white\", \"linecolor\": \"white\", \"ticks\": \"\"}}, \"title\": {\"x\": 0.05}, \"xaxis\": {\"automargin\": true, \"gridcolor\": \"white\", \"linecolor\": \"white\", \"ticks\": \"\", \"title\": {\"standoff\": 15}, \"zerolinecolor\": \"white\", \"zerolinewidth\": 2}, \"yaxis\": {\"automargin\": true, \"gridcolor\": \"white\", \"linecolor\": \"white\", \"ticks\": \"\", \"title\": {\"standoff\": 15}, \"zerolinecolor\": \"white\", \"zerolinewidth\": 2}}}, \"title\": {\"text\": \"Pagerank of T based on f and r\"}},\n",
       "                        {\"responsive\": true}\n",
       "                    ).then(function(){\n",
       "                            \n",
       "var gd = document.getElementById('7a5be985-b4bf-4807-a506-6dbca33c81cd');\n",
       "var x = new MutationObserver(function (mutations, observer) {{\n",
       "        var display = window.getComputedStyle(gd).display;\n",
       "        if (!display || display === 'none') {{\n",
       "            console.log([gd, 'removed!']);\n",
       "            Plotly.purge(gd);\n",
       "            observer.disconnect();\n",
       "        }}\n",
       "}});\n",
       "\n",
       "// Listen for the removal of the full notebook cells\n",
       "var notebookContainer = gd.closest('#notebook-container');\n",
       "if (notebookContainer) {{\n",
       "    x.observe(notebookContainer, {childList: true});\n",
       "}}\n",
       "\n",
       "// Listen for the clearing of the current output cell\n",
       "var outputEl = gd.closest('.output');\n",
       "if (outputEl) {{\n",
       "    x.observe(outputEl, {childList: true});\n",
       "}}\n",
       "\n",
       "                        })\n",
       "                };\n",
       "                });\n",
       "            </script>\n",
       "        </div>"
      ]
     },
     "metadata": {},
     "output_type": "display_data"
    },
    {
     "data": {
      "application/vnd.plotly.v1+json": {
       "config": {
        "plotlyServerURL": "https://plot.ly"
       },
       "data": [
        {
         "name": "P 0",
         "type": "surface",
         "visible": true,
         "y": [
          90,
          80,
          70,
          60,
          50,
          40,
          29.999999999999993,
          19.999999999999996,
          9.999999999999998,
          0
         ],
         "z": [
          [
           17.88079470198676,
           89.47368421052632,
           92.81045751633987,
           94.8051948051948,
           96.7741935483871,
           96.7948717948718,
           97.45222929936305,
           97.46835443037975,
           98.74213836477988,
           98.75,
           98.75776397515529
          ],
          [
           17.88079470198676,
           89.47368421052632,
           92.81045751633987,
           94.8051948051948,
           96.7741935483871,
           96.7948717948718,
           97.45222929936305,
           97.46835443037975,
           98.74213836477988,
           98.75,
           98.75776397515529
          ],
          [
           17.88079470198676,
           89.47368421052632,
           92.81045751633987,
           94.8051948051948,
           96.7741935483871,
           96.7948717948718,
           97.45222929936305,
           97.46835443037975,
           98.74213836477988,
           98.75,
           98.75776397515529
          ],
          [
           17.88079470198676,
           89.47368421052632,
           92.81045751633987,
           94.8051948051948,
           96.7741935483871,
           96.7948717948718,
           97.45222929936305,
           97.46835443037975,
           98.74213836477988,
           98.75,
           98.75776397515529
          ],
          [
           17.88079470198676,
           89.47368421052632,
           92.81045751633987,
           94.8051948051948,
           96.7741935483871,
           96.7948717948718,
           97.45222929936305,
           97.46835443037975,
           98.74213836477988,
           98.75,
           98.75776397515529
          ],
          [
           17.88079470198676,
           89.47368421052632,
           92.81045751633987,
           94.8051948051948,
           96.7741935483871,
           96.7948717948718,
           97.45222929936305,
           97.46835443037975,
           98.74213836477988,
           98.75,
           98.75776397515529
          ],
          [
           17.88079470198676,
           89.47368421052632,
           92.81045751633987,
           94.8051948051948,
           96.7741935483871,
           96.7948717948718,
           97.45222929936305,
           97.46835443037975,
           98.74213836477988,
           98.75,
           98.75776397515529
          ],
          [
           17.88079470198676,
           89.47368421052632,
           92.81045751633987,
           94.8051948051948,
           96.7741935483871,
           96.7948717948718,
           97.45222929936305,
           97.46835443037975,
           98.74213836477988,
           98.75,
           98.75776397515529
          ],
          [
           17.88079470198676,
           89.47368421052632,
           92.81045751633987,
           94.8051948051948,
           96.7741935483871,
           96.7948717948718,
           97.45222929936305,
           97.46835443037975,
           98.74213836477988,
           98.75,
           98.75776397515529
          ],
          [
           17.88079470198676,
           89.47368421052632,
           92.81045751633987,
           94.8051948051948,
           96.7741935483871,
           96.7948717948718,
           97.45222929936305,
           97.46835443037975,
           98.74213836477988,
           98.75,
           98.75776397515529
          ]
         ]
        },
        {
         "name": "P 1",
         "type": "surface",
         "visible": false,
         "y": [
          90,
          80,
          70,
          60,
          50,
          40,
          29.999999999999993,
          19.999999999999996,
          9.999999999999998,
          0
         ],
         "z": [
          [
           64.90066225165563,
           94.73684210526316,
           96.73202614379085,
           96.75324675324676,
           97.41935483870968,
           97.43589743589743,
           98.72611464968153,
           98.73417721518987,
           98.74213836477988,
           99.375,
           99.37888198757764
          ],
          [
           54.966887417218544,
           93.42105263157895,
           94.77124183006536,
           96.75324675324676,
           97.41935483870968,
           97.43589743589743,
           97.45222929936305,
           98.73417721518987,
           98.74213836477988,
           98.75,
           99.37888198757764
          ],
          [
           46.35761589403974,
           92.76315789473684,
           94.77124183006536,
           96.1038961038961,
           96.7741935483871,
           97.43589743589743,
           97.45222929936305,
           98.73417721518987,
           98.74213836477988,
           98.75,
           99.37888198757764
          ],
          [
           41.72185430463576,
           91.44736842105263,
           94.11764705882354,
           96.1038961038961,
           96.7741935483871,
           97.43589743589743,
           97.45222929936305,
           98.10126582278481,
           98.74213836477988,
           98.75,
           99.37888198757764
          ],
          [
           39.0728476821192,
           91.44736842105263,
           94.11764705882354,
           95.45454545454545,
           96.7741935483871,
           97.43589743589743,
           97.45222929936305,
           97.46835443037975,
           98.74213836477988,
           98.75,
           98.75776397515529
          ],
          [
           35.76158940397352,
           90.78947368421052,
           94.11764705882354,
           95.45454545454545,
           96.7741935483871,
           97.43589743589743,
           97.45222929936305,
           97.46835443037975,
           98.74213836477988,
           98.75,
           98.75776397515529
          ],
          [
           25.16556291390728,
           90.78947368421052,
           94.11764705882354,
           95.45454545454545,
           96.7741935483871,
           97.43589743589743,
           97.45222929936305,
           97.46835443037975,
           98.74213836477988,
           98.75,
           98.75776397515529
          ],
          [
           25.16556291390728,
           90.13157894736842,
           93.4640522875817,
           95.45454545454545,
           96.7741935483871,
           97.43589743589743,
           97.45222929936305,
           97.46835443037975,
           98.74213836477988,
           98.75,
           98.75776397515529
          ],
          [
           25.16556291390728,
           90.13157894736842,
           93.4640522875817,
           95.45454545454545,
           96.7741935483871,
           97.43589743589743,
           97.45222929936305,
           97.46835443037975,
           98.74213836477988,
           98.75,
           98.75776397515529
          ],
          [
           25.82781456953643,
           90.13157894736842,
           93.4640522875817,
           95.45454545454545,
           96.7741935483871,
           97.43589743589743,
           97.45222929936305,
           97.46835443037975,
           98.74213836477988,
           98.75,
           98.75776397515529
          ]
         ]
        },
        {
         "name": "P 2",
         "type": "surface",
         "visible": false,
         "y": [
          90,
          80,
          70,
          60,
          50,
          40,
          29.999999999999993,
          19.999999999999996,
          9.999999999999998,
          0
         ],
         "z": [
          [
           78.80794701986756,
           96.71052631578948,
           97.38562091503267,
           97.40259740259741,
           98.70967741935483,
           98.71794871794872,
           98.72611464968153,
           99.36708860759494,
           99.37106918238993,
           99.375,
           99.37888198757764
          ],
          [
           68.21192052980132,
           95.39473684210526,
           96.73202614379085,
           97.40259740259741,
           97.41935483870968,
           97.43589743589743,
           98.72611464968153,
           98.73417721518987,
           98.74213836477988,
           99.375,
           99.37888198757764
          ],
          [
           61.58940397350993,
           94.73684210526316,
           95.42483660130719,
           96.75324675324676,
           97.41935483870968,
           97.43589743589743,
           98.08917197452229,
           98.73417721518987,
           98.74213836477988,
           99.375,
           99.37888198757764
          ],
          [
           56.29139072847682,
           93.42105263157895,
           94.77124183006536,
           96.75324675324676,
           96.7741935483871,
           97.43589743589743,
           97.45222929936305,
           98.73417721518987,
           98.74213836477988,
           98.75,
           99.37888198757764
          ],
          [
           52.317880794701985,
           92.76315789473684,
           94.77124183006536,
           96.1038961038961,
           96.7741935483871,
           97.43589743589743,
           97.45222929936305,
           98.73417721518987,
           98.74213836477988,
           98.75,
           99.37888198757764
          ],
          [
           46.35761589403974,
           92.76315789473684,
           94.77124183006536,
           96.1038961038961,
           96.7741935483871,
           97.43589743589743,
           97.45222929936305,
           98.10126582278481,
           98.74213836477988,
           98.75,
           99.37888198757764
          ],
          [
           42.384105960264904,
           92.76315789473684,
           94.77124183006536,
           96.1038961038961,
           96.7741935483871,
           97.43589743589743,
           97.45222929936305,
           98.10126582278481,
           98.74213836477988,
           98.75,
           99.37888198757764
          ],
          [
           41.05960264900662,
           91.44736842105263,
           94.11764705882354,
           95.45454545454545,
           96.7741935483871,
           97.43589743589743,
           97.45222929936305,
           98.10126582278481,
           98.74213836477988,
           98.75,
           98.75776397515529
          ],
          [
           41.05960264900662,
           91.44736842105263,
           94.11764705882354,
           95.45454545454545,
           96.7741935483871,
           97.43589743589743,
           97.45222929936305,
           98.10126582278481,
           98.74213836477988,
           98.75,
           98.75776397515529
          ],
          [
           41.05960264900662,
           91.44736842105263,
           94.11764705882354,
           95.45454545454545,
           96.7741935483871,
           97.43589743589743,
           97.45222929936305,
           98.10126582278481,
           98.74213836477988,
           98.75,
           98.75776397515529
          ]
         ]
        },
        {
         "name": "P 3",
         "type": "surface",
         "visible": false,
         "y": [
          90,
          80,
          70,
          60,
          50,
          40,
          29.999999999999993,
          19.999999999999996,
          9.999999999999998,
          0
         ],
         "z": [
          [
           88.74172185430464,
           97.36842105263158,
           98.69281045751634,
           98.7012987012987,
           98.70967741935483,
           99.35897435897436,
           99.36305732484077,
           99.36708860759494,
           99.37106918238993,
           99.375,
           99.37888198757764
          ],
          [
           78.1456953642384,
           96.71052631578948,
           97.38562091503267,
           97.40259740259741,
           97.41935483870968,
           98.71794871794872,
           98.72611464968153,
           98.73417721518987,
           99.37106918238993,
           99.375,
           99.37888198757764
          ],
          [
           70.19867549668874,
           95.39473684210526,
           96.73202614379085,
           97.40259740259741,
           97.41935483870968,
           97.43589743589743,
           98.72611464968153,
           98.73417721518987,
           98.74213836477988,
           99.375,
           99.37888198757764
          ],
          [
           64.23841059602648,
           94.73684210526316,
           96.07843137254902,
           96.75324675324676,
           97.41935483870968,
           97.43589743589743,
           98.08917197452229,
           98.73417721518987,
           98.74213836477988,
           99.375,
           99.37888198757764
          ],
          [
           58.27814569536424,
           93.42105263157895,
           95.42483660130719,
           96.75324675324676,
           97.41935483870968,
           97.43589743589743,
           97.45222929936305,
           98.73417721518987,
           98.74213836477988,
           98.75,
           99.37888198757764
          ],
          [
           54.966887417218544,
           93.42105263157895,
           94.77124183006536,
           96.75324675324676,
           96.7741935483871,
           97.43589743589743,
           97.45222929936305,
           98.73417721518987,
           98.74213836477988,
           98.75,
           99.37888198757764
          ],
          [
           52.980132450331126,
           92.76315789473684,
           94.77124183006536,
           96.75324675324676,
           96.7741935483871,
           97.43589743589743,
           97.45222929936305,
           98.73417721518987,
           98.74213836477988,
           98.75,
           99.37888198757764
          ],
          [
           46.35761589403974,
           92.76315789473684,
           94.77124183006536,
           96.1038961038961,
           96.7741935483871,
           97.43589743589743,
           97.45222929936305,
           98.73417721518987,
           98.74213836477988,
           98.75,
           99.37888198757764
          ],
          [
           47.682119205298015,
           92.76315789473684,
           94.77124183006536,
           96.1038961038961,
           96.7741935483871,
           97.43589743589743,
           97.45222929936305,
           98.10126582278481,
           98.74213836477988,
           98.75,
           99.37888198757764
          ],
          [
           46.35761589403974,
           92.76315789473684,
           94.77124183006536,
           96.1038961038961,
           96.7741935483871,
           97.43589743589743,
           97.45222929936305,
           98.73417721518987,
           98.74213836477988,
           98.75,
           99.37888198757764
          ]
         ]
        },
        {
         "name": "P 4",
         "type": "surface",
         "visible": false,
         "y": [
          90,
          80,
          70,
          60,
          50,
          40,
          29.999999999999993,
          19.999999999999996,
          9.999999999999998,
          0
         ],
         "z": [
          [
           91.3907284768212,
           98.6842105263158,
           98.69281045751634,
           99.35064935064935,
           99.35483870967742,
           99.35897435897436,
           99.36305732484077,
           99.36708860759494,
           99.37106918238993,
           99.375,
           99.37888198757764
          ],
          [
           84.10596026490066,
           97.36842105263158,
           97.38562091503267,
           98.05194805194805,
           98.70967741935483,
           98.71794871794872,
           99.36305732484077,
           99.36708860759494,
           99.37106918238993,
           99.375,
           99.37888198757764
          ],
          [
           76.82119205298014,
           96.71052631578948,
           96.73202614379085,
           97.40259740259741,
           97.41935483870968,
           98.71794871794872,
           98.72611464968153,
           98.73417721518987,
           99.37106918238993,
           99.375,
           99.37888198757764
          ],
          [
           70.19867549668874,
           95.39473684210526,
           96.73202614379085,
           97.40259740259741,
           97.41935483870968,
           97.43589743589743,
           98.72611464968153,
           98.73417721518987,
           98.74213836477988,
           99.375,
           99.37888198757764
          ],
          [
           64.23841059602648,
           94.73684210526316,
           96.07843137254902,
           96.75324675324676,
           97.41935483870968,
           97.43589743589743,
           98.72611464968153,
           98.73417721518987,
           98.74213836477988,
           99.375,
           99.37888198757764
          ],
          [
           62.25165562913907,
           94.07894736842105,
           95.42483660130719,
           96.75324675324676,
           97.41935483870968,
           97.43589743589743,
           98.08917197452229,
           98.73417721518987,
           98.74213836477988,
           99.375,
           99.37888198757764
          ],
          [
           58.27814569536424,
           94.07894736842105,
           95.42483660130719,
           96.75324675324676,
           97.41935483870968,
           97.43589743589743,
           97.45222929936305,
           98.73417721518987,
           98.74213836477988,
           98.75,
           99.37888198757764
          ],
          [
           54.966887417218544,
           92.76315789473684,
           94.77124183006536,
           96.75324675324676,
           96.7741935483871,
           97.43589743589743,
           97.45222929936305,
           98.73417721518987,
           98.74213836477988,
           98.75,
           99.37888198757764
          ],
          [
           54.966887417218544,
           92.76315789473684,
           94.77124183006536,
           96.75324675324676,
           96.7741935483871,
           97.43589743589743,
           97.45222929936305,
           98.73417721518987,
           98.74213836477988,
           98.75,
           99.37888198757764
          ],
          [
           54.966887417218544,
           92.76315789473684,
           94.77124183006536,
           96.75324675324676,
           96.7741935483871,
           97.43589743589743,
           97.45222929936305,
           98.73417721518987,
           98.74213836477988,
           98.75,
           99.37888198757764
          ]
         ]
        },
        {
         "name": "P 5",
         "type": "surface",
         "visible": false,
         "y": [
          90,
          80,
          70,
          60,
          50,
          40,
          29.999999999999993,
          19.999999999999996,
          9.999999999999998,
          0
         ],
         "z": [
          [
           93.37748344370861,
           99.34210526315789,
           99.34640522875817,
           99.35064935064935,
           99.35483870967742,
           99.35897435897436,
           99.36305732484077,
           99.36708860759494,
           99.37106918238993,
           99.375,
           99.37888198757764
          ],
          [
           88.0794701986755,
           97.36842105263158,
           98.03921568627452,
           98.7012987012987,
           98.70967741935483,
           99.35897435897436,
           99.36305732484077,
           99.36708860759494,
           99.37106918238993,
           99.375,
           99.37888198757764
          ],
          [
           79.47019867549669,
           96.71052631578948,
           97.38562091503267,
           97.40259740259741,
           98.70967741935483,
           98.71794871794872,
           98.72611464968153,
           99.36708860759494,
           99.37106918238993,
           99.375,
           99.37888198757764
          ],
          [
           76.82119205298014,
           96.71052631578948,
           96.73202614379085,
           97.40259740259741,
           97.41935483870968,
           98.71794871794872,
           98.72611464968153,
           98.73417721518987,
           99.37106918238993,
           99.375,
           99.37888198757764
          ],
          [
           68.87417218543047,
           95.39473684210526,
           96.73202614379085,
           97.40259740259741,
           97.41935483870968,
           97.43589743589743,
           98.72611464968153,
           98.73417721518987,
           98.74213836477988,
           99.375,
           99.37888198757764
          ],
          [
           65.56291390728477,
           94.73684210526316,
           96.73202614379085,
           96.75324675324676,
           97.41935483870968,
           97.43589743589743,
           98.72611464968153,
           98.73417721518987,
           98.74213836477988,
           99.375,
           99.37888198757764
          ],
          [
           63.576158940397356,
           94.73684210526316,
           96.07843137254902,
           96.75324675324676,
           97.41935483870968,
           97.43589743589743,
           98.08917197452229,
           98.73417721518987,
           98.74213836477988,
           99.375,
           99.37888198757764
          ],
          [
           57.615894039735096,
           93.42105263157895,
           95.42483660130719,
           96.75324675324676,
           97.41935483870968,
           97.43589743589743,
           97.45222929936305,
           98.73417721518987,
           98.74213836477988,
           98.75,
           99.37888198757764
          ],
          [
           58.27814569536424,
           93.42105263157895,
           95.42483660130719,
           96.75324675324676,
           97.41935483870968,
           97.43589743589743,
           97.45222929936305,
           98.73417721518987,
           98.74213836477988,
           98.75,
           99.37888198757764
          ],
          [
           58.27814569536424,
           93.42105263157895,
           95.42483660130719,
           96.75324675324676,
           97.41935483870968,
           97.43589743589743,
           97.45222929936305,
           98.73417721518987,
           98.74213836477988,
           98.75,
           99.37888198757764
          ]
         ]
        },
        {
         "name": "P 6",
         "type": "surface",
         "visible": false,
         "y": [
          90,
          80,
          70,
          60,
          50,
          40,
          29.999999999999993,
          19.999999999999996,
          9.999999999999998,
          0
         ],
         "z": [
          [
           95.36423841059603,
           99.34210526315789,
           99.34640522875817,
           99.35064935064935,
           99.35483870967742,
           99.35897435897436,
           99.36305732484077,
           99.36708860759494,
           99.37106918238993,
           100,
           100
          ],
          [
           88.74172185430464,
           98.6842105263158,
           98.69281045751634,
           98.7012987012987,
           99.35483870967742,
           99.35897435897436,
           99.36305732484077,
           99.36708860759494,
           99.37106918238993,
           99.375,
           99.37888198757764
          ],
          [
           85.43046357615894,
           97.36842105263158,
           97.38562091503267,
           98.05194805194805,
           98.70967741935483,
           98.71794871794872,
           99.36305732484077,
           99.36708860759494,
           99.37106918238993,
           99.375,
           99.37888198757764
          ],
          [
           78.1456953642384,
           96.71052631578948,
           97.38562091503267,
           97.40259740259741,
           98.06451612903226,
           98.71794871794872,
           98.72611464968153,
           99.36708860759494,
           99.37106918238993,
           99.375,
           99.37888198757764
          ],
          [
           76.82119205298014,
           96.05263157894737,
           96.73202614379085,
           97.40259740259741,
           97.41935483870968,
           98.71794871794872,
           98.72611464968153,
           98.73417721518987,
           99.37106918238993,
           99.375,
           99.37888198757764
          ],
          [
           69.5364238410596,
           95.39473684210526,
           96.73202614379085,
           97.40259740259741,
           97.41935483870968,
           97.43589743589743,
           98.72611464968153,
           98.73417721518987,
           98.74213836477988,
           99.375,
           99.37888198757764
          ],
          [
           66.2251655629139,
           94.73684210526316,
           96.73202614379085,
           96.75324675324676,
           97.41935483870968,
           97.43589743589743,
           98.72611464968153,
           98.73417721518987,
           98.74213836477988,
           99.375,
           99.37888198757764
          ],
          [
           62.25165562913907,
           94.07894736842105,
           95.42483660130719,
           96.75324675324676,
           97.41935483870968,
           97.43589743589743,
           98.08917197452229,
           98.73417721518987,
           98.74213836477988,
           99.375,
           99.37888198757764
          ],
          [
           62.25165562913907,
           94.07894736842105,
           95.42483660130719,
           96.75324675324676,
           97.41935483870968,
           97.43589743589743,
           98.08917197452229,
           98.73417721518987,
           98.74213836477988,
           98.75,
           99.37888198757764
          ],
          [
           62.25165562913907,
           94.07894736842105,
           95.42483660130719,
           96.75324675324676,
           97.41935483870968,
           97.43589743589743,
           98.08917197452229,
           98.73417721518987,
           98.74213836477988,
           98.75,
           99.37888198757764
          ]
         ]
        }
       ],
       "layout": {
        "autosize": true,
        "scene": {
         "xaxis": {
          "title": {
           "text": "ammount of supporting pages"
          }
         },
         "yaxis": {
          "title": {
           "text": "percentile of pagerank gained from accessible pages"
          }
         },
         "zaxis": {
          "title": {
           "text": "Pagerank percentile "
          }
         }
        },
        "sliders": [
         {
          "active": 10,
          "currentvalue": {
           "prefix": "Amount of accessible pages: "
          },
          "pad": {
           "t": 50
          },
          "steps": [
           {
            "args": [
             "visible",
             [
              true,
              false,
              false,
              false,
              false,
              false,
              false
             ]
            ],
            "method": "restyle"
           },
           {
            "args": [
             "visible",
             [
              false,
              true,
              false,
              false,
              false,
              false,
              false
             ]
            ],
            "method": "restyle"
           },
           {
            "args": [
             "visible",
             [
              false,
              false,
              true,
              false,
              false,
              false,
              false
             ]
            ],
            "method": "restyle"
           },
           {
            "args": [
             "visible",
             [
              false,
              false,
              false,
              true,
              false,
              false,
              false
             ]
            ],
            "method": "restyle"
           },
           {
            "args": [
             "visible",
             [
              false,
              false,
              false,
              false,
              true,
              false,
              false
             ]
            ],
            "method": "restyle"
           },
           {
            "args": [
             "visible",
             [
              false,
              false,
              false,
              false,
              false,
              true,
              false
             ]
            ],
            "method": "restyle"
           },
           {
            "args": [
             "visible",
             [
              false,
              false,
              false,
              false,
              false,
              false,
              true
             ]
            ],
            "method": "restyle"
           }
          ]
         }
        ],
        "template": {
         "data": {
          "bar": [
           {
            "error_x": {
             "color": "#2a3f5f"
            },
            "error_y": {
             "color": "#2a3f5f"
            },
            "marker": {
             "line": {
              "color": "#E5ECF6",
              "width": 0.5
             }
            },
            "type": "bar"
           }
          ],
          "barpolar": [
           {
            "marker": {
             "line": {
              "color": "#E5ECF6",
              "width": 0.5
             }
            },
            "type": "barpolar"
           }
          ],
          "carpet": [
           {
            "aaxis": {
             "endlinecolor": "#2a3f5f",
             "gridcolor": "white",
             "linecolor": "white",
             "minorgridcolor": "white",
             "startlinecolor": "#2a3f5f"
            },
            "baxis": {
             "endlinecolor": "#2a3f5f",
             "gridcolor": "white",
             "linecolor": "white",
             "minorgridcolor": "white",
             "startlinecolor": "#2a3f5f"
            },
            "type": "carpet"
           }
          ],
          "choropleth": [
           {
            "colorbar": {
             "outlinewidth": 0,
             "ticks": ""
            },
            "type": "choropleth"
           }
          ],
          "contour": [
           {
            "colorbar": {
             "outlinewidth": 0,
             "ticks": ""
            },
            "colorscale": [
             [
              0,
              "#0d0887"
             ],
             [
              0.1111111111111111,
              "#46039f"
             ],
             [
              0.2222222222222222,
              "#7201a8"
             ],
             [
              0.3333333333333333,
              "#9c179e"
             ],
             [
              0.4444444444444444,
              "#bd3786"
             ],
             [
              0.5555555555555556,
              "#d8576b"
             ],
             [
              0.6666666666666666,
              "#ed7953"
             ],
             [
              0.7777777777777778,
              "#fb9f3a"
             ],
             [
              0.8888888888888888,
              "#fdca26"
             ],
             [
              1,
              "#f0f921"
             ]
            ],
            "type": "contour"
           }
          ],
          "contourcarpet": [
           {
            "colorbar": {
             "outlinewidth": 0,
             "ticks": ""
            },
            "type": "contourcarpet"
           }
          ],
          "heatmap": [
           {
            "colorbar": {
             "outlinewidth": 0,
             "ticks": ""
            },
            "colorscale": [
             [
              0,
              "#0d0887"
             ],
             [
              0.1111111111111111,
              "#46039f"
             ],
             [
              0.2222222222222222,
              "#7201a8"
             ],
             [
              0.3333333333333333,
              "#9c179e"
             ],
             [
              0.4444444444444444,
              "#bd3786"
             ],
             [
              0.5555555555555556,
              "#d8576b"
             ],
             [
              0.6666666666666666,
              "#ed7953"
             ],
             [
              0.7777777777777778,
              "#fb9f3a"
             ],
             [
              0.8888888888888888,
              "#fdca26"
             ],
             [
              1,
              "#f0f921"
             ]
            ],
            "type": "heatmap"
           }
          ],
          "heatmapgl": [
           {
            "colorbar": {
             "outlinewidth": 0,
             "ticks": ""
            },
            "colorscale": [
             [
              0,
              "#0d0887"
             ],
             [
              0.1111111111111111,
              "#46039f"
             ],
             [
              0.2222222222222222,
              "#7201a8"
             ],
             [
              0.3333333333333333,
              "#9c179e"
             ],
             [
              0.4444444444444444,
              "#bd3786"
             ],
             [
              0.5555555555555556,
              "#d8576b"
             ],
             [
              0.6666666666666666,
              "#ed7953"
             ],
             [
              0.7777777777777778,
              "#fb9f3a"
             ],
             [
              0.8888888888888888,
              "#fdca26"
             ],
             [
              1,
              "#f0f921"
             ]
            ],
            "type": "heatmapgl"
           }
          ],
          "histogram": [
           {
            "marker": {
             "colorbar": {
              "outlinewidth": 0,
              "ticks": ""
             }
            },
            "type": "histogram"
           }
          ],
          "histogram2d": [
           {
            "colorbar": {
             "outlinewidth": 0,
             "ticks": ""
            },
            "colorscale": [
             [
              0,
              "#0d0887"
             ],
             [
              0.1111111111111111,
              "#46039f"
             ],
             [
              0.2222222222222222,
              "#7201a8"
             ],
             [
              0.3333333333333333,
              "#9c179e"
             ],
             [
              0.4444444444444444,
              "#bd3786"
             ],
             [
              0.5555555555555556,
              "#d8576b"
             ],
             [
              0.6666666666666666,
              "#ed7953"
             ],
             [
              0.7777777777777778,
              "#fb9f3a"
             ],
             [
              0.8888888888888888,
              "#fdca26"
             ],
             [
              1,
              "#f0f921"
             ]
            ],
            "type": "histogram2d"
           }
          ],
          "histogram2dcontour": [
           {
            "colorbar": {
             "outlinewidth": 0,
             "ticks": ""
            },
            "colorscale": [
             [
              0,
              "#0d0887"
             ],
             [
              0.1111111111111111,
              "#46039f"
             ],
             [
              0.2222222222222222,
              "#7201a8"
             ],
             [
              0.3333333333333333,
              "#9c179e"
             ],
             [
              0.4444444444444444,
              "#bd3786"
             ],
             [
              0.5555555555555556,
              "#d8576b"
             ],
             [
              0.6666666666666666,
              "#ed7953"
             ],
             [
              0.7777777777777778,
              "#fb9f3a"
             ],
             [
              0.8888888888888888,
              "#fdca26"
             ],
             [
              1,
              "#f0f921"
             ]
            ],
            "type": "histogram2dcontour"
           }
          ],
          "mesh3d": [
           {
            "colorbar": {
             "outlinewidth": 0,
             "ticks": ""
            },
            "type": "mesh3d"
           }
          ],
          "parcoords": [
           {
            "line": {
             "colorbar": {
              "outlinewidth": 0,
              "ticks": ""
             }
            },
            "type": "parcoords"
           }
          ],
          "pie": [
           {
            "automargin": true,
            "type": "pie"
           }
          ],
          "scatter": [
           {
            "marker": {
             "colorbar": {
              "outlinewidth": 0,
              "ticks": ""
             }
            },
            "type": "scatter"
           }
          ],
          "scatter3d": [
           {
            "line": {
             "colorbar": {
              "outlinewidth": 0,
              "ticks": ""
             }
            },
            "marker": {
             "colorbar": {
              "outlinewidth": 0,
              "ticks": ""
             }
            },
            "type": "scatter3d"
           }
          ],
          "scattercarpet": [
           {
            "marker": {
             "colorbar": {
              "outlinewidth": 0,
              "ticks": ""
             }
            },
            "type": "scattercarpet"
           }
          ],
          "scattergeo": [
           {
            "marker": {
             "colorbar": {
              "outlinewidth": 0,
              "ticks": ""
             }
            },
            "type": "scattergeo"
           }
          ],
          "scattergl": [
           {
            "marker": {
             "colorbar": {
              "outlinewidth": 0,
              "ticks": ""
             }
            },
            "type": "scattergl"
           }
          ],
          "scattermapbox": [
           {
            "marker": {
             "colorbar": {
              "outlinewidth": 0,
              "ticks": ""
             }
            },
            "type": "scattermapbox"
           }
          ],
          "scatterpolar": [
           {
            "marker": {
             "colorbar": {
              "outlinewidth": 0,
              "ticks": ""
             }
            },
            "type": "scatterpolar"
           }
          ],
          "scatterpolargl": [
           {
            "marker": {
             "colorbar": {
              "outlinewidth": 0,
              "ticks": ""
             }
            },
            "type": "scatterpolargl"
           }
          ],
          "scatterternary": [
           {
            "marker": {
             "colorbar": {
              "outlinewidth": 0,
              "ticks": ""
             }
            },
            "type": "scatterternary"
           }
          ],
          "surface": [
           {
            "colorbar": {
             "outlinewidth": 0,
             "ticks": ""
            },
            "colorscale": [
             [
              0,
              "#0d0887"
             ],
             [
              0.1111111111111111,
              "#46039f"
             ],
             [
              0.2222222222222222,
              "#7201a8"
             ],
             [
              0.3333333333333333,
              "#9c179e"
             ],
             [
              0.4444444444444444,
              "#bd3786"
             ],
             [
              0.5555555555555556,
              "#d8576b"
             ],
             [
              0.6666666666666666,
              "#ed7953"
             ],
             [
              0.7777777777777778,
              "#fb9f3a"
             ],
             [
              0.8888888888888888,
              "#fdca26"
             ],
             [
              1,
              "#f0f921"
             ]
            ],
            "type": "surface"
           }
          ],
          "table": [
           {
            "cells": {
             "fill": {
              "color": "#EBF0F8"
             },
             "line": {
              "color": "white"
             }
            },
            "header": {
             "fill": {
              "color": "#C8D4E3"
             },
             "line": {
              "color": "white"
             }
            },
            "type": "table"
           }
          ]
         },
         "layout": {
          "annotationdefaults": {
           "arrowcolor": "#2a3f5f",
           "arrowhead": 0,
           "arrowwidth": 1
          },
          "coloraxis": {
           "colorbar": {
            "outlinewidth": 0,
            "ticks": ""
           }
          },
          "colorscale": {
           "diverging": [
            [
             0,
             "#8e0152"
            ],
            [
             0.1,
             "#c51b7d"
            ],
            [
             0.2,
             "#de77ae"
            ],
            [
             0.3,
             "#f1b6da"
            ],
            [
             0.4,
             "#fde0ef"
            ],
            [
             0.5,
             "#f7f7f7"
            ],
            [
             0.6,
             "#e6f5d0"
            ],
            [
             0.7,
             "#b8e186"
            ],
            [
             0.8,
             "#7fbc41"
            ],
            [
             0.9,
             "#4d9221"
            ],
            [
             1,
             "#276419"
            ]
           ],
           "sequential": [
            [
             0,
             "#0d0887"
            ],
            [
             0.1111111111111111,
             "#46039f"
            ],
            [
             0.2222222222222222,
             "#7201a8"
            ],
            [
             0.3333333333333333,
             "#9c179e"
            ],
            [
             0.4444444444444444,
             "#bd3786"
            ],
            [
             0.5555555555555556,
             "#d8576b"
            ],
            [
             0.6666666666666666,
             "#ed7953"
            ],
            [
             0.7777777777777778,
             "#fb9f3a"
            ],
            [
             0.8888888888888888,
             "#fdca26"
            ],
            [
             1,
             "#f0f921"
            ]
           ],
           "sequentialminus": [
            [
             0,
             "#0d0887"
            ],
            [
             0.1111111111111111,
             "#46039f"
            ],
            [
             0.2222222222222222,
             "#7201a8"
            ],
            [
             0.3333333333333333,
             "#9c179e"
            ],
            [
             0.4444444444444444,
             "#bd3786"
            ],
            [
             0.5555555555555556,
             "#d8576b"
            ],
            [
             0.6666666666666666,
             "#ed7953"
            ],
            [
             0.7777777777777778,
             "#fb9f3a"
            ],
            [
             0.8888888888888888,
             "#fdca26"
            ],
            [
             1,
             "#f0f921"
            ]
           ]
          },
          "colorway": [
           "#636efa",
           "#EF553B",
           "#00cc96",
           "#ab63fa",
           "#FFA15A",
           "#19d3f3",
           "#FF6692",
           "#B6E880",
           "#FF97FF",
           "#FECB52"
          ],
          "font": {
           "color": "#2a3f5f"
          },
          "geo": {
           "bgcolor": "white",
           "lakecolor": "white",
           "landcolor": "#E5ECF6",
           "showlakes": true,
           "showland": true,
           "subunitcolor": "white"
          },
          "hoverlabel": {
           "align": "left"
          },
          "hovermode": "closest",
          "mapbox": {
           "style": "light"
          },
          "paper_bgcolor": "white",
          "plot_bgcolor": "#E5ECF6",
          "polar": {
           "angularaxis": {
            "gridcolor": "white",
            "linecolor": "white",
            "ticks": ""
           },
           "bgcolor": "#E5ECF6",
           "radialaxis": {
            "gridcolor": "white",
            "linecolor": "white",
            "ticks": ""
           }
          },
          "scene": {
           "xaxis": {
            "backgroundcolor": "#E5ECF6",
            "gridcolor": "white",
            "gridwidth": 2,
            "linecolor": "white",
            "showbackground": true,
            "ticks": "",
            "zerolinecolor": "white"
           },
           "yaxis": {
            "backgroundcolor": "#E5ECF6",
            "gridcolor": "white",
            "gridwidth": 2,
            "linecolor": "white",
            "showbackground": true,
            "ticks": "",
            "zerolinecolor": "white"
           },
           "zaxis": {
            "backgroundcolor": "#E5ECF6",
            "gridcolor": "white",
            "gridwidth": 2,
            "linecolor": "white",
            "showbackground": true,
            "ticks": "",
            "zerolinecolor": "white"
           }
          },
          "shapedefaults": {
           "line": {
            "color": "#2a3f5f"
           }
          },
          "ternary": {
           "aaxis": {
            "gridcolor": "white",
            "linecolor": "white",
            "ticks": ""
           },
           "baxis": {
            "gridcolor": "white",
            "linecolor": "white",
            "ticks": ""
           },
           "bgcolor": "#E5ECF6",
           "caxis": {
            "gridcolor": "white",
            "linecolor": "white",
            "ticks": ""
           }
          },
          "title": {
           "x": 0.05
          },
          "xaxis": {
           "automargin": true,
           "gridcolor": "white",
           "linecolor": "white",
           "ticks": "",
           "title": {
            "standoff": 15
           },
           "zerolinecolor": "white",
           "zerolinewidth": 2
          },
          "yaxis": {
           "automargin": true,
           "gridcolor": "white",
           "linecolor": "white",
           "ticks": "",
           "title": {
            "standoff": 15
           },
           "zerolinecolor": "white",
           "zerolinewidth": 2
          }
         }
        },
        "title": {
         "text": "Pagerank percentile  of T based on f and r"
        }
       }
      },
      "text/html": [
       "<div>\n",
       "        \n",
       "        \n",
       "            <div id=\"d387de91-c223-451d-872b-ddbeb86a2882\" class=\"plotly-graph-div\" style=\"height:525px; width:100%;\"></div>\n",
       "            <script type=\"text/javascript\">\n",
       "                require([\"plotly\"], function(Plotly) {\n",
       "                    window.PLOTLYENV=window.PLOTLYENV || {};\n",
       "                    \n",
       "                if (document.getElementById(\"d387de91-c223-451d-872b-ddbeb86a2882\")) {\n",
       "                    Plotly.newPlot(\n",
       "                        'd387de91-c223-451d-872b-ddbeb86a2882',\n",
       "                        [{\"name\": \"P 0\", \"type\": \"surface\", \"visible\": true, \"y\": [90.0, 80.0, 70.0, 60.0, 50.0, 40.0, 29.999999999999993, 19.999999999999996, 9.999999999999998, 0.0], \"z\": [[17.88079470198676, 89.47368421052632, 92.81045751633987, 94.8051948051948, 96.7741935483871, 96.7948717948718, 97.45222929936305, 97.46835443037975, 98.74213836477988, 98.75, 98.75776397515529], [17.88079470198676, 89.47368421052632, 92.81045751633987, 94.8051948051948, 96.7741935483871, 96.7948717948718, 97.45222929936305, 97.46835443037975, 98.74213836477988, 98.75, 98.75776397515529], [17.88079470198676, 89.47368421052632, 92.81045751633987, 94.8051948051948, 96.7741935483871, 96.7948717948718, 97.45222929936305, 97.46835443037975, 98.74213836477988, 98.75, 98.75776397515529], [17.88079470198676, 89.47368421052632, 92.81045751633987, 94.8051948051948, 96.7741935483871, 96.7948717948718, 97.45222929936305, 97.46835443037975, 98.74213836477988, 98.75, 98.75776397515529], [17.88079470198676, 89.47368421052632, 92.81045751633987, 94.8051948051948, 96.7741935483871, 96.7948717948718, 97.45222929936305, 97.46835443037975, 98.74213836477988, 98.75, 98.75776397515529], [17.88079470198676, 89.47368421052632, 92.81045751633987, 94.8051948051948, 96.7741935483871, 96.7948717948718, 97.45222929936305, 97.46835443037975, 98.74213836477988, 98.75, 98.75776397515529], [17.88079470198676, 89.47368421052632, 92.81045751633987, 94.8051948051948, 96.7741935483871, 96.7948717948718, 97.45222929936305, 97.46835443037975, 98.74213836477988, 98.75, 98.75776397515529], [17.88079470198676, 89.47368421052632, 92.81045751633987, 94.8051948051948, 96.7741935483871, 96.7948717948718, 97.45222929936305, 97.46835443037975, 98.74213836477988, 98.75, 98.75776397515529], [17.88079470198676, 89.47368421052632, 92.81045751633987, 94.8051948051948, 96.7741935483871, 96.7948717948718, 97.45222929936305, 97.46835443037975, 98.74213836477988, 98.75, 98.75776397515529], [17.88079470198676, 89.47368421052632, 92.81045751633987, 94.8051948051948, 96.7741935483871, 96.7948717948718, 97.45222929936305, 97.46835443037975, 98.74213836477988, 98.75, 98.75776397515529]]}, {\"name\": \"P 1\", \"type\": \"surface\", \"visible\": false, \"y\": [90.0, 80.0, 70.0, 60.0, 50.0, 40.0, 29.999999999999993, 19.999999999999996, 9.999999999999998, 0.0], \"z\": [[64.90066225165563, 94.73684210526316, 96.73202614379085, 96.75324675324676, 97.41935483870968, 97.43589743589743, 98.72611464968153, 98.73417721518987, 98.74213836477988, 99.375, 99.37888198757764], [54.966887417218544, 93.42105263157895, 94.77124183006536, 96.75324675324676, 97.41935483870968, 97.43589743589743, 97.45222929936305, 98.73417721518987, 98.74213836477988, 98.75, 99.37888198757764], [46.35761589403974, 92.76315789473684, 94.77124183006536, 96.1038961038961, 96.7741935483871, 97.43589743589743, 97.45222929936305, 98.73417721518987, 98.74213836477988, 98.75, 99.37888198757764], [41.72185430463576, 91.44736842105263, 94.11764705882354, 96.1038961038961, 96.7741935483871, 97.43589743589743, 97.45222929936305, 98.10126582278481, 98.74213836477988, 98.75, 99.37888198757764], [39.0728476821192, 91.44736842105263, 94.11764705882354, 95.45454545454545, 96.7741935483871, 97.43589743589743, 97.45222929936305, 97.46835443037975, 98.74213836477988, 98.75, 98.75776397515529], [35.76158940397352, 90.78947368421052, 94.11764705882354, 95.45454545454545, 96.7741935483871, 97.43589743589743, 97.45222929936305, 97.46835443037975, 98.74213836477988, 98.75, 98.75776397515529], [25.16556291390728, 90.78947368421052, 94.11764705882354, 95.45454545454545, 96.7741935483871, 97.43589743589743, 97.45222929936305, 97.46835443037975, 98.74213836477988, 98.75, 98.75776397515529], [25.16556291390728, 90.13157894736842, 93.4640522875817, 95.45454545454545, 96.7741935483871, 97.43589743589743, 97.45222929936305, 97.46835443037975, 98.74213836477988, 98.75, 98.75776397515529], [25.16556291390728, 90.13157894736842, 93.4640522875817, 95.45454545454545, 96.7741935483871, 97.43589743589743, 97.45222929936305, 97.46835443037975, 98.74213836477988, 98.75, 98.75776397515529], [25.82781456953643, 90.13157894736842, 93.4640522875817, 95.45454545454545, 96.7741935483871, 97.43589743589743, 97.45222929936305, 97.46835443037975, 98.74213836477988, 98.75, 98.75776397515529]]}, {\"name\": \"P 2\", \"type\": \"surface\", \"visible\": false, \"y\": [90.0, 80.0, 70.0, 60.0, 50.0, 40.0, 29.999999999999993, 19.999999999999996, 9.999999999999998, 0.0], \"z\": [[78.80794701986756, 96.71052631578948, 97.38562091503267, 97.40259740259741, 98.70967741935483, 98.71794871794872, 98.72611464968153, 99.36708860759494, 99.37106918238993, 99.375, 99.37888198757764], [68.21192052980132, 95.39473684210526, 96.73202614379085, 97.40259740259741, 97.41935483870968, 97.43589743589743, 98.72611464968153, 98.73417721518987, 98.74213836477988, 99.375, 99.37888198757764], [61.58940397350993, 94.73684210526316, 95.42483660130719, 96.75324675324676, 97.41935483870968, 97.43589743589743, 98.08917197452229, 98.73417721518987, 98.74213836477988, 99.375, 99.37888198757764], [56.29139072847682, 93.42105263157895, 94.77124183006536, 96.75324675324676, 96.7741935483871, 97.43589743589743, 97.45222929936305, 98.73417721518987, 98.74213836477988, 98.75, 99.37888198757764], [52.317880794701985, 92.76315789473684, 94.77124183006536, 96.1038961038961, 96.7741935483871, 97.43589743589743, 97.45222929936305, 98.73417721518987, 98.74213836477988, 98.75, 99.37888198757764], [46.35761589403974, 92.76315789473684, 94.77124183006536, 96.1038961038961, 96.7741935483871, 97.43589743589743, 97.45222929936305, 98.10126582278481, 98.74213836477988, 98.75, 99.37888198757764], [42.384105960264904, 92.76315789473684, 94.77124183006536, 96.1038961038961, 96.7741935483871, 97.43589743589743, 97.45222929936305, 98.10126582278481, 98.74213836477988, 98.75, 99.37888198757764], [41.05960264900662, 91.44736842105263, 94.11764705882354, 95.45454545454545, 96.7741935483871, 97.43589743589743, 97.45222929936305, 98.10126582278481, 98.74213836477988, 98.75, 98.75776397515529], [41.05960264900662, 91.44736842105263, 94.11764705882354, 95.45454545454545, 96.7741935483871, 97.43589743589743, 97.45222929936305, 98.10126582278481, 98.74213836477988, 98.75, 98.75776397515529], [41.05960264900662, 91.44736842105263, 94.11764705882354, 95.45454545454545, 96.7741935483871, 97.43589743589743, 97.45222929936305, 98.10126582278481, 98.74213836477988, 98.75, 98.75776397515529]]}, {\"name\": \"P 3\", \"type\": \"surface\", \"visible\": false, \"y\": [90.0, 80.0, 70.0, 60.0, 50.0, 40.0, 29.999999999999993, 19.999999999999996, 9.999999999999998, 0.0], \"z\": [[88.74172185430464, 97.36842105263158, 98.69281045751634, 98.7012987012987, 98.70967741935483, 99.35897435897436, 99.36305732484077, 99.36708860759494, 99.37106918238993, 99.375, 99.37888198757764], [78.1456953642384, 96.71052631578948, 97.38562091503267, 97.40259740259741, 97.41935483870968, 98.71794871794872, 98.72611464968153, 98.73417721518987, 99.37106918238993, 99.375, 99.37888198757764], [70.19867549668874, 95.39473684210526, 96.73202614379085, 97.40259740259741, 97.41935483870968, 97.43589743589743, 98.72611464968153, 98.73417721518987, 98.74213836477988, 99.375, 99.37888198757764], [64.23841059602648, 94.73684210526316, 96.07843137254902, 96.75324675324676, 97.41935483870968, 97.43589743589743, 98.08917197452229, 98.73417721518987, 98.74213836477988, 99.375, 99.37888198757764], [58.27814569536424, 93.42105263157895, 95.42483660130719, 96.75324675324676, 97.41935483870968, 97.43589743589743, 97.45222929936305, 98.73417721518987, 98.74213836477988, 98.75, 99.37888198757764], [54.966887417218544, 93.42105263157895, 94.77124183006536, 96.75324675324676, 96.7741935483871, 97.43589743589743, 97.45222929936305, 98.73417721518987, 98.74213836477988, 98.75, 99.37888198757764], [52.980132450331126, 92.76315789473684, 94.77124183006536, 96.75324675324676, 96.7741935483871, 97.43589743589743, 97.45222929936305, 98.73417721518987, 98.74213836477988, 98.75, 99.37888198757764], [46.35761589403974, 92.76315789473684, 94.77124183006536, 96.1038961038961, 96.7741935483871, 97.43589743589743, 97.45222929936305, 98.73417721518987, 98.74213836477988, 98.75, 99.37888198757764], [47.682119205298015, 92.76315789473684, 94.77124183006536, 96.1038961038961, 96.7741935483871, 97.43589743589743, 97.45222929936305, 98.10126582278481, 98.74213836477988, 98.75, 99.37888198757764], [46.35761589403974, 92.76315789473684, 94.77124183006536, 96.1038961038961, 96.7741935483871, 97.43589743589743, 97.45222929936305, 98.73417721518987, 98.74213836477988, 98.75, 99.37888198757764]]}, {\"name\": \"P 4\", \"type\": \"surface\", \"visible\": false, \"y\": [90.0, 80.0, 70.0, 60.0, 50.0, 40.0, 29.999999999999993, 19.999999999999996, 9.999999999999998, 0.0], \"z\": [[91.3907284768212, 98.6842105263158, 98.69281045751634, 99.35064935064935, 99.35483870967742, 99.35897435897436, 99.36305732484077, 99.36708860759494, 99.37106918238993, 99.375, 99.37888198757764], [84.10596026490066, 97.36842105263158, 97.38562091503267, 98.05194805194805, 98.70967741935483, 98.71794871794872, 99.36305732484077, 99.36708860759494, 99.37106918238993, 99.375, 99.37888198757764], [76.82119205298014, 96.71052631578948, 96.73202614379085, 97.40259740259741, 97.41935483870968, 98.71794871794872, 98.72611464968153, 98.73417721518987, 99.37106918238993, 99.375, 99.37888198757764], [70.19867549668874, 95.39473684210526, 96.73202614379085, 97.40259740259741, 97.41935483870968, 97.43589743589743, 98.72611464968153, 98.73417721518987, 98.74213836477988, 99.375, 99.37888198757764], [64.23841059602648, 94.73684210526316, 96.07843137254902, 96.75324675324676, 97.41935483870968, 97.43589743589743, 98.72611464968153, 98.73417721518987, 98.74213836477988, 99.375, 99.37888198757764], [62.25165562913907, 94.07894736842105, 95.42483660130719, 96.75324675324676, 97.41935483870968, 97.43589743589743, 98.08917197452229, 98.73417721518987, 98.74213836477988, 99.375, 99.37888198757764], [58.27814569536424, 94.07894736842105, 95.42483660130719, 96.75324675324676, 97.41935483870968, 97.43589743589743, 97.45222929936305, 98.73417721518987, 98.74213836477988, 98.75, 99.37888198757764], [54.966887417218544, 92.76315789473684, 94.77124183006536, 96.75324675324676, 96.7741935483871, 97.43589743589743, 97.45222929936305, 98.73417721518987, 98.74213836477988, 98.75, 99.37888198757764], [54.966887417218544, 92.76315789473684, 94.77124183006536, 96.75324675324676, 96.7741935483871, 97.43589743589743, 97.45222929936305, 98.73417721518987, 98.74213836477988, 98.75, 99.37888198757764], [54.966887417218544, 92.76315789473684, 94.77124183006536, 96.75324675324676, 96.7741935483871, 97.43589743589743, 97.45222929936305, 98.73417721518987, 98.74213836477988, 98.75, 99.37888198757764]]}, {\"name\": \"P 5\", \"type\": \"surface\", \"visible\": false, \"y\": [90.0, 80.0, 70.0, 60.0, 50.0, 40.0, 29.999999999999993, 19.999999999999996, 9.999999999999998, 0.0], \"z\": [[93.37748344370861, 99.34210526315789, 99.34640522875817, 99.35064935064935, 99.35483870967742, 99.35897435897436, 99.36305732484077, 99.36708860759494, 99.37106918238993, 99.375, 99.37888198757764], [88.0794701986755, 97.36842105263158, 98.03921568627452, 98.7012987012987, 98.70967741935483, 99.35897435897436, 99.36305732484077, 99.36708860759494, 99.37106918238993, 99.375, 99.37888198757764], [79.47019867549669, 96.71052631578948, 97.38562091503267, 97.40259740259741, 98.70967741935483, 98.71794871794872, 98.72611464968153, 99.36708860759494, 99.37106918238993, 99.375, 99.37888198757764], [76.82119205298014, 96.71052631578948, 96.73202614379085, 97.40259740259741, 97.41935483870968, 98.71794871794872, 98.72611464968153, 98.73417721518987, 99.37106918238993, 99.375, 99.37888198757764], [68.87417218543047, 95.39473684210526, 96.73202614379085, 97.40259740259741, 97.41935483870968, 97.43589743589743, 98.72611464968153, 98.73417721518987, 98.74213836477988, 99.375, 99.37888198757764], [65.56291390728477, 94.73684210526316, 96.73202614379085, 96.75324675324676, 97.41935483870968, 97.43589743589743, 98.72611464968153, 98.73417721518987, 98.74213836477988, 99.375, 99.37888198757764], [63.576158940397356, 94.73684210526316, 96.07843137254902, 96.75324675324676, 97.41935483870968, 97.43589743589743, 98.08917197452229, 98.73417721518987, 98.74213836477988, 99.375, 99.37888198757764], [57.615894039735096, 93.42105263157895, 95.42483660130719, 96.75324675324676, 97.41935483870968, 97.43589743589743, 97.45222929936305, 98.73417721518987, 98.74213836477988, 98.75, 99.37888198757764], [58.27814569536424, 93.42105263157895, 95.42483660130719, 96.75324675324676, 97.41935483870968, 97.43589743589743, 97.45222929936305, 98.73417721518987, 98.74213836477988, 98.75, 99.37888198757764], [58.27814569536424, 93.42105263157895, 95.42483660130719, 96.75324675324676, 97.41935483870968, 97.43589743589743, 97.45222929936305, 98.73417721518987, 98.74213836477988, 98.75, 99.37888198757764]]}, {\"name\": \"P 6\", \"type\": \"surface\", \"visible\": false, \"y\": [90.0, 80.0, 70.0, 60.0, 50.0, 40.0, 29.999999999999993, 19.999999999999996, 9.999999999999998, 0.0], \"z\": [[95.36423841059603, 99.34210526315789, 99.34640522875817, 99.35064935064935, 99.35483870967742, 99.35897435897436, 99.36305732484077, 99.36708860759494, 99.37106918238993, 100.0, 100.0], [88.74172185430464, 98.6842105263158, 98.69281045751634, 98.7012987012987, 99.35483870967742, 99.35897435897436, 99.36305732484077, 99.36708860759494, 99.37106918238993, 99.375, 99.37888198757764], [85.43046357615894, 97.36842105263158, 97.38562091503267, 98.05194805194805, 98.70967741935483, 98.71794871794872, 99.36305732484077, 99.36708860759494, 99.37106918238993, 99.375, 99.37888198757764], [78.1456953642384, 96.71052631578948, 97.38562091503267, 97.40259740259741, 98.06451612903226, 98.71794871794872, 98.72611464968153, 99.36708860759494, 99.37106918238993, 99.375, 99.37888198757764], [76.82119205298014, 96.05263157894737, 96.73202614379085, 97.40259740259741, 97.41935483870968, 98.71794871794872, 98.72611464968153, 98.73417721518987, 99.37106918238993, 99.375, 99.37888198757764], [69.5364238410596, 95.39473684210526, 96.73202614379085, 97.40259740259741, 97.41935483870968, 97.43589743589743, 98.72611464968153, 98.73417721518987, 98.74213836477988, 99.375, 99.37888198757764], [66.2251655629139, 94.73684210526316, 96.73202614379085, 96.75324675324676, 97.41935483870968, 97.43589743589743, 98.72611464968153, 98.73417721518987, 98.74213836477988, 99.375, 99.37888198757764], [62.25165562913907, 94.07894736842105, 95.42483660130719, 96.75324675324676, 97.41935483870968, 97.43589743589743, 98.08917197452229, 98.73417721518987, 98.74213836477988, 99.375, 99.37888198757764], [62.25165562913907, 94.07894736842105, 95.42483660130719, 96.75324675324676, 97.41935483870968, 97.43589743589743, 98.08917197452229, 98.73417721518987, 98.74213836477988, 98.75, 99.37888198757764], [62.25165562913907, 94.07894736842105, 95.42483660130719, 96.75324675324676, 97.41935483870968, 97.43589743589743, 98.08917197452229, 98.73417721518987, 98.74213836477988, 98.75, 99.37888198757764]]}],\n",
       "                        {\"autosize\": true, \"scene\": {\"xaxis\": {\"title\": {\"text\": \"ammount of supporting pages\"}}, \"yaxis\": {\"title\": {\"text\": \"percentile of pagerank gained from accessible pages\"}}, \"zaxis\": {\"title\": {\"text\": \"Pagerank percentile \"}}}, \"sliders\": [{\"active\": 10, \"currentvalue\": {\"prefix\": \"Amount of accessible pages: \"}, \"pad\": {\"t\": 50}, \"steps\": [{\"args\": [\"visible\", [true, false, false, false, false, false, false]], \"method\": \"restyle\"}, {\"args\": [\"visible\", [false, true, false, false, false, false, false]], \"method\": \"restyle\"}, {\"args\": [\"visible\", [false, false, true, false, false, false, false]], \"method\": \"restyle\"}, {\"args\": [\"visible\", [false, false, false, true, false, false, false]], \"method\": \"restyle\"}, {\"args\": [\"visible\", [false, false, false, false, true, false, false]], \"method\": \"restyle\"}, {\"args\": [\"visible\", [false, false, false, false, false, true, false]], \"method\": \"restyle\"}, {\"args\": [\"visible\", [false, false, false, false, false, false, true]], \"method\": \"restyle\"}]}], \"template\": {\"data\": {\"bar\": [{\"error_x\": {\"color\": \"#2a3f5f\"}, \"error_y\": {\"color\": \"#2a3f5f\"}, \"marker\": {\"line\": {\"color\": \"#E5ECF6\", \"width\": 0.5}}, \"type\": \"bar\"}], \"barpolar\": [{\"marker\": {\"line\": {\"color\": \"#E5ECF6\", \"width\": 0.5}}, \"type\": \"barpolar\"}], \"carpet\": [{\"aaxis\": {\"endlinecolor\": \"#2a3f5f\", \"gridcolor\": \"white\", \"linecolor\": \"white\", \"minorgridcolor\": \"white\", \"startlinecolor\": \"#2a3f5f\"}, \"baxis\": {\"endlinecolor\": \"#2a3f5f\", \"gridcolor\": \"white\", \"linecolor\": \"white\", \"minorgridcolor\": \"white\", \"startlinecolor\": \"#2a3f5f\"}, \"type\": \"carpet\"}], \"choropleth\": [{\"colorbar\": {\"outlinewidth\": 0, \"ticks\": \"\"}, \"type\": \"choropleth\"}], \"contour\": [{\"colorbar\": {\"outlinewidth\": 0, \"ticks\": \"\"}, \"colorscale\": [[0.0, \"#0d0887\"], [0.1111111111111111, \"#46039f\"], [0.2222222222222222, \"#7201a8\"], [0.3333333333333333, \"#9c179e\"], [0.4444444444444444, \"#bd3786\"], [0.5555555555555556, \"#d8576b\"], [0.6666666666666666, \"#ed7953\"], [0.7777777777777778, \"#fb9f3a\"], [0.8888888888888888, \"#fdca26\"], [1.0, \"#f0f921\"]], \"type\": \"contour\"}], \"contourcarpet\": [{\"colorbar\": {\"outlinewidth\": 0, \"ticks\": \"\"}, \"type\": \"contourcarpet\"}], \"heatmap\": [{\"colorbar\": {\"outlinewidth\": 0, \"ticks\": \"\"}, \"colorscale\": [[0.0, \"#0d0887\"], [0.1111111111111111, \"#46039f\"], [0.2222222222222222, \"#7201a8\"], [0.3333333333333333, \"#9c179e\"], [0.4444444444444444, \"#bd3786\"], [0.5555555555555556, \"#d8576b\"], [0.6666666666666666, \"#ed7953\"], [0.7777777777777778, \"#fb9f3a\"], [0.8888888888888888, \"#fdca26\"], [1.0, \"#f0f921\"]], \"type\": \"heatmap\"}], \"heatmapgl\": [{\"colorbar\": {\"outlinewidth\": 0, \"ticks\": \"\"}, \"colorscale\": [[0.0, \"#0d0887\"], [0.1111111111111111, \"#46039f\"], [0.2222222222222222, \"#7201a8\"], [0.3333333333333333, \"#9c179e\"], [0.4444444444444444, \"#bd3786\"], [0.5555555555555556, \"#d8576b\"], [0.6666666666666666, \"#ed7953\"], [0.7777777777777778, \"#fb9f3a\"], [0.8888888888888888, \"#fdca26\"], [1.0, \"#f0f921\"]], \"type\": \"heatmapgl\"}], \"histogram\": [{\"marker\": {\"colorbar\": {\"outlinewidth\": 0, \"ticks\": \"\"}}, \"type\": \"histogram\"}], \"histogram2d\": [{\"colorbar\": {\"outlinewidth\": 0, \"ticks\": \"\"}, \"colorscale\": [[0.0, \"#0d0887\"], [0.1111111111111111, \"#46039f\"], [0.2222222222222222, \"#7201a8\"], [0.3333333333333333, \"#9c179e\"], [0.4444444444444444, \"#bd3786\"], [0.5555555555555556, \"#d8576b\"], [0.6666666666666666, \"#ed7953\"], [0.7777777777777778, \"#fb9f3a\"], [0.8888888888888888, \"#fdca26\"], [1.0, \"#f0f921\"]], \"type\": \"histogram2d\"}], \"histogram2dcontour\": [{\"colorbar\": {\"outlinewidth\": 0, \"ticks\": \"\"}, \"colorscale\": [[0.0, \"#0d0887\"], [0.1111111111111111, \"#46039f\"], [0.2222222222222222, \"#7201a8\"], [0.3333333333333333, \"#9c179e\"], [0.4444444444444444, \"#bd3786\"], [0.5555555555555556, \"#d8576b\"], [0.6666666666666666, \"#ed7953\"], [0.7777777777777778, \"#fb9f3a\"], [0.8888888888888888, \"#fdca26\"], [1.0, \"#f0f921\"]], \"type\": \"histogram2dcontour\"}], \"mesh3d\": [{\"colorbar\": {\"outlinewidth\": 0, \"ticks\": \"\"}, \"type\": \"mesh3d\"}], \"parcoords\": [{\"line\": {\"colorbar\": {\"outlinewidth\": 0, \"ticks\": \"\"}}, \"type\": \"parcoords\"}], \"pie\": [{\"automargin\": true, \"type\": \"pie\"}], \"scatter\": [{\"marker\": {\"colorbar\": {\"outlinewidth\": 0, \"ticks\": \"\"}}, \"type\": \"scatter\"}], \"scatter3d\": [{\"line\": {\"colorbar\": {\"outlinewidth\": 0, \"ticks\": \"\"}}, \"marker\": {\"colorbar\": {\"outlinewidth\": 0, \"ticks\": \"\"}}, \"type\": \"scatter3d\"}], \"scattercarpet\": [{\"marker\": {\"colorbar\": {\"outlinewidth\": 0, \"ticks\": \"\"}}, \"type\": \"scattercarpet\"}], \"scattergeo\": [{\"marker\": {\"colorbar\": {\"outlinewidth\": 0, \"ticks\": \"\"}}, \"type\": \"scattergeo\"}], \"scattergl\": [{\"marker\": {\"colorbar\": {\"outlinewidth\": 0, \"ticks\": \"\"}}, \"type\": \"scattergl\"}], \"scattermapbox\": [{\"marker\": {\"colorbar\": {\"outlinewidth\": 0, \"ticks\": \"\"}}, \"type\": \"scattermapbox\"}], \"scatterpolar\": [{\"marker\": {\"colorbar\": {\"outlinewidth\": 0, \"ticks\": \"\"}}, \"type\": \"scatterpolar\"}], \"scatterpolargl\": [{\"marker\": {\"colorbar\": {\"outlinewidth\": 0, \"ticks\": \"\"}}, \"type\": \"scatterpolargl\"}], \"scatterternary\": [{\"marker\": {\"colorbar\": {\"outlinewidth\": 0, \"ticks\": \"\"}}, \"type\": \"scatterternary\"}], \"surface\": [{\"colorbar\": {\"outlinewidth\": 0, \"ticks\": \"\"}, \"colorscale\": [[0.0, \"#0d0887\"], [0.1111111111111111, \"#46039f\"], [0.2222222222222222, \"#7201a8\"], [0.3333333333333333, \"#9c179e\"], [0.4444444444444444, \"#bd3786\"], [0.5555555555555556, \"#d8576b\"], [0.6666666666666666, \"#ed7953\"], [0.7777777777777778, \"#fb9f3a\"], [0.8888888888888888, \"#fdca26\"], [1.0, \"#f0f921\"]], \"type\": \"surface\"}], \"table\": [{\"cells\": {\"fill\": {\"color\": \"#EBF0F8\"}, \"line\": {\"color\": \"white\"}}, \"header\": {\"fill\": {\"color\": \"#C8D4E3\"}, \"line\": {\"color\": \"white\"}}, \"type\": \"table\"}]}, \"layout\": {\"annotationdefaults\": {\"arrowcolor\": \"#2a3f5f\", \"arrowhead\": 0, \"arrowwidth\": 1}, \"coloraxis\": {\"colorbar\": {\"outlinewidth\": 0, \"ticks\": \"\"}}, \"colorscale\": {\"diverging\": [[0, \"#8e0152\"], [0.1, \"#c51b7d\"], [0.2, \"#de77ae\"], [0.3, \"#f1b6da\"], [0.4, \"#fde0ef\"], [0.5, \"#f7f7f7\"], [0.6, \"#e6f5d0\"], [0.7, \"#b8e186\"], [0.8, \"#7fbc41\"], [0.9, \"#4d9221\"], [1, \"#276419\"]], \"sequential\": [[0.0, \"#0d0887\"], [0.1111111111111111, \"#46039f\"], [0.2222222222222222, \"#7201a8\"], [0.3333333333333333, \"#9c179e\"], [0.4444444444444444, \"#bd3786\"], [0.5555555555555556, \"#d8576b\"], [0.6666666666666666, \"#ed7953\"], [0.7777777777777778, \"#fb9f3a\"], [0.8888888888888888, \"#fdca26\"], [1.0, \"#f0f921\"]], \"sequentialminus\": [[0.0, \"#0d0887\"], [0.1111111111111111, \"#46039f\"], [0.2222222222222222, \"#7201a8\"], [0.3333333333333333, \"#9c179e\"], [0.4444444444444444, \"#bd3786\"], [0.5555555555555556, \"#d8576b\"], [0.6666666666666666, \"#ed7953\"], [0.7777777777777778, \"#fb9f3a\"], [0.8888888888888888, \"#fdca26\"], [1.0, \"#f0f921\"]]}, \"colorway\": [\"#636efa\", \"#EF553B\", \"#00cc96\", \"#ab63fa\", \"#FFA15A\", \"#19d3f3\", \"#FF6692\", \"#B6E880\", \"#FF97FF\", \"#FECB52\"], \"font\": {\"color\": \"#2a3f5f\"}, \"geo\": {\"bgcolor\": \"white\", \"lakecolor\": \"white\", \"landcolor\": \"#E5ECF6\", \"showlakes\": true, \"showland\": true, \"subunitcolor\": \"white\"}, \"hoverlabel\": {\"align\": \"left\"}, \"hovermode\": \"closest\", \"mapbox\": {\"style\": \"light\"}, \"paper_bgcolor\": \"white\", \"plot_bgcolor\": \"#E5ECF6\", \"polar\": {\"angularaxis\": {\"gridcolor\": \"white\", \"linecolor\": \"white\", \"ticks\": \"\"}, \"bgcolor\": \"#E5ECF6\", \"radialaxis\": {\"gridcolor\": \"white\", \"linecolor\": \"white\", \"ticks\": \"\"}}, \"scene\": {\"xaxis\": {\"backgroundcolor\": \"#E5ECF6\", \"gridcolor\": \"white\", \"gridwidth\": 2, \"linecolor\": \"white\", \"showbackground\": true, \"ticks\": \"\", \"zerolinecolor\": \"white\"}, \"yaxis\": {\"backgroundcolor\": \"#E5ECF6\", \"gridcolor\": \"white\", \"gridwidth\": 2, \"linecolor\": \"white\", \"showbackground\": true, \"ticks\": \"\", \"zerolinecolor\": \"white\"}, \"zaxis\": {\"backgroundcolor\": \"#E5ECF6\", \"gridcolor\": \"white\", \"gridwidth\": 2, \"linecolor\": \"white\", \"showbackground\": true, \"ticks\": \"\", \"zerolinecolor\": \"white\"}}, \"shapedefaults\": {\"line\": {\"color\": \"#2a3f5f\"}}, \"ternary\": {\"aaxis\": {\"gridcolor\": \"white\", \"linecolor\": \"white\", \"ticks\": \"\"}, \"baxis\": {\"gridcolor\": \"white\", \"linecolor\": \"white\", \"ticks\": \"\"}, \"bgcolor\": \"#E5ECF6\", \"caxis\": {\"gridcolor\": \"white\", \"linecolor\": \"white\", \"ticks\": \"\"}}, \"title\": {\"x\": 0.05}, \"xaxis\": {\"automargin\": true, \"gridcolor\": \"white\", \"linecolor\": \"white\", \"ticks\": \"\", \"title\": {\"standoff\": 15}, \"zerolinecolor\": \"white\", \"zerolinewidth\": 2}, \"yaxis\": {\"automargin\": true, \"gridcolor\": \"white\", \"linecolor\": \"white\", \"ticks\": \"\", \"title\": {\"standoff\": 15}, \"zerolinecolor\": \"white\", \"zerolinewidth\": 2}}}, \"title\": {\"text\": \"Pagerank percentile  of T based on f and r\"}},\n",
       "                        {\"responsive\": true}\n",
       "                    ).then(function(){\n",
       "                            \n",
       "var gd = document.getElementById('d387de91-c223-451d-872b-ddbeb86a2882');\n",
       "var x = new MutationObserver(function (mutations, observer) {{\n",
       "        var display = window.getComputedStyle(gd).display;\n",
       "        if (!display || display === 'none') {{\n",
       "            console.log([gd, 'removed!']);\n",
       "            Plotly.purge(gd);\n",
       "            observer.disconnect();\n",
       "        }}\n",
       "}});\n",
       "\n",
       "// Listen for the removal of the full notebook cells\n",
       "var notebookContainer = gd.closest('#notebook-container');\n",
       "if (notebookContainer) {{\n",
       "    x.observe(notebookContainer, {childList: true});\n",
       "}}\n",
       "\n",
       "// Listen for the clearing of the current output cell\n",
       "var outputEl = gd.closest('.output');\n",
       "if (outputEl) {{\n",
       "    x.observe(outputEl, {childList: true});\n",
       "}}\n",
       "\n",
       "                        })\n",
       "                };\n",
       "                });\n",
       "            </script>\n",
       "        </div>"
      ]
     },
     "metadata": {},
     "output_type": "display_data"
    },
    {
     "data": {
      "application/vnd.plotly.v1+json": {
       "config": {
        "plotlyServerURL": "https://plot.ly"
       },
       "data": [
        {
         "name": "P 0",
         "type": "surface",
         "visible": true,
         "y": [
          90,
          80,
          70,
          60,
          50,
          40,
          29.999999999999993,
          19.999999999999996,
          9.999999999999998,
          0
         ],
         "z": [
          [
           17.88079470198676,
           89.40397350993378,
           92.71523178807946,
           94.70198675496688,
           96.6887417218543,
           96.6887417218543,
           97.35099337748345,
           97.35099337748345,
           98.67549668874172,
           98.67549668874172,
           98.67549668874172
          ],
          [
           17.88079470198676,
           89.40397350993378,
           92.71523178807946,
           94.70198675496688,
           96.6887417218543,
           96.6887417218543,
           97.35099337748345,
           97.35099337748345,
           98.67549668874172,
           98.67549668874172,
           98.67549668874172
          ],
          [
           17.88079470198676,
           89.40397350993378,
           92.71523178807946,
           94.70198675496688,
           96.6887417218543,
           96.6887417218543,
           97.35099337748345,
           97.35099337748345,
           98.67549668874172,
           98.67549668874172,
           98.67549668874172
          ],
          [
           17.88079470198676,
           89.40397350993378,
           92.71523178807946,
           94.70198675496688,
           96.6887417218543,
           96.6887417218543,
           97.35099337748345,
           97.35099337748345,
           98.67549668874172,
           98.67549668874172,
           98.67549668874172
          ],
          [
           17.88079470198676,
           89.40397350993378,
           92.71523178807946,
           94.70198675496688,
           96.6887417218543,
           96.6887417218543,
           97.35099337748345,
           97.35099337748345,
           98.67549668874172,
           98.67549668874172,
           98.67549668874172
          ],
          [
           17.88079470198676,
           89.40397350993378,
           92.71523178807946,
           94.70198675496688,
           96.6887417218543,
           96.6887417218543,
           97.35099337748345,
           97.35099337748345,
           98.67549668874172,
           98.67549668874172,
           98.67549668874172
          ],
          [
           17.88079470198676,
           89.40397350993378,
           92.71523178807946,
           94.70198675496688,
           96.6887417218543,
           96.6887417218543,
           97.35099337748345,
           97.35099337748345,
           98.67549668874172,
           98.67549668874172,
           98.67549668874172
          ],
          [
           17.88079470198676,
           89.40397350993378,
           92.71523178807946,
           94.70198675496688,
           96.6887417218543,
           96.6887417218543,
           97.35099337748345,
           97.35099337748345,
           98.67549668874172,
           98.67549668874172,
           98.67549668874172
          ],
          [
           17.88079470198676,
           89.40397350993378,
           92.71523178807946,
           94.70198675496688,
           96.6887417218543,
           96.6887417218543,
           97.35099337748345,
           97.35099337748345,
           98.67549668874172,
           98.67549668874172,
           98.67549668874172
          ],
          [
           17.88079470198676,
           89.40397350993378,
           92.71523178807946,
           94.70198675496688,
           96.6887417218543,
           96.6887417218543,
           97.35099337748345,
           97.35099337748345,
           98.67549668874172,
           98.67549668874172,
           98.67549668874172
          ]
         ]
        },
        {
         "name": "P 1",
         "type": "surface",
         "visible": false,
         "y": [
          90,
          80,
          70,
          60,
          50,
          40,
          29.999999999999993,
          19.999999999999996,
          9.999999999999998,
          0
         ],
         "z": [
          [
           64.90066225165563,
           94.70198675496688,
           96.6887417218543,
           96.6887417218543,
           97.35099337748345,
           97.35099337748345,
           98.67549668874172,
           98.67549668874172,
           98.67549668874172,
           99.33774834437087,
           99.33774834437087
          ],
          [
           54.966887417218544,
           93.37748344370861,
           94.70198675496688,
           96.6887417218543,
           97.35099337748345,
           97.35099337748345,
           97.35099337748345,
           98.67549668874172,
           98.67549668874172,
           98.67549668874172,
           99.33774834437087
          ],
          [
           46.35761589403974,
           92.71523178807946,
           94.70198675496688,
           96.02649006622516,
           96.6887417218543,
           97.35099337748345,
           97.35099337748345,
           98.67549668874172,
           98.67549668874172,
           98.67549668874172,
           99.33774834437087
          ],
          [
           41.72185430463576,
           91.3907284768212,
           94.03973509933775,
           96.02649006622516,
           96.6887417218543,
           97.35099337748345,
           97.35099337748345,
           98.01324503311258,
           98.67549668874172,
           98.67549668874172,
           99.33774834437087
          ],
          [
           39.0728476821192,
           91.3907284768212,
           94.03973509933775,
           95.36423841059603,
           96.6887417218543,
           97.35099337748345,
           97.35099337748345,
           97.35099337748345,
           98.67549668874172,
           98.67549668874172,
           98.67549668874172
          ],
          [
           35.76158940397352,
           90.72847682119206,
           94.03973509933775,
           95.36423841059603,
           96.6887417218543,
           97.35099337748345,
           97.35099337748345,
           97.35099337748345,
           98.67549668874172,
           98.67549668874172,
           98.67549668874172
          ],
          [
           25.16556291390728,
           90.72847682119206,
           94.03973509933775,
           95.36423841059603,
           96.6887417218543,
           97.35099337748345,
           97.35099337748345,
           97.35099337748345,
           98.67549668874172,
           98.67549668874172,
           98.67549668874172
          ],
          [
           25.16556291390728,
           90.06622516556291,
           93.37748344370861,
           95.36423841059603,
           96.6887417218543,
           97.35099337748345,
           97.35099337748345,
           97.35099337748345,
           98.67549668874172,
           98.67549668874172,
           98.67549668874172
          ],
          [
           25.16556291390728,
           90.06622516556291,
           93.37748344370861,
           95.36423841059603,
           96.6887417218543,
           97.35099337748345,
           97.35099337748345,
           97.35099337748345,
           98.67549668874172,
           98.67549668874172,
           98.67549668874172
          ],
          [
           25.82781456953643,
           90.06622516556291,
           93.37748344370861,
           95.36423841059603,
           96.6887417218543,
           97.35099337748345,
           97.35099337748345,
           97.35099337748345,
           98.67549668874172,
           98.67549668874172,
           98.67549668874172
          ]
         ]
        },
        {
         "name": "P 2",
         "type": "surface",
         "visible": false,
         "y": [
          90,
          80,
          70,
          60,
          50,
          40,
          29.999999999999993,
          19.999999999999996,
          9.999999999999998,
          0
         ],
         "z": [
          [
           78.80794701986756,
           96.6887417218543,
           97.35099337748345,
           97.35099337748345,
           98.67549668874172,
           98.67549668874172,
           98.67549668874172,
           99.33774834437087,
           99.33774834437087,
           99.33774834437087,
           99.33774834437087
          ],
          [
           68.21192052980132,
           95.36423841059603,
           96.6887417218543,
           97.35099337748345,
           97.35099337748345,
           97.35099337748345,
           98.67549668874172,
           98.67549668874172,
           98.67549668874172,
           99.33774834437087,
           99.33774834437087
          ],
          [
           61.58940397350993,
           94.70198675496688,
           95.36423841059603,
           96.6887417218543,
           97.35099337748345,
           97.35099337748345,
           98.01324503311258,
           98.67549668874172,
           98.67549668874172,
           99.33774834437087,
           99.33774834437087
          ],
          [
           56.29139072847682,
           93.37748344370861,
           94.70198675496688,
           96.6887417218543,
           96.6887417218543,
           97.35099337748345,
           97.35099337748345,
           98.67549668874172,
           98.67549668874172,
           98.67549668874172,
           99.33774834437087
          ],
          [
           52.317880794701985,
           92.71523178807946,
           94.70198675496688,
           96.02649006622516,
           96.6887417218543,
           97.35099337748345,
           97.35099337748345,
           98.67549668874172,
           98.67549668874172,
           98.67549668874172,
           99.33774834437087
          ],
          [
           46.35761589403974,
           92.71523178807946,
           94.70198675496688,
           96.02649006622516,
           96.6887417218543,
           97.35099337748345,
           97.35099337748345,
           98.01324503311258,
           98.67549668874172,
           98.67549668874172,
           99.33774834437087
          ],
          [
           42.384105960264904,
           92.71523178807946,
           94.70198675496688,
           96.02649006622516,
           96.6887417218543,
           97.35099337748345,
           97.35099337748345,
           98.01324503311258,
           98.67549668874172,
           98.67549668874172,
           99.33774834437087
          ],
          [
           41.05960264900662,
           91.3907284768212,
           94.03973509933775,
           95.36423841059603,
           96.6887417218543,
           97.35099337748345,
           97.35099337748345,
           98.01324503311258,
           98.67549668874172,
           98.67549668874172,
           98.67549668874172
          ],
          [
           41.05960264900662,
           91.3907284768212,
           94.03973509933775,
           95.36423841059603,
           96.6887417218543,
           97.35099337748345,
           97.35099337748345,
           98.01324503311258,
           98.67549668874172,
           98.67549668874172,
           98.67549668874172
          ],
          [
           41.05960264900662,
           91.3907284768212,
           94.03973509933775,
           95.36423841059603,
           96.6887417218543,
           97.35099337748345,
           97.35099337748345,
           98.01324503311258,
           98.67549668874172,
           98.67549668874172,
           98.67549668874172
          ]
         ]
        },
        {
         "name": "P 3",
         "type": "surface",
         "visible": false,
         "y": [
          90,
          80,
          70,
          60,
          50,
          40,
          29.999999999999993,
          19.999999999999996,
          9.999999999999998,
          0
         ],
         "z": [
          [
           88.74172185430464,
           97.35099337748345,
           98.67549668874172,
           98.67549668874172,
           98.67549668874172,
           99.33774834437087,
           99.33774834437087,
           99.33774834437087,
           99.33774834437087,
           99.33774834437087,
           99.33774834437087
          ],
          [
           78.1456953642384,
           96.6887417218543,
           97.35099337748345,
           97.35099337748345,
           97.35099337748345,
           98.67549668874172,
           98.67549668874172,
           98.67549668874172,
           99.33774834437087,
           99.33774834437087,
           99.33774834437087
          ],
          [
           70.19867549668874,
           95.36423841059603,
           96.6887417218543,
           97.35099337748345,
           97.35099337748345,
           97.35099337748345,
           98.67549668874172,
           98.67549668874172,
           98.67549668874172,
           99.33774834437087,
           99.33774834437087
          ],
          [
           64.23841059602648,
           94.70198675496688,
           96.02649006622516,
           96.6887417218543,
           97.35099337748345,
           97.35099337748345,
           98.01324503311258,
           98.67549668874172,
           98.67549668874172,
           99.33774834437087,
           99.33774834437087
          ],
          [
           58.27814569536424,
           93.37748344370861,
           95.36423841059603,
           96.6887417218543,
           97.35099337748345,
           97.35099337748345,
           97.35099337748345,
           98.67549668874172,
           98.67549668874172,
           98.67549668874172,
           99.33774834437087
          ],
          [
           54.966887417218544,
           93.37748344370861,
           94.70198675496688,
           96.6887417218543,
           96.6887417218543,
           97.35099337748345,
           97.35099337748345,
           98.67549668874172,
           98.67549668874172,
           98.67549668874172,
           99.33774834437087
          ],
          [
           52.980132450331126,
           92.71523178807946,
           94.70198675496688,
           96.6887417218543,
           96.6887417218543,
           97.35099337748345,
           97.35099337748345,
           98.67549668874172,
           98.67549668874172,
           98.67549668874172,
           99.33774834437087
          ],
          [
           46.35761589403974,
           92.71523178807946,
           94.70198675496688,
           96.02649006622516,
           96.6887417218543,
           97.35099337748345,
           97.35099337748345,
           98.67549668874172,
           98.67549668874172,
           98.67549668874172,
           99.33774834437087
          ],
          [
           47.682119205298015,
           92.71523178807946,
           94.70198675496688,
           96.02649006622516,
           96.6887417218543,
           97.35099337748345,
           97.35099337748345,
           98.01324503311258,
           98.67549668874172,
           98.67549668874172,
           99.33774834437087
          ],
          [
           46.35761589403974,
           92.71523178807946,
           94.70198675496688,
           96.02649006622516,
           96.6887417218543,
           97.35099337748345,
           97.35099337748345,
           98.67549668874172,
           98.67549668874172,
           98.67549668874172,
           99.33774834437087
          ]
         ]
        },
        {
         "name": "P 4",
         "type": "surface",
         "visible": false,
         "y": [
          90,
          80,
          70,
          60,
          50,
          40,
          29.999999999999993,
          19.999999999999996,
          9.999999999999998,
          0
         ],
         "z": [
          [
           91.3907284768212,
           98.67549668874172,
           98.67549668874172,
           99.33774834437087,
           99.33774834437087,
           99.33774834437087,
           99.33774834437087,
           99.33774834437087,
           99.33774834437087,
           99.33774834437087,
           99.33774834437087
          ],
          [
           84.10596026490066,
           97.35099337748345,
           97.35099337748345,
           98.01324503311258,
           98.67549668874172,
           98.67549668874172,
           99.33774834437087,
           99.33774834437087,
           99.33774834437087,
           99.33774834437087,
           99.33774834437087
          ],
          [
           76.82119205298014,
           96.6887417218543,
           96.6887417218543,
           97.35099337748345,
           97.35099337748345,
           98.67549668874172,
           98.67549668874172,
           98.67549668874172,
           99.33774834437087,
           99.33774834437087,
           99.33774834437087
          ],
          [
           70.19867549668874,
           95.36423841059603,
           96.6887417218543,
           97.35099337748345,
           97.35099337748345,
           97.35099337748345,
           98.67549668874172,
           98.67549668874172,
           98.67549668874172,
           99.33774834437087,
           99.33774834437087
          ],
          [
           64.23841059602648,
           94.70198675496688,
           96.02649006622516,
           96.6887417218543,
           97.35099337748345,
           97.35099337748345,
           98.67549668874172,
           98.67549668874172,
           98.67549668874172,
           99.33774834437087,
           99.33774834437087
          ],
          [
           62.25165562913907,
           94.03973509933775,
           95.36423841059603,
           96.6887417218543,
           97.35099337748345,
           97.35099337748345,
           98.01324503311258,
           98.67549668874172,
           98.67549668874172,
           99.33774834437087,
           99.33774834437087
          ],
          [
           58.27814569536424,
           94.03973509933775,
           95.36423841059603,
           96.6887417218543,
           97.35099337748345,
           97.35099337748345,
           97.35099337748345,
           98.67549668874172,
           98.67549668874172,
           98.67549668874172,
           99.33774834437087
          ],
          [
           54.966887417218544,
           92.71523178807946,
           94.70198675496688,
           96.6887417218543,
           96.6887417218543,
           97.35099337748345,
           97.35099337748345,
           98.67549668874172,
           98.67549668874172,
           98.67549668874172,
           99.33774834437087
          ],
          [
           54.966887417218544,
           92.71523178807946,
           94.70198675496688,
           96.6887417218543,
           96.6887417218543,
           97.35099337748345,
           97.35099337748345,
           98.67549668874172,
           98.67549668874172,
           98.67549668874172,
           99.33774834437087
          ],
          [
           54.966887417218544,
           92.71523178807946,
           94.70198675496688,
           96.6887417218543,
           96.6887417218543,
           97.35099337748345,
           97.35099337748345,
           98.67549668874172,
           98.67549668874172,
           98.67549668874172,
           99.33774834437087
          ]
         ]
        },
        {
         "name": "P 5",
         "type": "surface",
         "visible": false,
         "y": [
          90,
          80,
          70,
          60,
          50,
          40,
          29.999999999999993,
          19.999999999999996,
          9.999999999999998,
          0
         ],
         "z": [
          [
           93.37748344370861,
           99.33774834437087,
           99.33774834437087,
           99.33774834437087,
           99.33774834437087,
           99.33774834437087,
           99.33774834437087,
           99.33774834437087,
           99.33774834437087,
           99.33774834437087,
           99.33774834437087
          ],
          [
           88.0794701986755,
           97.35099337748345,
           98.01324503311258,
           98.67549668874172,
           98.67549668874172,
           99.33774834437087,
           99.33774834437087,
           99.33774834437087,
           99.33774834437087,
           99.33774834437087,
           99.33774834437087
          ],
          [
           79.47019867549669,
           96.6887417218543,
           97.35099337748345,
           97.35099337748345,
           98.67549668874172,
           98.67549668874172,
           98.67549668874172,
           99.33774834437087,
           99.33774834437087,
           99.33774834437087,
           99.33774834437087
          ],
          [
           76.82119205298014,
           96.6887417218543,
           96.6887417218543,
           97.35099337748345,
           97.35099337748345,
           98.67549668874172,
           98.67549668874172,
           98.67549668874172,
           99.33774834437087,
           99.33774834437087,
           99.33774834437087
          ],
          [
           68.87417218543047,
           95.36423841059603,
           96.6887417218543,
           97.35099337748345,
           97.35099337748345,
           97.35099337748345,
           98.67549668874172,
           98.67549668874172,
           98.67549668874172,
           99.33774834437087,
           99.33774834437087
          ],
          [
           65.56291390728477,
           94.70198675496688,
           96.6887417218543,
           96.6887417218543,
           97.35099337748345,
           97.35099337748345,
           98.67549668874172,
           98.67549668874172,
           98.67549668874172,
           99.33774834437087,
           99.33774834437087
          ],
          [
           63.576158940397356,
           94.70198675496688,
           96.02649006622516,
           96.6887417218543,
           97.35099337748345,
           97.35099337748345,
           98.01324503311258,
           98.67549668874172,
           98.67549668874172,
           99.33774834437087,
           99.33774834437087
          ],
          [
           57.615894039735096,
           93.37748344370861,
           95.36423841059603,
           96.6887417218543,
           97.35099337748345,
           97.35099337748345,
           97.35099337748345,
           98.67549668874172,
           98.67549668874172,
           98.67549668874172,
           99.33774834437087
          ],
          [
           58.27814569536424,
           93.37748344370861,
           95.36423841059603,
           96.6887417218543,
           97.35099337748345,
           97.35099337748345,
           97.35099337748345,
           98.67549668874172,
           98.67549668874172,
           98.67549668874172,
           99.33774834437087
          ],
          [
           58.27814569536424,
           93.37748344370861,
           95.36423841059603,
           96.6887417218543,
           97.35099337748345,
           97.35099337748345,
           97.35099337748345,
           98.67549668874172,
           98.67549668874172,
           98.67549668874172,
           99.33774834437087
          ]
         ]
        },
        {
         "name": "P 6",
         "type": "surface",
         "visible": false,
         "y": [
          90,
          80,
          70,
          60,
          50,
          40,
          29.999999999999993,
          19.999999999999996,
          9.999999999999998,
          0
         ],
         "z": [
          [
           95.36423841059603,
           99.33774834437087,
           99.33774834437087,
           99.33774834437087,
           99.33774834437087,
           99.33774834437087,
           99.33774834437087,
           99.33774834437087,
           99.33774834437087,
           100,
           100
          ],
          [
           88.74172185430464,
           98.67549668874172,
           98.67549668874172,
           98.67549668874172,
           99.33774834437087,
           99.33774834437087,
           99.33774834437087,
           99.33774834437087,
           99.33774834437087,
           99.33774834437087,
           99.33774834437087
          ],
          [
           85.43046357615894,
           97.35099337748345,
           97.35099337748345,
           98.01324503311258,
           98.67549668874172,
           98.67549668874172,
           99.33774834437087,
           99.33774834437087,
           99.33774834437087,
           99.33774834437087,
           99.33774834437087
          ],
          [
           78.1456953642384,
           96.6887417218543,
           97.35099337748345,
           97.35099337748345,
           98.01324503311258,
           98.67549668874172,
           98.67549668874172,
           99.33774834437087,
           99.33774834437087,
           99.33774834437087,
           99.33774834437087
          ],
          [
           76.82119205298014,
           96.02649006622516,
           96.6887417218543,
           97.35099337748345,
           97.35099337748345,
           98.67549668874172,
           98.67549668874172,
           98.67549668874172,
           99.33774834437087,
           99.33774834437087,
           99.33774834437087
          ],
          [
           69.5364238410596,
           95.36423841059603,
           96.6887417218543,
           97.35099337748345,
           97.35099337748345,
           97.35099337748345,
           98.67549668874172,
           98.67549668874172,
           98.67549668874172,
           99.33774834437087,
           99.33774834437087
          ],
          [
           66.2251655629139,
           94.70198675496688,
           96.6887417218543,
           96.6887417218543,
           97.35099337748345,
           97.35099337748345,
           98.67549668874172,
           98.67549668874172,
           98.67549668874172,
           99.33774834437087,
           99.33774834437087
          ],
          [
           62.25165562913907,
           94.03973509933775,
           95.36423841059603,
           96.6887417218543,
           97.35099337748345,
           97.35099337748345,
           98.01324503311258,
           98.67549668874172,
           98.67549668874172,
           99.33774834437087,
           99.33774834437087
          ],
          [
           62.25165562913907,
           94.03973509933775,
           95.36423841059603,
           96.6887417218543,
           97.35099337748345,
           97.35099337748345,
           98.01324503311258,
           98.67549668874172,
           98.67549668874172,
           98.67549668874172,
           99.33774834437087
          ],
          [
           62.25165562913907,
           94.03973509933775,
           95.36423841059603,
           96.6887417218543,
           97.35099337748345,
           97.35099337748345,
           98.01324503311258,
           98.67549668874172,
           98.67549668874172,
           98.67549668874172,
           99.33774834437087
          ]
         ]
        }
       ],
       "layout": {
        "autosize": true,
        "scene": {
         "xaxis": {
          "title": {
           "text": "ammount of supporting pages"
          }
         },
         "yaxis": {
          "title": {
           "text": "percentile of pagerank gained from accessible pages"
          }
         },
         "zaxis": {
          "title": {
           "text": "Adjusted pagerank percentile"
          }
         }
        },
        "sliders": [
         {
          "active": 10,
          "currentvalue": {
           "prefix": "Amount of accessible pages: "
          },
          "pad": {
           "t": 50
          },
          "steps": [
           {
            "args": [
             "visible",
             [
              true,
              false,
              false,
              false,
              false,
              false,
              false
             ]
            ],
            "method": "restyle"
           },
           {
            "args": [
             "visible",
             [
              false,
              true,
              false,
              false,
              false,
              false,
              false
             ]
            ],
            "method": "restyle"
           },
           {
            "args": [
             "visible",
             [
              false,
              false,
              true,
              false,
              false,
              false,
              false
             ]
            ],
            "method": "restyle"
           },
           {
            "args": [
             "visible",
             [
              false,
              false,
              false,
              true,
              false,
              false,
              false
             ]
            ],
            "method": "restyle"
           },
           {
            "args": [
             "visible",
             [
              false,
              false,
              false,
              false,
              true,
              false,
              false
             ]
            ],
            "method": "restyle"
           },
           {
            "args": [
             "visible",
             [
              false,
              false,
              false,
              false,
              false,
              true,
              false
             ]
            ],
            "method": "restyle"
           },
           {
            "args": [
             "visible",
             [
              false,
              false,
              false,
              false,
              false,
              false,
              true
             ]
            ],
            "method": "restyle"
           }
          ]
         }
        ],
        "template": {
         "data": {
          "bar": [
           {
            "error_x": {
             "color": "#2a3f5f"
            },
            "error_y": {
             "color": "#2a3f5f"
            },
            "marker": {
             "line": {
              "color": "#E5ECF6",
              "width": 0.5
             }
            },
            "type": "bar"
           }
          ],
          "barpolar": [
           {
            "marker": {
             "line": {
              "color": "#E5ECF6",
              "width": 0.5
             }
            },
            "type": "barpolar"
           }
          ],
          "carpet": [
           {
            "aaxis": {
             "endlinecolor": "#2a3f5f",
             "gridcolor": "white",
             "linecolor": "white",
             "minorgridcolor": "white",
             "startlinecolor": "#2a3f5f"
            },
            "baxis": {
             "endlinecolor": "#2a3f5f",
             "gridcolor": "white",
             "linecolor": "white",
             "minorgridcolor": "white",
             "startlinecolor": "#2a3f5f"
            },
            "type": "carpet"
           }
          ],
          "choropleth": [
           {
            "colorbar": {
             "outlinewidth": 0,
             "ticks": ""
            },
            "type": "choropleth"
           }
          ],
          "contour": [
           {
            "colorbar": {
             "outlinewidth": 0,
             "ticks": ""
            },
            "colorscale": [
             [
              0,
              "#0d0887"
             ],
             [
              0.1111111111111111,
              "#46039f"
             ],
             [
              0.2222222222222222,
              "#7201a8"
             ],
             [
              0.3333333333333333,
              "#9c179e"
             ],
             [
              0.4444444444444444,
              "#bd3786"
             ],
             [
              0.5555555555555556,
              "#d8576b"
             ],
             [
              0.6666666666666666,
              "#ed7953"
             ],
             [
              0.7777777777777778,
              "#fb9f3a"
             ],
             [
              0.8888888888888888,
              "#fdca26"
             ],
             [
              1,
              "#f0f921"
             ]
            ],
            "type": "contour"
           }
          ],
          "contourcarpet": [
           {
            "colorbar": {
             "outlinewidth": 0,
             "ticks": ""
            },
            "type": "contourcarpet"
           }
          ],
          "heatmap": [
           {
            "colorbar": {
             "outlinewidth": 0,
             "ticks": ""
            },
            "colorscale": [
             [
              0,
              "#0d0887"
             ],
             [
              0.1111111111111111,
              "#46039f"
             ],
             [
              0.2222222222222222,
              "#7201a8"
             ],
             [
              0.3333333333333333,
              "#9c179e"
             ],
             [
              0.4444444444444444,
              "#bd3786"
             ],
             [
              0.5555555555555556,
              "#d8576b"
             ],
             [
              0.6666666666666666,
              "#ed7953"
             ],
             [
              0.7777777777777778,
              "#fb9f3a"
             ],
             [
              0.8888888888888888,
              "#fdca26"
             ],
             [
              1,
              "#f0f921"
             ]
            ],
            "type": "heatmap"
           }
          ],
          "heatmapgl": [
           {
            "colorbar": {
             "outlinewidth": 0,
             "ticks": ""
            },
            "colorscale": [
             [
              0,
              "#0d0887"
             ],
             [
              0.1111111111111111,
              "#46039f"
             ],
             [
              0.2222222222222222,
              "#7201a8"
             ],
             [
              0.3333333333333333,
              "#9c179e"
             ],
             [
              0.4444444444444444,
              "#bd3786"
             ],
             [
              0.5555555555555556,
              "#d8576b"
             ],
             [
              0.6666666666666666,
              "#ed7953"
             ],
             [
              0.7777777777777778,
              "#fb9f3a"
             ],
             [
              0.8888888888888888,
              "#fdca26"
             ],
             [
              1,
              "#f0f921"
             ]
            ],
            "type": "heatmapgl"
           }
          ],
          "histogram": [
           {
            "marker": {
             "colorbar": {
              "outlinewidth": 0,
              "ticks": ""
             }
            },
            "type": "histogram"
           }
          ],
          "histogram2d": [
           {
            "colorbar": {
             "outlinewidth": 0,
             "ticks": ""
            },
            "colorscale": [
             [
              0,
              "#0d0887"
             ],
             [
              0.1111111111111111,
              "#46039f"
             ],
             [
              0.2222222222222222,
              "#7201a8"
             ],
             [
              0.3333333333333333,
              "#9c179e"
             ],
             [
              0.4444444444444444,
              "#bd3786"
             ],
             [
              0.5555555555555556,
              "#d8576b"
             ],
             [
              0.6666666666666666,
              "#ed7953"
             ],
             [
              0.7777777777777778,
              "#fb9f3a"
             ],
             [
              0.8888888888888888,
              "#fdca26"
             ],
             [
              1,
              "#f0f921"
             ]
            ],
            "type": "histogram2d"
           }
          ],
          "histogram2dcontour": [
           {
            "colorbar": {
             "outlinewidth": 0,
             "ticks": ""
            },
            "colorscale": [
             [
              0,
              "#0d0887"
             ],
             [
              0.1111111111111111,
              "#46039f"
             ],
             [
              0.2222222222222222,
              "#7201a8"
             ],
             [
              0.3333333333333333,
              "#9c179e"
             ],
             [
              0.4444444444444444,
              "#bd3786"
             ],
             [
              0.5555555555555556,
              "#d8576b"
             ],
             [
              0.6666666666666666,
              "#ed7953"
             ],
             [
              0.7777777777777778,
              "#fb9f3a"
             ],
             [
              0.8888888888888888,
              "#fdca26"
             ],
             [
              1,
              "#f0f921"
             ]
            ],
            "type": "histogram2dcontour"
           }
          ],
          "mesh3d": [
           {
            "colorbar": {
             "outlinewidth": 0,
             "ticks": ""
            },
            "type": "mesh3d"
           }
          ],
          "parcoords": [
           {
            "line": {
             "colorbar": {
              "outlinewidth": 0,
              "ticks": ""
             }
            },
            "type": "parcoords"
           }
          ],
          "pie": [
           {
            "automargin": true,
            "type": "pie"
           }
          ],
          "scatter": [
           {
            "marker": {
             "colorbar": {
              "outlinewidth": 0,
              "ticks": ""
             }
            },
            "type": "scatter"
           }
          ],
          "scatter3d": [
           {
            "line": {
             "colorbar": {
              "outlinewidth": 0,
              "ticks": ""
             }
            },
            "marker": {
             "colorbar": {
              "outlinewidth": 0,
              "ticks": ""
             }
            },
            "type": "scatter3d"
           }
          ],
          "scattercarpet": [
           {
            "marker": {
             "colorbar": {
              "outlinewidth": 0,
              "ticks": ""
             }
            },
            "type": "scattercarpet"
           }
          ],
          "scattergeo": [
           {
            "marker": {
             "colorbar": {
              "outlinewidth": 0,
              "ticks": ""
             }
            },
            "type": "scattergeo"
           }
          ],
          "scattergl": [
           {
            "marker": {
             "colorbar": {
              "outlinewidth": 0,
              "ticks": ""
             }
            },
            "type": "scattergl"
           }
          ],
          "scattermapbox": [
           {
            "marker": {
             "colorbar": {
              "outlinewidth": 0,
              "ticks": ""
             }
            },
            "type": "scattermapbox"
           }
          ],
          "scatterpolar": [
           {
            "marker": {
             "colorbar": {
              "outlinewidth": 0,
              "ticks": ""
             }
            },
            "type": "scatterpolar"
           }
          ],
          "scatterpolargl": [
           {
            "marker": {
             "colorbar": {
              "outlinewidth": 0,
              "ticks": ""
             }
            },
            "type": "scatterpolargl"
           }
          ],
          "scatterternary": [
           {
            "marker": {
             "colorbar": {
              "outlinewidth": 0,
              "ticks": ""
             }
            },
            "type": "scatterternary"
           }
          ],
          "surface": [
           {
            "colorbar": {
             "outlinewidth": 0,
             "ticks": ""
            },
            "colorscale": [
             [
              0,
              "#0d0887"
             ],
             [
              0.1111111111111111,
              "#46039f"
             ],
             [
              0.2222222222222222,
              "#7201a8"
             ],
             [
              0.3333333333333333,
              "#9c179e"
             ],
             [
              0.4444444444444444,
              "#bd3786"
             ],
             [
              0.5555555555555556,
              "#d8576b"
             ],
             [
              0.6666666666666666,
              "#ed7953"
             ],
             [
              0.7777777777777778,
              "#fb9f3a"
             ],
             [
              0.8888888888888888,
              "#fdca26"
             ],
             [
              1,
              "#f0f921"
             ]
            ],
            "type": "surface"
           }
          ],
          "table": [
           {
            "cells": {
             "fill": {
              "color": "#EBF0F8"
             },
             "line": {
              "color": "white"
             }
            },
            "header": {
             "fill": {
              "color": "#C8D4E3"
             },
             "line": {
              "color": "white"
             }
            },
            "type": "table"
           }
          ]
         },
         "layout": {
          "annotationdefaults": {
           "arrowcolor": "#2a3f5f",
           "arrowhead": 0,
           "arrowwidth": 1
          },
          "coloraxis": {
           "colorbar": {
            "outlinewidth": 0,
            "ticks": ""
           }
          },
          "colorscale": {
           "diverging": [
            [
             0,
             "#8e0152"
            ],
            [
             0.1,
             "#c51b7d"
            ],
            [
             0.2,
             "#de77ae"
            ],
            [
             0.3,
             "#f1b6da"
            ],
            [
             0.4,
             "#fde0ef"
            ],
            [
             0.5,
             "#f7f7f7"
            ],
            [
             0.6,
             "#e6f5d0"
            ],
            [
             0.7,
             "#b8e186"
            ],
            [
             0.8,
             "#7fbc41"
            ],
            [
             0.9,
             "#4d9221"
            ],
            [
             1,
             "#276419"
            ]
           ],
           "sequential": [
            [
             0,
             "#0d0887"
            ],
            [
             0.1111111111111111,
             "#46039f"
            ],
            [
             0.2222222222222222,
             "#7201a8"
            ],
            [
             0.3333333333333333,
             "#9c179e"
            ],
            [
             0.4444444444444444,
             "#bd3786"
            ],
            [
             0.5555555555555556,
             "#d8576b"
            ],
            [
             0.6666666666666666,
             "#ed7953"
            ],
            [
             0.7777777777777778,
             "#fb9f3a"
            ],
            [
             0.8888888888888888,
             "#fdca26"
            ],
            [
             1,
             "#f0f921"
            ]
           ],
           "sequentialminus": [
            [
             0,
             "#0d0887"
            ],
            [
             0.1111111111111111,
             "#46039f"
            ],
            [
             0.2222222222222222,
             "#7201a8"
            ],
            [
             0.3333333333333333,
             "#9c179e"
            ],
            [
             0.4444444444444444,
             "#bd3786"
            ],
            [
             0.5555555555555556,
             "#d8576b"
            ],
            [
             0.6666666666666666,
             "#ed7953"
            ],
            [
             0.7777777777777778,
             "#fb9f3a"
            ],
            [
             0.8888888888888888,
             "#fdca26"
            ],
            [
             1,
             "#f0f921"
            ]
           ]
          },
          "colorway": [
           "#636efa",
           "#EF553B",
           "#00cc96",
           "#ab63fa",
           "#FFA15A",
           "#19d3f3",
           "#FF6692",
           "#B6E880",
           "#FF97FF",
           "#FECB52"
          ],
          "font": {
           "color": "#2a3f5f"
          },
          "geo": {
           "bgcolor": "white",
           "lakecolor": "white",
           "landcolor": "#E5ECF6",
           "showlakes": true,
           "showland": true,
           "subunitcolor": "white"
          },
          "hoverlabel": {
           "align": "left"
          },
          "hovermode": "closest",
          "mapbox": {
           "style": "light"
          },
          "paper_bgcolor": "white",
          "plot_bgcolor": "#E5ECF6",
          "polar": {
           "angularaxis": {
            "gridcolor": "white",
            "linecolor": "white",
            "ticks": ""
           },
           "bgcolor": "#E5ECF6",
           "radialaxis": {
            "gridcolor": "white",
            "linecolor": "white",
            "ticks": ""
           }
          },
          "scene": {
           "xaxis": {
            "backgroundcolor": "#E5ECF6",
            "gridcolor": "white",
            "gridwidth": 2,
            "linecolor": "white",
            "showbackground": true,
            "ticks": "",
            "zerolinecolor": "white"
           },
           "yaxis": {
            "backgroundcolor": "#E5ECF6",
            "gridcolor": "white",
            "gridwidth": 2,
            "linecolor": "white",
            "showbackground": true,
            "ticks": "",
            "zerolinecolor": "white"
           },
           "zaxis": {
            "backgroundcolor": "#E5ECF6",
            "gridcolor": "white",
            "gridwidth": 2,
            "linecolor": "white",
            "showbackground": true,
            "ticks": "",
            "zerolinecolor": "white"
           }
          },
          "shapedefaults": {
           "line": {
            "color": "#2a3f5f"
           }
          },
          "ternary": {
           "aaxis": {
            "gridcolor": "white",
            "linecolor": "white",
            "ticks": ""
           },
           "baxis": {
            "gridcolor": "white",
            "linecolor": "white",
            "ticks": ""
           },
           "bgcolor": "#E5ECF6",
           "caxis": {
            "gridcolor": "white",
            "linecolor": "white",
            "ticks": ""
           }
          },
          "title": {
           "x": 0.05
          },
          "xaxis": {
           "automargin": true,
           "gridcolor": "white",
           "linecolor": "white",
           "ticks": "",
           "title": {
            "standoff": 15
           },
           "zerolinecolor": "white",
           "zerolinewidth": 2
          },
          "yaxis": {
           "automargin": true,
           "gridcolor": "white",
           "linecolor": "white",
           "ticks": "",
           "title": {
            "standoff": 15
           },
           "zerolinecolor": "white",
           "zerolinewidth": 2
          }
         }
        },
        "title": {
         "text": "Adjusted pagerank percentile of T based on f and r"
        }
       }
      },
      "text/html": [
       "<div>\n",
       "        \n",
       "        \n",
       "            <div id=\"2747f070-b75c-43f9-9726-2f5e7d6f7fa7\" class=\"plotly-graph-div\" style=\"height:525px; width:100%;\"></div>\n",
       "            <script type=\"text/javascript\">\n",
       "                require([\"plotly\"], function(Plotly) {\n",
       "                    window.PLOTLYENV=window.PLOTLYENV || {};\n",
       "                    \n",
       "                if (document.getElementById(\"2747f070-b75c-43f9-9726-2f5e7d6f7fa7\")) {\n",
       "                    Plotly.newPlot(\n",
       "                        '2747f070-b75c-43f9-9726-2f5e7d6f7fa7',\n",
       "                        [{\"name\": \"P 0\", \"type\": \"surface\", \"visible\": true, \"y\": [90.0, 80.0, 70.0, 60.0, 50.0, 40.0, 29.999999999999993, 19.999999999999996, 9.999999999999998, 0.0], \"z\": [[17.88079470198676, 89.40397350993378, 92.71523178807946, 94.70198675496688, 96.6887417218543, 96.6887417218543, 97.35099337748345, 97.35099337748345, 98.67549668874172, 98.67549668874172, 98.67549668874172], [17.88079470198676, 89.40397350993378, 92.71523178807946, 94.70198675496688, 96.6887417218543, 96.6887417218543, 97.35099337748345, 97.35099337748345, 98.67549668874172, 98.67549668874172, 98.67549668874172], [17.88079470198676, 89.40397350993378, 92.71523178807946, 94.70198675496688, 96.6887417218543, 96.6887417218543, 97.35099337748345, 97.35099337748345, 98.67549668874172, 98.67549668874172, 98.67549668874172], [17.88079470198676, 89.40397350993378, 92.71523178807946, 94.70198675496688, 96.6887417218543, 96.6887417218543, 97.35099337748345, 97.35099337748345, 98.67549668874172, 98.67549668874172, 98.67549668874172], [17.88079470198676, 89.40397350993378, 92.71523178807946, 94.70198675496688, 96.6887417218543, 96.6887417218543, 97.35099337748345, 97.35099337748345, 98.67549668874172, 98.67549668874172, 98.67549668874172], [17.88079470198676, 89.40397350993378, 92.71523178807946, 94.70198675496688, 96.6887417218543, 96.6887417218543, 97.35099337748345, 97.35099337748345, 98.67549668874172, 98.67549668874172, 98.67549668874172], [17.88079470198676, 89.40397350993378, 92.71523178807946, 94.70198675496688, 96.6887417218543, 96.6887417218543, 97.35099337748345, 97.35099337748345, 98.67549668874172, 98.67549668874172, 98.67549668874172], [17.88079470198676, 89.40397350993378, 92.71523178807946, 94.70198675496688, 96.6887417218543, 96.6887417218543, 97.35099337748345, 97.35099337748345, 98.67549668874172, 98.67549668874172, 98.67549668874172], [17.88079470198676, 89.40397350993378, 92.71523178807946, 94.70198675496688, 96.6887417218543, 96.6887417218543, 97.35099337748345, 97.35099337748345, 98.67549668874172, 98.67549668874172, 98.67549668874172], [17.88079470198676, 89.40397350993378, 92.71523178807946, 94.70198675496688, 96.6887417218543, 96.6887417218543, 97.35099337748345, 97.35099337748345, 98.67549668874172, 98.67549668874172, 98.67549668874172]]}, {\"name\": \"P 1\", \"type\": \"surface\", \"visible\": false, \"y\": [90.0, 80.0, 70.0, 60.0, 50.0, 40.0, 29.999999999999993, 19.999999999999996, 9.999999999999998, 0.0], \"z\": [[64.90066225165563, 94.70198675496688, 96.6887417218543, 96.6887417218543, 97.35099337748345, 97.35099337748345, 98.67549668874172, 98.67549668874172, 98.67549668874172, 99.33774834437087, 99.33774834437087], [54.966887417218544, 93.37748344370861, 94.70198675496688, 96.6887417218543, 97.35099337748345, 97.35099337748345, 97.35099337748345, 98.67549668874172, 98.67549668874172, 98.67549668874172, 99.33774834437087], [46.35761589403974, 92.71523178807946, 94.70198675496688, 96.02649006622516, 96.6887417218543, 97.35099337748345, 97.35099337748345, 98.67549668874172, 98.67549668874172, 98.67549668874172, 99.33774834437087], [41.72185430463576, 91.3907284768212, 94.03973509933775, 96.02649006622516, 96.6887417218543, 97.35099337748345, 97.35099337748345, 98.01324503311258, 98.67549668874172, 98.67549668874172, 99.33774834437087], [39.0728476821192, 91.3907284768212, 94.03973509933775, 95.36423841059603, 96.6887417218543, 97.35099337748345, 97.35099337748345, 97.35099337748345, 98.67549668874172, 98.67549668874172, 98.67549668874172], [35.76158940397352, 90.72847682119206, 94.03973509933775, 95.36423841059603, 96.6887417218543, 97.35099337748345, 97.35099337748345, 97.35099337748345, 98.67549668874172, 98.67549668874172, 98.67549668874172], [25.16556291390728, 90.72847682119206, 94.03973509933775, 95.36423841059603, 96.6887417218543, 97.35099337748345, 97.35099337748345, 97.35099337748345, 98.67549668874172, 98.67549668874172, 98.67549668874172], [25.16556291390728, 90.06622516556291, 93.37748344370861, 95.36423841059603, 96.6887417218543, 97.35099337748345, 97.35099337748345, 97.35099337748345, 98.67549668874172, 98.67549668874172, 98.67549668874172], [25.16556291390728, 90.06622516556291, 93.37748344370861, 95.36423841059603, 96.6887417218543, 97.35099337748345, 97.35099337748345, 97.35099337748345, 98.67549668874172, 98.67549668874172, 98.67549668874172], [25.82781456953643, 90.06622516556291, 93.37748344370861, 95.36423841059603, 96.6887417218543, 97.35099337748345, 97.35099337748345, 97.35099337748345, 98.67549668874172, 98.67549668874172, 98.67549668874172]]}, {\"name\": \"P 2\", \"type\": \"surface\", \"visible\": false, \"y\": [90.0, 80.0, 70.0, 60.0, 50.0, 40.0, 29.999999999999993, 19.999999999999996, 9.999999999999998, 0.0], \"z\": [[78.80794701986756, 96.6887417218543, 97.35099337748345, 97.35099337748345, 98.67549668874172, 98.67549668874172, 98.67549668874172, 99.33774834437087, 99.33774834437087, 99.33774834437087, 99.33774834437087], [68.21192052980132, 95.36423841059603, 96.6887417218543, 97.35099337748345, 97.35099337748345, 97.35099337748345, 98.67549668874172, 98.67549668874172, 98.67549668874172, 99.33774834437087, 99.33774834437087], [61.58940397350993, 94.70198675496688, 95.36423841059603, 96.6887417218543, 97.35099337748345, 97.35099337748345, 98.01324503311258, 98.67549668874172, 98.67549668874172, 99.33774834437087, 99.33774834437087], [56.29139072847682, 93.37748344370861, 94.70198675496688, 96.6887417218543, 96.6887417218543, 97.35099337748345, 97.35099337748345, 98.67549668874172, 98.67549668874172, 98.67549668874172, 99.33774834437087], [52.317880794701985, 92.71523178807946, 94.70198675496688, 96.02649006622516, 96.6887417218543, 97.35099337748345, 97.35099337748345, 98.67549668874172, 98.67549668874172, 98.67549668874172, 99.33774834437087], [46.35761589403974, 92.71523178807946, 94.70198675496688, 96.02649006622516, 96.6887417218543, 97.35099337748345, 97.35099337748345, 98.01324503311258, 98.67549668874172, 98.67549668874172, 99.33774834437087], [42.384105960264904, 92.71523178807946, 94.70198675496688, 96.02649006622516, 96.6887417218543, 97.35099337748345, 97.35099337748345, 98.01324503311258, 98.67549668874172, 98.67549668874172, 99.33774834437087], [41.05960264900662, 91.3907284768212, 94.03973509933775, 95.36423841059603, 96.6887417218543, 97.35099337748345, 97.35099337748345, 98.01324503311258, 98.67549668874172, 98.67549668874172, 98.67549668874172], [41.05960264900662, 91.3907284768212, 94.03973509933775, 95.36423841059603, 96.6887417218543, 97.35099337748345, 97.35099337748345, 98.01324503311258, 98.67549668874172, 98.67549668874172, 98.67549668874172], [41.05960264900662, 91.3907284768212, 94.03973509933775, 95.36423841059603, 96.6887417218543, 97.35099337748345, 97.35099337748345, 98.01324503311258, 98.67549668874172, 98.67549668874172, 98.67549668874172]]}, {\"name\": \"P 3\", \"type\": \"surface\", \"visible\": false, \"y\": [90.0, 80.0, 70.0, 60.0, 50.0, 40.0, 29.999999999999993, 19.999999999999996, 9.999999999999998, 0.0], \"z\": [[88.74172185430464, 97.35099337748345, 98.67549668874172, 98.67549668874172, 98.67549668874172, 99.33774834437087, 99.33774834437087, 99.33774834437087, 99.33774834437087, 99.33774834437087, 99.33774834437087], [78.1456953642384, 96.6887417218543, 97.35099337748345, 97.35099337748345, 97.35099337748345, 98.67549668874172, 98.67549668874172, 98.67549668874172, 99.33774834437087, 99.33774834437087, 99.33774834437087], [70.19867549668874, 95.36423841059603, 96.6887417218543, 97.35099337748345, 97.35099337748345, 97.35099337748345, 98.67549668874172, 98.67549668874172, 98.67549668874172, 99.33774834437087, 99.33774834437087], [64.23841059602648, 94.70198675496688, 96.02649006622516, 96.6887417218543, 97.35099337748345, 97.35099337748345, 98.01324503311258, 98.67549668874172, 98.67549668874172, 99.33774834437087, 99.33774834437087], [58.27814569536424, 93.37748344370861, 95.36423841059603, 96.6887417218543, 97.35099337748345, 97.35099337748345, 97.35099337748345, 98.67549668874172, 98.67549668874172, 98.67549668874172, 99.33774834437087], [54.966887417218544, 93.37748344370861, 94.70198675496688, 96.6887417218543, 96.6887417218543, 97.35099337748345, 97.35099337748345, 98.67549668874172, 98.67549668874172, 98.67549668874172, 99.33774834437087], [52.980132450331126, 92.71523178807946, 94.70198675496688, 96.6887417218543, 96.6887417218543, 97.35099337748345, 97.35099337748345, 98.67549668874172, 98.67549668874172, 98.67549668874172, 99.33774834437087], [46.35761589403974, 92.71523178807946, 94.70198675496688, 96.02649006622516, 96.6887417218543, 97.35099337748345, 97.35099337748345, 98.67549668874172, 98.67549668874172, 98.67549668874172, 99.33774834437087], [47.682119205298015, 92.71523178807946, 94.70198675496688, 96.02649006622516, 96.6887417218543, 97.35099337748345, 97.35099337748345, 98.01324503311258, 98.67549668874172, 98.67549668874172, 99.33774834437087], [46.35761589403974, 92.71523178807946, 94.70198675496688, 96.02649006622516, 96.6887417218543, 97.35099337748345, 97.35099337748345, 98.67549668874172, 98.67549668874172, 98.67549668874172, 99.33774834437087]]}, {\"name\": \"P 4\", \"type\": \"surface\", \"visible\": false, \"y\": [90.0, 80.0, 70.0, 60.0, 50.0, 40.0, 29.999999999999993, 19.999999999999996, 9.999999999999998, 0.0], \"z\": [[91.3907284768212, 98.67549668874172, 98.67549668874172, 99.33774834437087, 99.33774834437087, 99.33774834437087, 99.33774834437087, 99.33774834437087, 99.33774834437087, 99.33774834437087, 99.33774834437087], [84.10596026490066, 97.35099337748345, 97.35099337748345, 98.01324503311258, 98.67549668874172, 98.67549668874172, 99.33774834437087, 99.33774834437087, 99.33774834437087, 99.33774834437087, 99.33774834437087], [76.82119205298014, 96.6887417218543, 96.6887417218543, 97.35099337748345, 97.35099337748345, 98.67549668874172, 98.67549668874172, 98.67549668874172, 99.33774834437087, 99.33774834437087, 99.33774834437087], [70.19867549668874, 95.36423841059603, 96.6887417218543, 97.35099337748345, 97.35099337748345, 97.35099337748345, 98.67549668874172, 98.67549668874172, 98.67549668874172, 99.33774834437087, 99.33774834437087], [64.23841059602648, 94.70198675496688, 96.02649006622516, 96.6887417218543, 97.35099337748345, 97.35099337748345, 98.67549668874172, 98.67549668874172, 98.67549668874172, 99.33774834437087, 99.33774834437087], [62.25165562913907, 94.03973509933775, 95.36423841059603, 96.6887417218543, 97.35099337748345, 97.35099337748345, 98.01324503311258, 98.67549668874172, 98.67549668874172, 99.33774834437087, 99.33774834437087], [58.27814569536424, 94.03973509933775, 95.36423841059603, 96.6887417218543, 97.35099337748345, 97.35099337748345, 97.35099337748345, 98.67549668874172, 98.67549668874172, 98.67549668874172, 99.33774834437087], [54.966887417218544, 92.71523178807946, 94.70198675496688, 96.6887417218543, 96.6887417218543, 97.35099337748345, 97.35099337748345, 98.67549668874172, 98.67549668874172, 98.67549668874172, 99.33774834437087], [54.966887417218544, 92.71523178807946, 94.70198675496688, 96.6887417218543, 96.6887417218543, 97.35099337748345, 97.35099337748345, 98.67549668874172, 98.67549668874172, 98.67549668874172, 99.33774834437087], [54.966887417218544, 92.71523178807946, 94.70198675496688, 96.6887417218543, 96.6887417218543, 97.35099337748345, 97.35099337748345, 98.67549668874172, 98.67549668874172, 98.67549668874172, 99.33774834437087]]}, {\"name\": \"P 5\", \"type\": \"surface\", \"visible\": false, \"y\": [90.0, 80.0, 70.0, 60.0, 50.0, 40.0, 29.999999999999993, 19.999999999999996, 9.999999999999998, 0.0], \"z\": [[93.37748344370861, 99.33774834437087, 99.33774834437087, 99.33774834437087, 99.33774834437087, 99.33774834437087, 99.33774834437087, 99.33774834437087, 99.33774834437087, 99.33774834437087, 99.33774834437087], [88.0794701986755, 97.35099337748345, 98.01324503311258, 98.67549668874172, 98.67549668874172, 99.33774834437087, 99.33774834437087, 99.33774834437087, 99.33774834437087, 99.33774834437087, 99.33774834437087], [79.47019867549669, 96.6887417218543, 97.35099337748345, 97.35099337748345, 98.67549668874172, 98.67549668874172, 98.67549668874172, 99.33774834437087, 99.33774834437087, 99.33774834437087, 99.33774834437087], [76.82119205298014, 96.6887417218543, 96.6887417218543, 97.35099337748345, 97.35099337748345, 98.67549668874172, 98.67549668874172, 98.67549668874172, 99.33774834437087, 99.33774834437087, 99.33774834437087], [68.87417218543047, 95.36423841059603, 96.6887417218543, 97.35099337748345, 97.35099337748345, 97.35099337748345, 98.67549668874172, 98.67549668874172, 98.67549668874172, 99.33774834437087, 99.33774834437087], [65.56291390728477, 94.70198675496688, 96.6887417218543, 96.6887417218543, 97.35099337748345, 97.35099337748345, 98.67549668874172, 98.67549668874172, 98.67549668874172, 99.33774834437087, 99.33774834437087], [63.576158940397356, 94.70198675496688, 96.02649006622516, 96.6887417218543, 97.35099337748345, 97.35099337748345, 98.01324503311258, 98.67549668874172, 98.67549668874172, 99.33774834437087, 99.33774834437087], [57.615894039735096, 93.37748344370861, 95.36423841059603, 96.6887417218543, 97.35099337748345, 97.35099337748345, 97.35099337748345, 98.67549668874172, 98.67549668874172, 98.67549668874172, 99.33774834437087], [58.27814569536424, 93.37748344370861, 95.36423841059603, 96.6887417218543, 97.35099337748345, 97.35099337748345, 97.35099337748345, 98.67549668874172, 98.67549668874172, 98.67549668874172, 99.33774834437087], [58.27814569536424, 93.37748344370861, 95.36423841059603, 96.6887417218543, 97.35099337748345, 97.35099337748345, 97.35099337748345, 98.67549668874172, 98.67549668874172, 98.67549668874172, 99.33774834437087]]}, {\"name\": \"P 6\", \"type\": \"surface\", \"visible\": false, \"y\": [90.0, 80.0, 70.0, 60.0, 50.0, 40.0, 29.999999999999993, 19.999999999999996, 9.999999999999998, 0.0], \"z\": [[95.36423841059603, 99.33774834437087, 99.33774834437087, 99.33774834437087, 99.33774834437087, 99.33774834437087, 99.33774834437087, 99.33774834437087, 99.33774834437087, 100.0, 100.0], [88.74172185430464, 98.67549668874172, 98.67549668874172, 98.67549668874172, 99.33774834437087, 99.33774834437087, 99.33774834437087, 99.33774834437087, 99.33774834437087, 99.33774834437087, 99.33774834437087], [85.43046357615894, 97.35099337748345, 97.35099337748345, 98.01324503311258, 98.67549668874172, 98.67549668874172, 99.33774834437087, 99.33774834437087, 99.33774834437087, 99.33774834437087, 99.33774834437087], [78.1456953642384, 96.6887417218543, 97.35099337748345, 97.35099337748345, 98.01324503311258, 98.67549668874172, 98.67549668874172, 99.33774834437087, 99.33774834437087, 99.33774834437087, 99.33774834437087], [76.82119205298014, 96.02649006622516, 96.6887417218543, 97.35099337748345, 97.35099337748345, 98.67549668874172, 98.67549668874172, 98.67549668874172, 99.33774834437087, 99.33774834437087, 99.33774834437087], [69.5364238410596, 95.36423841059603, 96.6887417218543, 97.35099337748345, 97.35099337748345, 97.35099337748345, 98.67549668874172, 98.67549668874172, 98.67549668874172, 99.33774834437087, 99.33774834437087], [66.2251655629139, 94.70198675496688, 96.6887417218543, 96.6887417218543, 97.35099337748345, 97.35099337748345, 98.67549668874172, 98.67549668874172, 98.67549668874172, 99.33774834437087, 99.33774834437087], [62.25165562913907, 94.03973509933775, 95.36423841059603, 96.6887417218543, 97.35099337748345, 97.35099337748345, 98.01324503311258, 98.67549668874172, 98.67549668874172, 99.33774834437087, 99.33774834437087], [62.25165562913907, 94.03973509933775, 95.36423841059603, 96.6887417218543, 97.35099337748345, 97.35099337748345, 98.01324503311258, 98.67549668874172, 98.67549668874172, 98.67549668874172, 99.33774834437087], [62.25165562913907, 94.03973509933775, 95.36423841059603, 96.6887417218543, 97.35099337748345, 97.35099337748345, 98.01324503311258, 98.67549668874172, 98.67549668874172, 98.67549668874172, 99.33774834437087]]}],\n",
       "                        {\"autosize\": true, \"scene\": {\"xaxis\": {\"title\": {\"text\": \"ammount of supporting pages\"}}, \"yaxis\": {\"title\": {\"text\": \"percentile of pagerank gained from accessible pages\"}}, \"zaxis\": {\"title\": {\"text\": \"Adjusted pagerank percentile\"}}}, \"sliders\": [{\"active\": 10, \"currentvalue\": {\"prefix\": \"Amount of accessible pages: \"}, \"pad\": {\"t\": 50}, \"steps\": [{\"args\": [\"visible\", [true, false, false, false, false, false, false]], \"method\": \"restyle\"}, {\"args\": [\"visible\", [false, true, false, false, false, false, false]], \"method\": \"restyle\"}, {\"args\": [\"visible\", [false, false, true, false, false, false, false]], \"method\": \"restyle\"}, {\"args\": [\"visible\", [false, false, false, true, false, false, false]], \"method\": \"restyle\"}, {\"args\": [\"visible\", [false, false, false, false, true, false, false]], \"method\": \"restyle\"}, {\"args\": [\"visible\", [false, false, false, false, false, true, false]], \"method\": \"restyle\"}, {\"args\": [\"visible\", [false, false, false, false, false, false, true]], \"method\": \"restyle\"}]}], \"template\": {\"data\": {\"bar\": [{\"error_x\": {\"color\": \"#2a3f5f\"}, \"error_y\": {\"color\": \"#2a3f5f\"}, \"marker\": {\"line\": {\"color\": \"#E5ECF6\", \"width\": 0.5}}, \"type\": \"bar\"}], \"barpolar\": [{\"marker\": {\"line\": {\"color\": \"#E5ECF6\", \"width\": 0.5}}, \"type\": \"barpolar\"}], \"carpet\": [{\"aaxis\": {\"endlinecolor\": \"#2a3f5f\", \"gridcolor\": \"white\", \"linecolor\": \"white\", \"minorgridcolor\": \"white\", \"startlinecolor\": \"#2a3f5f\"}, \"baxis\": {\"endlinecolor\": \"#2a3f5f\", \"gridcolor\": \"white\", \"linecolor\": \"white\", \"minorgridcolor\": \"white\", \"startlinecolor\": \"#2a3f5f\"}, \"type\": \"carpet\"}], \"choropleth\": [{\"colorbar\": {\"outlinewidth\": 0, \"ticks\": \"\"}, \"type\": \"choropleth\"}], \"contour\": [{\"colorbar\": {\"outlinewidth\": 0, \"ticks\": \"\"}, \"colorscale\": [[0.0, \"#0d0887\"], [0.1111111111111111, \"#46039f\"], [0.2222222222222222, \"#7201a8\"], [0.3333333333333333, \"#9c179e\"], [0.4444444444444444, \"#bd3786\"], [0.5555555555555556, \"#d8576b\"], [0.6666666666666666, \"#ed7953\"], [0.7777777777777778, \"#fb9f3a\"], [0.8888888888888888, \"#fdca26\"], [1.0, \"#f0f921\"]], \"type\": \"contour\"}], \"contourcarpet\": [{\"colorbar\": {\"outlinewidth\": 0, \"ticks\": \"\"}, \"type\": \"contourcarpet\"}], \"heatmap\": [{\"colorbar\": {\"outlinewidth\": 0, \"ticks\": \"\"}, \"colorscale\": [[0.0, \"#0d0887\"], [0.1111111111111111, \"#46039f\"], [0.2222222222222222, \"#7201a8\"], [0.3333333333333333, \"#9c179e\"], [0.4444444444444444, \"#bd3786\"], [0.5555555555555556, \"#d8576b\"], [0.6666666666666666, \"#ed7953\"], [0.7777777777777778, \"#fb9f3a\"], [0.8888888888888888, \"#fdca26\"], [1.0, \"#f0f921\"]], \"type\": \"heatmap\"}], \"heatmapgl\": [{\"colorbar\": {\"outlinewidth\": 0, \"ticks\": \"\"}, \"colorscale\": [[0.0, \"#0d0887\"], [0.1111111111111111, \"#46039f\"], [0.2222222222222222, \"#7201a8\"], [0.3333333333333333, \"#9c179e\"], [0.4444444444444444, \"#bd3786\"], [0.5555555555555556, \"#d8576b\"], [0.6666666666666666, \"#ed7953\"], [0.7777777777777778, \"#fb9f3a\"], [0.8888888888888888, \"#fdca26\"], [1.0, \"#f0f921\"]], \"type\": \"heatmapgl\"}], \"histogram\": [{\"marker\": {\"colorbar\": {\"outlinewidth\": 0, \"ticks\": \"\"}}, \"type\": \"histogram\"}], \"histogram2d\": [{\"colorbar\": {\"outlinewidth\": 0, \"ticks\": \"\"}, \"colorscale\": [[0.0, \"#0d0887\"], [0.1111111111111111, \"#46039f\"], [0.2222222222222222, \"#7201a8\"], [0.3333333333333333, \"#9c179e\"], [0.4444444444444444, \"#bd3786\"], [0.5555555555555556, \"#d8576b\"], [0.6666666666666666, \"#ed7953\"], [0.7777777777777778, \"#fb9f3a\"], [0.8888888888888888, \"#fdca26\"], [1.0, \"#f0f921\"]], \"type\": \"histogram2d\"}], \"histogram2dcontour\": [{\"colorbar\": {\"outlinewidth\": 0, \"ticks\": \"\"}, \"colorscale\": [[0.0, \"#0d0887\"], [0.1111111111111111, \"#46039f\"], [0.2222222222222222, \"#7201a8\"], [0.3333333333333333, \"#9c179e\"], [0.4444444444444444, \"#bd3786\"], [0.5555555555555556, \"#d8576b\"], [0.6666666666666666, \"#ed7953\"], [0.7777777777777778, \"#fb9f3a\"], [0.8888888888888888, \"#fdca26\"], [1.0, \"#f0f921\"]], \"type\": \"histogram2dcontour\"}], \"mesh3d\": [{\"colorbar\": {\"outlinewidth\": 0, \"ticks\": \"\"}, \"type\": \"mesh3d\"}], \"parcoords\": [{\"line\": {\"colorbar\": {\"outlinewidth\": 0, \"ticks\": \"\"}}, \"type\": \"parcoords\"}], \"pie\": [{\"automargin\": true, \"type\": \"pie\"}], \"scatter\": [{\"marker\": {\"colorbar\": {\"outlinewidth\": 0, \"ticks\": \"\"}}, \"type\": \"scatter\"}], \"scatter3d\": [{\"line\": {\"colorbar\": {\"outlinewidth\": 0, \"ticks\": \"\"}}, \"marker\": {\"colorbar\": {\"outlinewidth\": 0, \"ticks\": \"\"}}, \"type\": \"scatter3d\"}], \"scattercarpet\": [{\"marker\": {\"colorbar\": {\"outlinewidth\": 0, \"ticks\": \"\"}}, \"type\": \"scattercarpet\"}], \"scattergeo\": [{\"marker\": {\"colorbar\": {\"outlinewidth\": 0, \"ticks\": \"\"}}, \"type\": \"scattergeo\"}], \"scattergl\": [{\"marker\": {\"colorbar\": {\"outlinewidth\": 0, \"ticks\": \"\"}}, \"type\": \"scattergl\"}], \"scattermapbox\": [{\"marker\": {\"colorbar\": {\"outlinewidth\": 0, \"ticks\": \"\"}}, \"type\": \"scattermapbox\"}], \"scatterpolar\": [{\"marker\": {\"colorbar\": {\"outlinewidth\": 0, \"ticks\": \"\"}}, \"type\": \"scatterpolar\"}], \"scatterpolargl\": [{\"marker\": {\"colorbar\": {\"outlinewidth\": 0, \"ticks\": \"\"}}, \"type\": \"scatterpolargl\"}], \"scatterternary\": [{\"marker\": {\"colorbar\": {\"outlinewidth\": 0, \"ticks\": \"\"}}, \"type\": \"scatterternary\"}], \"surface\": [{\"colorbar\": {\"outlinewidth\": 0, \"ticks\": \"\"}, \"colorscale\": [[0.0, \"#0d0887\"], [0.1111111111111111, \"#46039f\"], [0.2222222222222222, \"#7201a8\"], [0.3333333333333333, \"#9c179e\"], [0.4444444444444444, \"#bd3786\"], [0.5555555555555556, \"#d8576b\"], [0.6666666666666666, \"#ed7953\"], [0.7777777777777778, \"#fb9f3a\"], [0.8888888888888888, \"#fdca26\"], [1.0, \"#f0f921\"]], \"type\": \"surface\"}], \"table\": [{\"cells\": {\"fill\": {\"color\": \"#EBF0F8\"}, \"line\": {\"color\": \"white\"}}, \"header\": {\"fill\": {\"color\": \"#C8D4E3\"}, \"line\": {\"color\": \"white\"}}, \"type\": \"table\"}]}, \"layout\": {\"annotationdefaults\": {\"arrowcolor\": \"#2a3f5f\", \"arrowhead\": 0, \"arrowwidth\": 1}, \"coloraxis\": {\"colorbar\": {\"outlinewidth\": 0, \"ticks\": \"\"}}, \"colorscale\": {\"diverging\": [[0, \"#8e0152\"], [0.1, \"#c51b7d\"], [0.2, \"#de77ae\"], [0.3, \"#f1b6da\"], [0.4, \"#fde0ef\"], [0.5, \"#f7f7f7\"], [0.6, \"#e6f5d0\"], [0.7, \"#b8e186\"], [0.8, \"#7fbc41\"], [0.9, \"#4d9221\"], [1, \"#276419\"]], \"sequential\": [[0.0, \"#0d0887\"], [0.1111111111111111, \"#46039f\"], [0.2222222222222222, \"#7201a8\"], [0.3333333333333333, \"#9c179e\"], [0.4444444444444444, \"#bd3786\"], [0.5555555555555556, \"#d8576b\"], [0.6666666666666666, \"#ed7953\"], [0.7777777777777778, \"#fb9f3a\"], [0.8888888888888888, \"#fdca26\"], [1.0, \"#f0f921\"]], \"sequentialminus\": [[0.0, \"#0d0887\"], [0.1111111111111111, \"#46039f\"], [0.2222222222222222, \"#7201a8\"], [0.3333333333333333, \"#9c179e\"], [0.4444444444444444, \"#bd3786\"], [0.5555555555555556, \"#d8576b\"], [0.6666666666666666, \"#ed7953\"], [0.7777777777777778, \"#fb9f3a\"], [0.8888888888888888, \"#fdca26\"], [1.0, \"#f0f921\"]]}, \"colorway\": [\"#636efa\", \"#EF553B\", \"#00cc96\", \"#ab63fa\", \"#FFA15A\", \"#19d3f3\", \"#FF6692\", \"#B6E880\", \"#FF97FF\", \"#FECB52\"], \"font\": {\"color\": \"#2a3f5f\"}, \"geo\": {\"bgcolor\": \"white\", \"lakecolor\": \"white\", \"landcolor\": \"#E5ECF6\", \"showlakes\": true, \"showland\": true, \"subunitcolor\": \"white\"}, \"hoverlabel\": {\"align\": \"left\"}, \"hovermode\": \"closest\", \"mapbox\": {\"style\": \"light\"}, \"paper_bgcolor\": \"white\", \"plot_bgcolor\": \"#E5ECF6\", \"polar\": {\"angularaxis\": {\"gridcolor\": \"white\", \"linecolor\": \"white\", \"ticks\": \"\"}, \"bgcolor\": \"#E5ECF6\", \"radialaxis\": {\"gridcolor\": \"white\", \"linecolor\": \"white\", \"ticks\": \"\"}}, \"scene\": {\"xaxis\": {\"backgroundcolor\": \"#E5ECF6\", \"gridcolor\": \"white\", \"gridwidth\": 2, \"linecolor\": \"white\", \"showbackground\": true, \"ticks\": \"\", \"zerolinecolor\": \"white\"}, \"yaxis\": {\"backgroundcolor\": \"#E5ECF6\", \"gridcolor\": \"white\", \"gridwidth\": 2, \"linecolor\": \"white\", \"showbackground\": true, \"ticks\": \"\", \"zerolinecolor\": \"white\"}, \"zaxis\": {\"backgroundcolor\": \"#E5ECF6\", \"gridcolor\": \"white\", \"gridwidth\": 2, \"linecolor\": \"white\", \"showbackground\": true, \"ticks\": \"\", \"zerolinecolor\": \"white\"}}, \"shapedefaults\": {\"line\": {\"color\": \"#2a3f5f\"}}, \"ternary\": {\"aaxis\": {\"gridcolor\": \"white\", \"linecolor\": \"white\", \"ticks\": \"\"}, \"baxis\": {\"gridcolor\": \"white\", \"linecolor\": \"white\", \"ticks\": \"\"}, \"bgcolor\": \"#E5ECF6\", \"caxis\": {\"gridcolor\": \"white\", \"linecolor\": \"white\", \"ticks\": \"\"}}, \"title\": {\"x\": 0.05}, \"xaxis\": {\"automargin\": true, \"gridcolor\": \"white\", \"linecolor\": \"white\", \"ticks\": \"\", \"title\": {\"standoff\": 15}, \"zerolinecolor\": \"white\", \"zerolinewidth\": 2}, \"yaxis\": {\"automargin\": true, \"gridcolor\": \"white\", \"linecolor\": \"white\", \"ticks\": \"\", \"title\": {\"standoff\": 15}, \"zerolinecolor\": \"white\", \"zerolinewidth\": 2}}}, \"title\": {\"text\": \"Adjusted pagerank percentile of T based on f and r\"}},\n",
       "                        {\"responsive\": true}\n",
       "                    ).then(function(){\n",
       "                            \n",
       "var gd = document.getElementById('2747f070-b75c-43f9-9726-2f5e7d6f7fa7');\n",
       "var x = new MutationObserver(function (mutations, observer) {{\n",
       "        var display = window.getComputedStyle(gd).display;\n",
       "        if (!display || display === 'none') {{\n",
       "            console.log([gd, 'removed!']);\n",
       "            Plotly.purge(gd);\n",
       "            observer.disconnect();\n",
       "        }}\n",
       "}});\n",
       "\n",
       "// Listen for the removal of the full notebook cells\n",
       "var notebookContainer = gd.closest('#notebook-container');\n",
       "if (notebookContainer) {{\n",
       "    x.observe(notebookContainer, {childList: true});\n",
       "}}\n",
       "\n",
       "// Listen for the clearing of the current output cell\n",
       "var outputEl = gd.closest('.output');\n",
       "if (outputEl) {{\n",
       "    x.observe(outputEl, {childList: true});\n",
       "}}\n",
       "\n",
       "                        })\n",
       "                };\n",
       "                });\n",
       "            </script>\n",
       "        </div>"
      ]
     },
     "metadata": {},
     "output_type": "display_data"
    }
   ],
   "source": [
    "def return_T_rank(G_o, P_count, quality, f_count, ordered_nodes, drawing):\n",
    "    '''\n",
    "    Returns the pagerank of T, the percentile of it's pagerank, and the adjusted version thereof (when leaving supporting pages out of it)\n",
    "    '''\n",
    "    \n",
    "    G = G_o.copy() #a duplicate of the graph to work on\n",
    "    \n",
    "    nodes_count = len(G.nodes())\n",
    "\n",
    "    P_T_connections = [] # a list that will conatain the n pages that will become accessible to T \n",
    "    \n",
    "    index = int(round(quality*nodes_count)) #starting point for grabbing web pages\n",
    "    \n",
    "    for P in range(P_count): #grab the first page and go decrement to the next lower quality pages\n",
    "        P_T_connections.append(ordered_nodes[index-P-1])\n",
    "    \n",
    "    attrs = {} # a dict for drawing a network with colors to signify interesting nodes\n",
    "    attrs['T'] = {'style' : 'filled', 'fillcolor' : 'red'}\n",
    "    \n",
    "    #add T, this is neccessary to prevent out no T in the network if P = 0 && f = 0\n",
    "    G.add_node('T')\n",
    "    \n",
    "    #connect T to all P\n",
    "    for P in P_T_connections:\n",
    "        G.add_edge(P, 'T')\n",
    "        attrs[P] = {'style' : 'filled', 'fillcolor' : 'yellow'}\n",
    "    \n",
    "    #connect T and it's supporting pages\n",
    "    for f in range(int(f_count)):\n",
    "        new_f = \"f[{}]\".format(f)\n",
    "        G.add_edge('T', new_f)\n",
    "        G.add_edge(new_f, 'T')\n",
    "        attrs[new_f] = {'style' : 'filled', 'fillcolor' : '#f5f5dc'}\n",
    "    \n",
    "    #draw and use the color attributes only if desired, gives some visual insight into the network but makes many repeat computations very slow\n",
    "    if drawing:\n",
    "        nx.set_node_attributes(G, attrs)\n",
    "        display(draw(G))\n",
    "    \n",
    "    #calculate the pagerank - in general definitions, theoretical explanation in assignment 4\n",
    "    #and calculate the percentile of page T's pagerank\n",
    "    pr = pagerank(G, 0.85)\n",
    "    T_pagerank = pr[list(G.nodes).index('T')]\n",
    "    pagerank_order, ordinal = order_nodes_by_rank(list(G.nodes),pr)\n",
    "    T_pagerank_index = pagerank_order.index('T')\n",
    "    reported_percentage = 100 - (T_pagerank_index / len(pr) * 100)\n",
    "    #the adjusted percentile removes the supporting pages from the equation\n",
    "    adjusted_percentage = 100 - (T_pagerank_index / (len(pr)-f_count) * 100)\n",
    "    \n",
    "    return T_pagerank, reported_percentage, adjusted_percentage\n",
    "\n",
    "def plot_assignment3_results(ls_data_in, title_in, q_range,):\n",
    "    '''\n",
    "    takes a list of 2Darrays to plot them on top of each other, a slider lets you select which array from the list you see\n",
    "    '''\n",
    "\n",
    "    #there are three types of plots to be made: pagerank, percentile & adjusted percentile\n",
    "    #this adjusts the title to the relevant type\n",
    "    l_title = '{} of T based on f and r'.format(title_in)\n",
    "\n",
    "    fig = go.Figure()\n",
    "    \n",
    "    itter = 0 #for the naming of the traces\n",
    "    #loop over the array list and plot each as an invisble surface graph\n",
    "    for data in ls_data_in:\n",
    "        fig.add_trace(go.Surface(\n",
    "                        visible=False,\n",
    "                        name=\"P {}\".format(itter),\n",
    "                        z=data, y=100*(1-q_range)))\n",
    "        itter += 1\n",
    "        \n",
    "    #add axis labels, title and size here\n",
    "    fig.update_layout(title=l_title,\n",
    "                    autosize=True,\n",
    "                    scene = dict(\n",
    "                    xaxis_title='ammount of supporting pages',\n",
    "                    yaxis_title='percentile of pagerank gained from accessible pages',\n",
    "                    zaxis_title=title_in))\n",
    "    \n",
    "    #set something to be visble\n",
    "    fig.data[0].visible = True\n",
    "    \n",
    "    #code for sliders from slider example:\n",
    "    #      https://plot.ly/python/sliders/\n",
    "    #thanks! :)\n",
    "    steps = []\n",
    "    for i in range(len(fig.data)):\n",
    "        step = dict(\n",
    "            method=\"restyle\",\n",
    "            args=[\"visible\", [False] * len(fig.data)],\n",
    "        )\n",
    "        step[\"args\"][1][i] = True  # Toggle i'th trace to \"visible\"\n",
    "        steps.append(step)\n",
    "\n",
    "    sliders = [dict(\n",
    "        active=10,\n",
    "        currentvalue={\"prefix\": \"Amount of accessible pages: \"},\n",
    "        pad={\"t\": 50},\n",
    "        steps=steps\n",
    "    )]\n",
    "\n",
    "    fig.update_layout(\n",
    "        sliders=sliders\n",
    "    )\n",
    "    #end of copied slider code\n",
    "\n",
    "    fig.show()\n",
    "\n",
    "def wrapper(Graph, P_range, q_range, f_range):\n",
    "    '''\n",
    "    Takes the desired ranges of P q and f to graph and itterates through them all\n",
    "    The final function that calls the others\n",
    "    '''\n",
    "    \n",
    "    #a bit of user-error prevention, one cannot have more pages P than fit in a step of quality\n",
    "    nodes_count = len(G.nodes())\n",
    "    max_P_count = int(nodes_count/len(q_range))\n",
    "    P_count = max(P_range)\n",
    "    if P_count > max_P_count:\n",
    "        print \"The number of accessible pages (P) cannot be larger than {} for the current quality range (q)\".format(max_P_count)\n",
    "        return None\n",
    "    \n",
    "    #with error prevention out of the way it is time to start\n",
    "    ranked_nodes = pagerank(G, .85) #calculate the pagerank of the net without T here to save computational time, pass it for every calculation\n",
    "    ordered_nodes, ordinal_rank = order_nodes_by_rank(list(G.nodes),ranked_nodes)\n",
    "    \n",
    "    #lists to be filled wto send to the plotting function\n",
    "    ls_results_pagerank = []\n",
    "    ls_results_percentile = []\n",
    "    ls_results_percentile_adj = []\n",
    "    \n",
    "    \n",
    "    for index_P in range(len(P_range)):\n",
    "        #this wrapper function takes some time (depending on your machine) so a proof of life might be nice\n",
    "        print \"working on P ({}/{})\".format(index_P, int(P_count))         \n",
    "        \n",
    "        #declare the zeroed 2D array to store the data in (they need to be filled with something to work, just declaring size wont work)\n",
    "        results_pagerank = np.zeros([len(q_range),len(f_range)])\n",
    "        results_percentile = np.zeros([len(q_range),len(f_range)])\n",
    "        results_percentile_adj = np.zeros([len(q_range),len(f_range)])\n",
    "        \n",
    "        #fill the 2D array with appropriate data\n",
    "        for index_f in range(len(f_range)):\n",
    "            for index_q in range(len(q_range)):\n",
    "                f_count = f_range[index_f]\n",
    "                quality = q_range[index_q]\n",
    "                T_pagerank, T_percentile, T_percentile_adj = return_T_rank(G, index_P, quality, f_count, ordered_nodes, False)\n",
    "                \n",
    "                results_pagerank[index_q][index_f] = T_pagerank\n",
    "                results_percentile[index_q][index_f] = T_percentile\n",
    "                results_percentile_adj[index_q][index_f] = T_percentile_adj\n",
    "        \n",
    "        #and append the data to its respective list\n",
    "        ls_results_pagerank.append(results_pagerank)\n",
    "        ls_results_percentile.append(results_percentile)\n",
    "        ls_results_percentile_adj.append(results_percentile_adj)\n",
    "    \n",
    "    print(done)\n",
    "    #send it all out to be plotted\n",
    "    plot_assignment3_results(ls_results_pagerank, \"Pagerank\", q_range)\n",
    "    plot_assignment3_results(ls_results_percentile, \"Pagerank percentile \",q_range)\n",
    "    plot_assignment3_results(ls_results_percentile_adj, \"Adjusted pagerank percentile\",q_range)\n",
    "    \n",
    "    #done\n",
    "    return None\n",
    "\n",
    "def draw_network(G, P, q, f):\n",
    "    '''\n",
    "    quick and fairly dirty code for drawing the graph the code uses, not neccessary but can give some insights\n",
    "    G staring = graph\n",
    "    '''\n",
    "    ranked_nodes = pagerank(G, .85)\n",
    "    ordered_nodes, ordinal_rank = order_nodes_by_rank(list(G.nodes),ranked_nodes)\n",
    "    get_rid_of_return_print = return_T_rank(G, P, q, f, ordered_nodes, True)\n",
    "\n",
    "\n",
    "G = generate_network(150, 3, 0) #create the network without T and f to work on, with 150 n, with up to 3 out per node and 0 in on spawn\n",
    "\n",
    "P_range = np.linspace(0,6,7) #With 0->6 accessible pages P\n",
    "q_range = np.linspace(0.1,1,10) #With -> increments of 10% in quality of those P pages\n",
    "f_range = np.linspace(0,10,11) #with 0->10 supporting pages f\n",
    "\n",
    "draw_network(G, 5, 0.5, 5) #draws network we work on, with 5 pages P, of quality 50%, and 5 pages f\n",
    "\n",
    "wrapper(G, P_range, q_range, f_range)"
   ]
  },
  {
   "cell_type": "markdown",
   "metadata": {},
   "source": []
  },
  {
   "cell_type": "markdown",
   "metadata": {},
   "source": [
    "# Assignment 4\n",
    "\n",
    "There are three different ranking systems discussed in this week's chapters and lectures.\n",
    "The first is an inDegree-based ranking system. The ranking of a page depends on how many pages link to it.\n",
    "This system is easily fooled, and dead-end pages receive incredibly high rankings.\n",
    "\n",
    "The second ranking system discussed is Google's PageRank. This system expands upon the idea of inDegree rankings,\n",
    "by having a node \"spread\" its incoming ranking over its outgoing links. This can also include a degree of randomness,\n",
    "where a node will spread some of its incoming ranking over *all* nods (to avoid spider traps and dead ends).\n",
    "\n",
    "The third ranking system discussed HITS, based on the hub-authority model. In this model, a page is considered a good hub\n",
    "if it links to good authorities (pages with good content that people want to see). A page is considered a good\n",
    "authority if it is linked to by proper hubs. The page's authority ranking is the one actually used in the search.\n"
   ]
  },
  {
   "cell_type": "code",
   "execution_count": null,
   "metadata": {
    "pycharm": {
     "is_executing": false,
     "name": "#%%\n"
    }
   },
   "outputs": [],
   "source": [
    "#Note: the pagerank functions can be found at the top of the file, as they were needed in assignment 3 already\n",
    "def generate_indegree_score(graph):    \n",
    "    in_degrees = []\n",
    "    for node in graph.nodes:\n",
    "        if type(graph) == nx.classes.digraph.DiGraph:\n",
    "            in_degrees.append(graph.in_degree(node))\n",
    "        else:\n",
    "            in_degrees.append(graph.degree(node))\n",
    "    return in_degrees\n",
    "\n",
    "def ordinal_difference(a, b):\n",
    "    if type(a) == list:\n",
    "        a = np.array(a,dtype=float)\n",
    "    if type(b) == list:\n",
    "        b = np.array(b,dtype=float)\n",
    "    return sum(abs(a-b))\n",
    "\n",
    "def hits(M):\n",
    "    if type(M) != np.matrix:\n",
    "        M = nx.adjacency_matrix(M)\n",
    "    v=np.ones(len(M),dtype=float)\n",
    "    change_was_made = True\n",
    "    h=np.copy(v)\n",
    "    a=np.copy(v)\n",
    "    while change_was_made:\n",
    "        #calculate new v for hub and authority\n",
    "        # M remains unchanged\n",
    "        previous_a = np.copy(a)\n",
    "        previous_h = np.copy(h)\n",
    "        \n",
    "        a = np.array(np.dot(M.transpose(),h)).flatten()\n",
    "        a /= a.max()\n",
    "\n",
    "        h = np.array(np.dot(M,a)).flatten()\n",
    "        h /= h.max()\n",
    "        change_was_made = ((abs(a-previous_a).max() ) > 0) or ((abs(h-previous_h).max() ) > 0) \n",
    "    \n",
    "    return a,h"
   ]
  },
  {
   "cell_type": "code",
   "execution_count": 50,
   "metadata": {
    "pycharm": {
     "is_executing": false,
     "name": "#%%\n"
    },
    "scrolled": false
   },
   "outputs": [
    {
     "data": {
      "application/vnd.plotly.v1+json": {
       "config": {
        "plotlyServerURL": "https://plot.ly"
       },
       "data": [
        {
         "name": "In-degree vs HITS",
         "type": "bar",
         "x": [
          "Big (n=10) web",
          "Lasso",
          "Arrow",
          "Inward",
          "Grid"
         ],
         "y": [
          20,
          4,
          0,
          0,
          12
         ]
        },
        {
         "name": "In-degree vs PageRank",
         "type": "bar",
         "x": [
          "Big (n=10) web",
          "Lasso",
          "Arrow",
          "Inward",
          "Grid"
         ],
         "y": [
          18,
          10,
          4,
          0,
          6
         ]
        },
        {
         "name": "HITS vs PageRank",
         "type": "bar",
         "x": [
          "Big (n=10) web",
          "Lasso",
          "Arrow",
          "Inward",
          "Grid"
         ],
         "y": [
          30,
          14,
          4,
          0,
          10
         ]
        },
        {
         "name": "Our HITS implementation vs networkx'",
         "type": "bar",
         "x": [
          "Big (n=10) web",
          "Lasso",
          "Arrow",
          "Inward",
          "Grid"
         ],
         "y": [
          10,
          0,
          0,
          0,
          0
         ]
        },
        {
         "name": "Our PageRank implementation vs networkx'",
         "type": "bar",
         "x": [
          "Big (n=10) web",
          "Lasso",
          "Arrow",
          "Inward",
          "Grid"
         ],
         "y": [
          0,
          0,
          0,
          0,
          0
         ]
        }
       ],
       "layout": {
        "autosize": true,
        "barmode": "group",
        "template": {
         "data": {
          "bar": [
           {
            "error_x": {
             "color": "#2a3f5f"
            },
            "error_y": {
             "color": "#2a3f5f"
            },
            "marker": {
             "line": {
              "color": "#E5ECF6",
              "width": 0.5
             }
            },
            "type": "bar"
           }
          ],
          "barpolar": [
           {
            "marker": {
             "line": {
              "color": "#E5ECF6",
              "width": 0.5
             }
            },
            "type": "barpolar"
           }
          ],
          "carpet": [
           {
            "aaxis": {
             "endlinecolor": "#2a3f5f",
             "gridcolor": "white",
             "linecolor": "white",
             "minorgridcolor": "white",
             "startlinecolor": "#2a3f5f"
            },
            "baxis": {
             "endlinecolor": "#2a3f5f",
             "gridcolor": "white",
             "linecolor": "white",
             "minorgridcolor": "white",
             "startlinecolor": "#2a3f5f"
            },
            "type": "carpet"
           }
          ],
          "choropleth": [
           {
            "colorbar": {
             "outlinewidth": 0,
             "ticks": ""
            },
            "type": "choropleth"
           }
          ],
          "contour": [
           {
            "colorbar": {
             "outlinewidth": 0,
             "ticks": ""
            },
            "colorscale": [
             [
              0,
              "#0d0887"
             ],
             [
              0.1111111111111111,
              "#46039f"
             ],
             [
              0.2222222222222222,
              "#7201a8"
             ],
             [
              0.3333333333333333,
              "#9c179e"
             ],
             [
              0.4444444444444444,
              "#bd3786"
             ],
             [
              0.5555555555555556,
              "#d8576b"
             ],
             [
              0.6666666666666666,
              "#ed7953"
             ],
             [
              0.7777777777777778,
              "#fb9f3a"
             ],
             [
              0.8888888888888888,
              "#fdca26"
             ],
             [
              1,
              "#f0f921"
             ]
            ],
            "type": "contour"
           }
          ],
          "contourcarpet": [
           {
            "colorbar": {
             "outlinewidth": 0,
             "ticks": ""
            },
            "type": "contourcarpet"
           }
          ],
          "heatmap": [
           {
            "colorbar": {
             "outlinewidth": 0,
             "ticks": ""
            },
            "colorscale": [
             [
              0,
              "#0d0887"
             ],
             [
              0.1111111111111111,
              "#46039f"
             ],
             [
              0.2222222222222222,
              "#7201a8"
             ],
             [
              0.3333333333333333,
              "#9c179e"
             ],
             [
              0.4444444444444444,
              "#bd3786"
             ],
             [
              0.5555555555555556,
              "#d8576b"
             ],
             [
              0.6666666666666666,
              "#ed7953"
             ],
             [
              0.7777777777777778,
              "#fb9f3a"
             ],
             [
              0.8888888888888888,
              "#fdca26"
             ],
             [
              1,
              "#f0f921"
             ]
            ],
            "type": "heatmap"
           }
          ],
          "heatmapgl": [
           {
            "colorbar": {
             "outlinewidth": 0,
             "ticks": ""
            },
            "colorscale": [
             [
              0,
              "#0d0887"
             ],
             [
              0.1111111111111111,
              "#46039f"
             ],
             [
              0.2222222222222222,
              "#7201a8"
             ],
             [
              0.3333333333333333,
              "#9c179e"
             ],
             [
              0.4444444444444444,
              "#bd3786"
             ],
             [
              0.5555555555555556,
              "#d8576b"
             ],
             [
              0.6666666666666666,
              "#ed7953"
             ],
             [
              0.7777777777777778,
              "#fb9f3a"
             ],
             [
              0.8888888888888888,
              "#fdca26"
             ],
             [
              1,
              "#f0f921"
             ]
            ],
            "type": "heatmapgl"
           }
          ],
          "histogram": [
           {
            "marker": {
             "colorbar": {
              "outlinewidth": 0,
              "ticks": ""
             }
            },
            "type": "histogram"
           }
          ],
          "histogram2d": [
           {
            "colorbar": {
             "outlinewidth": 0,
             "ticks": ""
            },
            "colorscale": [
             [
              0,
              "#0d0887"
             ],
             [
              0.1111111111111111,
              "#46039f"
             ],
             [
              0.2222222222222222,
              "#7201a8"
             ],
             [
              0.3333333333333333,
              "#9c179e"
             ],
             [
              0.4444444444444444,
              "#bd3786"
             ],
             [
              0.5555555555555556,
              "#d8576b"
             ],
             [
              0.6666666666666666,
              "#ed7953"
             ],
             [
              0.7777777777777778,
              "#fb9f3a"
             ],
             [
              0.8888888888888888,
              "#fdca26"
             ],
             [
              1,
              "#f0f921"
             ]
            ],
            "type": "histogram2d"
           }
          ],
          "histogram2dcontour": [
           {
            "colorbar": {
             "outlinewidth": 0,
             "ticks": ""
            },
            "colorscale": [
             [
              0,
              "#0d0887"
             ],
             [
              0.1111111111111111,
              "#46039f"
             ],
             [
              0.2222222222222222,
              "#7201a8"
             ],
             [
              0.3333333333333333,
              "#9c179e"
             ],
             [
              0.4444444444444444,
              "#bd3786"
             ],
             [
              0.5555555555555556,
              "#d8576b"
             ],
             [
              0.6666666666666666,
              "#ed7953"
             ],
             [
              0.7777777777777778,
              "#fb9f3a"
             ],
             [
              0.8888888888888888,
              "#fdca26"
             ],
             [
              1,
              "#f0f921"
             ]
            ],
            "type": "histogram2dcontour"
           }
          ],
          "mesh3d": [
           {
            "colorbar": {
             "outlinewidth": 0,
             "ticks": ""
            },
            "type": "mesh3d"
           }
          ],
          "parcoords": [
           {
            "line": {
             "colorbar": {
              "outlinewidth": 0,
              "ticks": ""
             }
            },
            "type": "parcoords"
           }
          ],
          "pie": [
           {
            "automargin": true,
            "type": "pie"
           }
          ],
          "scatter": [
           {
            "marker": {
             "colorbar": {
              "outlinewidth": 0,
              "ticks": ""
             }
            },
            "type": "scatter"
           }
          ],
          "scatter3d": [
           {
            "line": {
             "colorbar": {
              "outlinewidth": 0,
              "ticks": ""
             }
            },
            "marker": {
             "colorbar": {
              "outlinewidth": 0,
              "ticks": ""
             }
            },
            "type": "scatter3d"
           }
          ],
          "scattercarpet": [
           {
            "marker": {
             "colorbar": {
              "outlinewidth": 0,
              "ticks": ""
             }
            },
            "type": "scattercarpet"
           }
          ],
          "scattergeo": [
           {
            "marker": {
             "colorbar": {
              "outlinewidth": 0,
              "ticks": ""
             }
            },
            "type": "scattergeo"
           }
          ],
          "scattergl": [
           {
            "marker": {
             "colorbar": {
              "outlinewidth": 0,
              "ticks": ""
             }
            },
            "type": "scattergl"
           }
          ],
          "scattermapbox": [
           {
            "marker": {
             "colorbar": {
              "outlinewidth": 0,
              "ticks": ""
             }
            },
            "type": "scattermapbox"
           }
          ],
          "scatterpolar": [
           {
            "marker": {
             "colorbar": {
              "outlinewidth": 0,
              "ticks": ""
             }
            },
            "type": "scatterpolar"
           }
          ],
          "scatterpolargl": [
           {
            "marker": {
             "colorbar": {
              "outlinewidth": 0,
              "ticks": ""
             }
            },
            "type": "scatterpolargl"
           }
          ],
          "scatterternary": [
           {
            "marker": {
             "colorbar": {
              "outlinewidth": 0,
              "ticks": ""
             }
            },
            "type": "scatterternary"
           }
          ],
          "surface": [
           {
            "colorbar": {
             "outlinewidth": 0,
             "ticks": ""
            },
            "colorscale": [
             [
              0,
              "#0d0887"
             ],
             [
              0.1111111111111111,
              "#46039f"
             ],
             [
              0.2222222222222222,
              "#7201a8"
             ],
             [
              0.3333333333333333,
              "#9c179e"
             ],
             [
              0.4444444444444444,
              "#bd3786"
             ],
             [
              0.5555555555555556,
              "#d8576b"
             ],
             [
              0.6666666666666666,
              "#ed7953"
             ],
             [
              0.7777777777777778,
              "#fb9f3a"
             ],
             [
              0.8888888888888888,
              "#fdca26"
             ],
             [
              1,
              "#f0f921"
             ]
            ],
            "type": "surface"
           }
          ],
          "table": [
           {
            "cells": {
             "fill": {
              "color": "#EBF0F8"
             },
             "line": {
              "color": "white"
             }
            },
            "header": {
             "fill": {
              "color": "#C8D4E3"
             },
             "line": {
              "color": "white"
             }
            },
            "type": "table"
           }
          ]
         },
         "layout": {
          "annotationdefaults": {
           "arrowcolor": "#2a3f5f",
           "arrowhead": 0,
           "arrowwidth": 1
          },
          "coloraxis": {
           "colorbar": {
            "outlinewidth": 0,
            "ticks": ""
           }
          },
          "colorscale": {
           "diverging": [
            [
             0,
             "#8e0152"
            ],
            [
             0.1,
             "#c51b7d"
            ],
            [
             0.2,
             "#de77ae"
            ],
            [
             0.3,
             "#f1b6da"
            ],
            [
             0.4,
             "#fde0ef"
            ],
            [
             0.5,
             "#f7f7f7"
            ],
            [
             0.6,
             "#e6f5d0"
            ],
            [
             0.7,
             "#b8e186"
            ],
            [
             0.8,
             "#7fbc41"
            ],
            [
             0.9,
             "#4d9221"
            ],
            [
             1,
             "#276419"
            ]
           ],
           "sequential": [
            [
             0,
             "#0d0887"
            ],
            [
             0.1111111111111111,
             "#46039f"
            ],
            [
             0.2222222222222222,
             "#7201a8"
            ],
            [
             0.3333333333333333,
             "#9c179e"
            ],
            [
             0.4444444444444444,
             "#bd3786"
            ],
            [
             0.5555555555555556,
             "#d8576b"
            ],
            [
             0.6666666666666666,
             "#ed7953"
            ],
            [
             0.7777777777777778,
             "#fb9f3a"
            ],
            [
             0.8888888888888888,
             "#fdca26"
            ],
            [
             1,
             "#f0f921"
            ]
           ],
           "sequentialminus": [
            [
             0,
             "#0d0887"
            ],
            [
             0.1111111111111111,
             "#46039f"
            ],
            [
             0.2222222222222222,
             "#7201a8"
            ],
            [
             0.3333333333333333,
             "#9c179e"
            ],
            [
             0.4444444444444444,
             "#bd3786"
            ],
            [
             0.5555555555555556,
             "#d8576b"
            ],
            [
             0.6666666666666666,
             "#ed7953"
            ],
            [
             0.7777777777777778,
             "#fb9f3a"
            ],
            [
             0.8888888888888888,
             "#fdca26"
            ],
            [
             1,
             "#f0f921"
            ]
           ]
          },
          "colorway": [
           "#636efa",
           "#EF553B",
           "#00cc96",
           "#ab63fa",
           "#FFA15A",
           "#19d3f3",
           "#FF6692",
           "#B6E880",
           "#FF97FF",
           "#FECB52"
          ],
          "font": {
           "color": "#2a3f5f"
          },
          "geo": {
           "bgcolor": "white",
           "lakecolor": "white",
           "landcolor": "#E5ECF6",
           "showlakes": true,
           "showland": true,
           "subunitcolor": "white"
          },
          "hoverlabel": {
           "align": "left"
          },
          "hovermode": "closest",
          "mapbox": {
           "style": "light"
          },
          "paper_bgcolor": "white",
          "plot_bgcolor": "#E5ECF6",
          "polar": {
           "angularaxis": {
            "gridcolor": "white",
            "linecolor": "white",
            "ticks": ""
           },
           "bgcolor": "#E5ECF6",
           "radialaxis": {
            "gridcolor": "white",
            "linecolor": "white",
            "ticks": ""
           }
          },
          "scene": {
           "xaxis": {
            "backgroundcolor": "#E5ECF6",
            "gridcolor": "white",
            "gridwidth": 2,
            "linecolor": "white",
            "showbackground": true,
            "ticks": "",
            "zerolinecolor": "white"
           },
           "yaxis": {
            "backgroundcolor": "#E5ECF6",
            "gridcolor": "white",
            "gridwidth": 2,
            "linecolor": "white",
            "showbackground": true,
            "ticks": "",
            "zerolinecolor": "white"
           },
           "zaxis": {
            "backgroundcolor": "#E5ECF6",
            "gridcolor": "white",
            "gridwidth": 2,
            "linecolor": "white",
            "showbackground": true,
            "ticks": "",
            "zerolinecolor": "white"
           }
          },
          "shapedefaults": {
           "line": {
            "color": "#2a3f5f"
           }
          },
          "ternary": {
           "aaxis": {
            "gridcolor": "white",
            "linecolor": "white",
            "ticks": ""
           },
           "baxis": {
            "gridcolor": "white",
            "linecolor": "white",
            "ticks": ""
           },
           "bgcolor": "#E5ECF6",
           "caxis": {
            "gridcolor": "white",
            "linecolor": "white",
            "ticks": ""
           }
          },
          "title": {
           "x": 0.05
          },
          "xaxis": {
           "automargin": true,
           "gridcolor": "white",
           "linecolor": "white",
           "ticks": "",
           "title": {
            "standoff": 15
           },
           "zerolinecolor": "white",
           "zerolinewidth": 2
          },
          "yaxis": {
           "automargin": true,
           "gridcolor": "white",
           "linecolor": "white",
           "ticks": "",
           "title": {
            "standoff": 15
           },
           "zerolinecolor": "white",
           "zerolinewidth": 2
          }
         }
        },
        "title": {
         "text": "Difference between ranking algorithms for each graph"
        },
        "yaxis": {
         "title": {
          "text": "ordinal difference"
         }
        }
       }
      },
      "text/html": [
       "<div>\n",
       "        \n",
       "        \n",
       "            <div id=\"9351ce40-6728-428e-bd03-1bbf4a196d2c\" class=\"plotly-graph-div\" style=\"height:525px; width:100%;\"></div>\n",
       "            <script type=\"text/javascript\">\n",
       "                require([\"plotly\"], function(Plotly) {\n",
       "                    window.PLOTLYENV=window.PLOTLYENV || {};\n",
       "                    \n",
       "                if (document.getElementById(\"9351ce40-6728-428e-bd03-1bbf4a196d2c\")) {\n",
       "                    Plotly.newPlot(\n",
       "                        '9351ce40-6728-428e-bd03-1bbf4a196d2c',\n",
       "                        [{\"name\": \"In-degree vs HITS\", \"type\": \"bar\", \"x\": [\"Big (n=10) web\", \"Lasso\", \"Arrow\", \"Inward\", \"Grid\"], \"y\": [20.0, 4.0, 0.0, 0.0, 12.0]}, {\"name\": \"In-degree vs PageRank\", \"type\": \"bar\", \"x\": [\"Big (n=10) web\", \"Lasso\", \"Arrow\", \"Inward\", \"Grid\"], \"y\": [18.0, 10.0, 4.0, 0.0, 6.0]}, {\"name\": \"HITS vs PageRank\", \"type\": \"bar\", \"x\": [\"Big (n=10) web\", \"Lasso\", \"Arrow\", \"Inward\", \"Grid\"], \"y\": [30.0, 14.0, 4.0, 0.0, 10.0]}, {\"name\": \"Our HITS implementation vs networkx'\", \"type\": \"bar\", \"x\": [\"Big (n=10) web\", \"Lasso\", \"Arrow\", \"Inward\", \"Grid\"], \"y\": [10.0, 0.0, 0.0, 0.0, 0.0]}, {\"name\": \"Our PageRank implementation vs networkx'\", \"type\": \"bar\", \"x\": [\"Big (n=10) web\", \"Lasso\", \"Arrow\", \"Inward\", \"Grid\"], \"y\": [0.0, 0.0, 0.0, 0.0, 0.0]}],\n",
       "                        {\"autosize\": true, \"barmode\": \"group\", \"template\": {\"data\": {\"bar\": [{\"error_x\": {\"color\": \"#2a3f5f\"}, \"error_y\": {\"color\": \"#2a3f5f\"}, \"marker\": {\"line\": {\"color\": \"#E5ECF6\", \"width\": 0.5}}, \"type\": \"bar\"}], \"barpolar\": [{\"marker\": {\"line\": {\"color\": \"#E5ECF6\", \"width\": 0.5}}, \"type\": \"barpolar\"}], \"carpet\": [{\"aaxis\": {\"endlinecolor\": \"#2a3f5f\", \"gridcolor\": \"white\", \"linecolor\": \"white\", \"minorgridcolor\": \"white\", \"startlinecolor\": \"#2a3f5f\"}, \"baxis\": {\"endlinecolor\": \"#2a3f5f\", \"gridcolor\": \"white\", \"linecolor\": \"white\", \"minorgridcolor\": \"white\", \"startlinecolor\": \"#2a3f5f\"}, \"type\": \"carpet\"}], \"choropleth\": [{\"colorbar\": {\"outlinewidth\": 0, \"ticks\": \"\"}, \"type\": \"choropleth\"}], \"contour\": [{\"colorbar\": {\"outlinewidth\": 0, \"ticks\": \"\"}, \"colorscale\": [[0.0, \"#0d0887\"], [0.1111111111111111, \"#46039f\"], [0.2222222222222222, \"#7201a8\"], [0.3333333333333333, \"#9c179e\"], [0.4444444444444444, \"#bd3786\"], [0.5555555555555556, \"#d8576b\"], [0.6666666666666666, \"#ed7953\"], [0.7777777777777778, \"#fb9f3a\"], [0.8888888888888888, \"#fdca26\"], [1.0, \"#f0f921\"]], \"type\": \"contour\"}], \"contourcarpet\": [{\"colorbar\": {\"outlinewidth\": 0, \"ticks\": \"\"}, \"type\": \"contourcarpet\"}], \"heatmap\": [{\"colorbar\": {\"outlinewidth\": 0, \"ticks\": \"\"}, \"colorscale\": [[0.0, \"#0d0887\"], [0.1111111111111111, \"#46039f\"], [0.2222222222222222, \"#7201a8\"], [0.3333333333333333, \"#9c179e\"], [0.4444444444444444, \"#bd3786\"], [0.5555555555555556, \"#d8576b\"], [0.6666666666666666, \"#ed7953\"], [0.7777777777777778, \"#fb9f3a\"], [0.8888888888888888, \"#fdca26\"], [1.0, \"#f0f921\"]], \"type\": \"heatmap\"}], \"heatmapgl\": [{\"colorbar\": {\"outlinewidth\": 0, \"ticks\": \"\"}, \"colorscale\": [[0.0, \"#0d0887\"], [0.1111111111111111, \"#46039f\"], [0.2222222222222222, \"#7201a8\"], [0.3333333333333333, \"#9c179e\"], [0.4444444444444444, \"#bd3786\"], [0.5555555555555556, \"#d8576b\"], [0.6666666666666666, \"#ed7953\"], [0.7777777777777778, \"#fb9f3a\"], [0.8888888888888888, \"#fdca26\"], [1.0, \"#f0f921\"]], \"type\": \"heatmapgl\"}], \"histogram\": [{\"marker\": {\"colorbar\": {\"outlinewidth\": 0, \"ticks\": \"\"}}, \"type\": \"histogram\"}], \"histogram2d\": [{\"colorbar\": {\"outlinewidth\": 0, \"ticks\": \"\"}, \"colorscale\": [[0.0, \"#0d0887\"], [0.1111111111111111, \"#46039f\"], [0.2222222222222222, \"#7201a8\"], [0.3333333333333333, \"#9c179e\"], [0.4444444444444444, \"#bd3786\"], [0.5555555555555556, \"#d8576b\"], [0.6666666666666666, \"#ed7953\"], [0.7777777777777778, \"#fb9f3a\"], [0.8888888888888888, \"#fdca26\"], [1.0, \"#f0f921\"]], \"type\": \"histogram2d\"}], \"histogram2dcontour\": [{\"colorbar\": {\"outlinewidth\": 0, \"ticks\": \"\"}, \"colorscale\": [[0.0, \"#0d0887\"], [0.1111111111111111, \"#46039f\"], [0.2222222222222222, \"#7201a8\"], [0.3333333333333333, \"#9c179e\"], [0.4444444444444444, \"#bd3786\"], [0.5555555555555556, \"#d8576b\"], [0.6666666666666666, \"#ed7953\"], [0.7777777777777778, \"#fb9f3a\"], [0.8888888888888888, \"#fdca26\"], [1.0, \"#f0f921\"]], \"type\": \"histogram2dcontour\"}], \"mesh3d\": [{\"colorbar\": {\"outlinewidth\": 0, \"ticks\": \"\"}, \"type\": \"mesh3d\"}], \"parcoords\": [{\"line\": {\"colorbar\": {\"outlinewidth\": 0, \"ticks\": \"\"}}, \"type\": \"parcoords\"}], \"pie\": [{\"automargin\": true, \"type\": \"pie\"}], \"scatter\": [{\"marker\": {\"colorbar\": {\"outlinewidth\": 0, \"ticks\": \"\"}}, \"type\": \"scatter\"}], \"scatter3d\": [{\"line\": {\"colorbar\": {\"outlinewidth\": 0, \"ticks\": \"\"}}, \"marker\": {\"colorbar\": {\"outlinewidth\": 0, \"ticks\": \"\"}}, \"type\": \"scatter3d\"}], \"scattercarpet\": [{\"marker\": {\"colorbar\": {\"outlinewidth\": 0, \"ticks\": \"\"}}, \"type\": \"scattercarpet\"}], \"scattergeo\": [{\"marker\": {\"colorbar\": {\"outlinewidth\": 0, \"ticks\": \"\"}}, \"type\": \"scattergeo\"}], \"scattergl\": [{\"marker\": {\"colorbar\": {\"outlinewidth\": 0, \"ticks\": \"\"}}, \"type\": \"scattergl\"}], \"scattermapbox\": [{\"marker\": {\"colorbar\": {\"outlinewidth\": 0, \"ticks\": \"\"}}, \"type\": \"scattermapbox\"}], \"scatterpolar\": [{\"marker\": {\"colorbar\": {\"outlinewidth\": 0, \"ticks\": \"\"}}, \"type\": \"scatterpolar\"}], \"scatterpolargl\": [{\"marker\": {\"colorbar\": {\"outlinewidth\": 0, \"ticks\": \"\"}}, \"type\": \"scatterpolargl\"}], \"scatterternary\": [{\"marker\": {\"colorbar\": {\"outlinewidth\": 0, \"ticks\": \"\"}}, \"type\": \"scatterternary\"}], \"surface\": [{\"colorbar\": {\"outlinewidth\": 0, \"ticks\": \"\"}, \"colorscale\": [[0.0, \"#0d0887\"], [0.1111111111111111, \"#46039f\"], [0.2222222222222222, \"#7201a8\"], [0.3333333333333333, \"#9c179e\"], [0.4444444444444444, \"#bd3786\"], [0.5555555555555556, \"#d8576b\"], [0.6666666666666666, \"#ed7953\"], [0.7777777777777778, \"#fb9f3a\"], [0.8888888888888888, \"#fdca26\"], [1.0, \"#f0f921\"]], \"type\": \"surface\"}], \"table\": [{\"cells\": {\"fill\": {\"color\": \"#EBF0F8\"}, \"line\": {\"color\": \"white\"}}, \"header\": {\"fill\": {\"color\": \"#C8D4E3\"}, \"line\": {\"color\": \"white\"}}, \"type\": \"table\"}]}, \"layout\": {\"annotationdefaults\": {\"arrowcolor\": \"#2a3f5f\", \"arrowhead\": 0, \"arrowwidth\": 1}, \"coloraxis\": {\"colorbar\": {\"outlinewidth\": 0, \"ticks\": \"\"}}, \"colorscale\": {\"diverging\": [[0, \"#8e0152\"], [0.1, \"#c51b7d\"], [0.2, \"#de77ae\"], [0.3, \"#f1b6da\"], [0.4, \"#fde0ef\"], [0.5, \"#f7f7f7\"], [0.6, \"#e6f5d0\"], [0.7, \"#b8e186\"], [0.8, \"#7fbc41\"], [0.9, \"#4d9221\"], [1, \"#276419\"]], \"sequential\": [[0.0, \"#0d0887\"], [0.1111111111111111, \"#46039f\"], [0.2222222222222222, \"#7201a8\"], [0.3333333333333333, \"#9c179e\"], [0.4444444444444444, \"#bd3786\"], [0.5555555555555556, \"#d8576b\"], [0.6666666666666666, \"#ed7953\"], [0.7777777777777778, \"#fb9f3a\"], [0.8888888888888888, \"#fdca26\"], [1.0, \"#f0f921\"]], \"sequentialminus\": [[0.0, \"#0d0887\"], [0.1111111111111111, \"#46039f\"], [0.2222222222222222, \"#7201a8\"], [0.3333333333333333, \"#9c179e\"], [0.4444444444444444, \"#bd3786\"], [0.5555555555555556, \"#d8576b\"], [0.6666666666666666, \"#ed7953\"], [0.7777777777777778, \"#fb9f3a\"], [0.8888888888888888, \"#fdca26\"], [1.0, \"#f0f921\"]]}, \"colorway\": [\"#636efa\", \"#EF553B\", \"#00cc96\", \"#ab63fa\", \"#FFA15A\", \"#19d3f3\", \"#FF6692\", \"#B6E880\", \"#FF97FF\", \"#FECB52\"], \"font\": {\"color\": \"#2a3f5f\"}, \"geo\": {\"bgcolor\": \"white\", \"lakecolor\": \"white\", \"landcolor\": \"#E5ECF6\", \"showlakes\": true, \"showland\": true, \"subunitcolor\": \"white\"}, \"hoverlabel\": {\"align\": \"left\"}, \"hovermode\": \"closest\", \"mapbox\": {\"style\": \"light\"}, \"paper_bgcolor\": \"white\", \"plot_bgcolor\": \"#E5ECF6\", \"polar\": {\"angularaxis\": {\"gridcolor\": \"white\", \"linecolor\": \"white\", \"ticks\": \"\"}, \"bgcolor\": \"#E5ECF6\", \"radialaxis\": {\"gridcolor\": \"white\", \"linecolor\": \"white\", \"ticks\": \"\"}}, \"scene\": {\"xaxis\": {\"backgroundcolor\": \"#E5ECF6\", \"gridcolor\": \"white\", \"gridwidth\": 2, \"linecolor\": \"white\", \"showbackground\": true, \"ticks\": \"\", \"zerolinecolor\": \"white\"}, \"yaxis\": {\"backgroundcolor\": \"#E5ECF6\", \"gridcolor\": \"white\", \"gridwidth\": 2, \"linecolor\": \"white\", \"showbackground\": true, \"ticks\": \"\", \"zerolinecolor\": \"white\"}, \"zaxis\": {\"backgroundcolor\": \"#E5ECF6\", \"gridcolor\": \"white\", \"gridwidth\": 2, \"linecolor\": \"white\", \"showbackground\": true, \"ticks\": \"\", \"zerolinecolor\": \"white\"}}, \"shapedefaults\": {\"line\": {\"color\": \"#2a3f5f\"}}, \"ternary\": {\"aaxis\": {\"gridcolor\": \"white\", \"linecolor\": \"white\", \"ticks\": \"\"}, \"baxis\": {\"gridcolor\": \"white\", \"linecolor\": \"white\", \"ticks\": \"\"}, \"bgcolor\": \"#E5ECF6\", \"caxis\": {\"gridcolor\": \"white\", \"linecolor\": \"white\", \"ticks\": \"\"}}, \"title\": {\"x\": 0.05}, \"xaxis\": {\"automargin\": true, \"gridcolor\": \"white\", \"linecolor\": \"white\", \"ticks\": \"\", \"title\": {\"standoff\": 15}, \"zerolinecolor\": \"white\", \"zerolinewidth\": 2}, \"yaxis\": {\"automargin\": true, \"gridcolor\": \"white\", \"linecolor\": \"white\", \"ticks\": \"\", \"title\": {\"standoff\": 15}, \"zerolinecolor\": \"white\", \"zerolinewidth\": 2}}}, \"title\": {\"text\": \"Difference between ranking algorithms for each graph\"}, \"yaxis\": {\"title\": {\"text\": \"ordinal difference\"}}},\n",
       "                        {\"responsive\": true}\n",
       "                    ).then(function(){\n",
       "                            \n",
       "var gd = document.getElementById('9351ce40-6728-428e-bd03-1bbf4a196d2c');\n",
       "var x = new MutationObserver(function (mutations, observer) {{\n",
       "        var display = window.getComputedStyle(gd).display;\n",
       "        if (!display || display === 'none') {{\n",
       "            console.log([gd, 'removed!']);\n",
       "            Plotly.purge(gd);\n",
       "            observer.disconnect();\n",
       "        }}\n",
       "}});\n",
       "\n",
       "// Listen for the removal of the full notebook cells\n",
       "var notebookContainer = gd.closest('#notebook-container');\n",
       "if (notebookContainer) {{\n",
       "    x.observe(notebookContainer, {childList: true});\n",
       "}}\n",
       "\n",
       "// Listen for the clearing of the current output cell\n",
       "var outputEl = gd.closest('.output');\n",
       "if (outputEl) {{\n",
       "    x.observe(outputEl, {childList: true});\n",
       "}}\n",
       "\n",
       "                        })\n",
       "                };\n",
       "                });\n",
       "            </script>\n",
       "        </div>"
      ]
     },
     "metadata": {},
     "output_type": "display_data"
    }
   ],
   "source": [
    "prints = False #turn this to true to enable printing of more info!\n",
    "\n",
    "graph = generate_test_web()\n",
    "graphs = [generate_test_web(), gen_lasso(), gen_arrow(),gen_inward(),gen_grid()]\n",
    "differences=[]\n",
    "for graph in graphs:\n",
    "    M,v = generate_M_and_v(graph)\n",
    "    if prints:\n",
    "        print graph.name\n",
    "        print str(v) + \"\\n\"\n",
    "    \n",
    "    in_degrees = generate_indegree_score(graph)\n",
    "    human_readable, indegree_order = order_nodes_by_rank(v, in_degrees)\n",
    "    if prints:\n",
    "        print \"Solution to in_degree ranking:\"\n",
    "        print \"Human readable ranking (nodes sorted by their rank): \" + str(human_readable)\n",
    "        print \"Ordinal ranking: \" + str(indegree_order) + \"\\n\"\n",
    "\n",
    "    a , h = hits(M)\n",
    "    human_readable, hits_order = order_nodes_by_rank(v, a)\n",
    "    if prints:\n",
    "        print \"Our solution to HITS ranking\"\n",
    "        print \"Human readable ranking: \" + str(human_readable)\n",
    "        print \"Ordinal ranking: \" + str(hits_order) + \"\\n\"\n",
    "\n",
    "        print \"HITS ranking (networkx implementation, for reference)\"\n",
    "    (real_h_dict, real_a_dict) = nx.hits(graph,max_iter=100000)\n",
    "    \n",
    "    difference = []\n",
    "    real_a=[]\n",
    "    for i in range(len(v)):\n",
    "        node = v[i]\n",
    "        real_a.append(real_a_dict[node])\n",
    "        difference.append(abs(real_a_dict[node]-a[i]))\n",
    "        \n",
    "    real_human_readable, real_hits_order = order_nodes_by_rank(v, real_a)\n",
    "    if prints:\n",
    "        print \"Human readable ranking: \" + str(real_human_readable)\n",
    "        print \"Ordinal ranking: \" + str(real_hits_order)\n",
    "        print \"Ordinal ranking difference between our implementation and networkx: \" + str (ordinal_difference(hits_order,real_hits_order)) + \"\\n\"\n",
    "\n",
    "\n",
    "    \n",
    "    page_rank_list = pagerank(graph,0.85)\n",
    "    human_readable, pagerank_order = order_nodes_by_rank(v, page_rank_list)\n",
    "    if prints:\n",
    "        print \"Our solution to pagerank\"\n",
    "        print \"Human readable ranking: \" + str(human_readable)\n",
    "        print \"Ordinal ranking: \" + str(pagerank_order) + \"\\n\"\n",
    "        print \"pagerank (networkx implementation, for reference)\"\n",
    "    (real_v_dict) = nx.pagerank(graph,max_iter=100000)\n",
    "    \n",
    "    difference = []\n",
    "    real_v=[]\n",
    "    for i in range(len(v)):\n",
    "        node = v[i]\n",
    "        real_v.append(real_v_dict[node])\n",
    "        difference.append(abs(real_v_dict[node]-real_v[i]))\n",
    "        \n",
    "    real_human_readable, real_pagerank_order = order_nodes_by_rank(v, real_v)\n",
    "    if prints:\n",
    "        print \"Human readable ranking: \" + str(real_human_readable)\n",
    "        print \"Ordinal ranking: \" + str(real_pagerank_order)\n",
    "        print \"Ordinal ranking difference between our implementation and networkx: \" + str (ordinal_difference(pagerank_order,real_pagerank_order))\n",
    "\n",
    "    differences.append([ordinal_difference(indegree_order,hits_order),\n",
    "                        ordinal_difference(indegree_order,pagerank_order),\n",
    "                        ordinal_difference(hits_order,pagerank_order),\n",
    "                        ordinal_difference(hits_order,real_hits_order),\n",
    "                        ordinal_difference(pagerank_order,real_pagerank_order),\n",
    "                        ])\n",
    "    if prints:\n",
    "        print(\"\\n\\n\\n\")\n",
    "\n",
    "\n",
    "graphs=[\"Big (n=10) web\", \"Lasso\", \"Arrow\", \"Inward\", \"Grid\"]\n",
    "indegree_hits_diff = [x[0] for x in differences]\n",
    "indegree_pagerank_diff = [x[1] for x in differences]\n",
    "hits_pagerank_diff = [x[2] for x in differences]\n",
    "hits_ours_vs_networkx_diff = [x[3] for x in differences]\n",
    "pagerank_ours_vs_networkx_diff = [x[4] for x in differences]\n",
    "\n",
    "fig = go.Figure(data=[\n",
    "    go.Bar(name='In-degree vs HITS', x=graphs, y=indegree_hits_diff),\n",
    "    go.Bar(name='In-degree vs PageRank', x=graphs, y=indegree_pagerank_diff),\n",
    "    go.Bar(name='HITS vs PageRank', x=graphs, y=hits_pagerank_diff),\n",
    "    go.Bar(name='Our HITS implementation vs networkx\\'', x=graphs, y=hits_ours_vs_networkx_diff),\n",
    "    go.Bar(name='Our PageRank implementation vs networkx\\'', x=graphs, y=pagerank_ours_vs_networkx_diff)  \n",
    "])\n",
    "\n",
    "fig.update_layout(title='Difference between ranking algorithms for each graph',\n",
    "                    autosize=True,\n",
    "                    yaxis_title='ordinal difference')\n",
    "\n",
    "# Change the bar mode\n",
    "fig.update_layout(barmode='group')\n",
    "fig.show()\n",
    "    "
   ]
  },
  {
   "cell_type": "markdown",
   "metadata": {},
   "source": [
    "# TODO explanation\n",
    "# TODO graph title"
   ]
  }
 ],
 "metadata": {
  "kernelspec": {
   "display_name": "Python 2",
   "language": "python",
   "name": "python2"
  },
  "language_info": {
   "codemirror_mode": {
    "name": "ipython",
    "version": 2
   },
   "file_extension": ".py",
   "mimetype": "text/x-python",
   "name": "python",
   "nbconvert_exporter": "python",
   "pygments_lexer": "ipython2",
   "version": "2.7.16"
  },
  "pycharm": {
   "stem_cell": {
    "cell_type": "raw",
    "metadata": {
     "collapsed": false
    },
    "source": []
   }
  }
 },
 "nbformat": 4,
 "nbformat_minor": 1
}
